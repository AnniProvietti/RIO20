{
 "cells": [
  {
   "cell_type": "markdown",
   "metadata": {},
   "source": [
    "# Tratamento de dados da Rio+20\n",
    "\n",
    "Os dados da __Rio+20__ estão armazenados no banco do __ActivUFRJ__\n",
    "\n",
    "Recupere usando a _API_ de acesso com dois comandos:\n",
    " - A raiz comum é \"http://activufrj.nce.ufrj.br/api\"\n",
    " - para consultar use o comando \"getlist\" que vai retornar um dataset em _JSON_\n",
    "     - os dados virão sob o item \"applist\" com a data no formato \"2012-05-31 13:28:17.394373\" e o ID do registro\n",
    " - para recuperar um registro use o comando \"getsession?id=xxx\" onde xxx é o ID desejado\n",
    "     - no primeiro nível _JSON_ teremos os ítens \\_rev,session,games,\\_id\n",
    "     - o session tem os itens sexo2,idade1,idade2,ano1,ano2,escola,sexo1,starttime,tipoescola,endtime\n",
    "     - cada item game tem os subitens maxlevel,goal,name,time\n",
    "     - cada subitem goal tem os subitens trial,criteria,markers,houses,headings,time,level\n"
   ]
  },
  {
   "cell_type": "code",
   "execution_count": null,
   "metadata": {},
   "outputs": [],
   "source": [
    "URL = \"http://activufrj.nce.ufrj.br/api/\"\n",
    "URLGET = f\"{URL}getlist\"\n",
    "URLREG = f\"{URL}getsession?id={{}}\""
   ]
  },
  {
   "cell_type": "markdown",
   "metadata": {},
   "source": [
    "## A estrutura dos dados dos registros\n",
    "\n",
    "A estrutura pode ser representada pela seguintes classes:"
   ]
  },
  {
   "cell_type": "code",
   "execution_count": null,
   "metadata": {},
   "outputs": [],
   "source": [
    "class Jogador:\n",
    "    \"\"\"Todos os dados de um jogador, que joga uma coleção de Games\"\"\"\n",
    "    pass\n",
    "    \n",
    "class Games:\n",
    "    \"\"\"Todos os games jogados por um jogador onde cada é jogado em várias fases ou Goals\"\"\"\n",
    "    pass\n",
    "    \n",
    "class Gol:\n",
    "    \"\"\"Uma fase de um jogo jogada em várias tentativas ou Trials\"\"\"\n",
    "    pass\n",
    "\n",
    "class Trial:\n",
    "    \"\"\"Uma tentativa de jogar uma fase onde são feitas diversas jogadas ou Moves\"\"\"\n",
    "    pass\n",
    "\n",
    "class Move:\n",
    "    \"\"\"Cada uma das jogadas executadas para completar uma tentativa\"\"\"\n",
    "    pass\n"
   ]
  }
 ],
 "metadata": {
  "kernelspec": {
   "display_name": "Python 3",
   "language": "python",
   "name": "python3"
  },
  "language_info": {
   "codemirror_mode": {
    "name": "ipython",
    "version": 3
   },
   "file_extension": ".py",
   "mimetype": "text/x-python",
   "name": "python",
   "nbconvert_exporter": "python",
   "pygments_lexer": "ipython3",
   "version": "3.6.7"
  }
 },
 "nbformat": 4,
 "nbformat_minor": 2
}
