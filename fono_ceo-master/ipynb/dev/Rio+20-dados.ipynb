{
 "cells": [
  {
   "cell_type": "markdown",
   "source": [
    "Objetivo dos códigos abaixo é obter as informações dos jogos de cada jogador da RIO+20, um evento realizado no ano de 2012."
   ],
   "metadata": {
    "collapsed": false
   }
  },
  {
   "cell_type": "code",
   "execution_count": 14,
   "metadata": {
    "collapsed": true,
    "ExecuteTime": {
     "end_time": "2023-05-09T18:10:25.563266019Z",
     "start_time": "2023-05-09T18:10:25.515194396Z"
    }
   },
   "outputs": [
    {
     "data": {
      "text/plain": "{'maxlevel': 1,\n 'goal': [{'houses': {'categoria': 0,\n    'acertosConsecutivos': 0,\n    'indiceCartaAtual': 0,\n    'outrosConsecutivos': 0,\n    'wteste': None},\n   'criteria': ['carta_resposta',\n    'categoria',\n    'acertos',\n    'cor',\n    'forma',\n    'numero',\n    'outros',\n    'time'],\n   'markers': [],\n   'trial': [],\n   'headings': ['Carta resposta',\n    'Categoria',\n    'Acertos',\n    'Cor',\n    'Forma',\n    'Número',\n    'Outros',\n    'Data/Hora'],\n   'time': '2023-02-10 16:13:53.010657',\n   'level': 1}],\n 'name': 'wisconsin',\n 'time': '2023-02-10 16:13:53.010564'}"
     },
     "execution_count": 14,
     "metadata": {},
     "output_type": "execute_result"
    }
   ],
   "source": [
    "from RioClasses import RioPlayers\n",
    "\n",
    "RioPlayers().one_player()[\"games\"][0]\n"
   ]
  },
  {
   "cell_type": "code",
   "execution_count": 5,
   "outputs": [
    {
     "name": "stdout",
     "output_type": "stream",
     "text": [
      "0\n",
      "{'maxlevel': 1, 'goal': [{'houses': {'categoria': 0, 'acertosConsecutivos': 0, 'indiceCartaAtual': 0, 'outrosConsecutivos': 0, 'wteste': None}, 'criteria': ['carta_resposta', 'categoria', 'acertos', 'cor', 'forma', 'numero', 'outros', 'time'], 'markers': [], 'trial': [], 'headings': ['Carta resposta', 'Categoria', 'Acertos', 'Cor', 'Forma', 'Número', 'Outros', 'Data/Hora'], 'time': '2023-02-10 16:13:53.010657', 'level': 1}], 'name': 'wisconsin', 'time': '2023-02-10 16:13:53.010564'}\n",
      "-------------------------------------------\n",
      "1\n",
      "{'maxlevel': 1, 'goal': [{'houses': {'categoria': 1, 'acertosConsecutivos': 0, 'indiceCartaAtual': 55, 'outrosConsecutivos': 0, 'wteste': None}, 'criteria': ['carta_resposta', 'categoria', 'acertos', 'cor', 'forma', 'numero', 'outros', 'time'], 'markers': [], 'trial': [[{'categoria': 'cor', 'xpos': 0, 'cor': False, 'acertos': 0, 'house': 'I_N_I', 'forma': True, 'outros': False, 'numero': True, 'ypos': 0, 'player': 0, 'state': '', 'score': 1, 'result': 1, 'time': '2023-02-10 16:16:54.038544', 'marker': 'I_N_I', 'carta_resposta': 1}, {'categoria': 'cor', 'xpos': 0, 'cor': False, 'acertos': 0, 'outros': True, 'house': 'I_N_I', 'forma': False, 'numero': False, 'ypos': 0, 'player': 0, 'state': '', 'score': 1, 'result': 1, 'time': '2023-02-10 16:17:18.517812', 'marker': 'I_N_I', 'carta_resposta': 2}, {'categoria': 'cor', 'xpos': 0, 'cor': False, 'score': 1, 'acertos': 0, 'house': 'I_N_I', 'outros': False, 'numero': True, 'ypos': 0, 'player': 0, 'state': '', 'forma': False, 'result': 1, 'time': '2023-02-10 16:19:15.885668', 'marker': 'I_N_I', 'carta_resposta': 3}, {'categoria': 'cor', 'xpos': 0, 'cor': False, 'acertos': 0, 'house': 'I_N_I', 'forma': False, 'outros': True, 'numero': False, 'ypos': 0, 'player': 0, 'state': '', 'score': 1, 'result': 1, 'time': '2023-02-10 16:21:14.522663', 'marker': 'I_N_I', 'carta_resposta': 4}, {'categoria': 'cor', 'xpos': 0, 'cor': False, 'acertos': 0, 'outros': False, 'house': 'I_N_I', 'forma': False, 'numero': True, 'ypos': 0, 'player': 0, 'state': '', 'score': 1, 'result': 1, 'time': '2023-02-10 16:21:21.998162', 'marker': 'I_N_I', 'carta_resposta': 5}, {'categoria': 'cor', 'xpos': 0, 'cor': False, 'score': 1, 'acertos': 0, 'house': 'I_N_I', 'outros': True, 'numero': False, 'ypos': 0, 'player': 0, 'state': '', 'forma': False, 'result': 1, 'time': '2023-02-10 16:21:55.140353', 'marker': 'I_N_I', 'carta_resposta': 6}, {'categoria': 'cor', 'xpos': 0, 'cor': False, 'acertos': 0, 'house': 'I_N_I', 'forma': True, 'outros': False, 'numero': False, 'ypos': 0, 'player': 0, 'state': '', 'score': 1, 'result': 1, 'time': '2023-02-10 16:22:21.338076', 'marker': 'I_N_I', 'carta_resposta': 7}, {'categoria': 'cor', 'xpos': 0, 'cor': False, 'acertos': 0, 'outros': False, 'house': 'I_N_I', 'forma': True, 'numero': False, 'ypos': 0, 'player': 0, 'state': '', 'score': 1, 'result': 1, 'time': '2023-02-10 16:22:27.346447', 'marker': 'I_N_I', 'carta_resposta': 8}, {'categoria': 'cor', 'xpos': 0, 'cor': False, 'score': 1, 'acertos': 0, 'house': 'I_N_I', 'outros': False, 'numero': True, 'ypos': 0, 'player': 0, 'state': '', 'forma': False, 'result': 1, 'time': '2023-02-10 16:22:33.345409', 'marker': 'I_N_I', 'carta_resposta': 9}, {'categoria': 'cor', 'xpos': 0, 'cor': False, 'acertos': 0, 'house': 'I_N_I', 'forma': True, 'outros': False, 'numero': False, 'ypos': 0, 'player': 0, 'state': '', 'score': 1, 'result': 1, 'time': '2023-02-10 16:22:39.330818', 'marker': 'I_N_I', 'carta_resposta': 10}, {'categoria': 'cor', 'xpos': 0, 'cor': True, 'acertos': 1, 'outros': False, 'house': 'I_N_I', 'forma': False, 'numero': False, 'ypos': 0, 'player': 0, 'state': '', 'score': 1, 'result': 1, 'time': '2023-02-10 16:22:40.937983', 'marker': 'I_N_I', 'carta_resposta': 11}, {'categoria': 'cor', 'xpos': 0, 'cor': False, 'score': 1, 'acertos': 0, 'house': 'I_N_I', 'outros': True, 'numero': False, 'ypos': 0, 'player': 0, 'state': '', 'forma': False, 'result': 1, 'time': '2023-02-10 16:23:15.256636', 'marker': 'I_N_I', 'carta_resposta': 12}, {'categoria': 'cor', 'xpos': 0, 'cor': True, 'acertos': 1, 'house': 'I_N_I', 'forma': False, 'outros': False, 'numero': False, 'ypos': 0, 'player': 0, 'state': '', 'score': 1, 'result': 1, 'time': '2023-02-10 16:23:18.192614', 'marker': 'I_N_I', 'carta_resposta': 13}, {'categoria': 'cor', 'xpos': 0, 'cor': True, 'acertos': 2, 'outros': False, 'house': 'I_N_I', 'forma': False, 'numero': False, 'ypos': 0, 'player': 0, 'state': '', 'score': 1, 'result': 1, 'time': '2023-02-10 16:23:55.940804', 'marker': 'I_N_I', 'carta_resposta': 14}, {'categoria': 'cor', 'xpos': 0, 'cor': True, 'score': 1, 'acertos': 3, 'house': 'I_N_I', 'outros': False, 'numero': False, 'ypos': 0, 'player': 0, 'state': '', 'forma': False, 'result': 1, 'time': '2023-02-10 16:24:15.322093', 'marker': 'I_N_I', 'carta_resposta': 15}, {'categoria': 'cor', 'xpos': 0, 'cor': True, 'acertos': 4, 'house': 'I_N_I', 'forma': True, 'outros': False, 'numero': True, 'ypos': 0, 'player': 0, 'state': '', 'score': 1, 'result': 1, 'time': '2023-02-10 16:24:34.457268', 'marker': 'I_N_I', 'carta_resposta': 16}, {'categoria': 'cor', 'xpos': 0, 'cor': True, 'acertos': 5, 'outros': False, 'house': 'I_N_I', 'forma': False, 'numero': False, 'ypos': 0, 'player': 0, 'state': '', 'score': 1, 'result': 1, 'time': '2023-02-10 16:24:40.139375', 'marker': 'I_N_I', 'carta_resposta': 17}, {'categoria': 'cor', 'xpos': 0, 'cor': True, 'score': 1, 'acertos': 6, 'house': 'I_N_I', 'outros': False, 'numero': True, 'ypos': 0, 'player': 0, 'state': '', 'forma': False, 'result': 1, 'time': '2023-02-10 16:24:46.052583', 'marker': 'I_N_I', 'carta_resposta': 18}, {'categoria': 'cor', 'xpos': 0, 'cor': True, 'acertos': 7, 'house': 'I_N_I', 'forma': True, 'outros': False, 'numero': False, 'ypos': 0, 'player': 0, 'state': '', 'score': 1, 'result': 1, 'time': '2023-02-10 16:24:52.758064', 'marker': 'I_N_I', 'carta_resposta': 19}, {'categoria': 'cor', 'xpos': 0, 'cor': False, 'acertos': 0, 'outros': False, 'house': 'I_N_I', 'forma': False, 'numero': True, 'ypos': 0, 'player': 0, 'state': '', 'score': 1, 'result': 1, 'time': '2023-02-10 16:25:08.701852', 'marker': 'I_N_I', 'carta_resposta': 20}, {'categoria': 'cor', 'xpos': 0, 'cor': False, 'score': 1, 'acertos': 0, 'house': 'I_N_I', 'outros': True, 'numero': False, 'ypos': 0, 'player': 0, 'state': '', 'forma': False, 'result': 1, 'time': '2023-02-10 16:25:18.292109', 'marker': 'I_N_I', 'carta_resposta': 21}, {'categoria': 'cor', 'xpos': 0, 'cor': True, 'acertos': 1, 'house': 'I_N_I', 'forma': False, 'outros': False, 'numero': False, 'ypos': 0, 'player': 0, 'state': '', 'score': 1, 'result': 1, 'time': '2023-02-10 16:25:23.410469', 'marker': 'I_N_I', 'carta_resposta': 22}, {'categoria': 'cor', 'xpos': 0, 'cor': True, 'acertos': 2, 'outros': False, 'house': 'I_N_I', 'forma': False, 'numero': False, 'ypos': 0, 'player': 0, 'state': '', 'score': 1, 'result': 1, 'time': '2023-02-10 16:25:29.093941', 'marker': 'I_N_I', 'carta_resposta': 23}, {'categoria': 'cor', 'xpos': 0, 'cor': True, 'score': 1, 'acertos': 3, 'house': 'I_N_I', 'outros': False, 'numero': False, 'ypos': 0, 'player': 0, 'state': '', 'forma': False, 'result': 1, 'time': '2023-02-10 16:25:34.290581', 'marker': 'I_N_I', 'carta_resposta': 24}, {'categoria': 'cor', 'xpos': 0, 'cor': True, 'acertos': 4, 'house': 'I_N_I', 'forma': False, 'outros': False, 'numero': False, 'ypos': 0, 'player': 0, 'state': '', 'score': 1, 'result': 1, 'time': '2023-02-10 16:25:38.114929', 'marker': 'I_N_I', 'carta_resposta': 25}, {'categoria': 'cor', 'xpos': 0, 'cor': True, 'acertos': 5, 'outros': False, 'house': 'I_N_I', 'forma': False, 'numero': False, 'ypos': 0, 'player': 0, 'state': '', 'score': 1, 'result': 1, 'time': '2023-02-10 16:25:41.201335', 'marker': 'I_N_I', 'carta_resposta': 26}, {'categoria': 'cor', 'xpos': 0, 'cor': True, 'score': 1, 'acertos': 6, 'house': 'I_N_I', 'outros': False, 'numero': False, 'ypos': 0, 'player': 0, 'state': '', 'forma': False, 'result': 1, 'time': '2023-02-10 16:25:44.119435', 'marker': 'I_N_I', 'carta_resposta': 27}, {'categoria': 'cor', 'xpos': 0, 'cor': True, 'acertos': 7, 'house': 'I_N_I', 'forma': False, 'outros': False, 'numero': False, 'ypos': 0, 'player': 0, 'state': '', 'score': 1, 'result': 1, 'time': '2023-02-10 16:25:50.738863', 'marker': 'I_N_I', 'carta_resposta': 28}, {'categoria': 'cor', 'xpos': 0, 'cor': True, 'acertos': 8, 'outros': False, 'house': 'I_N_I', 'forma': True, 'numero': True, 'ypos': 0, 'player': 0, 'state': '', 'score': 1, 'result': 1, 'time': '2023-02-10 16:25:52.681832', 'marker': 'I_N_I', 'carta_resposta': 29}, {'categoria': 'cor', 'xpos': 0, 'cor': True, 'score': 1, 'acertos': 9, 'house': 'I_N_I', 'outros': False, 'numero': True, 'ypos': 0, 'player': 0, 'state': '', 'forma': False, 'result': 1, 'time': '2023-02-10 16:25:54.464327', 'marker': 'I_N_I', 'carta_resposta': 30}, {'categoria': 'cor', 'xpos': 0, 'cor': True, 'acertos': 10, 'house': 'I_N_I', 'forma': False, 'outros': False, 'numero': False, 'ypos': 0, 'player': 0, 'state': '', 'score': 1, 'result': 1, 'time': '2023-02-10 16:25:57.417415', 'marker': 'I_N_I', 'carta_resposta': 31}, {'categoria': 'forma', 'xpos': 0, 'cor': True, 'acertos': 0, 'outros': False, 'house': 'I_N_I', 'forma': False, 'numero': True, 'ypos': 0, 'player': 0, 'state': '', 'score': 1, 'result': 1, 'time': '2023-02-10 16:26:00.795933', 'marker': 'I_N_I', 'carta_resposta': 32}, {'categoria': 'forma', 'xpos': 0, 'cor': True, 'score': 1, 'acertos': 1, 'house': 'I_N_I', 'outros': False, 'numero': False, 'ypos': 0, 'player': 0, 'state': '', 'forma': True, 'result': 1, 'time': '2023-02-10 16:26:31.505992', 'marker': 'I_N_I', 'carta_resposta': 33}, {'categoria': 'forma', 'xpos': 0, 'cor': True, 'acertos': 2, 'house': 'I_N_I', 'forma': True, 'outros': False, 'numero': False, 'ypos': 0, 'player': 0, 'state': '', 'score': 1, 'result': 1, 'time': '2023-02-10 16:26:35.376129', 'marker': 'I_N_I', 'carta_resposta': 34}, {'categoria': 'forma', 'xpos': 0, 'cor': True, 'acertos': 3, 'outros': False, 'house': 'I_N_I', 'forma': True, 'numero': False, 'ypos': 0, 'player': 0, 'state': '', 'score': 1, 'result': 1, 'time': '2023-02-10 16:26:37.561964', 'marker': 'I_N_I', 'carta_resposta': 35}, {'categoria': 'forma', 'xpos': 0, 'cor': True, 'score': 1, 'acertos': 0, 'house': 'I_N_I', 'outros': False, 'numero': False, 'ypos': 0, 'player': 0, 'state': '', 'forma': False, 'result': 1, 'time': '2023-02-10 16:26:41.254662', 'marker': 'I_N_I', 'carta_resposta': 36}, {'categoria': 'forma', 'xpos': 0, 'cor': True, 'acertos': 1, 'house': 'I_N_I', 'forma': True, 'outros': False, 'numero': False, 'ypos': 0, 'player': 0, 'state': '', 'score': 1, 'result': 1, 'time': '2023-02-10 16:26:52.977620', 'marker': 'I_N_I', 'carta_resposta': 37}, {'categoria': 'forma', 'xpos': 0, 'cor': True, 'acertos': 0, 'outros': False, 'house': 'I_N_I', 'forma': False, 'numero': True, 'ypos': 0, 'player': 0, 'state': '', 'score': 1, 'result': 1, 'time': '2023-02-10 16:26:55.902710', 'marker': 'I_N_I', 'carta_resposta': 38}, {'categoria': 'forma', 'xpos': 0, 'cor': True, 'score': 1, 'acertos': 0, 'house': 'I_N_I', 'outros': False, 'numero': False, 'ypos': 0, 'player': 0, 'state': '', 'forma': False, 'result': 1, 'time': '2023-02-10 16:27:11.014912', 'marker': 'I_N_I', 'carta_resposta': 39}, {'categoria': 'forma', 'xpos': 0, 'cor': True, 'acertos': 0, 'house': 'I_N_I', 'forma': False, 'outros': False, 'numero': True, 'ypos': 0, 'player': 0, 'state': '', 'score': 1, 'result': 1, 'time': '2023-02-10 16:27:22.568272', 'marker': 'I_N_I', 'carta_resposta': 40}, {'categoria': 'forma', 'xpos': 0, 'cor': True, 'acertos': 1, 'outros': False, 'house': 'I_N_I', 'forma': True, 'numero': True, 'ypos': 0, 'player': 0, 'state': '', 'score': 1, 'result': 1, 'time': '2023-02-10 16:27:35.289907', 'marker': 'I_N_I', 'carta_resposta': 41}, {'categoria': 'forma', 'xpos': 0, 'cor': True, 'score': 1, 'acertos': 0, 'house': 'I_N_I', 'outros': False, 'numero': False, 'ypos': 0, 'player': 0, 'state': '', 'forma': False, 'result': 1, 'time': '2023-02-10 16:27:40.752508', 'marker': 'I_N_I', 'carta_resposta': 42}, {'categoria': 'forma', 'xpos': 0, 'cor': True, 'acertos': 0, 'house': 'I_N_I', 'forma': False, 'outros': False, 'numero': False, 'ypos': 0, 'player': 0, 'state': '', 'score': 1, 'result': 1, 'time': '2023-02-10 16:27:56.013750', 'marker': 'I_N_I', 'carta_resposta': 43}, {'categoria': 'forma', 'xpos': 0, 'cor': True, 'acertos': 0, 'outros': False, 'house': 'I_N_I', 'forma': False, 'numero': True, 'ypos': 0, 'player': 0, 'state': '', 'score': 1, 'result': 1, 'time': '2023-02-10 16:28:02.307725', 'marker': 'I_N_I', 'carta_resposta': 44}, {'categoria': 'forma', 'xpos': 0, 'cor': True, 'score': 1, 'acertos': 0, 'house': 'I_N_I', 'outros': False, 'numero': False, 'ypos': 0, 'player': 0, 'state': '', 'forma': False, 'result': 1, 'time': '2023-02-10 16:28:16.083520', 'marker': 'I_N_I', 'carta_resposta': 45}, {'categoria': 'forma', 'xpos': 0, 'cor': True, 'acertos': 1, 'house': 'I_N_I', 'forma': True, 'outros': False, 'numero': False, 'ypos': 0, 'player': 0, 'state': '', 'score': 1, 'result': 1, 'time': '2023-02-10 16:28:32.859189', 'marker': 'I_N_I', 'carta_resposta': 46}, {'categoria': 'forma', 'xpos': 0, 'cor': True, 'acertos': 2, 'outros': False, 'house': 'I_N_I', 'forma': True, 'numero': False, 'ypos': 0, 'player': 0, 'state': '', 'score': 1, 'result': 1, 'time': '2023-02-10 16:28:41.466238', 'marker': 'I_N_I', 'carta_resposta': 47}, {'categoria': 'forma', 'xpos': 0, 'cor': True, 'score': 1, 'acertos': 0, 'house': 'I_N_I', 'outros': False, 'numero': True, 'ypos': 0, 'player': 0, 'state': '', 'forma': False, 'result': 1, 'time': '2023-02-10 16:28:53.002723', 'marker': 'I_N_I', 'carta_resposta': 48}, {'categoria': 'forma', 'xpos': 0, 'cor': False, 'acertos': 0, 'house': 'I_N_I', 'forma': False, 'outros': True, 'numero': False, 'ypos': 0, 'player': 0, 'state': '', 'score': 1, 'result': 1, 'time': '2023-02-10 16:29:02.502212', 'marker': 'I_N_I', 'carta_resposta': 49}, {'categoria': 'forma', 'xpos': 0, 'cor': True, 'acertos': 0, 'outros': False, 'house': 'I_N_I', 'forma': False, 'numero': False, 'ypos': 0, 'player': 0, 'state': '', 'score': 1, 'result': 1, 'time': '2023-02-10 16:29:11.419548', 'marker': 'I_N_I', 'carta_resposta': 50}, {'categoria': 'forma', 'xpos': 0, 'cor': False, 'score': 1, 'acertos': 1, 'house': 'I_N_I', 'outros': False, 'numero': True, 'ypos': 0, 'player': 0, 'state': '', 'forma': True, 'result': 1, 'time': '2023-02-10 16:29:22.150804', 'marker': 'I_N_I', 'carta_resposta': 51}, {'categoria': 'forma', 'xpos': 0, 'cor': True, 'acertos': 2, 'house': 'I_N_I', 'forma': True, 'outros': False, 'numero': False, 'ypos': 0, 'player': 0, 'state': '', 'score': 1, 'result': 1, 'time': '2023-02-10 16:29:30.908366', 'marker': 'I_N_I', 'carta_resposta': 52}, {'categoria': 'forma', 'xpos': 0, 'cor': True, 'acertos': 0, 'outros': False, 'house': 'I_N_I', 'forma': False, 'numero': False, 'ypos': 0, 'player': 0, 'state': '', 'score': 1, 'result': 1, 'time': '2023-02-10 16:29:37.008128', 'marker': 'I_N_I', 'carta_resposta': 53}, {'categoria': 'forma', 'xpos': 0, 'cor': True, 'score': 1, 'acertos': 0, 'house': 'I_N_I', 'outros': False, 'numero': False, 'ypos': 0, 'player': 0, 'state': '', 'forma': False, 'result': 1, 'time': '2023-02-10 16:29:58.994917', 'marker': 'I_N_I', 'carta_resposta': 54}, {'categoria': 'forma', 'xpos': 0, 'cor': True, 'acertos': 0, 'house': 'I_N_I', 'forma': False, 'outros': False, 'numero': False, 'ypos': 0, 'player': 0, 'state': '', 'score': 1, 'result': 1, 'time': '2023-02-10 16:30:09.689959', 'marker': 'I_N_I', 'carta_resposta': 55}]], 'headings': ['Carta resposta', 'Categoria', 'Acertos', 'Cor', 'Forma', 'Número', 'Outros', 'Data/Hora'], 'time': '2023-02-10 16:13:53.243609', 'level': 1}], 'name': 'wisconsin', 'time': '2023-02-10 16:13:53.243525'}\n",
      "-------------------------------------------\n"
     ]
    },
    {
     "data": {
      "text/plain": "1"
     },
     "execution_count": 5,
     "metadata": {},
     "output_type": "execute_result"
    }
   ],
   "source": [
    "from RioClasses import RioPlayers\n",
    "\n",
    "for jogada in [0,1]:\n",
    "    print(jogada)\n",
    "    games_one_player = RioPlayers().one_player()[\"games\"][jogada]\n",
    "    print(games_one_player)\n",
    "    print(\"-------------------------------------------\")\n",
    "games_one_player[\"maxlevel\"]"
   ],
   "metadata": {
    "collapsed": false,
    "ExecuteTime": {
     "end_time": "2023-05-09T19:00:31.021166816Z",
     "start_time": "2023-05-09T19:00:30.917940202Z"
    }
   }
  },
  {
   "cell_type": "code",
   "execution_count": 6,
   "outputs": [
    {
     "data": {
      "text/plain": "'wisconsin'"
     },
     "execution_count": 6,
     "metadata": {},
     "output_type": "execute_result"
    }
   ],
   "source": [
    "games_one_player[\"name\"]"
   ],
   "metadata": {
    "collapsed": false,
    "ExecuteTime": {
     "end_time": "2023-05-09T18:40:34.644986350Z",
     "start_time": "2023-05-09T18:40:34.566565943Z"
    }
   }
  },
  {
   "cell_type": "code",
   "execution_count": 7,
   "outputs": [
    {
     "data": {
      "text/plain": "{'houses': {'categoria': 1,\n  'acertosConsecutivos': 0,\n  'indiceCartaAtual': 55,\n  'outrosConsecutivos': 0,\n  'wteste': None},\n 'criteria': ['carta_resposta',\n  'categoria',\n  'acertos',\n  'cor',\n  'forma',\n  'numero',\n  'outros',\n  'time'],\n 'markers': [],\n 'trial': [[{'categoria': 'cor',\n    'xpos': 0,\n    'cor': False,\n    'acertos': 0,\n    'house': 'I_N_I',\n    'forma': True,\n    'outros': False,\n    'numero': True,\n    'ypos': 0,\n    'player': 0,\n    'state': '',\n    'score': 1,\n    'result': 1,\n    'time': '2023-02-10 16:16:54.038544',\n    'marker': 'I_N_I',\n    'carta_resposta': 1},\n   {'categoria': 'cor',\n    'xpos': 0,\n    'cor': False,\n    'acertos': 0,\n    'outros': True,\n    'house': 'I_N_I',\n    'forma': False,\n    'numero': False,\n    'ypos': 0,\n    'player': 0,\n    'state': '',\n    'score': 1,\n    'result': 1,\n    'time': '2023-02-10 16:17:18.517812',\n    'marker': 'I_N_I',\n    'carta_resposta': 2},\n   {'categoria': 'cor',\n    'xpos': 0,\n    'cor': False,\n    'score': 1,\n    'acertos': 0,\n    'house': 'I_N_I',\n    'outros': False,\n    'numero': True,\n    'ypos': 0,\n    'player': 0,\n    'state': '',\n    'forma': False,\n    'result': 1,\n    'time': '2023-02-10 16:19:15.885668',\n    'marker': 'I_N_I',\n    'carta_resposta': 3},\n   {'categoria': 'cor',\n    'xpos': 0,\n    'cor': False,\n    'acertos': 0,\n    'house': 'I_N_I',\n    'forma': False,\n    'outros': True,\n    'numero': False,\n    'ypos': 0,\n    'player': 0,\n    'state': '',\n    'score': 1,\n    'result': 1,\n    'time': '2023-02-10 16:21:14.522663',\n    'marker': 'I_N_I',\n    'carta_resposta': 4},\n   {'categoria': 'cor',\n    'xpos': 0,\n    'cor': False,\n    'acertos': 0,\n    'outros': False,\n    'house': 'I_N_I',\n    'forma': False,\n    'numero': True,\n    'ypos': 0,\n    'player': 0,\n    'state': '',\n    'score': 1,\n    'result': 1,\n    'time': '2023-02-10 16:21:21.998162',\n    'marker': 'I_N_I',\n    'carta_resposta': 5},\n   {'categoria': 'cor',\n    'xpos': 0,\n    'cor': False,\n    'score': 1,\n    'acertos': 0,\n    'house': 'I_N_I',\n    'outros': True,\n    'numero': False,\n    'ypos': 0,\n    'player': 0,\n    'state': '',\n    'forma': False,\n    'result': 1,\n    'time': '2023-02-10 16:21:55.140353',\n    'marker': 'I_N_I',\n    'carta_resposta': 6},\n   {'categoria': 'cor',\n    'xpos': 0,\n    'cor': False,\n    'acertos': 0,\n    'house': 'I_N_I',\n    'forma': True,\n    'outros': False,\n    'numero': False,\n    'ypos': 0,\n    'player': 0,\n    'state': '',\n    'score': 1,\n    'result': 1,\n    'time': '2023-02-10 16:22:21.338076',\n    'marker': 'I_N_I',\n    'carta_resposta': 7},\n   {'categoria': 'cor',\n    'xpos': 0,\n    'cor': False,\n    'acertos': 0,\n    'outros': False,\n    'house': 'I_N_I',\n    'forma': True,\n    'numero': False,\n    'ypos': 0,\n    'player': 0,\n    'state': '',\n    'score': 1,\n    'result': 1,\n    'time': '2023-02-10 16:22:27.346447',\n    'marker': 'I_N_I',\n    'carta_resposta': 8},\n   {'categoria': 'cor',\n    'xpos': 0,\n    'cor': False,\n    'score': 1,\n    'acertos': 0,\n    'house': 'I_N_I',\n    'outros': False,\n    'numero': True,\n    'ypos': 0,\n    'player': 0,\n    'state': '',\n    'forma': False,\n    'result': 1,\n    'time': '2023-02-10 16:22:33.345409',\n    'marker': 'I_N_I',\n    'carta_resposta': 9},\n   {'categoria': 'cor',\n    'xpos': 0,\n    'cor': False,\n    'acertos': 0,\n    'house': 'I_N_I',\n    'forma': True,\n    'outros': False,\n    'numero': False,\n    'ypos': 0,\n    'player': 0,\n    'state': '',\n    'score': 1,\n    'result': 1,\n    'time': '2023-02-10 16:22:39.330818',\n    'marker': 'I_N_I',\n    'carta_resposta': 10},\n   {'categoria': 'cor',\n    'xpos': 0,\n    'cor': True,\n    'acertos': 1,\n    'outros': False,\n    'house': 'I_N_I',\n    'forma': False,\n    'numero': False,\n    'ypos': 0,\n    'player': 0,\n    'state': '',\n    'score': 1,\n    'result': 1,\n    'time': '2023-02-10 16:22:40.937983',\n    'marker': 'I_N_I',\n    'carta_resposta': 11},\n   {'categoria': 'cor',\n    'xpos': 0,\n    'cor': False,\n    'score': 1,\n    'acertos': 0,\n    'house': 'I_N_I',\n    'outros': True,\n    'numero': False,\n    'ypos': 0,\n    'player': 0,\n    'state': '',\n    'forma': False,\n    'result': 1,\n    'time': '2023-02-10 16:23:15.256636',\n    'marker': 'I_N_I',\n    'carta_resposta': 12},\n   {'categoria': 'cor',\n    'xpos': 0,\n    'cor': True,\n    'acertos': 1,\n    'house': 'I_N_I',\n    'forma': False,\n    'outros': False,\n    'numero': False,\n    'ypos': 0,\n    'player': 0,\n    'state': '',\n    'score': 1,\n    'result': 1,\n    'time': '2023-02-10 16:23:18.192614',\n    'marker': 'I_N_I',\n    'carta_resposta': 13},\n   {'categoria': 'cor',\n    'xpos': 0,\n    'cor': True,\n    'acertos': 2,\n    'outros': False,\n    'house': 'I_N_I',\n    'forma': False,\n    'numero': False,\n    'ypos': 0,\n    'player': 0,\n    'state': '',\n    'score': 1,\n    'result': 1,\n    'time': '2023-02-10 16:23:55.940804',\n    'marker': 'I_N_I',\n    'carta_resposta': 14},\n   {'categoria': 'cor',\n    'xpos': 0,\n    'cor': True,\n    'score': 1,\n    'acertos': 3,\n    'house': 'I_N_I',\n    'outros': False,\n    'numero': False,\n    'ypos': 0,\n    'player': 0,\n    'state': '',\n    'forma': False,\n    'result': 1,\n    'time': '2023-02-10 16:24:15.322093',\n    'marker': 'I_N_I',\n    'carta_resposta': 15},\n   {'categoria': 'cor',\n    'xpos': 0,\n    'cor': True,\n    'acertos': 4,\n    'house': 'I_N_I',\n    'forma': True,\n    'outros': False,\n    'numero': True,\n    'ypos': 0,\n    'player': 0,\n    'state': '',\n    'score': 1,\n    'result': 1,\n    'time': '2023-02-10 16:24:34.457268',\n    'marker': 'I_N_I',\n    'carta_resposta': 16},\n   {'categoria': 'cor',\n    'xpos': 0,\n    'cor': True,\n    'acertos': 5,\n    'outros': False,\n    'house': 'I_N_I',\n    'forma': False,\n    'numero': False,\n    'ypos': 0,\n    'player': 0,\n    'state': '',\n    'score': 1,\n    'result': 1,\n    'time': '2023-02-10 16:24:40.139375',\n    'marker': 'I_N_I',\n    'carta_resposta': 17},\n   {'categoria': 'cor',\n    'xpos': 0,\n    'cor': True,\n    'score': 1,\n    'acertos': 6,\n    'house': 'I_N_I',\n    'outros': False,\n    'numero': True,\n    'ypos': 0,\n    'player': 0,\n    'state': '',\n    'forma': False,\n    'result': 1,\n    'time': '2023-02-10 16:24:46.052583',\n    'marker': 'I_N_I',\n    'carta_resposta': 18},\n   {'categoria': 'cor',\n    'xpos': 0,\n    'cor': True,\n    'acertos': 7,\n    'house': 'I_N_I',\n    'forma': True,\n    'outros': False,\n    'numero': False,\n    'ypos': 0,\n    'player': 0,\n    'state': '',\n    'score': 1,\n    'result': 1,\n    'time': '2023-02-10 16:24:52.758064',\n    'marker': 'I_N_I',\n    'carta_resposta': 19},\n   {'categoria': 'cor',\n    'xpos': 0,\n    'cor': False,\n    'acertos': 0,\n    'outros': False,\n    'house': 'I_N_I',\n    'forma': False,\n    'numero': True,\n    'ypos': 0,\n    'player': 0,\n    'state': '',\n    'score': 1,\n    'result': 1,\n    'time': '2023-02-10 16:25:08.701852',\n    'marker': 'I_N_I',\n    'carta_resposta': 20},\n   {'categoria': 'cor',\n    'xpos': 0,\n    'cor': False,\n    'score': 1,\n    'acertos': 0,\n    'house': 'I_N_I',\n    'outros': True,\n    'numero': False,\n    'ypos': 0,\n    'player': 0,\n    'state': '',\n    'forma': False,\n    'result': 1,\n    'time': '2023-02-10 16:25:18.292109',\n    'marker': 'I_N_I',\n    'carta_resposta': 21},\n   {'categoria': 'cor',\n    'xpos': 0,\n    'cor': True,\n    'acertos': 1,\n    'house': 'I_N_I',\n    'forma': False,\n    'outros': False,\n    'numero': False,\n    'ypos': 0,\n    'player': 0,\n    'state': '',\n    'score': 1,\n    'result': 1,\n    'time': '2023-02-10 16:25:23.410469',\n    'marker': 'I_N_I',\n    'carta_resposta': 22},\n   {'categoria': 'cor',\n    'xpos': 0,\n    'cor': True,\n    'acertos': 2,\n    'outros': False,\n    'house': 'I_N_I',\n    'forma': False,\n    'numero': False,\n    'ypos': 0,\n    'player': 0,\n    'state': '',\n    'score': 1,\n    'result': 1,\n    'time': '2023-02-10 16:25:29.093941',\n    'marker': 'I_N_I',\n    'carta_resposta': 23},\n   {'categoria': 'cor',\n    'xpos': 0,\n    'cor': True,\n    'score': 1,\n    'acertos': 3,\n    'house': 'I_N_I',\n    'outros': False,\n    'numero': False,\n    'ypos': 0,\n    'player': 0,\n    'state': '',\n    'forma': False,\n    'result': 1,\n    'time': '2023-02-10 16:25:34.290581',\n    'marker': 'I_N_I',\n    'carta_resposta': 24},\n   {'categoria': 'cor',\n    'xpos': 0,\n    'cor': True,\n    'acertos': 4,\n    'house': 'I_N_I',\n    'forma': False,\n    'outros': False,\n    'numero': False,\n    'ypos': 0,\n    'player': 0,\n    'state': '',\n    'score': 1,\n    'result': 1,\n    'time': '2023-02-10 16:25:38.114929',\n    'marker': 'I_N_I',\n    'carta_resposta': 25},\n   {'categoria': 'cor',\n    'xpos': 0,\n    'cor': True,\n    'acertos': 5,\n    'outros': False,\n    'house': 'I_N_I',\n    'forma': False,\n    'numero': False,\n    'ypos': 0,\n    'player': 0,\n    'state': '',\n    'score': 1,\n    'result': 1,\n    'time': '2023-02-10 16:25:41.201335',\n    'marker': 'I_N_I',\n    'carta_resposta': 26},\n   {'categoria': 'cor',\n    'xpos': 0,\n    'cor': True,\n    'score': 1,\n    'acertos': 6,\n    'house': 'I_N_I',\n    'outros': False,\n    'numero': False,\n    'ypos': 0,\n    'player': 0,\n    'state': '',\n    'forma': False,\n    'result': 1,\n    'time': '2023-02-10 16:25:44.119435',\n    'marker': 'I_N_I',\n    'carta_resposta': 27},\n   {'categoria': 'cor',\n    'xpos': 0,\n    'cor': True,\n    'acertos': 7,\n    'house': 'I_N_I',\n    'forma': False,\n    'outros': False,\n    'numero': False,\n    'ypos': 0,\n    'player': 0,\n    'state': '',\n    'score': 1,\n    'result': 1,\n    'time': '2023-02-10 16:25:50.738863',\n    'marker': 'I_N_I',\n    'carta_resposta': 28},\n   {'categoria': 'cor',\n    'xpos': 0,\n    'cor': True,\n    'acertos': 8,\n    'outros': False,\n    'house': 'I_N_I',\n    'forma': True,\n    'numero': True,\n    'ypos': 0,\n    'player': 0,\n    'state': '',\n    'score': 1,\n    'result': 1,\n    'time': '2023-02-10 16:25:52.681832',\n    'marker': 'I_N_I',\n    'carta_resposta': 29},\n   {'categoria': 'cor',\n    'xpos': 0,\n    'cor': True,\n    'score': 1,\n    'acertos': 9,\n    'house': 'I_N_I',\n    'outros': False,\n    'numero': True,\n    'ypos': 0,\n    'player': 0,\n    'state': '',\n    'forma': False,\n    'result': 1,\n    'time': '2023-02-10 16:25:54.464327',\n    'marker': 'I_N_I',\n    'carta_resposta': 30},\n   {'categoria': 'cor',\n    'xpos': 0,\n    'cor': True,\n    'acertos': 10,\n    'house': 'I_N_I',\n    'forma': False,\n    'outros': False,\n    'numero': False,\n    'ypos': 0,\n    'player': 0,\n    'state': '',\n    'score': 1,\n    'result': 1,\n    'time': '2023-02-10 16:25:57.417415',\n    'marker': 'I_N_I',\n    'carta_resposta': 31},\n   {'categoria': 'forma',\n    'xpos': 0,\n    'cor': True,\n    'acertos': 0,\n    'outros': False,\n    'house': 'I_N_I',\n    'forma': False,\n    'numero': True,\n    'ypos': 0,\n    'player': 0,\n    'state': '',\n    'score': 1,\n    'result': 1,\n    'time': '2023-02-10 16:26:00.795933',\n    'marker': 'I_N_I',\n    'carta_resposta': 32},\n   {'categoria': 'forma',\n    'xpos': 0,\n    'cor': True,\n    'score': 1,\n    'acertos': 1,\n    'house': 'I_N_I',\n    'outros': False,\n    'numero': False,\n    'ypos': 0,\n    'player': 0,\n    'state': '',\n    'forma': True,\n    'result': 1,\n    'time': '2023-02-10 16:26:31.505992',\n    'marker': 'I_N_I',\n    'carta_resposta': 33},\n   {'categoria': 'forma',\n    'xpos': 0,\n    'cor': True,\n    'acertos': 2,\n    'house': 'I_N_I',\n    'forma': True,\n    'outros': False,\n    'numero': False,\n    'ypos': 0,\n    'player': 0,\n    'state': '',\n    'score': 1,\n    'result': 1,\n    'time': '2023-02-10 16:26:35.376129',\n    'marker': 'I_N_I',\n    'carta_resposta': 34},\n   {'categoria': 'forma',\n    'xpos': 0,\n    'cor': True,\n    'acertos': 3,\n    'outros': False,\n    'house': 'I_N_I',\n    'forma': True,\n    'numero': False,\n    'ypos': 0,\n    'player': 0,\n    'state': '',\n    'score': 1,\n    'result': 1,\n    'time': '2023-02-10 16:26:37.561964',\n    'marker': 'I_N_I',\n    'carta_resposta': 35},\n   {'categoria': 'forma',\n    'xpos': 0,\n    'cor': True,\n    'score': 1,\n    'acertos': 0,\n    'house': 'I_N_I',\n    'outros': False,\n    'numero': False,\n    'ypos': 0,\n    'player': 0,\n    'state': '',\n    'forma': False,\n    'result': 1,\n    'time': '2023-02-10 16:26:41.254662',\n    'marker': 'I_N_I',\n    'carta_resposta': 36},\n   {'categoria': 'forma',\n    'xpos': 0,\n    'cor': True,\n    'acertos': 1,\n    'house': 'I_N_I',\n    'forma': True,\n    'outros': False,\n    'numero': False,\n    'ypos': 0,\n    'player': 0,\n    'state': '',\n    'score': 1,\n    'result': 1,\n    'time': '2023-02-10 16:26:52.977620',\n    'marker': 'I_N_I',\n    'carta_resposta': 37},\n   {'categoria': 'forma',\n    'xpos': 0,\n    'cor': True,\n    'acertos': 0,\n    'outros': False,\n    'house': 'I_N_I',\n    'forma': False,\n    'numero': True,\n    'ypos': 0,\n    'player': 0,\n    'state': '',\n    'score': 1,\n    'result': 1,\n    'time': '2023-02-10 16:26:55.902710',\n    'marker': 'I_N_I',\n    'carta_resposta': 38},\n   {'categoria': 'forma',\n    'xpos': 0,\n    'cor': True,\n    'score': 1,\n    'acertos': 0,\n    'house': 'I_N_I',\n    'outros': False,\n    'numero': False,\n    'ypos': 0,\n    'player': 0,\n    'state': '',\n    'forma': False,\n    'result': 1,\n    'time': '2023-02-10 16:27:11.014912',\n    'marker': 'I_N_I',\n    'carta_resposta': 39},\n   {'categoria': 'forma',\n    'xpos': 0,\n    'cor': True,\n    'acertos': 0,\n    'house': 'I_N_I',\n    'forma': False,\n    'outros': False,\n    'numero': True,\n    'ypos': 0,\n    'player': 0,\n    'state': '',\n    'score': 1,\n    'result': 1,\n    'time': '2023-02-10 16:27:22.568272',\n    'marker': 'I_N_I',\n    'carta_resposta': 40},\n   {'categoria': 'forma',\n    'xpos': 0,\n    'cor': True,\n    'acertos': 1,\n    'outros': False,\n    'house': 'I_N_I',\n    'forma': True,\n    'numero': True,\n    'ypos': 0,\n    'player': 0,\n    'state': '',\n    'score': 1,\n    'result': 1,\n    'time': '2023-02-10 16:27:35.289907',\n    'marker': 'I_N_I',\n    'carta_resposta': 41},\n   {'categoria': 'forma',\n    'xpos': 0,\n    'cor': True,\n    'score': 1,\n    'acertos': 0,\n    'house': 'I_N_I',\n    'outros': False,\n    'numero': False,\n    'ypos': 0,\n    'player': 0,\n    'state': '',\n    'forma': False,\n    'result': 1,\n    'time': '2023-02-10 16:27:40.752508',\n    'marker': 'I_N_I',\n    'carta_resposta': 42},\n   {'categoria': 'forma',\n    'xpos': 0,\n    'cor': True,\n    'acertos': 0,\n    'house': 'I_N_I',\n    'forma': False,\n    'outros': False,\n    'numero': False,\n    'ypos': 0,\n    'player': 0,\n    'state': '',\n    'score': 1,\n    'result': 1,\n    'time': '2023-02-10 16:27:56.013750',\n    'marker': 'I_N_I',\n    'carta_resposta': 43},\n   {'categoria': 'forma',\n    'xpos': 0,\n    'cor': True,\n    'acertos': 0,\n    'outros': False,\n    'house': 'I_N_I',\n    'forma': False,\n    'numero': True,\n    'ypos': 0,\n    'player': 0,\n    'state': '',\n    'score': 1,\n    'result': 1,\n    'time': '2023-02-10 16:28:02.307725',\n    'marker': 'I_N_I',\n    'carta_resposta': 44},\n   {'categoria': 'forma',\n    'xpos': 0,\n    'cor': True,\n    'score': 1,\n    'acertos': 0,\n    'house': 'I_N_I',\n    'outros': False,\n    'numero': False,\n    'ypos': 0,\n    'player': 0,\n    'state': '',\n    'forma': False,\n    'result': 1,\n    'time': '2023-02-10 16:28:16.083520',\n    'marker': 'I_N_I',\n    'carta_resposta': 45},\n   {'categoria': 'forma',\n    'xpos': 0,\n    'cor': True,\n    'acertos': 1,\n    'house': 'I_N_I',\n    'forma': True,\n    'outros': False,\n    'numero': False,\n    'ypos': 0,\n    'player': 0,\n    'state': '',\n    'score': 1,\n    'result': 1,\n    'time': '2023-02-10 16:28:32.859189',\n    'marker': 'I_N_I',\n    'carta_resposta': 46},\n   {'categoria': 'forma',\n    'xpos': 0,\n    'cor': True,\n    'acertos': 2,\n    'outros': False,\n    'house': 'I_N_I',\n    'forma': True,\n    'numero': False,\n    'ypos': 0,\n    'player': 0,\n    'state': '',\n    'score': 1,\n    'result': 1,\n    'time': '2023-02-10 16:28:41.466238',\n    'marker': 'I_N_I',\n    'carta_resposta': 47},\n   {'categoria': 'forma',\n    'xpos': 0,\n    'cor': True,\n    'score': 1,\n    'acertos': 0,\n    'house': 'I_N_I',\n    'outros': False,\n    'numero': True,\n    'ypos': 0,\n    'player': 0,\n    'state': '',\n    'forma': False,\n    'result': 1,\n    'time': '2023-02-10 16:28:53.002723',\n    'marker': 'I_N_I',\n    'carta_resposta': 48},\n   {'categoria': 'forma',\n    'xpos': 0,\n    'cor': False,\n    'acertos': 0,\n    'house': 'I_N_I',\n    'forma': False,\n    'outros': True,\n    'numero': False,\n    'ypos': 0,\n    'player': 0,\n    'state': '',\n    'score': 1,\n    'result': 1,\n    'time': '2023-02-10 16:29:02.502212',\n    'marker': 'I_N_I',\n    'carta_resposta': 49},\n   {'categoria': 'forma',\n    'xpos': 0,\n    'cor': True,\n    'acertos': 0,\n    'outros': False,\n    'house': 'I_N_I',\n    'forma': False,\n    'numero': False,\n    'ypos': 0,\n    'player': 0,\n    'state': '',\n    'score': 1,\n    'result': 1,\n    'time': '2023-02-10 16:29:11.419548',\n    'marker': 'I_N_I',\n    'carta_resposta': 50},\n   {'categoria': 'forma',\n    'xpos': 0,\n    'cor': False,\n    'score': 1,\n    'acertos': 1,\n    'house': 'I_N_I',\n    'outros': False,\n    'numero': True,\n    'ypos': 0,\n    'player': 0,\n    'state': '',\n    'forma': True,\n    'result': 1,\n    'time': '2023-02-10 16:29:22.150804',\n    'marker': 'I_N_I',\n    'carta_resposta': 51},\n   {'categoria': 'forma',\n    'xpos': 0,\n    'cor': True,\n    'acertos': 2,\n    'house': 'I_N_I',\n    'forma': True,\n    'outros': False,\n    'numero': False,\n    'ypos': 0,\n    'player': 0,\n    'state': '',\n    'score': 1,\n    'result': 1,\n    'time': '2023-02-10 16:29:30.908366',\n    'marker': 'I_N_I',\n    'carta_resposta': 52},\n   {'categoria': 'forma',\n    'xpos': 0,\n    'cor': True,\n    'acertos': 0,\n    'outros': False,\n    'house': 'I_N_I',\n    'forma': False,\n    'numero': False,\n    'ypos': 0,\n    'player': 0,\n    'state': '',\n    'score': 1,\n    'result': 1,\n    'time': '2023-02-10 16:29:37.008128',\n    'marker': 'I_N_I',\n    'carta_resposta': 53},\n   {'categoria': 'forma',\n    'xpos': 0,\n    'cor': True,\n    'score': 1,\n    'acertos': 0,\n    'house': 'I_N_I',\n    'outros': False,\n    'numero': False,\n    'ypos': 0,\n    'player': 0,\n    'state': '',\n    'forma': False,\n    'result': 1,\n    'time': '2023-02-10 16:29:58.994917',\n    'marker': 'I_N_I',\n    'carta_resposta': 54},\n   {'categoria': 'forma',\n    'xpos': 0,\n    'cor': True,\n    'acertos': 0,\n    'house': 'I_N_I',\n    'forma': False,\n    'outros': False,\n    'numero': False,\n    'ypos': 0,\n    'player': 0,\n    'state': '',\n    'score': 1,\n    'result': 1,\n    'time': '2023-02-10 16:30:09.689959',\n    'marker': 'I_N_I',\n    'carta_resposta': 55}]],\n 'headings': ['Carta resposta',\n  'Categoria',\n  'Acertos',\n  'Cor',\n  'Forma',\n  'Número',\n  'Outros',\n  'Data/Hora'],\n 'time': '2023-02-10 16:13:53.243609',\n 'level': 1}"
     },
     "execution_count": 7,
     "metadata": {},
     "output_type": "execute_result"
    }
   ],
   "source": [
    "games_one_player[\"goal\"][0]"
   ],
   "metadata": {
    "collapsed": false,
    "ExecuteTime": {
     "end_time": "2023-05-09T18:41:02.865626864Z",
     "start_time": "2023-05-09T18:41:02.690929307Z"
    }
   }
  },
  {
   "cell_type": "code",
   "execution_count": 8,
   "outputs": [
    {
     "data": {
      "text/plain": "{'categoria': 1,\n 'acertosConsecutivos': 0,\n 'indiceCartaAtual': 55,\n 'outrosConsecutivos': 0,\n 'wteste': None}"
     },
     "execution_count": 8,
     "metadata": {},
     "output_type": "execute_result"
    }
   ],
   "source": [
    "info_goal = games_one_player[\"goal\"][0]\n",
    "info_goal[\"houses\"]"
   ],
   "metadata": {
    "collapsed": false,
    "ExecuteTime": {
     "end_time": "2023-05-09T18:42:07.764064808Z",
     "start_time": "2023-05-09T18:42:07.724767056Z"
    }
   }
  },
  {
   "cell_type": "code",
   "execution_count": 9,
   "outputs": [
    {
     "data": {
      "text/plain": "'2023-02-10 16:13:53.243525'"
     },
     "execution_count": 9,
     "metadata": {},
     "output_type": "execute_result"
    }
   ],
   "source": [
    "games_one_player[\"time\"]"
   ],
   "metadata": {
    "collapsed": false,
    "ExecuteTime": {
     "end_time": "2023-05-09T18:42:14.758494184Z",
     "start_time": "2023-05-09T18:42:14.664214204Z"
    }
   }
  },
  {
   "cell_type": "code",
   "execution_count": 1,
   "outputs": [
    {
     "name": "stdout",
     "output_type": "stream",
     "text": [
      "{'Name': ['tol', 'trainz', 'tol', 'trainz', 'cancel', 'tol', 'trainz', 'trainz', 'trainz', 'trainz'], 'Maxlevel': [10, 1, 10, 1, 1, 10, 1, 1, 1, 1], 'Time': ['2012-05-31 16:20:23.577460', '2012-05-31 13:28:23.268821', '2012-05-31 13:31:11.877281', '2012-05-31 14:02:41.860222', '2012-05-31 14:06:26.338894', '2012-05-31 14:07:10.645743', '2012-05-31 14:21:17.842332', '2012-05-31 14:57:35.910632', '2012-05-31 15:02:57.752943', '2012-05-31 15:07:05.464370']}\n",
      "Name                               tol\n",
      "Maxlevel                            10\n",
      "Time        2012-05-31 13:31:11.877281\n",
      "Name: 2, dtype: object\n"
     ]
    }
   ],
   "source": [
    "from RioClasses import RioPlayers\n",
    "\n",
    "RioPlayers().games_file_demographics(date=\"2012\", start_count= (0,4), name=\"infogames.csv\")"
   ],
   "metadata": {
    "collapsed": false,
    "ExecuteTime": {
     "end_time": "2023-05-16T13:11:13.570154069Z",
     "start_time": "2023-05-16T13:11:08.991067096Z"
    }
   }
  },
  {
   "cell_type": "code",
   "execution_count": 2,
   "outputs": [
    {
     "ename": "SyntaxError",
     "evalue": "invalid syntax (RioClasses.py, line 74)",
     "output_type": "error",
     "traceback": [
      "Traceback \u001B[0;36m(most recent call last)\u001B[0m:\n",
      "  File \u001B[1;32m\"/usr/lib/python3/dist-packages/IPython/core/interactiveshell.py\"\u001B[0m, line \u001B[1;32m3457\u001B[0m, in \u001B[1;35mrun_code\u001B[0m\n    exec(code_obj, self.user_global_ns, self.user_ns)\n",
      "\u001B[0;36m  File \u001B[0;32m\"/tmp/ipykernel_7758/2746997019.py\"\u001B[0;36m, line \u001B[0;32m1\u001B[0;36m, in \u001B[0;35m<module>\u001B[0;36m\u001B[0m\n\u001B[0;31m    from RioClasses import RioPandas\u001B[0m\n",
      "\u001B[0;36m  File \u001B[0;32m\"/home/anni/Documentos/LABASE/RIO+/fono_ceo-master/ipynb/dev/RioClasses.py\"\u001B[0;36m, line \u001B[0;32m74\u001B[0m\n\u001B[0;31m    for coluna in [0:2]:\u001B[0m\n\u001B[0m                    ^\u001B[0m\n\u001B[0;31mSyntaxError\u001B[0m\u001B[0;31m:\u001B[0m invalid syntax\n"
     ]
    }
   ],
   "source": [
    "from RioClasses import RioPandas\n",
    "\n",
    "rp_games = RioPandas()\n",
    "rp_games.data\n"
   ],
   "metadata": {
    "collapsed": false,
    "ExecuteTime": {
     "end_time": "2023-05-16T13:01:38.239864374Z",
     "start_time": "2023-05-16T13:01:38.193737244Z"
    }
   }
  },
  {
   "cell_type": "code",
   "execution_count": 2,
   "outputs": [
    {
     "ename": "SyntaxError",
     "evalue": "cannot assign to function call here. Maybe you meant '==' instead of '='? (RioClasses.py, line 62)",
     "output_type": "error",
     "traceback": [
      "Traceback \u001B[0;36m(most recent call last)\u001B[0m:\n",
      "  File \u001B[1;32m\"/usr/lib/python3/dist-packages/IPython/core/interactiveshell.py\"\u001B[0m, line \u001B[1;32m3457\u001B[0m, in \u001B[1;35mrun_code\u001B[0m\n    exec(code_obj, self.user_global_ns, self.user_ns)\n",
      "\u001B[0;36m  File \u001B[0;32m\"/tmp/ipykernel_7913/1557228368.py\"\u001B[0;36m, line \u001B[0;32m1\u001B[0;36m, in \u001B[0;35m<module>\u001B[0;36m\u001B[0m\n\u001B[0;31m    from RioClasses import RioPlayers\u001B[0m\n",
      "\u001B[0;36m  File \u001B[0;32m\"/home/anni/Documentos/LABASE/RIO+/fono_ceo-master/ipynb/dev/RioClasses.py\"\u001B[0;36m, line \u001B[0;32m62\u001B[0m\n\u001B[0;31m    lines(reg)= lines.append(dados[info_game])\u001B[0m\n\u001B[0m    ^\u001B[0m\n\u001B[0;31mSyntaxError\u001B[0m\u001B[0;31m:\u001B[0m cannot assign to function call here. Maybe you meant '==' instead of '='?\n"
     ]
    }
   ],
   "source": [
    "from RioClasses import RioPlayers\n",
    "\n",
    "RioPlayers().get_players(date=\"2012\",start_count=(0,10))"
   ],
   "metadata": {
    "collapsed": false,
    "ExecuteTime": {
     "end_time": "2023-05-11T15:32:20.340882292Z",
     "start_time": "2023-05-11T15:32:20.242088298Z"
    }
   }
  },
  {
   "cell_type": "code",
   "execution_count": 9,
   "outputs": [
    {
     "ename": "NameError",
     "evalue": "name 'games_one_player' is not defined",
     "output_type": "error",
     "traceback": [
      "\u001B[0;31m---------------------------------------------------------------------------\u001B[0m",
      "\u001B[0;31mNameError\u001B[0m                                 Traceback (most recent call last)",
      "\u001B[0;32m/tmp/ipykernel_4074/211845243.py\u001B[0m in \u001B[0;36m<module>\u001B[0;34m\u001B[0m\n\u001B[1;32m      4\u001B[0m \u001B[0;34m\u001B[0m\u001B[0m\n\u001B[1;32m      5\u001B[0m \u001B[0;32mfor\u001B[0m \u001B[0minfo_games\u001B[0m \u001B[0;32min\u001B[0m \u001B[0mparams\u001B[0m\u001B[0;34m:\u001B[0m\u001B[0;34m\u001B[0m\u001B[0;34m\u001B[0m\u001B[0m\n\u001B[0;32m----> 6\u001B[0;31m     \u001B[0mprint\u001B[0m\u001B[0;34m(\u001B[0m\u001B[0mgames_one_player\u001B[0m\u001B[0;34m[\u001B[0m\u001B[0minfo_games\u001B[0m\u001B[0;34m]\u001B[0m\u001B[0;34m)\u001B[0m\u001B[0;34m\u001B[0m\u001B[0;34m\u001B[0m\u001B[0m\n\u001B[0m",
      "\u001B[0;31mNameError\u001B[0m: name 'games_one_player' is not defined"
     ]
    }
   ],
   "source": [
    "from RioClasses import RioPlayers\n",
    "\n",
    "params = [\"name\", \"goal\", \"maxlevel\", \"time\"]\n",
    "\n",
    "for info_games in params:\n",
    "    print(games_one_player[info_games])"
   ],
   "metadata": {
    "collapsed": false,
    "ExecuteTime": {
     "end_time": "2023-05-11T13:08:32.682870699Z",
     "start_time": "2023-05-11T13:08:32.627406634Z"
    }
   }
  },
  {
   "cell_type": "code",
   "execution_count": 1,
   "outputs": [
    {
     "ename": "ParserError",
     "evalue": "Error tokenizing data. C error: Expected 4 fields in line 2, saw 8\n",
     "output_type": "error",
     "traceback": [
      "\u001B[0;31m---------------------------------------------------------------------------\u001B[0m",
      "\u001B[0;31mParserError\u001B[0m                               Traceback (most recent call last)",
      "\u001B[0;32m/tmp/ipykernel_4540/1765686183.py\u001B[0m in \u001B[0;36m<module>\u001B[0;34m\u001B[0m\n\u001B[1;32m      1\u001B[0m \u001B[0;32mfrom\u001B[0m \u001B[0mRioClasses\u001B[0m \u001B[0;32mimport\u001B[0m \u001B[0mRioPandas\u001B[0m\u001B[0;34m\u001B[0m\u001B[0;34m\u001B[0m\u001B[0m\n\u001B[1;32m      2\u001B[0m \u001B[0;34m\u001B[0m\u001B[0m\n\u001B[0;32m----> 3\u001B[0;31m \u001B[0mrp_games\u001B[0m \u001B[0;34m=\u001B[0m \u001B[0mRioPandas\u001B[0m\u001B[0;34m(\u001B[0m\u001B[0;34m)\u001B[0m\u001B[0;34m\u001B[0m\u001B[0;34m\u001B[0m\u001B[0m\n\u001B[0m\u001B[1;32m      4\u001B[0m \u001B[0mrp_games\u001B[0m\u001B[0;34m.\u001B[0m\u001B[0mdata\u001B[0m\u001B[0;34m\u001B[0m\u001B[0;34m\u001B[0m\u001B[0m\n",
      "\u001B[0;32m~/Documentos/LABASE/RIO+/fono_ceo-master/ipynb/dev/RioClasses.py\u001B[0m in \u001B[0;36m__init__\u001B[0;34m(self)\u001B[0m\n\u001B[1;32m     87\u001B[0m \u001B[0;32mclass\u001B[0m \u001B[0mRioPandas\u001B[0m\u001B[0;34m:\u001B[0m\u001B[0;34m\u001B[0m\u001B[0;34m\u001B[0m\u001B[0m\n\u001B[1;32m     88\u001B[0m     \u001B[0;32mdef\u001B[0m \u001B[0m__init__\u001B[0m\u001B[0;34m(\u001B[0m\u001B[0mself\u001B[0m\u001B[0;34m)\u001B[0m\u001B[0;34m:\u001B[0m\u001B[0;34m\u001B[0m\u001B[0;34m\u001B[0m\u001B[0m\n\u001B[0;32m---> 89\u001B[0;31m         \u001B[0mself\u001B[0m\u001B[0;34m.\u001B[0m\u001B[0m_data\u001B[0m \u001B[0;34m=\u001B[0m \u001B[0mpd\u001B[0m\u001B[0;34m.\u001B[0m\u001B[0mread_csv\u001B[0m\u001B[0;34m(\u001B[0m\u001B[0;34m'infogames.csv'\u001B[0m\u001B[0;34m,\u001B[0m \u001B[0mdelimiter\u001B[0m\u001B[0;34m=\u001B[0m\u001B[0;34m'\\t'\u001B[0m\u001B[0;34m,\u001B[0m \u001B[0mnames\u001B[0m\u001B[0;34m=\u001B[0m\u001B[0mRioPlayers\u001B[0m\u001B[0;34m.\u001B[0m\u001B[0mPARAMSGAMES\u001B[0m\u001B[0;34m)\u001B[0m\u001B[0;34m\u001B[0m\u001B[0;34m\u001B[0m\u001B[0m\n\u001B[0m\u001B[1;32m     90\u001B[0m \u001B[0;34m\u001B[0m\u001B[0m\n\u001B[1;32m     91\u001B[0m     \u001B[0;34m@\u001B[0m\u001B[0mproperty\u001B[0m\u001B[0;34m\u001B[0m\u001B[0;34m\u001B[0m\u001B[0m\n",
      "\u001B[0;32m~/.local/lib/python3.10/site-packages/pandas/io/parsers/readers.py\u001B[0m in \u001B[0;36mread_csv\u001B[0;34m(filepath_or_buffer, sep, delimiter, header, names, index_col, usecols, dtype, engine, converters, true_values, false_values, skipinitialspace, skiprows, skipfooter, nrows, na_values, keep_default_na, na_filter, verbose, skip_blank_lines, parse_dates, infer_datetime_format, keep_date_col, date_parser, date_format, dayfirst, cache_dates, iterator, chunksize, compression, thousands, decimal, lineterminator, quotechar, quoting, doublequote, escapechar, comment, encoding, encoding_errors, dialect, on_bad_lines, delim_whitespace, low_memory, memory_map, float_precision, storage_options, dtype_backend)\u001B[0m\n\u001B[1;32m    910\u001B[0m     \u001B[0mkwds\u001B[0m\u001B[0;34m.\u001B[0m\u001B[0mupdate\u001B[0m\u001B[0;34m(\u001B[0m\u001B[0mkwds_defaults\u001B[0m\u001B[0;34m)\u001B[0m\u001B[0;34m\u001B[0m\u001B[0;34m\u001B[0m\u001B[0m\n\u001B[1;32m    911\u001B[0m \u001B[0;34m\u001B[0m\u001B[0m\n\u001B[0;32m--> 912\u001B[0;31m     \u001B[0;32mreturn\u001B[0m \u001B[0m_read\u001B[0m\u001B[0;34m(\u001B[0m\u001B[0mfilepath_or_buffer\u001B[0m\u001B[0;34m,\u001B[0m \u001B[0mkwds\u001B[0m\u001B[0;34m)\u001B[0m\u001B[0;34m\u001B[0m\u001B[0;34m\u001B[0m\u001B[0m\n\u001B[0m\u001B[1;32m    913\u001B[0m \u001B[0;34m\u001B[0m\u001B[0m\n\u001B[1;32m    914\u001B[0m \u001B[0;34m\u001B[0m\u001B[0m\n",
      "\u001B[0;32m~/.local/lib/python3.10/site-packages/pandas/io/parsers/readers.py\u001B[0m in \u001B[0;36m_read\u001B[0;34m(filepath_or_buffer, kwds)\u001B[0m\n\u001B[1;32m    581\u001B[0m \u001B[0;34m\u001B[0m\u001B[0m\n\u001B[1;32m    582\u001B[0m     \u001B[0;32mwith\u001B[0m \u001B[0mparser\u001B[0m\u001B[0;34m:\u001B[0m\u001B[0;34m\u001B[0m\u001B[0;34m\u001B[0m\u001B[0m\n\u001B[0;32m--> 583\u001B[0;31m         \u001B[0;32mreturn\u001B[0m \u001B[0mparser\u001B[0m\u001B[0;34m.\u001B[0m\u001B[0mread\u001B[0m\u001B[0;34m(\u001B[0m\u001B[0mnrows\u001B[0m\u001B[0;34m)\u001B[0m\u001B[0;34m\u001B[0m\u001B[0;34m\u001B[0m\u001B[0m\n\u001B[0m\u001B[1;32m    584\u001B[0m \u001B[0;34m\u001B[0m\u001B[0m\n\u001B[1;32m    585\u001B[0m \u001B[0;34m\u001B[0m\u001B[0m\n",
      "\u001B[0;32m~/.local/lib/python3.10/site-packages/pandas/io/parsers/readers.py\u001B[0m in \u001B[0;36mread\u001B[0;34m(self, nrows)\u001B[0m\n\u001B[1;32m   1702\u001B[0m                     \u001B[0mcolumns\u001B[0m\u001B[0;34m,\u001B[0m\u001B[0;34m\u001B[0m\u001B[0;34m\u001B[0m\u001B[0m\n\u001B[1;32m   1703\u001B[0m                     \u001B[0mcol_dict\u001B[0m\u001B[0;34m,\u001B[0m\u001B[0;34m\u001B[0m\u001B[0;34m\u001B[0m\u001B[0m\n\u001B[0;32m-> 1704\u001B[0;31m                 \u001B[0;34m)\u001B[0m \u001B[0;34m=\u001B[0m \u001B[0mself\u001B[0m\u001B[0;34m.\u001B[0m\u001B[0m_engine\u001B[0m\u001B[0;34m.\u001B[0m\u001B[0mread\u001B[0m\u001B[0;34m(\u001B[0m  \u001B[0;31m# type: ignore[attr-defined]\u001B[0m\u001B[0;34m\u001B[0m\u001B[0;34m\u001B[0m\u001B[0m\n\u001B[0m\u001B[1;32m   1705\u001B[0m                     \u001B[0mnrows\u001B[0m\u001B[0;34m\u001B[0m\u001B[0;34m\u001B[0m\u001B[0m\n\u001B[1;32m   1706\u001B[0m                 )\n",
      "\u001B[0;32m~/.local/lib/python3.10/site-packages/pandas/io/parsers/c_parser_wrapper.py\u001B[0m in \u001B[0;36mread\u001B[0;34m(self, nrows)\u001B[0m\n\u001B[1;32m    232\u001B[0m         \u001B[0;32mtry\u001B[0m\u001B[0;34m:\u001B[0m\u001B[0;34m\u001B[0m\u001B[0;34m\u001B[0m\u001B[0m\n\u001B[1;32m    233\u001B[0m             \u001B[0;32mif\u001B[0m \u001B[0mself\u001B[0m\u001B[0;34m.\u001B[0m\u001B[0mlow_memory\u001B[0m\u001B[0;34m:\u001B[0m\u001B[0;34m\u001B[0m\u001B[0;34m\u001B[0m\u001B[0m\n\u001B[0;32m--> 234\u001B[0;31m                 \u001B[0mchunks\u001B[0m \u001B[0;34m=\u001B[0m \u001B[0mself\u001B[0m\u001B[0;34m.\u001B[0m\u001B[0m_reader\u001B[0m\u001B[0;34m.\u001B[0m\u001B[0mread_low_memory\u001B[0m\u001B[0;34m(\u001B[0m\u001B[0mnrows\u001B[0m\u001B[0;34m)\u001B[0m\u001B[0;34m\u001B[0m\u001B[0;34m\u001B[0m\u001B[0m\n\u001B[0m\u001B[1;32m    235\u001B[0m                 \u001B[0;31m# destructive to chunks\u001B[0m\u001B[0;34m\u001B[0m\u001B[0;34m\u001B[0m\u001B[0m\n\u001B[1;32m    236\u001B[0m                 \u001B[0mdata\u001B[0m \u001B[0;34m=\u001B[0m \u001B[0m_concatenate_chunks\u001B[0m\u001B[0;34m(\u001B[0m\u001B[0mchunks\u001B[0m\u001B[0;34m)\u001B[0m\u001B[0;34m\u001B[0m\u001B[0;34m\u001B[0m\u001B[0m\n",
      "\u001B[0;32m~/.local/lib/python3.10/site-packages/pandas/_libs/parsers.pyx\u001B[0m in \u001B[0;36mpandas._libs.parsers.TextReader.read_low_memory\u001B[0;34m()\u001B[0m\n",
      "\u001B[0;32m~/.local/lib/python3.10/site-packages/pandas/_libs/parsers.pyx\u001B[0m in \u001B[0;36mpandas._libs.parsers.TextReader._read_rows\u001B[0;34m()\u001B[0m\n",
      "\u001B[0;32m~/.local/lib/python3.10/site-packages/pandas/_libs/parsers.pyx\u001B[0m in \u001B[0;36mpandas._libs.parsers.TextReader._tokenize_rows\u001B[0;34m()\u001B[0m\n",
      "\u001B[0;32m~/.local/lib/python3.10/site-packages/pandas/_libs/parsers.pyx\u001B[0m in \u001B[0;36mpandas._libs.parsers.TextReader._check_tokenize_status\u001B[0;34m()\u001B[0m\n",
      "\u001B[0;32m~/.local/lib/python3.10/site-packages/pandas/_libs/parsers.pyx\u001B[0m in \u001B[0;36mpandas._libs.parsers.raise_parser_error\u001B[0;34m()\u001B[0m\n",
      "\u001B[0;31mParserError\u001B[0m: Error tokenizing data. C error: Expected 4 fields in line 2, saw 8\n"
     ]
    }
   ],
   "source": [
    "from RioClasses import RioPandas\n",
    "\n",
    "rp_games = RioPandas()\n",
    "rp_games.data"
   ],
   "metadata": {
    "collapsed": false,
    "ExecuteTime": {
     "end_time": "2023-05-16T11:44:29.389604776Z",
     "start_time": "2023-05-16T11:44:27.411453527Z"
    }
   }
  },
  {
   "cell_type": "markdown",
   "source": [
    "PEGAR informações requests.get -> resposta: Response [200] OK -> JSON"
   ],
   "metadata": {
    "collapsed": false
   }
  },
  {
   "cell_type": "code",
   "execution_count": 6,
   "outputs": [
    {
     "name": "stdout",
     "output_type": "stream",
     "text": [
      "<Response [200]>\n",
      "{'update_seq': 225980, 'disk_size': 8988823678, 'purge_seq': 0, 'doc_count': 22244, 'compact_running': False, 'db_name': 'application', 'doc_del_count': 0, 'instance_start_time': '1681837514521297', 'committed_update_seq': 225980, 'data_size': 22460348, 'disk_format_version': 6}\n"
     ]
    }
   ],
   "source": [
    "import requests\n",
    "from requests import urlopen\n",
    "\n",
    "URL = \"http://activufrj.nce.ufrj.br/api/\"\n",
    "URLGET = f\"{URL}getlist\"\n",
    "URLREG = f\"{URL}getsession?id=\"\n",
    "\n",
    "requisicao = requests.get(URLREG) #URLGET\n",
    "print(requisicao)\n",
    "print(requisicao.json())"
   ],
   "metadata": {
    "collapsed": false,
    "ExecuteTime": {
     "end_time": "2023-05-09T16:01:44.118825881Z",
     "start_time": "2023-05-09T16:01:44.034449818Z"
    }
   }
  }
 ],
 "metadata": {
  "kernelspec": {
   "display_name": "Python 3",
   "language": "python",
   "name": "python3"
  },
  "language_info": {
   "codemirror_mode": {
    "name": "ipython",
    "version": 2
   },
   "file_extension": ".py",
   "mimetype": "text/x-python",
   "name": "python",
   "nbconvert_exporter": "python",
   "pygments_lexer": "ipython2",
   "version": "2.7.6"
  }
 },
 "nbformat": 4,
 "nbformat_minor": 0
}
