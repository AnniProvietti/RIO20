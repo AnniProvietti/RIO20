{
 "cells": [
  {
   "cell_type": "markdown",
   "metadata": {},
   "source": [
    "# Accomodate data to classes\n",
    "\n",
    "## Dataset structure classes\n",
    "\n",
    "| Class name    | Purpose                              |\n",
    "| ------------- |:-------------------------------------|\n",
    "| Player        | Session data  for a player           |\n",
    "| Game          | Collection of games in this session  |\n",
    "| Goal          | A given game level being played      |\n",
    "| Trial         | An attempt to play the current level |\n",
    "| Move          | A single move taken in this trial    |\n"
   ]
  },
  {
   "cell_type": "markdown",
   "metadata": {},
   "source": [
    "## Dataset classes source code"
   ]
  },
  {
   "cell_type": "code",
   "execution_count": 1,
   "metadata": {
    "tags": [
     "#api_classes"
    ],
    "ExecuteTime": {
     "start_time": "2023-04-25T14:36:35.361074Z",
     "end_time": "2023-04-25T14:36:35.376392Z"
    }
   },
   "outputs": [
    {
     "name": "stdout",
     "output_type": "stream",
     "text": [
      "Writing datastructure.py\n"
     ]
    }
   ],
   "source": [
    "%%writefile datastructure.py\n",
    "class Sample:\n",
    "    \"\"\"Todos os jogadores de uma amostra\"\"\"\n",
    "    def __init__(self, sample, **kwargs):\n",
    "        self.players = [Player(**player)  for player in sample]\n",
    "        \n",
    "    def visit(self, visitor):\n",
    "        visitor.visit_sample(self, players=self.players)\n",
    "\n",
    "\n",
    "class Player:\n",
    "    \"\"\"Todos os dados de um jogador, que joga uma coleção de Games\"\"\"\n",
    "    def __init__(self, session, games, **kwargs):\n",
    "        self.session = session\n",
    "        self.games = [Game(**game)  for game in games]\n",
    "        \n",
    "    def visit(self, visitor):\n",
    "        visitor.visit_player(self, session=self.session, games=self.games)\n",
    "\n",
    "    \n",
    "class Game:\n",
    "    \"\"\"Todos os games jogados por um jogador onde cada é jogado em várias fases ou Goals\"\"\"\n",
    "    def __init__(self, name, time, maxlevel, goal, **kwargs):\n",
    "        self.name, self.time, self.maxlevel = name, time, maxlevel\n",
    "        self.goals = [Goal(**a_goal) for a_goal in goal]\n",
    "        \n",
    "    def visit(self, visitor):\n",
    "        visitor.visit_game(self, goal=self.goals, name=self.name, time=self.time, maxlevel=self.maxlevel)\n",
    "\n",
    "        \n",
    "class Goal:\n",
    "    \"\"\"Uma fase de um jogo jogada em várias tentativas ou Trials\"\"\"\n",
    "    def __init__(self, time, level, markers, houses, headings, trial, **kwargs):\n",
    "        self.time, self.level, self.markers, self.houses, self.headings = time, level, markers, houses, headings\n",
    "        self.trials = [Trial(a_trial) for a_trial in trial]\n",
    "        \n",
    "    def visit(self, visitor):\n",
    "        visitor.visit_goal(self, trial=self.trials , time=self.time, level=self.level, \n",
    "                           markers=self.markers, houses=self.houses, headings=self.headings)\n",
    "        \n",
    "\n",
    "class Trial:\n",
    "    \"\"\"Uma tentativa de jogar uma fase onde são feitas diversas jogadas ou Moves\"\"\"\n",
    "    def __init__(self, trial, **kwargs):\n",
    "        self.moves = [Move(**moves) for moves in trial]\n",
    "        \n",
    "    def visit(self, visitor):\n",
    "        visitor.visit_trial(self, moves=self.moves)\n",
    "\n",
    "        \n",
    "class Move:\n",
    "    \"\"\"Cada uma das jogadas executadas para completar uma tentativa\"\"\"\n",
    "    def __init__(self, xpos, house, ypos, player, state, score, result, time, marker,\n",
    "                 delta=0, categoria=0, cor=0, acertos=0, outros=0, forma=0, numero=0,\n",
    "                 carta_resposta=0, itpl_delta=0, shape=\"\"):\n",
    "        self.xpos, self.house, self.ypos, self.player, self.state, self.score, self.result, self.time, self.marker = \\\n",
    "            xpos, house, ypos, player, state, score, result, time, marker\n",
    "        self.categoria, self.delta, self.itpl_delta, self.shape = categoria, delta, itpl_delta, shape\n",
    "        self.cor, self.acertos, self.outros, self.forma, self.numero, self.carta_resposta = \\\n",
    "            cor, acertos, outros, forma, numero, carta_resposta\n",
    "        # print(\"      Trial\", xpos, house, ypos, player, state, score, result, time, delta)\n",
    "\n",
    "    def pack_params(self):\n",
    "        return dict(\n",
    "            xpos=self.xpos, house=self.house, ypos=self.ypos, player=self.player, state=self.state, score=self.score,\n",
    "            result=self.result, time=self.time, marker=self.marker, delta=self.delta, categoria=self.categoria,\n",
    "            cor=self.cor, acertos=self.acertos, outros=self.outros, forma=self.forma,\n",
    "            numero=self.numero, carta_resposta=self.carta_resposta, shape=self.shape)\n",
    "        \n",
    "    def visit(self, visitor):\n",
    "        kwargs = self.pack_params()\n",
    "        visitor.visit_move(self, **kwargs)\n",
    "\n",
    "        \n",
    "class _Move:\n",
    "    def __init__(self, xpos, house, ypos, player, state, score, result, time, marker, **kwargs):\n",
    "        self.xpos, self.house, self.ypos, self.player, self.state = xpos, house, ypos, player, state\n",
    "        self.score, self.result, self.time, self.marker = score, result, time, marker\n",
    "        \n",
    "    def visit(self, visitor):\n",
    "        kwargs = dict(xpos=self.xpos, house=self.house, ypos=self.ypos, player=self.player, state=self.state,\n",
    "                      score=self.score, result=self.result, time=self.time, marker=self.marker)\n",
    "        visitor.visit_move(self, **kwargs)\n"
   ]
  },
  {
   "cell_type": "markdown",
   "metadata": {},
   "source": [
    "## Using the structure\n",
    "\n",
    "In the example, retrieve game name used by the current player"
   ]
  },
  {
   "cell_type": "code",
   "execution_count": 3,
   "metadata": {
    "tags": [
     "=>api_classes"
    ],
    "ExecuteTime": {
     "start_time": "2023-04-25T14:40:13.504918Z",
     "end_time": "2023-04-25T14:40:13.776832Z"
    }
   },
   "outputs": [
    {
     "name": "stdout",
     "output_type": "stream",
     "text": [
      "tol\n",
      "wisconsin\n"
     ]
    }
   ],
   "source": [
    "from activreader import Activ\n",
    "from datastructure import Player\n",
    "api_stream = Activ().one_player()\n",
    "player = Player(**api_stream)\n",
    "_ = [print(game.name) for game in player.games]"
   ]
  },
  {
   "cell_type": "markdown",
   "metadata": {},
   "source": [
    "## Visitor class\n",
    "\n",
    "Provides callbacks for each structural class in the dataset. Control recursion by returning __False__ when next level incursion is not necessarie."
   ]
  },
  {
   "cell_type": "code",
   "execution_count": 8,
   "metadata": {
    "tags": [
     "#api_visitor"
    ]
   },
   "outputs": [
    {
     "name": "stdout",
     "output_type": "stream",
     "text": [
      "Overwriting datavisitor.py\n"
     ]
    }
   ],
   "source": [
    "%%writefile datavisitor.py\n",
    "class Visitor:\n",
    "    def __init__(self, leaf_action={}):\n",
    "        self.action_digest = {leaf: lambda *_, **__: True for leaf in \"sample player game goal trial move\".split()}\n",
    "        self.action_digest.update(leaf_action)\n",
    "        self.current = None\n",
    "        # print(\"Visitor\", self.action_digest)\n",
    "        \n",
    "    def visit_sample(self, sample, players=(), **kwargs):\n",
    "        # print(\"visit_sample\", sample, players[:2])\n",
    "        return [element.visit(self) for element in players]\\\n",
    "            if self.action_digest[\"sample\"](sample, players=players) else []\n",
    "        pass\n",
    "        \n",
    "    def visit_player(self, player, games=(), **kwargs):\n",
    "        # print(\"visit_player\", games[:2])\n",
    "        return [element.visit(self) for element in games]\\\n",
    "            if self.action_digest[\"player\"](player, games=games, **kwargs) else []\n",
    "        pass\n",
    "    \n",
    "    # def visit_game(self, game, name=None, time=None, maxlevel=None, goal=(), **kwargs):\n",
    "    def visit_game(self, game, goal=(), **kwargs):\n",
    "        return [element.visit(self) for element in goal]\\\n",
    "            if self.action_digest[\"game\"](game, goal=goal, **kwargs) else []\n",
    "\n",
    "    \n",
    "    def visit_goal(self, goal, time=None, level=None, markers=None, houses=None, headings=None,\n",
    "                   trial=(), **kwargs):\n",
    "        vkwargs=dict(time=time, level=level, markers=markers, houses=houses, headings=headings,trial=trial)\n",
    "        vkwargs.update(**kwargs)\n",
    "        return [element.visit(self) for element in trial]\\\n",
    "            if self.action_digest[\"goal\"](goal, **vkwargs) else []\n",
    "    \n",
    "    def visit_trial(self, trial,  moves=(), **kwargs):\n",
    "        return [element.visit(self) for element in moves]\\\n",
    "        if self.action_digest[\"trial\"](trial, moves=moves, **kwargs) else []\n",
    "\n",
    "    \n",
    "    def visit_move(self, move, xpos=0, house=None, ypos=0, player=None, state=None, score=0,\n",
    "                   result=None, time=None, marker=None, delta=0, categoria=0, cor=0, acertos=0,\n",
    "                   outros=0, forma=0, numero=0, carta_resposta=0, itpl_delta=0, **kwargs):\n",
    "        kwargs = move.pack_params()\n",
    "        self.action_digest[\"move\"](move, **kwargs)\n",
    "\n",
    "    "
   ]
  },
  {
   "cell_type": "markdown",
   "metadata": {
    "heading_collapsed": true
   },
   "source": [
    "## Fixture to handle stats collection"
   ]
  },
  {
   "cell_type": "code",
   "execution_count": 10,
   "metadata": {
    "hidden": true,
    "tags": [
     "=>api_visitor",
     "=>api_classes",
     "#stats_fix"
    ]
   },
   "outputs": [],
   "source": [
    "from activreader import Activ\n",
    "from matplotlib import pyplot as plt\n",
    "from datastructure import Sample\n",
    "from datavisitor import Visitor\n",
    "\n",
    "\n",
    "class Rio20Stats:\n",
    "    def __init__(self, date=\"2018\", start_count=(0,100), pic_file=\"sample.dat\"):\n",
    "        self.games = {}\n",
    "        self.activ_reader = activ_reader = Activ()\n",
    "        self.sample_stream = activ_reader.get_jogadores(date=date, start_count=start_count)\n",
    "        self.sample = None\n",
    "        try:\n",
    "            with open(pic_file, \"rb\") as pkf:\n",
    "                import pickle\n",
    "                self.sample = pickle.load(pkf)\n",
    "        except IOError as _:\n",
    "            self.sample = Sample(sample=[activ_reader.one_player(player) for player in self.sample_stream])\n",
    "        self.visitor = Visitor(leaf_action=dict(game=self.count_game_play, sample=self.count_sample_play))\n",
    "        \n",
    "    def file_pickle_sample(self, name=\"sample.dat\"):\n",
    "        print(\"sample:\", self.sample.players[0].session)\n",
    "        import csv\n",
    "        import pickle\n",
    "        with open(name, 'wb') as pickle_file:\n",
    "            pickle.dump(self.sample, pickle_file)\n",
    "                               \n",
    "    def plot_stats(self, x, xticks, y):\n",
    "        # print(\"plot_stats\", x, xticks, y, self.games)\n",
    "        plt.xticks(x, xticks)\n",
    "        plt.ylabel(\"number of participants\")\n",
    "        _ = plt.bar(x, y)\n",
    "        \n",
    "    def main(self):\n",
    "        self.sample.visit(self.visitor)\n",
    "        self.plot_stats(range(len(self.games)), *zip(*self.games.items()))\n",
    "        return self\n",
    "\n",
    "    def count_sample_play(self, sample, players, **kwargs):\n",
    "        # print(\"count_game_play\", sample, players[:2])\n",
    "        return True\n",
    "\n",
    "    def count_game_play(self, game, goal, name, **kwargs):\n",
    "        # print(\"count_game_play\", game, goal, name)\n",
    "        self.games.update({name: self.games.setdefault(name, 0)+1})\n",
    "        return False\n"
   ]
  },
  {
   "cell_type": "markdown",
   "metadata": {},
   "source": [
    "## Storing Rio+20 sample to pickle\n",
    "\n",
    "During Rio+20 event in Rio de Janeiro 1600 students "
   ]
  },
  {
   "cell_type": "code",
   "execution_count": 11,
   "metadata": {
    "tags": [
     "=>stats_fix"
    ]
   },
   "outputs": [
    {
     "name": "stdout",
     "output_type": "stream",
     "text": [
      "sample: {'sexo2': '', 'idade1': 17, 'idade2': None, 'ano1': 9, 'ano2': None, 'escola': 'ufrj', 'sexo1': 'M', 'starttime': '2012-05-31 12:47:13.201761', 'tipoescola': 'publica', 'endtime': ''}\n"
     ]
    }
   ],
   "source": [
    "rio = Rio20Stats(date=\"2012\", start_count=(0,1610))\n",
    "rio = rio.file_pickle_sample()\n"
   ]
  },
  {
   "cell_type": "markdown",
   "metadata": {},
   "source": [
    "## Loading Rio+20 picled data\n",
    "\n",
    "Loads faster than fetching the data from the **ActivUFRJ** database\n"
   ]
  },
  {
   "cell_type": "code",
   "execution_count": 4,
   "metadata": {
    "tags": [
     "=>stats_fix"
    ]
   },
   "outputs": [],
   "source": [
    "rio = Rio20Stats(pic_file=\"sample.dat\")\n"
   ]
  },
  {
   "cell_type": "markdown",
   "metadata": {},
   "source": [
    "## Plot game count distribution\n",
    "\n",
    "Players can select from six different games described in the followin table.\n",
    "\n",
    "| Label   | game description                             |\n",
    "|:-------:|----------------------------------------------|\n",
    "| trilha  | construct a trail connecting three houses    |\n",
    "| tol     | Tower of London, move beads between sticks   |\n",
    "|wisconsin| Card test to detect acceptance of new rules  |\n",
    "| trainz  | manouver a train so to arrange the car order |\n",
    "| cancel  | fin similar shapes given a one or two shapes |"
   ]
  },
  {
   "cell_type": "code",
   "execution_count": 11,
   "metadata": {
    "tags": [
     "=>stats_fix"
    ]
   },
   "outputs": [
    {
     "data": {
      "image/png": "[encoded data removed]",
      "text/plain": [
       "<matplotlib.figure.Figure at 0x7f87c9a554a8>"
      ]
     },
     "metadata": {},
     "output_type": "display_data"
    }
   ],
   "source": [
    "rio = Rio20Stats()\n",
    "rio = rio.main()\n",
    "# print(\"Rio20Stats\", rio.games)\n"
   ]
  },
  {
   "cell_type": "code",
   "execution_count": null,
   "metadata": {},
   "outputs": [],
   "source": []
  }
 ],
 "metadata": {
  "celltoolbar": "Tags",
  "kernelspec": {
   "display_name": "Python 3",
   "language": "python",
   "name": "python3"
  },
  "language_info": {
   "codemirror_mode": {
    "name": "ipython",
    "version": 3
   },
   "file_extension": ".py",
   "mimetype": "text/x-python",
   "name": "python",
   "nbconvert_exporter": "python",
   "pygments_lexer": "ipython3",
   "version": "3.6.7"
  },
  "toc": {
   "base_numbering": 1,
   "nav_menu": {},
   "number_sections": true,
   "sideBar": true,
   "skip_h1_title": false,
   "title_cell": "Table of Contents",
   "title_sidebar": "Contents",
   "toc_cell": false,
   "toc_position": {},
   "toc_section_display": true,
   "toc_window_display": false
  }
 },
 "nbformat": 4,
 "nbformat_minor": 2
}
