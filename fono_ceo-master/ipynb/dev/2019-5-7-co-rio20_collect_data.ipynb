{
 "cells": [
  {
   "cell_type": "markdown",
   "metadata": {},
   "source": [
    "# Colecting data from server"
   ]
  },
  {
   "cell_type": "markdown",
   "metadata": {},
   "source": [
    "## Initialization header\n",
    "The URL constant is the prefix to the api REST request. There are two commands:\n",
    "* URLGET - Get a list of record IDs\n",
    "* URLREG - Get the requested register"
   ]
  },
  {
   "cell_type": "code",
   "execution_count": 1,
   "metadata": {
    "init_cell": true,
    "tags": [
     "#activ_const"
    ],
    "ExecuteTime": {
     "start_time": "2023-04-13T13:42:34.727637Z",
     "end_time": "2023-04-13T13:42:37.444755Z"
    }
   },
   "outputs": [],
   "source": [
    "from json import loads  # utilizou o loads para pegar todas as coisas do jason que estão vindo em string\n",
    "from urllib.request import urlopen  # bibliioteca para licar com localizadores universais\n",
    "\n",
    "URL = \"http://activufrj.nce.ufrj.br/api/\"\n",
    "URLGET = f\"{URL}getlist\"\n",
    "URLREG = f\"{URL}getsession?id=\"\n"
   ]
  },
  {
   "cell_type": "markdown",
   "metadata": {},
   "source": [
    "## Activ interfacing class\n",
    "Used to interface with __ActivUFRJ__. Calls the _REST_ api to request registers from database"
   ]
  },
  {
   "cell_type": "code",
   "execution_count": 2,
   "metadata": {
    "tags": [
     "#activ_class",
     "=>activ_const"
    ],
    "ExecuteTime": {
     "start_time": "2023-04-13T13:42:37.490859Z",
     "end_time": "2023-04-13T13:42:37.535345Z"
    }
   },
   "outputs": [
    {
     "name": "stdout",
     "output_type": "stream",
     "text": [
      "Overwriting activreader.py\n"
     ]
    }
   ],
   "source": [
    "%%writefile activreader.py\n",
    "from json import loads  # utilizou o loads para pegar todas as coisas do jason que estão vindo em string\n",
    "from urllib.request import urlopen  # bibliioteca para licar com localizadores universais\n",
    "\n",
    "URL = \"http://activufrj.nce.ufrj.br/api/\"\n",
    "URLGET = f\"{URL}getlist\"\n",
    "URLREG = f\"{URL}getsession?id=\"\n",
    "\n",
    "\n",
    "class Activ:\n",
    "    PARAMS = \"ano1 idade1 sexo1 starttime endtime tipoescola escola\".split()\n",
    "\n",
    "    def __init__(self):  # underline em python quer dizer que é um nome reservado, um nome com significado predefinido\n",
    "        self.jogadores = self.legends = None\n",
    "\n",
    "    def one_player(self, play_url='90235c60e284c8ec5b8fc4107300f398'):\n",
    "        urlreg1 = URLREG + play_url  # vai somar colocando no link\n",
    "        aluno1 = urlopen(urlreg1)\n",
    "        pyset = loads(aluno1.read())\n",
    "        return pyset\n",
    "        # print(len(pyset), )\n",
    "\n",
    "    def get_jogadores(self, date=\"2018\", start_count=(0, 100)):\n",
    "        a, b = start_count\n",
    "        dataset = urlopen(URLGET)  # por favor abra o pacote\n",
    "        pyset = loads(dataset.read())  # vai transformar os strings do json\n",
    "        registros = pyset['applist']  # registro principal que esta com o Mauricio\n",
    "        registros = [numreg for data, numreg in registros if data and date in data]\n",
    "        return registros[a:b]\n",
    "\n",
    "    def file_demographics(self, date=\"2018\", start_count=(0, 100), name=\"demo.csv\"):\n",
    "        a, b = start_count\n",
    "        registros = self.get_jogadores(date)\n",
    "        params = self.PARAMS\n",
    "        lines = [[self.one_player(reg)[\"session\"][col] for col in params] for reg in registros[a:b]]\n",
    "        print(\"demo:\", lines[0])\n",
    "        import csv\n",
    "        with open(name, 'w') as csvfile:\n",
    "            spamwriter = csv.writer(csvfile, delimiter='\\t',\n",
    "                                    quotechar='|', quoting=csv.QUOTE_MINIMAL)\n",
    "            [spamwriter.writerow(line) for line in lines]\n",
    "\n",
    "    def file_game_demographics(self, date=\"2018\", start_count=(0, 100), name=\"demo.csv\"):\n",
    "        a, b = start_count\n",
    "        registros = self.get_jogadores(date)\n",
    "        params = self.PARAMS\n",
    "        lines = [[self.one_player(reg)[\"session\"][col] for col in params] for reg in registros[a:b]]\n",
    "        print(\"demo:\", lines[0])\n",
    "        import csv\n",
    "        with open(name, 'w') as csvfile:\n",
    "            spamwriter = csv.writer(csvfile, delimiter='\\t',\n",
    "                                    quotechar='|', quoting=csv.QUOTE_MINIMAL)\n",
    "            [spamwriter.writerow(line) for line in lines]\n",
    "\n"
   ]
  },
  {
   "cell_type": "markdown",
   "metadata": {},
   "source": [
    "## Retrieving from the server\n",
    "Call _activ_ classs methods to get information"
   ]
  },
  {
   "cell_type": "code",
   "execution_count": 3,
   "metadata": {
    "tags": [
     "=>activ_class"
    ],
    "ExecuteTime": {
     "start_time": "2023-04-13T13:42:37.535070Z",
     "end_time": "2023-04-13T13:42:37.839110Z"
    }
   },
   "outputs": [
    {
     "data": {
      "text/plain": "{'sexo2': '',\n 'idade1': 13,\n 'idade2': 0,\n 'ano1': 2,\n 'ano2': 0,\n 'escola': 'Rai Francisco Rodriques',\n 'sexo1': 'M',\n 'starttime': '2018-06-04 09:29:56.453464',\n 'tipoescola': 'publica',\n 'endtime': '2018-06-04 10:39:20.610199'}"
     },
     "execution_count": 3,
     "metadata": {},
     "output_type": "execute_result"
    }
   ],
   "source": [
    "from activreader import Activ\n",
    "\n",
    "Activ().one_player()[\"session\"]"
   ]
  },
  {
   "cell_type": "code",
   "execution_count": 4,
   "metadata": {
    "ExecuteTime": {
     "start_time": "2023-04-13T13:42:37.836535Z",
     "end_time": "2023-04-13T13:43:04.593372Z"
    }
   },
   "outputs": [
    {
     "name": "stdout",
     "output_type": "stream",
     "text": [
      "demo: [9, 17, 'M', '2012-05-31 12:47:13.201761', '', 'publica', 'ufrj']\n"
     ]
    }
   ],
   "source": [
    "from activreader import Activ\n",
    "\n",
    "Activ().file_demographics(date=\"2012\", start_count=(0, 400), name=\"demo.csv\")"
   ]
  },
  {
   "cell_type": "code",
   "execution_count": 5,
   "metadata": {
    "tags": [
     "=>activ_class"
    ],
    "ExecuteTime": {
     "start_time": "2023-04-13T13:43:04.598137Z",
     "end_time": "2023-04-13T13:43:05.824090Z"
    }
   },
   "outputs": [
    {
     "data": {
      "text/plain": "['ec82047f204d29db44ea4006e3f6bcc6',\n '4b0405bc1753caca3392cf5c20651ed8',\n '52665d660e51cb297ac12b3bfbacb9ce',\n 'd0c26ee7d6b791dc5fd873a129029565',\n 'd7a7722b7cd4c025b6aa32614d48e4c0',\n '2ce98568c622f89c860af2ec55a66d94',\n '491cbaceffb078c05663657651592780',\n '3ed2a1aa443be18d40d41789f5632d70',\n '41db413759d754b929dbe32fb72a8210',\n 'f8d5030d3984d6e2e9ede659dbeefd4c',\n '04491d48c798ae847ed26a0dc7a70c0c',\n 'efc6e216f49eb4b377d7217c454a11ce',\n '17557c2b605dd3b79e6eb1b1d4ab7188',\n '5beabb760345511870e4a63ae1b06d2b',\n '3f244bf4a21287d76a44bdc7fef0fde3',\n 'e35a1a4a619baf439b3a42106ddc5605',\n '68c62cb3cf8c38239f6520190a33d359',\n '4ec9fac4ad806dbe9b99862f3fc636da',\n 'f16577d48bd9f53305f5522645edc7b8',\n '60f13c6d0d3ceea591c4825a746583e3',\n '046cd2fdf202189c813332dc2f5c59f9',\n 'bb64fc5409a79abba90db870327b2c23',\n 'dd682f2154fab53b8990e9daaf55ba9c',\n '8db187ed5efda1d75ed8105f29466fba',\n '92298273dc890aa104b907ac9446aabb',\n '340cc961c10948fa401cbdd58fd2b199',\n 'b193f89f6946eff2c4e7e542cc93bc1b',\n 'd45930421658a296571352526e769c9f',\n '0cce69c0fa81aac25b6ec6fe0ede3724',\n '2f4dac6e3c001c9b94d467a2731eb3d2',\n '89bcee4ad78d5685ff56ec7ffcc98335',\n '82f1a7100abd906302705501e1bf6eea',\n '48165ccb862135d1317cd044ec373b8d',\n '547b1ed7ab837769d5b8c98fbb715f34',\n '029041fc3ec69116fdfa7b832b5220f5',\n '8680da96af7cf92c3df522a3dfa1572f',\n 'b4710519b3e8cdaa6c004375dadc930e',\n 'eefe45dc001cae786ea68bedf5d72042',\n '6bccf215d92a888ea47f8bb594a4a583',\n '069d36fbd805e40d3991b0f17da187d4',\n '1e89bec118ba542dfa7fb6c9e9ebc176',\n '994eef1ec1e8ae102bfef947c0655454',\n '27fd02fb53a4bf7c7e969f0b999cbc1a',\n '4291daea8eaecaa7818bbb91a801b975',\n '3d74d881b2e42f72a9737fa256f78004',\n '0dee69d041c0035f3cfa9e5953cc3f93',\n 'ef87d70fdd72533b8d9065478dec1c36',\n 'b881fcec7b5663b9d7236f8203c032c1',\n '33e91d1229ab91e22bcb6fc2b1e10ad1',\n '2772d7d5cb03a78c3917f40556e22684',\n 'd806c63151bdaa7c11d42f745c6b4eb4',\n '657f2d6a8a4c395202dd51747d43b96b',\n '18e0267daed6a63ba4ab2516f662e010',\n '210d0548cd141cec1edc33162429ee17',\n '757c7f3ae10e0fb926d0a2f978048608',\n 'dff82c8e3a85e07bf7bb063a87fa69e5',\n 'ec1560e9518388ce11194fc36e8cb556',\n 'c783e6ae99f68a02847df666a943609b',\n '6c47f2ffd872a5515c8a3374a361f3be',\n '384d018020fe70f118f66c67eaa7c863',\n 'a1b1002e3fcd4e055c594926b3a22dbe',\n '275296e0ea88c40277afbf360ded5c12',\n 'f10de2e51704faaa2e7d4b6c01987782',\n '47b2797ac55f306c62b39b0d23cba990',\n '8a69befc8d6e85e2c0e9cc2c2d2328b5',\n '03d83107e0384b4a2d78c25b561abb75',\n '6f78f0f5f3ae04bdd6dbd90de277bf50',\n '8aa5669d10df7f981d9f57c682bd2f0a',\n '3ab32eac6d6c4314b5a88caa118f9102',\n 'cf39c3c20318e0157d4a99b38ece1e12',\n '913b8cbb534072297a5ac389758b1603',\n '32defdedca7394a7fde4e4b3177741f4',\n '43e70aad639fb7667a9e294a55d543e2',\n 'fd6ef30700e29aca05ca0ab561b42a86',\n 'a69596e0237be464fe7891071162c510',\n '18c72ab7f0ce06943317cce4ac3cdce5',\n 'f69c1f0048bdf026abad8ee01b555718',\n '72d2ecb36b50c897696b29bb0ad72e87',\n 'ba82b2bf81216efb133cc3e3bd853375',\n 'b0732054a0b9a4cff41b8eec6c1b1fc6',\n 'ac14f8b354848362060a6d1f81061520',\n '54022bb2b7566826015483a126edd0b7',\n '39e75f5d4059bd756d81e3ed8db4bd10',\n '34eff1ede116799d9c687286790b686d',\n '75ba367ba772cf0c290031c6a151ce6b',\n '3c9d78e40fe23b51de0c14671ed54f66',\n 'a5897e4d08ff1b84a02d617a58f1b426',\n 'b22668a4300b482815666f532f89057a',\n '2fbcc3b14393fdb95085fef08f2ed7aa',\n '9c2cc7e89b6d03ed16f51d80ad143fb4',\n '70f77729a0e99a692ebc3b876b857095',\n 'ae80a3a044d9e40d61da2b54ef03d069',\n '31a0a6cd17640e5930fe3b61c73999db',\n 'ba549c972e9d2c876897cba77e4d61ba',\n 'e5ce54c27f070556b4e283707a463fd1',\n '7f1be11a70d099cc353172f9baabab8d',\n 'e176570bc4aac414e78cb082a0019379',\n '527a45b98b5894d5ebf63aae69eb8d23',\n 'ede6c8302890a6db7b5f0dc092b74aba',\n '8ec53c980106c3acb783ea6a8b805b9b']"
     },
     "execution_count": 5,
     "metadata": {},
     "output_type": "execute_result"
    }
   ],
   "source": [
    "Activ().get_jogadores(date=\"2012\")[:108]"
   ]
  },
  {
   "cell_type": "markdown",
   "metadata": {},
   "source": [
    "## Accounting demographic statistics\n",
    "### Gender ballance\n",
    "\n",
    "Account for the sample size of male and female genders\n"
   ]
  },
  {
   "cell_type": "code",
   "execution_count": 6,
   "metadata": {
    "tags": [
     "=>activ_class",
     "#sessions"
    ],
    "ExecuteTime": {
     "start_time": "2023-04-13T13:43:05.818840Z",
     "end_time": "2023-04-13T13:43:10.828665Z"
    }
   },
   "outputs": [
    {
     "data": {
      "text/plain": "<Figure size 432x288 with 1 Axes>",
      "image/png": "[encoded data removed]"
     },
     "metadata": {},
     "output_type": "display_data"
    }
   ],
   "source": [
    "activ_reader = Activ()\n",
    "player_sessions = [activ_reader.one_player(player)[\"session\"]\n",
    "                   for player in activ_reader.get_jogadores(date=\"2012\")[:100]]\n",
    "gender_tuples = [(1, 0) if session[\"sexo1\"] == \"M\" else (0, 1) for session in player_sessions]\n",
    "gender_count = [sum(gender) for gender in zip(*gender_tuples)]\n",
    "from matplotlib import pyplot as plt\n",
    "from datetime import datetime\n",
    "\n",
    "plt.xticks((0, 1), \"male female\".split())\n",
    "plt.ylabel(\"number of participants\")\n",
    "_ = plt.bar((0, 1), gender_count)"
   ]
  },
  {
   "cell_type": "code",
   "execution_count": 7,
   "metadata": {
    "tags": [
     "=>sessions",
     "#time_account"
    ],
    "ExecuteTime": {
     "start_time": "2023-04-13T13:43:10.835102Z",
     "end_time": "2023-04-13T13:43:10.837603Z"
    }
   },
   "outputs": [],
   "source": [
    "TFORMS = \"%Y-%m-%d %H:%M:%S\"\n",
    "\n",
    "\n",
    "def calc_time(session):\n",
    "    try:\n",
    "        end = datetime.strptime(session[\"endtime\"].split('.')[0], TFORMS)\n",
    "        sta = datetime.strptime(session[\"starttime\"].split('.')[0], TFORMS)\n",
    "        dtime = end - sta\n",
    "        return dtime.total_seconds() / 60.0\n",
    "    except ValueError as ve:\n",
    "        return 50\n",
    "\n",
    "\n",
    "gender_time_tuples = [(calc_time(session), 0) if session[\"sexo1\"] == \"M\" else (0, calc_time(session)) for session in\n",
    "                      player_sessions]\n",
    "he_time_count, she_time_count = zip(*gender_time_tuples)\n",
    "he_time_count = [tc for tc in he_time_count if tc]\n",
    "she_time_count = [tc for tc in she_time_count if tc]\n",
    "she_avg = sum(she_time_count) / len(she_time_count)\n",
    "he_avg = sum(he_time_count) / len(he_time_count)\n",
    "\n"
   ]
  },
  {
   "cell_type": "markdown",
   "metadata": {},
   "source": [
    "### Time spent account\n",
    "\n",
    "Accounts for the ammount of time played fo each gender"
   ]
  },
  {
   "cell_type": "code",
   "execution_count": 8,
   "metadata": {
    "tags": [
     "=>time_account"
    ],
    "ExecuteTime": {
     "start_time": "2023-04-13T13:43:10.839461Z",
     "end_time": "2023-04-13T13:43:11.114108Z"
    }
   },
   "outputs": [
    {
     "data": {
      "text/plain": "<Figure size 432x288 with 1 Axes>",
      "image/png": "[encoded data removed]"
     },
     "metadata": {},
     "output_type": "display_data"
    }
   ],
   "source": [
    "_ = plt.ylabel(\"time in seconds\")\n",
    "_ = plt.xticks((0, 1), \"male female\".split())\n",
    "_ = plt.bar((0, 1), (he_avg, she_avg))"
   ]
  },
  {
   "cell_type": "code",
   "execution_count": 8,
   "metadata": {
    "ExecuteTime": {
     "start_time": "2023-04-13T13:43:11.116856Z",
     "end_time": "2023-04-13T13:43:11.165373Z"
    }
   },
   "outputs": [],
   "source": []
  }
 ],
 "metadata": {
  "celltoolbar": "Tags",
  "kernelspec": {
   "display_name": "Python 3",
   "language": "python",
   "name": "python3"
  },
  "language_info": {
   "codemirror_mode": {
    "name": "ipython",
    "version": 3
   },
   "file_extension": ".py",
   "mimetype": "text/x-python",
   "name": "python",
   "nbconvert_exporter": "python",
   "pygments_lexer": "ipython3",
   "version": "3.6.8"
  },
  "toc": {
   "base_numbering": 1,
   "nav_menu": {},
   "number_sections": true,
   "sideBar": true,
   "skip_h1_title": false,
   "title_cell": "Table of Contents",
   "title_sidebar": "Contents",
   "toc_cell": false,
   "toc_position": {},
   "toc_section_display": true,
   "toc_window_display": false
  }
 },
 "nbformat": 4,
 "nbformat_minor": 2
}
