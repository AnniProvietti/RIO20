{
 "cells": [
  {
   "cell_type": "markdown",
   "metadata": {},
   "source": [
    "# Selecting datasets for research\n",
    "\n",
    "In __Rio+20__ there are several records with students playing six different games. In this section a narrow dataset is selected to perform research.\n"
   ]
  },
  {
   "cell_type": "markdown",
   "metadata": {},
   "source": [
    "## Tower of London 2018 dataset\n",
    "\n",
    "Selects students at the year of 2018 playing tol the Tower of London game."
   ]
  },
  {
   "cell_type": "markdown",
   "metadata": {
    "heading_collapsed": true
   },
   "source": [
    "### Selector fixture\n",
    "\n",
    "A class that enhance the general data structure visitor. Callbacks are devised to grasp Game, Goal and Trial levels"
   ]
  },
  {
   "cell_type": "code",
   "execution_count": 35,
   "metadata": {
    "hidden": true,
    "tags": [
     "#dataset_select"
    ]
   },
   "outputs": [],
   "source": [
    "from activreader import Activ\n",
    "from matplotlib import pyplot as plt\n",
    "from datastructure import Sample\n",
    "from datavisitor import Visitor\n",
    "\n",
    "\n",
    "class Rio20Select:\n",
    "    def __init__(self):\n",
    "        self.games = {}\n",
    "        self.selector = 'tol'\n",
    "        self.trials = {}\n",
    "        self.goals = {}\n",
    "        self.activ_reader = activ_reader = Activ()\n",
    "        self.sample = Sample(sample=[activ_reader.one_player(player) for player in activ_reader.get_jogadores()])\n",
    "        self.visitor = Visitor(\n",
    "            leaf_action=dict(game=self.count_game_play, goal=self.count_trials))\n",
    "        \n",
    "    def plot_stats(self, x, xticks, y, label=\"number of participants\", title=\"count\"):\n",
    "        # print(\"plot_stats\", x, xticks, y, self.games)\n",
    "        fig = plt.figure()\n",
    "        plt.xticks(x, xticks)\n",
    "        fig.suptitle(title)\n",
    "        plt.ylabel(label)\n",
    "        _ = plt.bar(x, y)\n",
    "        _ = plt.show()\n",
    "                               \n",
    "    def plot_trials(self):\n",
    "        trials = sorted(self.trials.items())\n",
    "        self.plot_stats(range(len(self.trials)), *zip(*trials), label=\"number of trials\", title='Trials')\n",
    "        return self\n",
    "                               \n",
    "    def plot_goals(self):\n",
    "        goals = sorted(self.goals.items())\n",
    "        self.plot_stats(range(len(self.goals)), *zip(*goals), label=\"number of goals\", title='Goals')\n",
    "        return self\n",
    "                               \n",
    "    def main(self, selector='tol'):\n",
    "        self.games = {}\n",
    "        self.selector = selector\n",
    "        self.trials = {}\n",
    "        self.goals = {}\n",
    "        self.sample.visit(self.visitor)\n",
    "        return self\n",
    "\n",
    "    def count_goals(self, _, goal, **kwargs):\n",
    "        # print(\"count_game_play\", game, goal, name)\n",
    "        n_trials = len(goal)\n",
    "        self.goals.update({n_trials: self.goals.setdefault(n_trials, 0)+1})\n",
    "        return True\n",
    "\n",
    "    def count_trials(self, _, trial, **kwargs):\n",
    "        # print(\"count_game_play\", game, goal, name)\n",
    "        n_trials = len(trial)\n",
    "        self.trials.update({n_trials: self.trials.setdefault(n_trials, 0)+1})\n",
    "        return False\n",
    "\n",
    "    def count_game_play(self, game, goal, name, **kwargs):\n",
    "        # print(\"count_game_play\", game, goal, name)\n",
    "        if name == self.selector:\n",
    "            self.games.update({name: self.games.setdefault(name, 0)+1})\n",
    "            self.count_goals(game, goal=goal)\n",
    "            return True\n",
    "        return False\n",
    "\n",
    "rio = Rio20Select()\n",
    "rio = rio.main()\n"
   ]
  },
  {
   "cell_type": "markdown",
   "metadata": {},
   "source": [
    "### Accounting TOL trials\n",
    "\n",
    "The plot shows how many students have tried the number of attempts in X axis"
   ]
  },
  {
   "cell_type": "code",
   "execution_count": 18,
   "metadata": {
    "tags": [
     "=>dataset_select"
    ]
   },
   "outputs": [
    {
     "data": {
      "image/png": "[encoded data removed]",
      "text/plain": [
       "<matplotlib.figure.Figure at 0x7f65e791aba8>"
      ]
     },
     "metadata": {},
     "output_type": "display_data"
    }
   ],
   "source": [
    "_ = rio.plot_trials()"
   ]
  },
  {
   "cell_type": "markdown",
   "metadata": {},
   "source": [
    "### Accounting TOL goals\n",
    "\n",
    "TOL goals are the number of levels available, with increasing difficulty. The plot shows how many students have tried the number of goals in X axis"
   ]
  },
  {
   "cell_type": "code",
   "execution_count": 21,
   "metadata": {
    "tags": [
     "=>dataset_select"
    ]
   },
   "outputs": [
    {
     "data": {
      "image/png": "[encoded data removed]",
      "text/plain": [
       "<matplotlib.figure.Figure at 0x7f65e7874d68>"
      ]
     },
     "metadata": {},
     "output_type": "display_data"
    }
   ],
   "source": [
    "_ = rio.plot_goals()"
   ]
  },
  {
   "cell_type": "markdown",
   "metadata": {},
   "source": [
    "## Wisconsin Card test 2018 dataset"
   ]
  },
  {
   "cell_type": "markdown",
   "metadata": {},
   "source": [
    "### Wisconsin dataset selector"
   ]
  },
  {
   "cell_type": "code",
   "execution_count": 30,
   "metadata": {
    "tags": [
     "=>dataset_select",
     "#wisconsin_select"
    ]
   },
   "outputs": [],
   "source": [
    "_ = rio.main(selector=\"wisconsin\")"
   ]
  },
  {
   "cell_type": "markdown",
   "metadata": {},
   "source": [
    "### Accounting wisconsin goals\n",
    "\n",
    "Wisconsin is a single level game, only one goal is available to play"
   ]
  },
  {
   "cell_type": "code",
   "execution_count": 26,
   "metadata": {
    "tags": [
     "=>wisconsin_select"
    ]
   },
   "outputs": [
    {
     "data": {
      "image/png": "[encoded data removed]",
      "text/plain": [
       "<matplotlib.figure.Figure at 0x7f65e7a54b38>"
      ]
     },
     "metadata": {},
     "output_type": "display_data"
    }
   ],
   "source": [
    "\n",
    "_ = rio.plot_goals()"
   ]
  },
  {
   "cell_type": "markdown",
   "metadata": {},
   "source": [
    "## Accounting wisconsin trials\n",
    "\n",
    "Although having a single goal, the goal may be executed in any amount of trials."
   ]
  },
  {
   "cell_type": "code",
   "execution_count": 31,
   "metadata": {
    "tags": [
     "=>wisconsin_select"
    ]
   },
   "outputs": [
    {
     "data": {
      "image/png": "[encoded data removed]",
      "text/plain": [
       "<matplotlib.figure.Figure at 0x7f65e6ff0588>"
      ]
     },
     "metadata": {},
     "output_type": "display_data"
    }
   ],
   "source": [
    "_ = rio.plot_trials()"
   ]
  },
  {
   "cell_type": "markdown",
   "metadata": {},
   "source": [
    "## Train manouvering game 2018 dataset"
   ]
  },
  {
   "cell_type": "markdown",
   "metadata": {},
   "source": [
    "### Train manouvering dataset selector"
   ]
  },
  {
   "cell_type": "code",
   "execution_count": 36,
   "metadata": {
    "tags": [
     "=>dataset_select",
     "#train_select"
    ]
   },
   "outputs": [],
   "source": [
    "_ = rio.main(selector=\"trainz\")"
   ]
  },
  {
   "cell_type": "markdown",
   "metadata": {},
   "source": [
    "### Accounting train trials\n",
    "\n",
    "Although having a single goal, the goal may be executed in any amount of trials."
   ]
  },
  {
   "cell_type": "code",
   "execution_count": 34,
   "metadata": {
    "tags": [
     "=>train_select"
    ]
   },
   "outputs": [
    {
     "data": {
      "image/png": "[encoded data removed]",
      "text/plain": [
       "<matplotlib.figure.Figure at 0x7f65e6eff898>"
      ]
     },
     "metadata": {},
     "output_type": "display_data"
    }
   ],
   "source": [
    "_ = rio.plot_trials()"
   ]
  },
  {
   "cell_type": "markdown",
   "metadata": {},
   "source": [
    "### Accounting train goals\n",
    "\n",
    "Train is a single level game, only one goal is available to play"
   ]
  },
  {
   "cell_type": "code",
   "execution_count": 37,
   "metadata": {
    "tags": [
     "=>train_select"
    ]
   },
   "outputs": [
    {
     "data": {
      "image/png": "[encoded data removed]",
      "text/plain": [
       "<matplotlib.figure.Figure at 0x7f65e7b55860>"
      ]
     },
     "metadata": {},
     "output_type": "display_data"
    }
   ],
   "source": [
    "_ = rio.plot_goals()"
   ]
  },
  {
   "cell_type": "code",
   "execution_count": null,
   "metadata": {},
   "outputs": [],
   "source": []
  }
 ],
 "metadata": {
  "celltoolbar": "Tags",
  "kernelspec": {
   "display_name": "Python 3",
   "language": "python",
   "name": "python3"
  },
  "language_info": {
   "codemirror_mode": {
    "name": "ipython",
    "version": 3
   },
   "file_extension": ".py",
   "mimetype": "text/x-python",
   "name": "python",
   "nbconvert_exporter": "python",
   "pygments_lexer": "ipython3",
   "version": "3.6.7"
  },
  "toc": {
   "base_numbering": 1,
   "nav_menu": {},
   "number_sections": true,
   "sideBar": true,
   "skip_h1_title": false,
   "title_cell": "Table of Contents",
   "title_sidebar": "Contents",
   "toc_cell": false,
   "toc_position": {},
   "toc_section_display": true,
   "toc_window_display": false
  }
 },
 "nbformat": 4,
 "nbformat_minor": 2
}
