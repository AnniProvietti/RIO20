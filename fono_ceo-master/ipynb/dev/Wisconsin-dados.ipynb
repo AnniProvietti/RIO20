{
 "cells": [
  {
   "cell_type": "code",
   "execution_count": 1,
   "outputs": [
    {
     "name": "stdout",
     "output_type": "stream",
     "text": [
      "     ano1  idade1 sexo1                   starttime   \n",
      "0     1.0    17.0     M  2012-06-12 09:08:46.724058  \\\n",
      "1     1.0    17.0     M  2012-06-12 09:08:46.724058   \n",
      "2     1.0    17.0     M  2012-06-12 09:08:46.724058   \n",
      "3     1.0    17.0     M  2012-06-12 09:08:46.724058   \n",
      "4     8.0    15.0     M  2012-06-12 09:11:34.530941   \n",
      "..    ...     ...   ...                         ...   \n",
      "801   NaN     NaN   NaN                         NaN   \n",
      "802   NaN     NaN   NaN                         NaN   \n",
      "803   NaN     NaN   NaN                         NaN   \n",
      "804   NaN     NaN   NaN                         NaN   \n",
      "805   NaN     NaN   NaN                         NaN   \n",
      "\n",
      "                        endtime tipoescola       name  maxlevel   \n",
      "0    2012-06-12 09:47:11.483625    publica  wisconsin       1.0  \\\n",
      "1    2012-06-12 09:47:11.483625    publica  wisconsin       1.0   \n",
      "2    2012-06-12 09:47:11.483625    publica  wisconsin       1.0   \n",
      "3    2012-06-12 09:47:11.483625    publica  wisconsin       1.0   \n",
      "4    2012-06-12 09:44:46.414719    publica  wisconsin       1.0   \n",
      "..                          ...        ...        ...       ...   \n",
      "801                         NaN        NaN        NaN       NaN   \n",
      "802                         NaN        NaN        NaN       NaN   \n",
      "803                         NaN        NaN        NaN       NaN   \n",
      "804                         NaN        NaN        NaN       NaN   \n",
      "805                         NaN        NaN        NaN       NaN   \n",
      "\n",
      "                           time  categoria  ...               0          1   \n",
      "0    2012-06-12 09:17:48.686460        3.0  ...  Carta resposta  Categoria  \\\n",
      "1    2012-06-12 09:27:44.234913        0.0  ...  Carta resposta  Categoria   \n",
      "2    2012-06-12 09:27:44.830229        0.0  ...  Carta resposta  Categoria   \n",
      "3    2012-06-12 09:40:48.291958        1.0  ...  Carta resposta  Categoria   \n",
      "4    2012-06-12 09:13:30.714343        0.0  ...  Carta resposta  Categoria   \n",
      "..                          ...        ...  ...             ...        ...   \n",
      "801                         NaN        NaN  ...             NaN        NaN   \n",
      "802                         NaN        NaN  ...             NaN        NaN   \n",
      "803                         NaN        NaN  ...             NaN        NaN   \n",
      "804                         NaN        NaN  ...             NaN        NaN   \n",
      "805                         NaN        NaN  ...             NaN        NaN   \n",
      "\n",
      "           2    3      4       5       6          7   \n",
      "0    Acertos  Cor  Forma  Número  Outros  Data/Hora  \\\n",
      "1    Acertos  Cor  Forma  Número  Outros  Data/Hora   \n",
      "2    Acertos  Cor  Forma  Número  Outros  Data/Hora   \n",
      "3    Acertos  Cor  Forma  Número  Outros  Data/Hora   \n",
      "4    Acertos  Cor  Forma  Número  Outros  Data/Hora   \n",
      "..       ...  ...    ...     ...     ...        ...   \n",
      "801      NaN  NaN    NaN     NaN     NaN        NaN   \n",
      "802      NaN  NaN    NaN     NaN     NaN        NaN   \n",
      "803      NaN  NaN    NaN     NaN     NaN        NaN   \n",
      "804      NaN  NaN    NaN     NaN     NaN        NaN   \n",
      "805      NaN  NaN    NaN     NaN     NaN        NaN   \n",
      "\n",
      "                              0    0  \n",
      "0    2012-06-12 09:17:48.686547  1.0  \n",
      "1    2012-06-12 09:27:44.235001  1.0  \n",
      "2    2012-06-12 09:27:44.830315  1.0  \n",
      "3    2012-06-12 09:40:48.292047  1.0  \n",
      "4    2012-06-12 09:13:30.714435  1.0  \n",
      "..                          ...  ...  \n",
      "801                         NaN  NaN  \n",
      "802                         NaN  NaN  \n",
      "803                         NaN  NaN  \n",
      "804                         NaN  NaN  \n",
      "805                         NaN  NaN  \n",
      "\n",
      "[806 rows x 46 columns]\n"
     ]
    }
   ],
   "source": [
    "from WisconsinClasses import WisconsinPlayers\n",
    "\n",
    "wis = WisconsinPlayers().file_demographics(date=\"2012\", start_count=(100, 150), name=\"wisconsin.csv\")\n"
   ],
   "metadata": {
    "collapsed": false,
    "ExecuteTime": {
     "end_time": "2023-06-13T17:46:34.721710565Z",
     "start_time": "2023-06-13T17:46:03.190362352Z"
    }
   }
  },
  {
   "cell_type": "code",
   "execution_count": 4,
   "outputs": [
    {
     "data": {
      "text/plain": "0      False\n1      False\n2      False\n3      False\n4      False\n       ...  \n801    False\n802    False\n803    False\n804    False\n805    False\nName: sexo1, Length: 806, dtype: bool"
     },
     "execution_count": 4,
     "metadata": {},
     "output_type": "execute_result"
    }
   ],
   "source": [
    "wis[\"sexo1\"]== \"F\""
   ],
   "metadata": {
    "collapsed": false,
    "ExecuteTime": {
     "end_time": "2023-06-13T17:47:43.989806023Z",
     "start_time": "2023-06-13T17:47:43.922763060Z"
    }
   }
  },
  {
   "cell_type": "code",
   "execution_count": 6,
   "outputs": [
    {
     "data": {
      "text/plain": "<seaborn.axisgrid.FacetGrid at 0x7f9891709150>"
     },
     "execution_count": 6,
     "metadata": {},
     "output_type": "execute_result"
    },
    {
     "data": {
      "text/plain": "<Figure size 360x360 with 1 Axes>",
      "image/png": "[encoded data removed]"
     },
     "metadata": {},
     "output_type": "display_data"
    }
   ],
   "source": [
    "import seaborn as sns\n",
    "from WisconsinClasses import WisconsinPandas\n",
    "\n",
    "sns.catplot(x='tipoescola', y='acertos', data=wis)"
   ],
   "metadata": {
    "collapsed": false,
    "ExecuteTime": {
     "end_time": "2023-06-13T17:50:20.593122832Z",
     "start_time": "2023-06-13T17:50:20.252725310Z"
    }
   }
  },
  {
   "cell_type": "code",
   "execution_count": 7,
   "outputs": [
    {
     "data": {
      "text/plain": "<seaborn.axisgrid.FacetGrid at 0x7f98916805b0>"
     },
     "execution_count": 7,
     "metadata": {},
     "output_type": "execute_result"
    },
    {
     "data": {
      "text/plain": "<Figure size 360x360 with 1 Axes>",
      "image/png": "[encoded data removed]"
     },
     "metadata": {},
     "output_type": "display_data"
    }
   ],
   "source": [
    "sns.catplot(x='sexo1', y='acertos', data=wis)"
   ],
   "metadata": {
    "collapsed": false,
    "ExecuteTime": {
     "end_time": "2023-06-13T17:50:24.889861480Z",
     "start_time": "2023-06-13T17:50:24.554921062Z"
    }
   }
  },
  {
   "cell_type": "code",
   "execution_count": 4,
   "outputs": [
    {
     "data": {
      "text/plain": "<seaborn.axisgrid.FacetGrid at 0x7f0130ef07c0>"
     },
     "execution_count": 4,
     "metadata": {},
     "output_type": "execute_result"
    },
    {
     "data": {
      "text/plain": "<Figure size 360x360 with 1 Axes>",
      "image/png": "[encoded data removed]"
     },
     "metadata": {},
     "output_type": "display_data"
    }
   ],
   "source": [
    "sns.catplot(x='sexo1', y='tipoescola', data=wis)"
   ],
   "metadata": {
    "collapsed": false,
    "ExecuteTime": {
     "end_time": "2023-06-13T17:34:13.629437088Z",
     "start_time": "2023-06-13T17:34:13.375549650Z"
    }
   }
  },
  {
   "cell_type": "code",
   "execution_count": null,
   "outputs": [],
   "source": [],
   "metadata": {
    "collapsed": false
   }
  }
 ],
 "metadata": {
  "kernelspec": {
   "display_name": "Python 3",
   "language": "python",
   "name": "python3"
  },
  "language_info": {
   "codemirror_mode": {
    "name": "ipython",
    "version": 2
   },
   "file_extension": ".py",
   "mimetype": "text/x-python",
   "name": "python",
   "nbconvert_exporter": "python",
   "pygments_lexer": "ipython2",
   "version": "2.7.6"
  }
 },
 "nbformat": 4,
 "nbformat_minor": 0
}
