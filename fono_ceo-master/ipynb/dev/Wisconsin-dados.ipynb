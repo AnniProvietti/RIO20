{
 "cells": [
  {
   "cell_type": "code",
   "execution_count": 1,
   "outputs": [
    {
     "name": "stdout",
     "output_type": "stream",
     "text": [
      "32\n",
      "                                  ano1  idade1 sexo1   \n",
      "60a912f0b274202274c99ba89d942838     1      17     M  \\\n",
      "60a912f0b274202274c99ba89d942838     1      17     M   \n",
      "60a912f0b274202274c99ba89d942838     1      17     M   \n",
      "60a912f0b274202274c99ba89d942838     1      17     M   \n",
      "736fbb3120fd9cbcb6a92583a30a97b2     8      15     M   \n",
      "8c9f83b01e7e8ff78523088b387857ad     3      17     M   \n",
      "8c9f83b01e7e8ff78523088b387857ad     3      17     M   \n",
      "a2a94e3eae95eafa1ed0664cee7ad5b7     2       5     M   \n",
      "7285ad672ce0079bc6de1939896899bc     4      11     M   \n",
      "1cd2b7dda8e6ef0c9b546e99d2f5a4fa     4       9     F   \n",
      "e64f6c4023a206ed9dadbdd9a0098da1     3       8     F   \n",
      "ade05d4fe4c2e4a9fe29bb6fb17fb853     4       9     F   \n",
      "bfa8cc69e48e2b85d271070ad62a24fb     5      10     M   \n",
      "63a8aba1e6054c1eea421584228d501c     4       9     M   \n",
      "85b1eb1231d30b3e62d2f0cd852795d9     5      11     M   \n",
      "91b7fbdb5f5d030d2bc1652eeee8c1f4     3       8     M   \n",
      "91b7fbdb5f5d030d2bc1652eeee8c1f4     3       8     M   \n",
      "e1610d63608d7b68cd9dced60a5e2088     5      10     M   \n",
      "f9f6d61a67da2580aa80e3b80154a5f6     1      16     F   \n",
      "ceef7216f2c380793c8151a0bfacf846     9      17     F   \n",
      "62373cc09c20c02266062cc4e91e8dab     9      17     F   \n",
      "09419118221729a1925c7d7eb73e9ed1     5      10     F   \n",
      "\n",
      "                                                   starttime   \n",
      "60a912f0b274202274c99ba89d942838  2012-06-12 09:08:46.724058  \\\n",
      "60a912f0b274202274c99ba89d942838  2012-06-12 09:08:46.724058   \n",
      "60a912f0b274202274c99ba89d942838  2012-06-12 09:08:46.724058   \n",
      "60a912f0b274202274c99ba89d942838  2012-06-12 09:08:46.724058   \n",
      "736fbb3120fd9cbcb6a92583a30a97b2  2012-06-12 09:11:34.530941   \n",
      "8c9f83b01e7e8ff78523088b387857ad  2012-06-12 09:15:40.798630   \n",
      "8c9f83b01e7e8ff78523088b387857ad  2012-06-12 09:15:40.798630   \n",
      "a2a94e3eae95eafa1ed0664cee7ad5b7  2012-06-12 09:25:25.917915   \n",
      "7285ad672ce0079bc6de1939896899bc  2012-06-12 09:36:00.224822   \n",
      "1cd2b7dda8e6ef0c9b546e99d2f5a4fa  2012-06-12 10:24:22.012797   \n",
      "e64f6c4023a206ed9dadbdd9a0098da1  2012-06-12 10:24:25.160801   \n",
      "ade05d4fe4c2e4a9fe29bb6fb17fb853  2012-06-12 10:29:10.163174   \n",
      "bfa8cc69e48e2b85d271070ad62a24fb  2012-06-12 10:42:22.865044   \n",
      "63a8aba1e6054c1eea421584228d501c  2012-06-12 10:42:48.499522   \n",
      "85b1eb1231d30b3e62d2f0cd852795d9  2012-06-12 10:42:50.916948   \n",
      "91b7fbdb5f5d030d2bc1652eeee8c1f4  2012-06-12 10:43:21.989643   \n",
      "91b7fbdb5f5d030d2bc1652eeee8c1f4  2012-06-12 10:43:21.989643   \n",
      "e1610d63608d7b68cd9dced60a5e2088  2012-06-12 10:47:44.409391   \n",
      "f9f6d61a67da2580aa80e3b80154a5f6  2012-06-12 11:22:26.432693   \n",
      "ceef7216f2c380793c8151a0bfacf846  2012-06-12 14:31:51.212785   \n",
      "62373cc09c20c02266062cc4e91e8dab  2012-06-12 14:45:58.479126   \n",
      "09419118221729a1925c7d7eb73e9ed1  2012-06-12 14:59:59.028357   \n",
      "\n",
      "                                                     endtime tipoescola   \n",
      "60a912f0b274202274c99ba89d942838  2012-06-12 09:47:11.483625    publica  \\\n",
      "60a912f0b274202274c99ba89d942838  2012-06-12 09:47:11.483625    publica   \n",
      "60a912f0b274202274c99ba89d942838  2012-06-12 09:47:11.483625    publica   \n",
      "60a912f0b274202274c99ba89d942838  2012-06-12 09:47:11.483625    publica   \n",
      "736fbb3120fd9cbcb6a92583a30a97b2  2012-06-12 09:44:46.414719    publica   \n",
      "8c9f83b01e7e8ff78523088b387857ad                                publica   \n",
      "8c9f83b01e7e8ff78523088b387857ad                                publica   \n",
      "a2a94e3eae95eafa1ed0664cee7ad5b7                                publica   \n",
      "7285ad672ce0079bc6de1939896899bc  2012-06-12 09:52:20.768601    publica   \n",
      "1cd2b7dda8e6ef0c9b546e99d2f5a4fa  2012-06-12 10:33:59.124491    privada   \n",
      "e64f6c4023a206ed9dadbdd9a0098da1  2012-06-12 10:38:25.535284    privada   \n",
      "ade05d4fe4c2e4a9fe29bb6fb17fb853  2012-06-12 10:32:45.502631    privada   \n",
      "bfa8cc69e48e2b85d271070ad62a24fb  2012-06-12 10:55:03.138121    privada   \n",
      "63a8aba1e6054c1eea421584228d501c  2012-06-12 10:54:09.615264    privada   \n",
      "85b1eb1231d30b3e62d2f0cd852795d9  2012-06-12 10:54:40.341597    privada   \n",
      "91b7fbdb5f5d030d2bc1652eeee8c1f4  2012-06-12 10:54:31.858582    privada   \n",
      "91b7fbdb5f5d030d2bc1652eeee8c1f4  2012-06-12 10:54:31.858582    privada   \n",
      "e1610d63608d7b68cd9dced60a5e2088  2012-06-12 10:54:58.185881    privada   \n",
      "f9f6d61a67da2580aa80e3b80154a5f6  2012-06-12 11:38:40.662788    publica   \n",
      "ceef7216f2c380793c8151a0bfacf846  2012-06-12 15:11:58.211149    publica   \n",
      "62373cc09c20c02266062cc4e91e8dab                                publica   \n",
      "09419118221729a1925c7d7eb73e9ed1  2012-06-12 15:19:04.079890    publica   \n",
      "\n",
      "                                       name  maxlevel   \n",
      "60a912f0b274202274c99ba89d942838  wisconsin         1  \\\n",
      "60a912f0b274202274c99ba89d942838  wisconsin         1   \n",
      "60a912f0b274202274c99ba89d942838  wisconsin         1   \n",
      "60a912f0b274202274c99ba89d942838  wisconsin         1   \n",
      "736fbb3120fd9cbcb6a92583a30a97b2  wisconsin         1   \n",
      "8c9f83b01e7e8ff78523088b387857ad  wisconsin         1   \n",
      "8c9f83b01e7e8ff78523088b387857ad  wisconsin         1   \n",
      "a2a94e3eae95eafa1ed0664cee7ad5b7  wisconsin         1   \n",
      "7285ad672ce0079bc6de1939896899bc  wisconsin         1   \n",
      "1cd2b7dda8e6ef0c9b546e99d2f5a4fa  wisconsin         1   \n",
      "e64f6c4023a206ed9dadbdd9a0098da1  wisconsin         1   \n",
      "ade05d4fe4c2e4a9fe29bb6fb17fb853  wisconsin         1   \n",
      "bfa8cc69e48e2b85d271070ad62a24fb  wisconsin         1   \n",
      "63a8aba1e6054c1eea421584228d501c  wisconsin         1   \n",
      "85b1eb1231d30b3e62d2f0cd852795d9  wisconsin         1   \n",
      "91b7fbdb5f5d030d2bc1652eeee8c1f4  wisconsin         1   \n",
      "91b7fbdb5f5d030d2bc1652eeee8c1f4  wisconsin         1   \n",
      "e1610d63608d7b68cd9dced60a5e2088  wisconsin         1   \n",
      "f9f6d61a67da2580aa80e3b80154a5f6  wisconsin         1   \n",
      "ceef7216f2c380793c8151a0bfacf846  wisconsin         1   \n",
      "62373cc09c20c02266062cc4e91e8dab  wisconsin         1   \n",
      "09419118221729a1925c7d7eb73e9ed1  wisconsin         1   \n",
      "\n",
      "                                                    time_one   \n",
      "60a912f0b274202274c99ba89d942838  2012-06-12 09:17:48.686460  \\\n",
      "60a912f0b274202274c99ba89d942838  2012-06-12 09:27:44.234913   \n",
      "60a912f0b274202274c99ba89d942838  2012-06-12 09:27:44.830229   \n",
      "60a912f0b274202274c99ba89d942838  2012-06-12 09:40:48.291958   \n",
      "736fbb3120fd9cbcb6a92583a30a97b2  2012-06-12 09:13:30.714343   \n",
      "8c9f83b01e7e8ff78523088b387857ad  2012-06-12 09:22:20.279791   \n",
      "8c9f83b01e7e8ff78523088b387857ad  2012-06-12 09:30:47.678241   \n",
      "a2a94e3eae95eafa1ed0664cee7ad5b7  2012-06-12 09:34:09.038479   \n",
      "7285ad672ce0079bc6de1939896899bc  2012-06-12 09:44:51.748267   \n",
      "1cd2b7dda8e6ef0c9b546e99d2f5a4fa  2012-06-12 10:28:12.403980   \n",
      "e64f6c4023a206ed9dadbdd9a0098da1  2012-06-12 10:25:40.922458   \n",
      "ade05d4fe4c2e4a9fe29bb6fb17fb853  2012-06-12 10:29:31.263183   \n",
      "bfa8cc69e48e2b85d271070ad62a24fb  2012-06-12 10:43:25.981038   \n",
      "63a8aba1e6054c1eea421584228d501c  2012-06-12 10:50:00.669422   \n",
      "85b1eb1231d30b3e62d2f0cd852795d9  2012-06-12 10:49:01.402820   \n",
      "91b7fbdb5f5d030d2bc1652eeee8c1f4  2012-06-12 10:47:24.301438   \n",
      "91b7fbdb5f5d030d2bc1652eeee8c1f4  2012-06-12 10:47:24.449484   \n",
      "e1610d63608d7b68cd9dced60a5e2088  2012-06-12 10:50:26.691315   \n",
      "f9f6d61a67da2580aa80e3b80154a5f6  2012-06-12 11:33:33.620291   \n",
      "ceef7216f2c380793c8151a0bfacf846  2012-06-12 15:01:56.894320   \n",
      "62373cc09c20c02266062cc4e91e8dab  2012-06-12 14:46:29.292045   \n",
      "09419118221729a1925c7d7eb73e9ed1  2012-06-12 15:13:49.837044   \n",
      "\n",
      "                                  categoria_houses  ...              h0   \n",
      "60a912f0b274202274c99ba89d942838               NaN  ...  Carta resposta  \\\n",
      "60a912f0b274202274c99ba89d942838               NaN  ...  Carta resposta   \n",
      "60a912f0b274202274c99ba89d942838               NaN  ...  Carta resposta   \n",
      "60a912f0b274202274c99ba89d942838               NaN  ...  Carta resposta   \n",
      "736fbb3120fd9cbcb6a92583a30a97b2               NaN  ...  Carta resposta   \n",
      "8c9f83b01e7e8ff78523088b387857ad               NaN  ...  Carta resposta   \n",
      "8c9f83b01e7e8ff78523088b387857ad               NaN  ...  Carta resposta   \n",
      "a2a94e3eae95eafa1ed0664cee7ad5b7               NaN  ...  Carta resposta   \n",
      "7285ad672ce0079bc6de1939896899bc               NaN  ...  Carta resposta   \n",
      "1cd2b7dda8e6ef0c9b546e99d2f5a4fa               NaN  ...  Carta resposta   \n",
      "e64f6c4023a206ed9dadbdd9a0098da1               NaN  ...  Carta resposta   \n",
      "ade05d4fe4c2e4a9fe29bb6fb17fb853               NaN  ...  Carta resposta   \n",
      "bfa8cc69e48e2b85d271070ad62a24fb               NaN  ...  Carta resposta   \n",
      "63a8aba1e6054c1eea421584228d501c               NaN  ...  Carta resposta   \n",
      "85b1eb1231d30b3e62d2f0cd852795d9               NaN  ...  Carta resposta   \n",
      "91b7fbdb5f5d030d2bc1652eeee8c1f4               NaN  ...  Carta resposta   \n",
      "91b7fbdb5f5d030d2bc1652eeee8c1f4               NaN  ...  Carta resposta   \n",
      "e1610d63608d7b68cd9dced60a5e2088               NaN  ...  Carta resposta   \n",
      "f9f6d61a67da2580aa80e3b80154a5f6               NaN  ...  Carta resposta   \n",
      "ceef7216f2c380793c8151a0bfacf846               NaN  ...  Carta resposta   \n",
      "62373cc09c20c02266062cc4e91e8dab               NaN  ...  Carta resposta   \n",
      "09419118221729a1925c7d7eb73e9ed1               NaN  ...  Carta resposta   \n",
      "\n",
      "                                         h1       h2   h3     h4      h5   \n",
      "60a912f0b274202274c99ba89d942838  Categoria  Acertos  Cor  Forma  Número  \\\n",
      "60a912f0b274202274c99ba89d942838  Categoria  Acertos  Cor  Forma  Número   \n",
      "60a912f0b274202274c99ba89d942838  Categoria  Acertos  Cor  Forma  Número   \n",
      "60a912f0b274202274c99ba89d942838  Categoria  Acertos  Cor  Forma  Número   \n",
      "736fbb3120fd9cbcb6a92583a30a97b2  Categoria  Acertos  Cor  Forma  Número   \n",
      "8c9f83b01e7e8ff78523088b387857ad  Categoria  Acertos  Cor  Forma  Número   \n",
      "8c9f83b01e7e8ff78523088b387857ad  Categoria  Acertos  Cor  Forma  Número   \n",
      "a2a94e3eae95eafa1ed0664cee7ad5b7  Categoria  Acertos  Cor  Forma  Número   \n",
      "7285ad672ce0079bc6de1939896899bc  Categoria  Acertos  Cor  Forma  Número   \n",
      "1cd2b7dda8e6ef0c9b546e99d2f5a4fa  Categoria  Acertos  Cor  Forma  Número   \n",
      "e64f6c4023a206ed9dadbdd9a0098da1  Categoria  Acertos  Cor  Forma  Número   \n",
      "ade05d4fe4c2e4a9fe29bb6fb17fb853  Categoria  Acertos  Cor  Forma  Número   \n",
      "bfa8cc69e48e2b85d271070ad62a24fb  Categoria  Acertos  Cor  Forma  Número   \n",
      "63a8aba1e6054c1eea421584228d501c  Categoria  Acertos  Cor  Forma  Número   \n",
      "85b1eb1231d30b3e62d2f0cd852795d9  Categoria  Acertos  Cor  Forma  Número   \n",
      "91b7fbdb5f5d030d2bc1652eeee8c1f4  Categoria  Acertos  Cor  Forma  Número   \n",
      "91b7fbdb5f5d030d2bc1652eeee8c1f4  Categoria  Acertos  Cor  Forma  Número   \n",
      "e1610d63608d7b68cd9dced60a5e2088  Categoria  Acertos  Cor  Forma  Número   \n",
      "f9f6d61a67da2580aa80e3b80154a5f6  Categoria  Acertos  Cor  Forma  Número   \n",
      "ceef7216f2c380793c8151a0bfacf846  Categoria  Acertos  Cor  Forma  Número   \n",
      "62373cc09c20c02266062cc4e91e8dab  Categoria  Acertos  Cor  Forma  Número   \n",
      "09419118221729a1925c7d7eb73e9ed1  Categoria  Acertos  Cor  Forma  Número   \n",
      "\n",
      "                                      h6         h7   \n",
      "60a912f0b274202274c99ba89d942838  Outros  Data/Hora  \\\n",
      "60a912f0b274202274c99ba89d942838  Outros  Data/Hora   \n",
      "60a912f0b274202274c99ba89d942838  Outros  Data/Hora   \n",
      "60a912f0b274202274c99ba89d942838  Outros  Data/Hora   \n",
      "736fbb3120fd9cbcb6a92583a30a97b2  Outros  Data/Hora   \n",
      "8c9f83b01e7e8ff78523088b387857ad  Outros  Data/Hora   \n",
      "8c9f83b01e7e8ff78523088b387857ad  Outros  Data/Hora   \n",
      "a2a94e3eae95eafa1ed0664cee7ad5b7  Outros  Data/Hora   \n",
      "7285ad672ce0079bc6de1939896899bc  Outros  Data/Hora   \n",
      "1cd2b7dda8e6ef0c9b546e99d2f5a4fa  Outros  Data/Hora   \n",
      "e64f6c4023a206ed9dadbdd9a0098da1  Outros  Data/Hora   \n",
      "ade05d4fe4c2e4a9fe29bb6fb17fb853  Outros  Data/Hora   \n",
      "bfa8cc69e48e2b85d271070ad62a24fb  Outros  Data/Hora   \n",
      "63a8aba1e6054c1eea421584228d501c  Outros  Data/Hora   \n",
      "85b1eb1231d30b3e62d2f0cd852795d9  Outros  Data/Hora   \n",
      "91b7fbdb5f5d030d2bc1652eeee8c1f4  Outros  Data/Hora   \n",
      "91b7fbdb5f5d030d2bc1652eeee8c1f4  Outros  Data/Hora   \n",
      "e1610d63608d7b68cd9dced60a5e2088  Outros  Data/Hora   \n",
      "f9f6d61a67da2580aa80e3b80154a5f6  Outros  Data/Hora   \n",
      "ceef7216f2c380793c8151a0bfacf846  Outros  Data/Hora   \n",
      "62373cc09c20c02266062cc4e91e8dab  Outros  Data/Hora   \n",
      "09419118221729a1925c7d7eb73e9ed1  Outros  Data/Hora   \n",
      "\n",
      "                                                        time level  \n",
      "60a912f0b274202274c99ba89d942838  2012-06-12 09:17:48.686547     1  \n",
      "60a912f0b274202274c99ba89d942838  2012-06-12 09:27:44.235001     1  \n",
      "60a912f0b274202274c99ba89d942838  2012-06-12 09:27:44.830315     1  \n",
      "60a912f0b274202274c99ba89d942838  2012-06-12 09:40:48.292047     1  \n",
      "736fbb3120fd9cbcb6a92583a30a97b2  2012-06-12 09:13:30.714435     1  \n",
      "8c9f83b01e7e8ff78523088b387857ad  2012-06-12 09:22:20.279876     1  \n",
      "8c9f83b01e7e8ff78523088b387857ad  2012-06-12 09:30:47.678336     1  \n",
      "a2a94e3eae95eafa1ed0664cee7ad5b7  2012-06-12 09:34:09.038562     1  \n",
      "7285ad672ce0079bc6de1939896899bc  2012-06-12 09:44:51.748354     1  \n",
      "1cd2b7dda8e6ef0c9b546e99d2f5a4fa  2012-06-12 10:28:12.404097     1  \n",
      "e64f6c4023a206ed9dadbdd9a0098da1  2012-06-12 10:25:40.922592     1  \n",
      "ade05d4fe4c2e4a9fe29bb6fb17fb853  2012-06-12 10:29:31.263268     1  \n",
      "bfa8cc69e48e2b85d271070ad62a24fb  2012-06-12 10:43:25.981123     1  \n",
      "63a8aba1e6054c1eea421584228d501c  2012-06-12 10:50:00.669510     1  \n",
      "85b1eb1231d30b3e62d2f0cd852795d9  2012-06-12 10:49:01.402909     1  \n",
      "91b7fbdb5f5d030d2bc1652eeee8c1f4  2012-06-12 10:47:24.301530     1  \n",
      "91b7fbdb5f5d030d2bc1652eeee8c1f4  2012-06-12 10:47:24.449574     1  \n",
      "e1610d63608d7b68cd9dced60a5e2088  2012-06-12 10:50:26.691399     1  \n",
      "f9f6d61a67da2580aa80e3b80154a5f6  2012-06-12 11:33:33.620381     1  \n",
      "ceef7216f2c380793c8151a0bfacf846  2012-06-12 15:01:56.894411     1  \n",
      "62373cc09c20c02266062cc4e91e8dab  2012-06-12 14:46:29.292130     1  \n",
      "09419118221729a1925c7d7eb73e9ed1  2012-06-12 15:13:49.837152     1  \n",
      "\n",
      "[22 rows x 32 columns]\n",
      "                                 categoria  xpos    cor  score  acertos   \n",
      "60a912f0b274202274c99ba89d942838       cor     0   True      1      1.0  \\\n",
      "60a912f0b274202274c99ba89d942838       cor     0  False      1      0.0   \n",
      "60a912f0b274202274c99ba89d942838       cor     0  False      1      0.0   \n",
      "60a912f0b274202274c99ba89d942838       cor     0   True      1      1.0   \n",
      "60a912f0b274202274c99ba89d942838       cor     0   True      1      2.0   \n",
      "...                                    ...   ...    ...    ...      ...   \n",
      "62373cc09c20c02266062cc4e91e8dab       NaN     0    NaN      1      NaN   \n",
      "09419118221729a1925c7d7eb73e9ed1       cor     0  False      1      0.0   \n",
      "09419118221729a1925c7d7eb73e9ed1       cor     0  False      1      0.0   \n",
      "09419118221729a1925c7d7eb73e9ed1       cor     0  False      1      0.0   \n",
      "09419118221729a1925c7d7eb73e9ed1       NaN     0    NaN      1      NaN   \n",
      "\n",
      "                                  house outros numero  ypos  player state   \n",
      "60a912f0b274202274c99ba89d942838  I_N_I  False  False     0       0        \\\n",
      "60a912f0b274202274c99ba89d942838  I_N_I  False   True     0       0         \n",
      "60a912f0b274202274c99ba89d942838  I_N_I  False   True     0       0         \n",
      "60a912f0b274202274c99ba89d942838  I_N_I  False   True     0       0         \n",
      "60a912f0b274202274c99ba89d942838  I_N_I  False  False     0       0         \n",
      "...                                 ...    ...    ...   ...     ...   ...   \n",
      "62373cc09c20c02266062cc4e91e8dab  I_N_I    NaN    NaN     0       0         \n",
      "09419118221729a1925c7d7eb73e9ed1  I_N_I  False   True     0       0         \n",
      "09419118221729a1925c7d7eb73e9ed1  I_N_I  False   True     0       0         \n",
      "09419118221729a1925c7d7eb73e9ed1  I_N_I  False  False     0       0         \n",
      "09419118221729a1925c7d7eb73e9ed1  I_N_I    NaN    NaN     0       0         \n",
      "\n",
      "                                  result  time_trial marker  \n",
      "60a912f0b274202274c99ba89d942838       1         NaN  I_N_I  \n",
      "60a912f0b274202274c99ba89d942838       1         NaN  I_N_I  \n",
      "60a912f0b274202274c99ba89d942838       1         NaN  I_N_I  \n",
      "60a912f0b274202274c99ba89d942838       1         NaN  I_N_I  \n",
      "60a912f0b274202274c99ba89d942838       1         NaN  I_N_I  \n",
      "...                                  ...         ...    ...  \n",
      "62373cc09c20c02266062cc4e91e8dab       5         NaN  I_N_I  \n",
      "09419118221729a1925c7d7eb73e9ed1       1         NaN  I_N_I  \n",
      "09419118221729a1925c7d7eb73e9ed1       1         NaN  I_N_I  \n",
      "09419118221729a1925c7d7eb73e9ed1       1         NaN  I_N_I  \n",
      "09419118221729a1925c7d7eb73e9ed1      -2         NaN  I_N_I  \n",
      "\n",
      "[806 rows x 14 columns]\n",
      "                                  ano1  idade1 sexo1   \n",
      "09419118221729a1925c7d7eb73e9ed1     5      10     F  \\\n",
      "09419118221729a1925c7d7eb73e9ed1     5      10     F   \n",
      "09419118221729a1925c7d7eb73e9ed1     5      10     F   \n",
      "09419118221729a1925c7d7eb73e9ed1     5      10     F   \n",
      "1cd2b7dda8e6ef0c9b546e99d2f5a4fa     4       9     F   \n",
      "...                                ...     ...   ...   \n",
      "f9f6d61a67da2580aa80e3b80154a5f6     1      16     F   \n",
      "f9f6d61a67da2580aa80e3b80154a5f6     1      16     F   \n",
      "f9f6d61a67da2580aa80e3b80154a5f6     1      16     F   \n",
      "f9f6d61a67da2580aa80e3b80154a5f6     1      16     F   \n",
      "f9f6d61a67da2580aa80e3b80154a5f6     1      16     F   \n",
      "\n",
      "                                                   starttime   \n",
      "09419118221729a1925c7d7eb73e9ed1  2012-06-12 14:59:59.028357  \\\n",
      "09419118221729a1925c7d7eb73e9ed1  2012-06-12 14:59:59.028357   \n",
      "09419118221729a1925c7d7eb73e9ed1  2012-06-12 14:59:59.028357   \n",
      "09419118221729a1925c7d7eb73e9ed1  2012-06-12 14:59:59.028357   \n",
      "1cd2b7dda8e6ef0c9b546e99d2f5a4fa  2012-06-12 10:24:22.012797   \n",
      "...                                                      ...   \n",
      "f9f6d61a67da2580aa80e3b80154a5f6  2012-06-12 11:22:26.432693   \n",
      "f9f6d61a67da2580aa80e3b80154a5f6  2012-06-12 11:22:26.432693   \n",
      "f9f6d61a67da2580aa80e3b80154a5f6  2012-06-12 11:22:26.432693   \n",
      "f9f6d61a67da2580aa80e3b80154a5f6  2012-06-12 11:22:26.432693   \n",
      "f9f6d61a67da2580aa80e3b80154a5f6  2012-06-12 11:22:26.432693   \n",
      "\n",
      "                                                     endtime tipoescola   \n",
      "09419118221729a1925c7d7eb73e9ed1  2012-06-12 15:19:04.079890    publica  \\\n",
      "09419118221729a1925c7d7eb73e9ed1  2012-06-12 15:19:04.079890    publica   \n",
      "09419118221729a1925c7d7eb73e9ed1  2012-06-12 15:19:04.079890    publica   \n",
      "09419118221729a1925c7d7eb73e9ed1  2012-06-12 15:19:04.079890    publica   \n",
      "1cd2b7dda8e6ef0c9b546e99d2f5a4fa  2012-06-12 10:33:59.124491    privada   \n",
      "...                                                      ...        ...   \n",
      "f9f6d61a67da2580aa80e3b80154a5f6  2012-06-12 11:38:40.662788    publica   \n",
      "f9f6d61a67da2580aa80e3b80154a5f6  2012-06-12 11:38:40.662788    publica   \n",
      "f9f6d61a67da2580aa80e3b80154a5f6  2012-06-12 11:38:40.662788    publica   \n",
      "f9f6d61a67da2580aa80e3b80154a5f6  2012-06-12 11:38:40.662788    publica   \n",
      "f9f6d61a67da2580aa80e3b80154a5f6  2012-06-12 11:38:40.662788    publica   \n",
      "\n",
      "                                       name  maxlevel   \n",
      "09419118221729a1925c7d7eb73e9ed1  wisconsin         1  \\\n",
      "09419118221729a1925c7d7eb73e9ed1  wisconsin         1   \n",
      "09419118221729a1925c7d7eb73e9ed1  wisconsin         1   \n",
      "09419118221729a1925c7d7eb73e9ed1  wisconsin         1   \n",
      "1cd2b7dda8e6ef0c9b546e99d2f5a4fa  wisconsin         1   \n",
      "...                                     ...       ...   \n",
      "f9f6d61a67da2580aa80e3b80154a5f6  wisconsin         1   \n",
      "f9f6d61a67da2580aa80e3b80154a5f6  wisconsin         1   \n",
      "f9f6d61a67da2580aa80e3b80154a5f6  wisconsin         1   \n",
      "f9f6d61a67da2580aa80e3b80154a5f6  wisconsin         1   \n",
      "f9f6d61a67da2580aa80e3b80154a5f6  wisconsin         1   \n",
      "\n",
      "                                                    time_one   \n",
      "09419118221729a1925c7d7eb73e9ed1  2012-06-12 15:13:49.837044  \\\n",
      "09419118221729a1925c7d7eb73e9ed1  2012-06-12 15:13:49.837044   \n",
      "09419118221729a1925c7d7eb73e9ed1  2012-06-12 15:13:49.837044   \n",
      "09419118221729a1925c7d7eb73e9ed1  2012-06-12 15:13:49.837044   \n",
      "1cd2b7dda8e6ef0c9b546e99d2f5a4fa  2012-06-12 10:28:12.403980   \n",
      "...                                                      ...   \n",
      "f9f6d61a67da2580aa80e3b80154a5f6  2012-06-12 11:33:33.620291   \n",
      "f9f6d61a67da2580aa80e3b80154a5f6  2012-06-12 11:33:33.620291   \n",
      "f9f6d61a67da2580aa80e3b80154a5f6  2012-06-12 11:33:33.620291   \n",
      "f9f6d61a67da2580aa80e3b80154a5f6  2012-06-12 11:33:33.620291   \n",
      "f9f6d61a67da2580aa80e3b80154a5f6  2012-06-12 11:33:33.620291   \n",
      "\n",
      "                                  categoria_houses  ...  acertos  house   \n",
      "09419118221729a1925c7d7eb73e9ed1               NaN  ...      0.0  I_N_I  \\\n",
      "09419118221729a1925c7d7eb73e9ed1               NaN  ...      0.0  I_N_I   \n",
      "09419118221729a1925c7d7eb73e9ed1               NaN  ...      0.0  I_N_I   \n",
      "09419118221729a1925c7d7eb73e9ed1               NaN  ...      NaN  I_N_I   \n",
      "1cd2b7dda8e6ef0c9b546e99d2f5a4fa               NaN  ...      1.0  I_N_I   \n",
      "...                                            ...  ...      ...    ...   \n",
      "f9f6d61a67da2580aa80e3b80154a5f6               NaN  ...      0.0  I_N_I   \n",
      "f9f6d61a67da2580aa80e3b80154a5f6               NaN  ...      1.0  I_N_I   \n",
      "f9f6d61a67da2580aa80e3b80154a5f6               NaN  ...      2.0  I_N_I   \n",
      "f9f6d61a67da2580aa80e3b80154a5f6               NaN  ...      NaN  I_N_I   \n",
      "f9f6d61a67da2580aa80e3b80154a5f6               NaN  ...      NaN  I_N_I   \n",
      "\n",
      "                                  outros numero ypos player state result   \n",
      "09419118221729a1925c7d7eb73e9ed1   False   True  0.0    0.0          1.0  \\\n",
      "09419118221729a1925c7d7eb73e9ed1   False   True  0.0    0.0          1.0   \n",
      "09419118221729a1925c7d7eb73e9ed1   False  False  0.0    0.0          1.0   \n",
      "09419118221729a1925c7d7eb73e9ed1     NaN    NaN  0.0    0.0         -2.0   \n",
      "1cd2b7dda8e6ef0c9b546e99d2f5a4fa   False  False  0.0    0.0          1.0   \n",
      "...                                  ...    ...  ...    ...   ...    ...   \n",
      "f9f6d61a67da2580aa80e3b80154a5f6    True  False  0.0    0.0          1.0   \n",
      "f9f6d61a67da2580aa80e3b80154a5f6   False  False  0.0    0.0          1.0   \n",
      "f9f6d61a67da2580aa80e3b80154a5f6   False  False  0.0    0.0          1.0   \n",
      "f9f6d61a67da2580aa80e3b80154a5f6     NaN    NaN  0.0    0.0         -2.0   \n",
      "f9f6d61a67da2580aa80e3b80154a5f6     NaN    NaN  0.0    0.0         -2.0   \n",
      "\n",
      "                                 time_trial marker  \n",
      "09419118221729a1925c7d7eb73e9ed1        NaN  I_N_I  \n",
      "09419118221729a1925c7d7eb73e9ed1        NaN  I_N_I  \n",
      "09419118221729a1925c7d7eb73e9ed1        NaN  I_N_I  \n",
      "09419118221729a1925c7d7eb73e9ed1        NaN  I_N_I  \n",
      "1cd2b7dda8e6ef0c9b546e99d2f5a4fa        NaN  I_N_I  \n",
      "...                                     ...    ...  \n",
      "f9f6d61a67da2580aa80e3b80154a5f6        NaN  I_N_I  \n",
      "f9f6d61a67da2580aa80e3b80154a5f6        NaN  I_N_I  \n",
      "f9f6d61a67da2580aa80e3b80154a5f6        NaN  I_N_I  \n",
      "f9f6d61a67da2580aa80e3b80154a5f6        NaN  I_N_I  \n",
      "f9f6d61a67da2580aa80e3b80154a5f6        NaN  I_N_I  \n",
      "\n",
      "[1284 rows x 46 columns]\n"
     ]
    }
   ],
   "source": [
    "from WisconsinClasses import WisconsinPlayers\n",
    "\n",
    "wis = WisconsinPlayers().file_demographics(date=\"2012\", start_count=(100, 150), name=\"wisconsin.csv\")\n"
   ],
   "metadata": {
    "collapsed": false,
    "ExecuteTime": {
     "end_time": "2023-06-22T17:50:14.268510796Z",
     "start_time": "2023-06-22T17:49:37.230829652Z"
    }
   }
  },
  {
   "cell_type": "code",
   "execution_count": 2,
   "outputs": [
    {
     "data": {
      "text/plain": "<seaborn.axisgrid.FacetGrid at 0x7f4d40973c40>"
     },
     "execution_count": 2,
     "metadata": {},
     "output_type": "execute_result"
    },
    {
     "data": {
      "text/plain": "<Figure size 360x360 with 1 Axes>",
      "image/png": "[encoded data removed]"
     },
     "metadata": {},
     "output_type": "display_data"
    }
   ],
   "source": [
    "import seaborn as sns\n",
    "from WisconsinClasses import WisconsinPandas\n",
    "\n",
    "sns.catplot(x='tipoescola', y='acertosConsecutivos', data=wis)"
   ],
   "metadata": {
    "collapsed": false,
    "ExecuteTime": {
     "end_time": "2023-06-22T17:50:14.540587983Z",
     "start_time": "2023-06-22T17:50:14.160541097Z"
    }
   }
  },
  {
   "cell_type": "code",
   "execution_count": 4,
   "outputs": [
    {
     "ename": "ValueError",
     "evalue": "Could not interpret value `score` for parameter `x`",
     "output_type": "error",
     "traceback": [
      "\u001B[0;31m---------------------------------------------------------------------------\u001B[0m",
      "\u001B[0;31mValueError\u001B[0m                                Traceback (most recent call last)",
      "\u001B[0;32m/tmp/ipykernel_11347/1220435674.py\u001B[0m in \u001B[0;36m<module>\u001B[0;34m\u001B[0m\n\u001B[0;32m----> 1\u001B[0;31m \u001B[0msns\u001B[0m\u001B[0;34m.\u001B[0m\u001B[0mcatplot\u001B[0m\u001B[0;34m(\u001B[0m\u001B[0mx\u001B[0m\u001B[0;34m=\u001B[0m\u001B[0;34m'score'\u001B[0m\u001B[0;34m,\u001B[0m \u001B[0my\u001B[0m\u001B[0;34m=\u001B[0m\u001B[0;34m'tipoescola'\u001B[0m\u001B[0;34m,\u001B[0m \u001B[0mdata\u001B[0m\u001B[0;34m=\u001B[0m\u001B[0mwis\u001B[0m\u001B[0;34m)\u001B[0m\u001B[0;34m\u001B[0m\u001B[0;34m\u001B[0m\u001B[0m\n\u001B[0m",
      "\u001B[0;32m~/.local/lib/python3.10/site-packages/seaborn/categorical.py\u001B[0m in \u001B[0;36mcatplot\u001B[0;34m(data, x, y, hue, row, col, col_wrap, estimator, errorbar, n_boot, units, seed, order, hue_order, row_order, col_order, height, aspect, kind, native_scale, formatter, orient, color, palette, hue_norm, legend, legend_out, sharex, sharey, margin_titles, facet_kws, ci, **kwargs)\u001B[0m\n\u001B[1;32m   3029\u001B[0m     \u001B[0;32mif\u001B[0m \u001B[0mkind\u001B[0m \u001B[0;32min\u001B[0m \u001B[0mrefactored_kinds\u001B[0m\u001B[0;34m:\u001B[0m\u001B[0;34m\u001B[0m\u001B[0;34m\u001B[0m\u001B[0m\n\u001B[1;32m   3030\u001B[0m \u001B[0;34m\u001B[0m\u001B[0m\n\u001B[0;32m-> 3031\u001B[0;31m         p = _CategoricalFacetPlotter(\n\u001B[0m\u001B[1;32m   3032\u001B[0m             \u001B[0mdata\u001B[0m\u001B[0;34m=\u001B[0m\u001B[0mdata\u001B[0m\u001B[0;34m,\u001B[0m\u001B[0;34m\u001B[0m\u001B[0;34m\u001B[0m\u001B[0m\n\u001B[1;32m   3033\u001B[0m             \u001B[0mvariables\u001B[0m\u001B[0;34m=\u001B[0m\u001B[0m_CategoricalFacetPlotter\u001B[0m\u001B[0;34m.\u001B[0m\u001B[0mget_semantics\u001B[0m\u001B[0;34m(\u001B[0m\u001B[0mlocals\u001B[0m\u001B[0;34m(\u001B[0m\u001B[0;34m)\u001B[0m\u001B[0;34m)\u001B[0m\u001B[0;34m,\u001B[0m\u001B[0;34m\u001B[0m\u001B[0;34m\u001B[0m\u001B[0m\n",
      "\u001B[0;32m~/.local/lib/python3.10/site-packages/seaborn/categorical.py\u001B[0m in \u001B[0;36m__init__\u001B[0;34m(self, data, variables, order, orient, require_numeric, legend)\u001B[0m\n\u001B[1;32m     64\u001B[0m     ):\n\u001B[1;32m     65\u001B[0m \u001B[0;34m\u001B[0m\u001B[0m\n\u001B[0;32m---> 66\u001B[0;31m         \u001B[0msuper\u001B[0m\u001B[0;34m(\u001B[0m\u001B[0;34m)\u001B[0m\u001B[0;34m.\u001B[0m\u001B[0m__init__\u001B[0m\u001B[0;34m(\u001B[0m\u001B[0mdata\u001B[0m\u001B[0;34m=\u001B[0m\u001B[0mdata\u001B[0m\u001B[0;34m,\u001B[0m \u001B[0mvariables\u001B[0m\u001B[0;34m=\u001B[0m\u001B[0mvariables\u001B[0m\u001B[0;34m)\u001B[0m\u001B[0;34m\u001B[0m\u001B[0;34m\u001B[0m\u001B[0m\n\u001B[0m\u001B[1;32m     67\u001B[0m \u001B[0;34m\u001B[0m\u001B[0m\n\u001B[1;32m     68\u001B[0m         \u001B[0;31m# This method takes care of some bookkeeping that is necessary because the\u001B[0m\u001B[0;34m\u001B[0m\u001B[0;34m\u001B[0m\u001B[0m\n",
      "\u001B[0;32m~/.local/lib/python3.10/site-packages/seaborn/_oldcore.py\u001B[0m in \u001B[0;36m__init__\u001B[0;34m(self, data, variables)\u001B[0m\n\u001B[1;32m    638\u001B[0m         \u001B[0;31m# information for numeric axes would be information about log scales.\u001B[0m\u001B[0;34m\u001B[0m\u001B[0;34m\u001B[0m\u001B[0m\n\u001B[1;32m    639\u001B[0m         \u001B[0mself\u001B[0m\u001B[0;34m.\u001B[0m\u001B[0m_var_ordered\u001B[0m \u001B[0;34m=\u001B[0m \u001B[0;34m{\u001B[0m\u001B[0;34m\"x\"\u001B[0m\u001B[0;34m:\u001B[0m \u001B[0;32mFalse\u001B[0m\u001B[0;34m,\u001B[0m \u001B[0;34m\"y\"\u001B[0m\u001B[0;34m:\u001B[0m \u001B[0;32mFalse\u001B[0m\u001B[0;34m}\u001B[0m  \u001B[0;31m# alt., used DefaultDict\u001B[0m\u001B[0;34m\u001B[0m\u001B[0;34m\u001B[0m\u001B[0m\n\u001B[0;32m--> 640\u001B[0;31m         \u001B[0mself\u001B[0m\u001B[0;34m.\u001B[0m\u001B[0massign_variables\u001B[0m\u001B[0;34m(\u001B[0m\u001B[0mdata\u001B[0m\u001B[0;34m,\u001B[0m \u001B[0mvariables\u001B[0m\u001B[0;34m)\u001B[0m\u001B[0;34m\u001B[0m\u001B[0;34m\u001B[0m\u001B[0m\n\u001B[0m\u001B[1;32m    641\u001B[0m \u001B[0;34m\u001B[0m\u001B[0m\n\u001B[1;32m    642\u001B[0m         \u001B[0;32mfor\u001B[0m \u001B[0mvar\u001B[0m\u001B[0;34m,\u001B[0m \u001B[0mcls\u001B[0m \u001B[0;32min\u001B[0m \u001B[0mself\u001B[0m\u001B[0;34m.\u001B[0m\u001B[0m_semantic_mappings\u001B[0m\u001B[0;34m.\u001B[0m\u001B[0mitems\u001B[0m\u001B[0;34m(\u001B[0m\u001B[0;34m)\u001B[0m\u001B[0;34m:\u001B[0m\u001B[0;34m\u001B[0m\u001B[0;34m\u001B[0m\u001B[0m\n",
      "\u001B[0;32m~/.local/lib/python3.10/site-packages/seaborn/_oldcore.py\u001B[0m in \u001B[0;36massign_variables\u001B[0;34m(self, data, variables)\u001B[0m\n\u001B[1;32m    699\u001B[0m         \u001B[0;32melse\u001B[0m\u001B[0;34m:\u001B[0m\u001B[0;34m\u001B[0m\u001B[0;34m\u001B[0m\u001B[0m\n\u001B[1;32m    700\u001B[0m             \u001B[0mself\u001B[0m\u001B[0;34m.\u001B[0m\u001B[0minput_format\u001B[0m \u001B[0;34m=\u001B[0m \u001B[0;34m\"long\"\u001B[0m\u001B[0;34m\u001B[0m\u001B[0;34m\u001B[0m\u001B[0m\n\u001B[0;32m--> 701\u001B[0;31m             plot_data, variables = self._assign_variables_longform(\n\u001B[0m\u001B[1;32m    702\u001B[0m                 \u001B[0mdata\u001B[0m\u001B[0;34m,\u001B[0m \u001B[0;34m**\u001B[0m\u001B[0mvariables\u001B[0m\u001B[0;34m,\u001B[0m\u001B[0;34m\u001B[0m\u001B[0;34m\u001B[0m\u001B[0m\n\u001B[1;32m    703\u001B[0m             )\n",
      "\u001B[0;32m~/.local/lib/python3.10/site-packages/seaborn/_oldcore.py\u001B[0m in \u001B[0;36m_assign_variables_longform\u001B[0;34m(self, data, **kwargs)\u001B[0m\n\u001B[1;32m    936\u001B[0m \u001B[0;34m\u001B[0m\u001B[0m\n\u001B[1;32m    937\u001B[0m                 \u001B[0merr\u001B[0m \u001B[0;34m=\u001B[0m \u001B[0;34mf\"Could not interpret value `{val}` for parameter `{key}`\"\u001B[0m\u001B[0;34m\u001B[0m\u001B[0;34m\u001B[0m\u001B[0m\n\u001B[0;32m--> 938\u001B[0;31m                 \u001B[0;32mraise\u001B[0m \u001B[0mValueError\u001B[0m\u001B[0;34m(\u001B[0m\u001B[0merr\u001B[0m\u001B[0;34m)\u001B[0m\u001B[0;34m\u001B[0m\u001B[0;34m\u001B[0m\u001B[0m\n\u001B[0m\u001B[1;32m    939\u001B[0m \u001B[0;34m\u001B[0m\u001B[0m\n\u001B[1;32m    940\u001B[0m             \u001B[0;32melse\u001B[0m\u001B[0;34m:\u001B[0m\u001B[0;34m\u001B[0m\u001B[0;34m\u001B[0m\u001B[0m\n",
      "\u001B[0;31mValueError\u001B[0m: Could not interpret value `score` for parameter `x`"
     ]
    }
   ],
   "source": [
    "sns.catplot(x='score', y='tipoescola', data=wis)"
   ],
   "metadata": {
    "collapsed": false,
    "ExecuteTime": {
     "end_time": "2023-06-22T17:50:46.738826446Z",
     "start_time": "2023-06-22T17:50:46.618854097Z"
    }
   }
  },
  {
   "cell_type": "code",
   "execution_count": 5,
   "outputs": [
    {
     "data": {
      "text/plain": "<seaborn.axisgrid.FacetGrid at 0x7f4d409a18d0>"
     },
     "execution_count": 5,
     "metadata": {},
     "output_type": "execute_result"
    },
    {
     "data": {
      "text/plain": "<Figure size 360x360 with 1 Axes>",
      "image/png": "[encoded data removed]"
     },
     "metadata": {},
     "output_type": "display_data"
    }
   ],
   "source": [
    "sns.catplot(x='sexo1', y='tipoescola', data=wis)"
   ],
   "metadata": {
    "collapsed": false,
    "ExecuteTime": {
     "end_time": "2023-06-22T17:50:51.636170028Z",
     "start_time": "2023-06-22T17:50:51.299179982Z"
    }
   }
  },
  {
   "cell_type": "code",
   "execution_count": 6,
   "outputs": [
    {
     "data": {
      "text/plain": "<seaborn.axisgrid.FacetGrid at 0x7f4d404c3ca0>"
     },
     "execution_count": 6,
     "metadata": {},
     "output_type": "execute_result"
    },
    {
     "data": {
      "text/plain": "<Figure size 360x360 with 1 Axes>",
      "image/png": "[encoded data removed]"
     },
     "metadata": {},
     "output_type": "display_data"
    }
   ],
   "source": [
    "sns.catplot(x='idade1', y='tipoescola', data=wis)"
   ],
   "metadata": {
    "collapsed": false,
    "ExecuteTime": {
     "end_time": "2023-06-22T17:50:55.618021873Z",
     "start_time": "2023-06-22T17:50:55.123327729Z"
    }
   }
  },
  {
   "cell_type": "code",
   "execution_count": 7,
   "outputs": [
    {
     "data": {
      "text/plain": "      ano1  idade1 sexo1                   starttime   \n0        5      10     F  2012-06-12 14:59:59.028357  \\\n1        5      10     F  2012-06-12 14:59:59.028357   \n2        5      10     F  2012-06-12 14:59:59.028357   \n3        5      10     F  2012-06-12 14:59:59.028357   \n4        4       9     F  2012-06-12 10:24:22.012797   \n...    ...     ...   ...                         ...   \n1279     1      16     F  2012-06-12 11:22:26.432693   \n1280     1      16     F  2012-06-12 11:22:26.432693   \n1281     1      16     F  2012-06-12 11:22:26.432693   \n1282     1      16     F  2012-06-12 11:22:26.432693   \n1283     1      16     F  2012-06-12 11:22:26.432693   \n\n                         endtime tipoescola       name  maxlevel   \n0     2012-06-12 15:19:04.079890    publica  wisconsin         1  \\\n1     2012-06-12 15:19:04.079890    publica  wisconsin         1   \n2     2012-06-12 15:19:04.079890    publica  wisconsin         1   \n3     2012-06-12 15:19:04.079890    publica  wisconsin         1   \n4     2012-06-12 10:33:59.124491    privada  wisconsin         1   \n...                          ...        ...        ...       ...   \n1279  2012-06-12 11:38:40.662788    publica  wisconsin         1   \n1280  2012-06-12 11:38:40.662788    publica  wisconsin         1   \n1281  2012-06-12 11:38:40.662788    publica  wisconsin         1   \n1282  2012-06-12 11:38:40.662788    publica  wisconsin         1   \n1283  2012-06-12 11:38:40.662788    publica  wisconsin         1   \n\n                         timeOne  categoria  ...  acertos  house  outros   \n0     2012-06-12 15:13:49.837044        NaN  ...      0.0  I_N_I   False  \\\n1     2012-06-12 15:13:49.837044        NaN  ...      0.0  I_N_I   False   \n2     2012-06-12 15:13:49.837044        NaN  ...      0.0  I_N_I   False   \n3     2012-06-12 15:13:49.837044        NaN  ...      NaN  I_N_I     NaN   \n4     2012-06-12 10:28:12.403980        NaN  ...      1.0  I_N_I   False   \n...                          ...        ...  ...      ...    ...     ...   \n1279  2012-06-12 11:33:33.620291        NaN  ...      0.0  I_N_I    True   \n1280  2012-06-12 11:33:33.620291        NaN  ...      1.0  I_N_I   False   \n1281  2012-06-12 11:33:33.620291        NaN  ...      2.0  I_N_I   False   \n1282  2012-06-12 11:33:33.620291        NaN  ...      NaN  I_N_I     NaN   \n1283  2012-06-12 11:33:33.620291        NaN  ...      NaN  I_N_I     NaN   \n\n      numero ypos player state result timeTrial marker  \n0       True  0.0    0.0   NaN    1.0       NaN  I_N_I  \n1       True  0.0    0.0   NaN    1.0       NaN  I_N_I  \n2      False  0.0    0.0   NaN    1.0       NaN  I_N_I  \n3        NaN  0.0    0.0   NaN   -2.0       NaN  I_N_I  \n4      False  0.0    0.0   NaN    1.0       NaN  I_N_I  \n...      ...  ...    ...   ...    ...       ...    ...  \n1279   False  0.0    0.0   NaN    1.0       NaN  I_N_I  \n1280   False  0.0    0.0   NaN    1.0       NaN  I_N_I  \n1281   False  0.0    0.0   NaN    1.0       NaN  I_N_I  \n1282     NaN  0.0    0.0   NaN   -2.0       NaN  I_N_I  \n1283     NaN  0.0    0.0   NaN   -2.0       NaN  I_N_I  \n\n[1284 rows x 46 columns]",
      "text/html": "<div>\n<style scoped>\n    .dataframe tbody tr th:only-of-type {\n        vertical-align: middle;\n    }\n\n    .dataframe tbody tr th {\n        vertical-align: top;\n    }\n\n    .dataframe thead th {\n        text-align: right;\n    }\n</style>\n<table border=\"1\" class=\"dataframe\">\n  <thead>\n    <tr style=\"text-align: right;\">\n      <th></th>\n      <th>ano1</th>\n      <th>idade1</th>\n      <th>sexo1</th>\n      <th>starttime</th>\n      <th>endtime</th>\n      <th>tipoescola</th>\n      <th>name</th>\n      <th>maxlevel</th>\n      <th>timeOne</th>\n      <th>categoria</th>\n      <th>...</th>\n      <th>acertos</th>\n      <th>house</th>\n      <th>outros</th>\n      <th>numero</th>\n      <th>ypos</th>\n      <th>player</th>\n      <th>state</th>\n      <th>result</th>\n      <th>timeTrial</th>\n      <th>marker</th>\n    </tr>\n  </thead>\n  <tbody>\n    <tr>\n      <th>0</th>\n      <td>5</td>\n      <td>10</td>\n      <td>F</td>\n      <td>2012-06-12 14:59:59.028357</td>\n      <td>2012-06-12 15:19:04.079890</td>\n      <td>publica</td>\n      <td>wisconsin</td>\n      <td>1</td>\n      <td>2012-06-12 15:13:49.837044</td>\n      <td>NaN</td>\n      <td>...</td>\n      <td>0.0</td>\n      <td>I_N_I</td>\n      <td>False</td>\n      <td>True</td>\n      <td>0.0</td>\n      <td>0.0</td>\n      <td>NaN</td>\n      <td>1.0</td>\n      <td>NaN</td>\n      <td>I_N_I</td>\n    </tr>\n    <tr>\n      <th>1</th>\n      <td>5</td>\n      <td>10</td>\n      <td>F</td>\n      <td>2012-06-12 14:59:59.028357</td>\n      <td>2012-06-12 15:19:04.079890</td>\n      <td>publica</td>\n      <td>wisconsin</td>\n      <td>1</td>\n      <td>2012-06-12 15:13:49.837044</td>\n      <td>NaN</td>\n      <td>...</td>\n      <td>0.0</td>\n      <td>I_N_I</td>\n      <td>False</td>\n      <td>True</td>\n      <td>0.0</td>\n      <td>0.0</td>\n      <td>NaN</td>\n      <td>1.0</td>\n      <td>NaN</td>\n      <td>I_N_I</td>\n    </tr>\n    <tr>\n      <th>2</th>\n      <td>5</td>\n      <td>10</td>\n      <td>F</td>\n      <td>2012-06-12 14:59:59.028357</td>\n      <td>2012-06-12 15:19:04.079890</td>\n      <td>publica</td>\n      <td>wisconsin</td>\n      <td>1</td>\n      <td>2012-06-12 15:13:49.837044</td>\n      <td>NaN</td>\n      <td>...</td>\n      <td>0.0</td>\n      <td>I_N_I</td>\n      <td>False</td>\n      <td>False</td>\n      <td>0.0</td>\n      <td>0.0</td>\n      <td>NaN</td>\n      <td>1.0</td>\n      <td>NaN</td>\n      <td>I_N_I</td>\n    </tr>\n    <tr>\n      <th>3</th>\n      <td>5</td>\n      <td>10</td>\n      <td>F</td>\n      <td>2012-06-12 14:59:59.028357</td>\n      <td>2012-06-12 15:19:04.079890</td>\n      <td>publica</td>\n      <td>wisconsin</td>\n      <td>1</td>\n      <td>2012-06-12 15:13:49.837044</td>\n      <td>NaN</td>\n      <td>...</td>\n      <td>NaN</td>\n      <td>I_N_I</td>\n      <td>NaN</td>\n      <td>NaN</td>\n      <td>0.0</td>\n      <td>0.0</td>\n      <td>NaN</td>\n      <td>-2.0</td>\n      <td>NaN</td>\n      <td>I_N_I</td>\n    </tr>\n    <tr>\n      <th>4</th>\n      <td>4</td>\n      <td>9</td>\n      <td>F</td>\n      <td>2012-06-12 10:24:22.012797</td>\n      <td>2012-06-12 10:33:59.124491</td>\n      <td>privada</td>\n      <td>wisconsin</td>\n      <td>1</td>\n      <td>2012-06-12 10:28:12.403980</td>\n      <td>NaN</td>\n      <td>...</td>\n      <td>1.0</td>\n      <td>I_N_I</td>\n      <td>False</td>\n      <td>False</td>\n      <td>0.0</td>\n      <td>0.0</td>\n      <td>NaN</td>\n      <td>1.0</td>\n      <td>NaN</td>\n      <td>I_N_I</td>\n    </tr>\n    <tr>\n      <th>...</th>\n      <td>...</td>\n      <td>...</td>\n      <td>...</td>\n      <td>...</td>\n      <td>...</td>\n      <td>...</td>\n      <td>...</td>\n      <td>...</td>\n      <td>...</td>\n      <td>...</td>\n      <td>...</td>\n      <td>...</td>\n      <td>...</td>\n      <td>...</td>\n      <td>...</td>\n      <td>...</td>\n      <td>...</td>\n      <td>...</td>\n      <td>...</td>\n      <td>...</td>\n      <td>...</td>\n    </tr>\n    <tr>\n      <th>1279</th>\n      <td>1</td>\n      <td>16</td>\n      <td>F</td>\n      <td>2012-06-12 11:22:26.432693</td>\n      <td>2012-06-12 11:38:40.662788</td>\n      <td>publica</td>\n      <td>wisconsin</td>\n      <td>1</td>\n      <td>2012-06-12 11:33:33.620291</td>\n      <td>NaN</td>\n      <td>...</td>\n      <td>0.0</td>\n      <td>I_N_I</td>\n      <td>True</td>\n      <td>False</td>\n      <td>0.0</td>\n      <td>0.0</td>\n      <td>NaN</td>\n      <td>1.0</td>\n      <td>NaN</td>\n      <td>I_N_I</td>\n    </tr>\n    <tr>\n      <th>1280</th>\n      <td>1</td>\n      <td>16</td>\n      <td>F</td>\n      <td>2012-06-12 11:22:26.432693</td>\n      <td>2012-06-12 11:38:40.662788</td>\n      <td>publica</td>\n      <td>wisconsin</td>\n      <td>1</td>\n      <td>2012-06-12 11:33:33.620291</td>\n      <td>NaN</td>\n      <td>...</td>\n      <td>1.0</td>\n      <td>I_N_I</td>\n      <td>False</td>\n      <td>False</td>\n      <td>0.0</td>\n      <td>0.0</td>\n      <td>NaN</td>\n      <td>1.0</td>\n      <td>NaN</td>\n      <td>I_N_I</td>\n    </tr>\n    <tr>\n      <th>1281</th>\n      <td>1</td>\n      <td>16</td>\n      <td>F</td>\n      <td>2012-06-12 11:22:26.432693</td>\n      <td>2012-06-12 11:38:40.662788</td>\n      <td>publica</td>\n      <td>wisconsin</td>\n      <td>1</td>\n      <td>2012-06-12 11:33:33.620291</td>\n      <td>NaN</td>\n      <td>...</td>\n      <td>2.0</td>\n      <td>I_N_I</td>\n      <td>False</td>\n      <td>False</td>\n      <td>0.0</td>\n      <td>0.0</td>\n      <td>NaN</td>\n      <td>1.0</td>\n      <td>NaN</td>\n      <td>I_N_I</td>\n    </tr>\n    <tr>\n      <th>1282</th>\n      <td>1</td>\n      <td>16</td>\n      <td>F</td>\n      <td>2012-06-12 11:22:26.432693</td>\n      <td>2012-06-12 11:38:40.662788</td>\n      <td>publica</td>\n      <td>wisconsin</td>\n      <td>1</td>\n      <td>2012-06-12 11:33:33.620291</td>\n      <td>NaN</td>\n      <td>...</td>\n      <td>NaN</td>\n      <td>I_N_I</td>\n      <td>NaN</td>\n      <td>NaN</td>\n      <td>0.0</td>\n      <td>0.0</td>\n      <td>NaN</td>\n      <td>-2.0</td>\n      <td>NaN</td>\n      <td>I_N_I</td>\n    </tr>\n    <tr>\n      <th>1283</th>\n      <td>1</td>\n      <td>16</td>\n      <td>F</td>\n      <td>2012-06-12 11:22:26.432693</td>\n      <td>2012-06-12 11:38:40.662788</td>\n      <td>publica</td>\n      <td>wisconsin</td>\n      <td>1</td>\n      <td>2012-06-12 11:33:33.620291</td>\n      <td>NaN</td>\n      <td>...</td>\n      <td>NaN</td>\n      <td>I_N_I</td>\n      <td>NaN</td>\n      <td>NaN</td>\n      <td>0.0</td>\n      <td>0.0</td>\n      <td>NaN</td>\n      <td>-2.0</td>\n      <td>NaN</td>\n      <td>I_N_I</td>\n    </tr>\n  </tbody>\n</table>\n<p>1284 rows × 46 columns</p>\n</div>"
     },
     "execution_count": 7,
     "metadata": {},
     "output_type": "execute_result"
    }
   ],
   "source": [
    "from WisconsinClasses import WisconsinPandas\n",
    "\n",
    "rp_wis = WisconsinPandas()\n",
    "rp_wis.data"
   ],
   "metadata": {
    "collapsed": false,
    "ExecuteTime": {
     "end_time": "2023-06-22T17:51:00.106464166Z",
     "start_time": "2023-06-22T17:50:59.918820106Z"
    }
   }
  },
  {
   "cell_type": "code",
   "execution_count": 8,
   "outputs": [
    {
     "data": {
      "text/plain": "<seaborn.axisgrid.FacetGrid at 0x7f4d4084b250>"
     },
     "execution_count": 8,
     "metadata": {},
     "output_type": "execute_result"
    },
    {
     "data": {
      "text/plain": "<Figure size 360x360 with 1 Axes>",
      "image/png": "[encoded data removed]"
     },
     "metadata": {},
     "output_type": "display_data"
    }
   ],
   "source": [
    "from WisconsinClasses import WisconsinPandas\n",
    "import seaborn as sns\n",
    "\n",
    "wis = WisconsinPandas().data\n",
    "sns.catplot(x='sexo1', y='idade1', data=wis)"
   ],
   "metadata": {
    "collapsed": false,
    "ExecuteTime": {
     "end_time": "2023-06-22T17:51:04.206143685Z",
     "start_time": "2023-06-22T17:51:03.858296453Z"
    }
   }
  },
  {
   "cell_type": "code",
   "execution_count": null,
   "outputs": [],
   "source": [],
   "metadata": {
    "collapsed": false,
    "ExecuteTime": {
     "start_time": "2023-06-22T17:50:14.666243825Z"
    }
   }
  },
  {
   "cell_type": "code",
   "execution_count": null,
   "outputs": [],
   "source": [],
   "metadata": {
    "collapsed": false
   }
  }
 ],
 "metadata": {
  "kernelspec": {
   "display_name": "Python 3",
   "language": "python",
   "name": "python3"
  },
  "language_info": {
   "codemirror_mode": {
    "name": "ipython",
    "version": 2
   },
   "file_extension": ".py",
   "mimetype": "text/x-python",
   "name": "python",
   "nbconvert_exporter": "python",
   "pygments_lexer": "ipython2",
   "version": "2.7.6"
  }
 },
 "nbformat": 4,
 "nbformat_minor": 0
}
