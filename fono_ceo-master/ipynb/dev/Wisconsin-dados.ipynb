{
 "cells": [
  {
   "cell_type": "code",
   "execution_count": 1,
   "outputs": [
    {
     "name": "stdout",
     "output_type": "stream",
     "text": [
      "32\n",
      "                                  ano1  idade1 sexo1   \n",
      "60a912f0b274202274c99ba89d942838     1      17     M  \\\n",
      "60a912f0b274202274c99ba89d942838     1      17     M   \n",
      "60a912f0b274202274c99ba89d942838     1      17     M   \n",
      "60a912f0b274202274c99ba89d942838     1      17     M   \n",
      "736fbb3120fd9cbcb6a92583a30a97b2     8      15     M   \n",
      "8c9f83b01e7e8ff78523088b387857ad     3      17     M   \n",
      "8c9f83b01e7e8ff78523088b387857ad     3      17     M   \n",
      "a2a94e3eae95eafa1ed0664cee7ad5b7     2       5     M   \n",
      "7285ad672ce0079bc6de1939896899bc     4      11     M   \n",
      "1cd2b7dda8e6ef0c9b546e99d2f5a4fa     4       9     F   \n",
      "e64f6c4023a206ed9dadbdd9a0098da1     3       8     F   \n",
      "ade05d4fe4c2e4a9fe29bb6fb17fb853     4       9     F   \n",
      "\n",
      "                                                   starttime   \n",
      "60a912f0b274202274c99ba89d942838  2012-06-12 09:08:46.724058  \\\n",
      "60a912f0b274202274c99ba89d942838  2012-06-12 09:08:46.724058   \n",
      "60a912f0b274202274c99ba89d942838  2012-06-12 09:08:46.724058   \n",
      "60a912f0b274202274c99ba89d942838  2012-06-12 09:08:46.724058   \n",
      "736fbb3120fd9cbcb6a92583a30a97b2  2012-06-12 09:11:34.530941   \n",
      "8c9f83b01e7e8ff78523088b387857ad  2012-06-12 09:15:40.798630   \n",
      "8c9f83b01e7e8ff78523088b387857ad  2012-06-12 09:15:40.798630   \n",
      "a2a94e3eae95eafa1ed0664cee7ad5b7  2012-06-12 09:25:25.917915   \n",
      "7285ad672ce0079bc6de1939896899bc  2012-06-12 09:36:00.224822   \n",
      "1cd2b7dda8e6ef0c9b546e99d2f5a4fa  2012-06-12 10:24:22.012797   \n",
      "e64f6c4023a206ed9dadbdd9a0098da1  2012-06-12 10:24:25.160801   \n",
      "ade05d4fe4c2e4a9fe29bb6fb17fb853  2012-06-12 10:29:10.163174   \n",
      "\n",
      "                                                     endtime tipoescola   \n",
      "60a912f0b274202274c99ba89d942838  2012-06-12 09:47:11.483625    publica  \\\n",
      "60a912f0b274202274c99ba89d942838  2012-06-12 09:47:11.483625    publica   \n",
      "60a912f0b274202274c99ba89d942838  2012-06-12 09:47:11.483625    publica   \n",
      "60a912f0b274202274c99ba89d942838  2012-06-12 09:47:11.483625    publica   \n",
      "736fbb3120fd9cbcb6a92583a30a97b2  2012-06-12 09:44:46.414719    publica   \n",
      "8c9f83b01e7e8ff78523088b387857ad                                publica   \n",
      "8c9f83b01e7e8ff78523088b387857ad                                publica   \n",
      "a2a94e3eae95eafa1ed0664cee7ad5b7                                publica   \n",
      "7285ad672ce0079bc6de1939896899bc  2012-06-12 09:52:20.768601    publica   \n",
      "1cd2b7dda8e6ef0c9b546e99d2f5a4fa  2012-06-12 10:33:59.124491    privada   \n",
      "e64f6c4023a206ed9dadbdd9a0098da1  2012-06-12 10:38:25.535284    privada   \n",
      "ade05d4fe4c2e4a9fe29bb6fb17fb853  2012-06-12 10:32:45.502631    privada   \n",
      "\n",
      "                                       name  maxlevel   \n",
      "60a912f0b274202274c99ba89d942838  wisconsin         1  \\\n",
      "60a912f0b274202274c99ba89d942838  wisconsin         1   \n",
      "60a912f0b274202274c99ba89d942838  wisconsin         1   \n",
      "60a912f0b274202274c99ba89d942838  wisconsin         1   \n",
      "736fbb3120fd9cbcb6a92583a30a97b2  wisconsin         1   \n",
      "8c9f83b01e7e8ff78523088b387857ad  wisconsin         1   \n",
      "8c9f83b01e7e8ff78523088b387857ad  wisconsin         1   \n",
      "a2a94e3eae95eafa1ed0664cee7ad5b7  wisconsin         1   \n",
      "7285ad672ce0079bc6de1939896899bc  wisconsin         1   \n",
      "1cd2b7dda8e6ef0c9b546e99d2f5a4fa  wisconsin         1   \n",
      "e64f6c4023a206ed9dadbdd9a0098da1  wisconsin         1   \n",
      "ade05d4fe4c2e4a9fe29bb6fb17fb853  wisconsin         1   \n",
      "\n",
      "                                                    time_one   \n",
      "60a912f0b274202274c99ba89d942838  2012-06-12 09:17:48.686460  \\\n",
      "60a912f0b274202274c99ba89d942838  2012-06-12 09:27:44.234913   \n",
      "60a912f0b274202274c99ba89d942838  2012-06-12 09:27:44.830229   \n",
      "60a912f0b274202274c99ba89d942838  2012-06-12 09:40:48.291958   \n",
      "736fbb3120fd9cbcb6a92583a30a97b2  2012-06-12 09:13:30.714343   \n",
      "8c9f83b01e7e8ff78523088b387857ad  2012-06-12 09:22:20.279791   \n",
      "8c9f83b01e7e8ff78523088b387857ad  2012-06-12 09:30:47.678241   \n",
      "a2a94e3eae95eafa1ed0664cee7ad5b7  2012-06-12 09:34:09.038479   \n",
      "7285ad672ce0079bc6de1939896899bc  2012-06-12 09:44:51.748267   \n",
      "1cd2b7dda8e6ef0c9b546e99d2f5a4fa  2012-06-12 10:28:12.403980   \n",
      "e64f6c4023a206ed9dadbdd9a0098da1  2012-06-12 10:25:40.922458   \n",
      "ade05d4fe4c2e4a9fe29bb6fb17fb853  2012-06-12 10:29:31.263183   \n",
      "\n",
      "                                  categoria_houses  ...              h0   \n",
      "60a912f0b274202274c99ba89d942838               NaN  ...  Carta resposta  \\\n",
      "60a912f0b274202274c99ba89d942838               NaN  ...  Carta resposta   \n",
      "60a912f0b274202274c99ba89d942838               NaN  ...  Carta resposta   \n",
      "60a912f0b274202274c99ba89d942838               NaN  ...  Carta resposta   \n",
      "736fbb3120fd9cbcb6a92583a30a97b2               NaN  ...  Carta resposta   \n",
      "8c9f83b01e7e8ff78523088b387857ad               NaN  ...  Carta resposta   \n",
      "8c9f83b01e7e8ff78523088b387857ad               NaN  ...  Carta resposta   \n",
      "a2a94e3eae95eafa1ed0664cee7ad5b7               NaN  ...  Carta resposta   \n",
      "7285ad672ce0079bc6de1939896899bc               NaN  ...  Carta resposta   \n",
      "1cd2b7dda8e6ef0c9b546e99d2f5a4fa               NaN  ...  Carta resposta   \n",
      "e64f6c4023a206ed9dadbdd9a0098da1               NaN  ...  Carta resposta   \n",
      "ade05d4fe4c2e4a9fe29bb6fb17fb853               NaN  ...  Carta resposta   \n",
      "\n",
      "                                         h1       h2   h3     h4      h5   \n",
      "60a912f0b274202274c99ba89d942838  Categoria  Acertos  Cor  Forma  Número  \\\n",
      "60a912f0b274202274c99ba89d942838  Categoria  Acertos  Cor  Forma  Número   \n",
      "60a912f0b274202274c99ba89d942838  Categoria  Acertos  Cor  Forma  Número   \n",
      "60a912f0b274202274c99ba89d942838  Categoria  Acertos  Cor  Forma  Número   \n",
      "736fbb3120fd9cbcb6a92583a30a97b2  Categoria  Acertos  Cor  Forma  Número   \n",
      "8c9f83b01e7e8ff78523088b387857ad  Categoria  Acertos  Cor  Forma  Número   \n",
      "8c9f83b01e7e8ff78523088b387857ad  Categoria  Acertos  Cor  Forma  Número   \n",
      "a2a94e3eae95eafa1ed0664cee7ad5b7  Categoria  Acertos  Cor  Forma  Número   \n",
      "7285ad672ce0079bc6de1939896899bc  Categoria  Acertos  Cor  Forma  Número   \n",
      "1cd2b7dda8e6ef0c9b546e99d2f5a4fa  Categoria  Acertos  Cor  Forma  Número   \n",
      "e64f6c4023a206ed9dadbdd9a0098da1  Categoria  Acertos  Cor  Forma  Número   \n",
      "ade05d4fe4c2e4a9fe29bb6fb17fb853  Categoria  Acertos  Cor  Forma  Número   \n",
      "\n",
      "                                      h6         h7   \n",
      "60a912f0b274202274c99ba89d942838  Outros  Data/Hora  \\\n",
      "60a912f0b274202274c99ba89d942838  Outros  Data/Hora   \n",
      "60a912f0b274202274c99ba89d942838  Outros  Data/Hora   \n",
      "60a912f0b274202274c99ba89d942838  Outros  Data/Hora   \n",
      "736fbb3120fd9cbcb6a92583a30a97b2  Outros  Data/Hora   \n",
      "8c9f83b01e7e8ff78523088b387857ad  Outros  Data/Hora   \n",
      "8c9f83b01e7e8ff78523088b387857ad  Outros  Data/Hora   \n",
      "a2a94e3eae95eafa1ed0664cee7ad5b7  Outros  Data/Hora   \n",
      "7285ad672ce0079bc6de1939896899bc  Outros  Data/Hora   \n",
      "1cd2b7dda8e6ef0c9b546e99d2f5a4fa  Outros  Data/Hora   \n",
      "e64f6c4023a206ed9dadbdd9a0098da1  Outros  Data/Hora   \n",
      "ade05d4fe4c2e4a9fe29bb6fb17fb853  Outros  Data/Hora   \n",
      "\n",
      "                                                        time level  \n",
      "60a912f0b274202274c99ba89d942838  2012-06-12 09:17:48.686547     1  \n",
      "60a912f0b274202274c99ba89d942838  2012-06-12 09:27:44.235001     1  \n",
      "60a912f0b274202274c99ba89d942838  2012-06-12 09:27:44.830315     1  \n",
      "60a912f0b274202274c99ba89d942838  2012-06-12 09:40:48.292047     1  \n",
      "736fbb3120fd9cbcb6a92583a30a97b2  2012-06-12 09:13:30.714435     1  \n",
      "8c9f83b01e7e8ff78523088b387857ad  2012-06-12 09:22:20.279876     1  \n",
      "8c9f83b01e7e8ff78523088b387857ad  2012-06-12 09:30:47.678336     1  \n",
      "a2a94e3eae95eafa1ed0664cee7ad5b7  2012-06-12 09:34:09.038562     1  \n",
      "7285ad672ce0079bc6de1939896899bc  2012-06-12 09:44:51.748354     1  \n",
      "1cd2b7dda8e6ef0c9b546e99d2f5a4fa  2012-06-12 10:28:12.404097     1  \n",
      "e64f6c4023a206ed9dadbdd9a0098da1  2012-06-12 10:25:40.922592     1  \n",
      "ade05d4fe4c2e4a9fe29bb6fb17fb853  2012-06-12 10:29:31.263268     1  \n",
      "\n",
      "[12 rows x 32 columns]\n",
      "                                 categoria  xpos    cor  score  acertos   \n",
      "60a912f0b274202274c99ba89d942838       cor     0   True      1      1.0  \\\n",
      "60a912f0b274202274c99ba89d942838       cor     0  False      1      0.0   \n",
      "60a912f0b274202274c99ba89d942838       cor     0  False      1      0.0   \n",
      "60a912f0b274202274c99ba89d942838       cor     0   True      1      1.0   \n",
      "60a912f0b274202274c99ba89d942838       cor     0   True      1      2.0   \n",
      "...                                    ...   ...    ...    ...      ...   \n",
      "1cd2b7dda8e6ef0c9b546e99d2f5a4fa       cor     0  False      1      0.0   \n",
      "1cd2b7dda8e6ef0c9b546e99d2f5a4fa       NaN     0    NaN      1      NaN   \n",
      "ade05d4fe4c2e4a9fe29bb6fb17fb853       cor     0   True      1      1.0   \n",
      "ade05d4fe4c2e4a9fe29bb6fb17fb853       NaN     0    NaN      1      NaN   \n",
      "ade05d4fe4c2e4a9fe29bb6fb17fb853       NaN     0    NaN      1      NaN   \n",
      "\n",
      "                                  house outros numero  ypos  player state   \n",
      "60a912f0b274202274c99ba89d942838  I_N_I  False  False     0       0        \\\n",
      "60a912f0b274202274c99ba89d942838  I_N_I  False   True     0       0         \n",
      "60a912f0b274202274c99ba89d942838  I_N_I  False   True     0       0         \n",
      "60a912f0b274202274c99ba89d942838  I_N_I  False   True     0       0         \n",
      "60a912f0b274202274c99ba89d942838  I_N_I  False  False     0       0         \n",
      "...                                 ...    ...    ...   ...     ...   ...   \n",
      "1cd2b7dda8e6ef0c9b546e99d2f5a4fa  I_N_I  False  False     0       0         \n",
      "1cd2b7dda8e6ef0c9b546e99d2f5a4fa  I_N_I    NaN    NaN     0       0         \n",
      "ade05d4fe4c2e4a9fe29bb6fb17fb853  I_N_I  False  False     0       0         \n",
      "ade05d4fe4c2e4a9fe29bb6fb17fb853  I_N_I    NaN    NaN     0       0         \n",
      "ade05d4fe4c2e4a9fe29bb6fb17fb853  I_N_I    NaN    NaN     0       0         \n",
      "\n",
      "                                  result  time_trial marker  \n",
      "60a912f0b274202274c99ba89d942838       1         NaN  I_N_I  \n",
      "60a912f0b274202274c99ba89d942838       1         NaN  I_N_I  \n",
      "60a912f0b274202274c99ba89d942838       1         NaN  I_N_I  \n",
      "60a912f0b274202274c99ba89d942838       1         NaN  I_N_I  \n",
      "60a912f0b274202274c99ba89d942838       1         NaN  I_N_I  \n",
      "...                                  ...         ...    ...  \n",
      "1cd2b7dda8e6ef0c9b546e99d2f5a4fa       1         NaN  I_N_I  \n",
      "1cd2b7dda8e6ef0c9b546e99d2f5a4fa       5         NaN  I_N_I  \n",
      "ade05d4fe4c2e4a9fe29bb6fb17fb853       1         NaN  I_N_I  \n",
      "ade05d4fe4c2e4a9fe29bb6fb17fb853       4         NaN  I_N_I  \n",
      "ade05d4fe4c2e4a9fe29bb6fb17fb853       4         NaN  I_N_I  \n",
      "\n",
      "[489 rows x 14 columns]\n",
      "                                  ano1  idade1 sexo1   \n",
      "1cd2b7dda8e6ef0c9b546e99d2f5a4fa     4       9     F  \\\n",
      "1cd2b7dda8e6ef0c9b546e99d2f5a4fa     4       9     F   \n",
      "1cd2b7dda8e6ef0c9b546e99d2f5a4fa     4       9     F   \n",
      "1cd2b7dda8e6ef0c9b546e99d2f5a4fa     4       9     F   \n",
      "1cd2b7dda8e6ef0c9b546e99d2f5a4fa     4       9     F   \n",
      "...                                ...     ...   ...   \n",
      "a2a94e3eae95eafa1ed0664cee7ad5b7     2       5     M   \n",
      "a2a94e3eae95eafa1ed0664cee7ad5b7     2       5     M   \n",
      "ade05d4fe4c2e4a9fe29bb6fb17fb853     4       9     F   \n",
      "ade05d4fe4c2e4a9fe29bb6fb17fb853     4       9     F   \n",
      "ade05d4fe4c2e4a9fe29bb6fb17fb853     4       9     F   \n",
      "\n",
      "                                                   starttime   \n",
      "1cd2b7dda8e6ef0c9b546e99d2f5a4fa  2012-06-12 10:24:22.012797  \\\n",
      "1cd2b7dda8e6ef0c9b546e99d2f5a4fa  2012-06-12 10:24:22.012797   \n",
      "1cd2b7dda8e6ef0c9b546e99d2f5a4fa  2012-06-12 10:24:22.012797   \n",
      "1cd2b7dda8e6ef0c9b546e99d2f5a4fa  2012-06-12 10:24:22.012797   \n",
      "1cd2b7dda8e6ef0c9b546e99d2f5a4fa  2012-06-12 10:24:22.012797   \n",
      "...                                                      ...   \n",
      "a2a94e3eae95eafa1ed0664cee7ad5b7  2012-06-12 09:25:25.917915   \n",
      "a2a94e3eae95eafa1ed0664cee7ad5b7  2012-06-12 09:25:25.917915   \n",
      "ade05d4fe4c2e4a9fe29bb6fb17fb853  2012-06-12 10:29:10.163174   \n",
      "ade05d4fe4c2e4a9fe29bb6fb17fb853  2012-06-12 10:29:10.163174   \n",
      "ade05d4fe4c2e4a9fe29bb6fb17fb853  2012-06-12 10:29:10.163174   \n",
      "\n",
      "                                                     endtime tipoescola   \n",
      "1cd2b7dda8e6ef0c9b546e99d2f5a4fa  2012-06-12 10:33:59.124491    privada  \\\n",
      "1cd2b7dda8e6ef0c9b546e99d2f5a4fa  2012-06-12 10:33:59.124491    privada   \n",
      "1cd2b7dda8e6ef0c9b546e99d2f5a4fa  2012-06-12 10:33:59.124491    privada   \n",
      "1cd2b7dda8e6ef0c9b546e99d2f5a4fa  2012-06-12 10:33:59.124491    privada   \n",
      "1cd2b7dda8e6ef0c9b546e99d2f5a4fa  2012-06-12 10:33:59.124491    privada   \n",
      "...                                                      ...        ...   \n",
      "a2a94e3eae95eafa1ed0664cee7ad5b7                                publica   \n",
      "a2a94e3eae95eafa1ed0664cee7ad5b7                                publica   \n",
      "ade05d4fe4c2e4a9fe29bb6fb17fb853  2012-06-12 10:32:45.502631    privada   \n",
      "ade05d4fe4c2e4a9fe29bb6fb17fb853  2012-06-12 10:32:45.502631    privada   \n",
      "ade05d4fe4c2e4a9fe29bb6fb17fb853  2012-06-12 10:32:45.502631    privada   \n",
      "\n",
      "                                       name  maxlevel   \n",
      "1cd2b7dda8e6ef0c9b546e99d2f5a4fa  wisconsin         1  \\\n",
      "1cd2b7dda8e6ef0c9b546e99d2f5a4fa  wisconsin         1   \n",
      "1cd2b7dda8e6ef0c9b546e99d2f5a4fa  wisconsin         1   \n",
      "1cd2b7dda8e6ef0c9b546e99d2f5a4fa  wisconsin         1   \n",
      "1cd2b7dda8e6ef0c9b546e99d2f5a4fa  wisconsin         1   \n",
      "...                                     ...       ...   \n",
      "a2a94e3eae95eafa1ed0664cee7ad5b7  wisconsin         1   \n",
      "a2a94e3eae95eafa1ed0664cee7ad5b7  wisconsin         1   \n",
      "ade05d4fe4c2e4a9fe29bb6fb17fb853  wisconsin         1   \n",
      "ade05d4fe4c2e4a9fe29bb6fb17fb853  wisconsin         1   \n",
      "ade05d4fe4c2e4a9fe29bb6fb17fb853  wisconsin         1   \n",
      "\n",
      "                                                    time_one   \n",
      "1cd2b7dda8e6ef0c9b546e99d2f5a4fa  2012-06-12 10:28:12.403980  \\\n",
      "1cd2b7dda8e6ef0c9b546e99d2f5a4fa  2012-06-12 10:28:12.403980   \n",
      "1cd2b7dda8e6ef0c9b546e99d2f5a4fa  2012-06-12 10:28:12.403980   \n",
      "1cd2b7dda8e6ef0c9b546e99d2f5a4fa  2012-06-12 10:28:12.403980   \n",
      "1cd2b7dda8e6ef0c9b546e99d2f5a4fa  2012-06-12 10:28:12.403980   \n",
      "...                                                      ...   \n",
      "a2a94e3eae95eafa1ed0664cee7ad5b7  2012-06-12 09:34:09.038479   \n",
      "a2a94e3eae95eafa1ed0664cee7ad5b7  2012-06-12 09:34:09.038479   \n",
      "ade05d4fe4c2e4a9fe29bb6fb17fb853  2012-06-12 10:29:31.263183   \n",
      "ade05d4fe4c2e4a9fe29bb6fb17fb853  2012-06-12 10:29:31.263183   \n",
      "ade05d4fe4c2e4a9fe29bb6fb17fb853  2012-06-12 10:29:31.263183   \n",
      "\n",
      "                                  categoria_houses  ...  acertos  house   \n",
      "1cd2b7dda8e6ef0c9b546e99d2f5a4fa               NaN  ...      1.0  I_N_I  \\\n",
      "1cd2b7dda8e6ef0c9b546e99d2f5a4fa               NaN  ...      2.0  I_N_I   \n",
      "1cd2b7dda8e6ef0c9b546e99d2f5a4fa               NaN  ...      0.0  I_N_I   \n",
      "1cd2b7dda8e6ef0c9b546e99d2f5a4fa               NaN  ...      1.0  I_N_I   \n",
      "1cd2b7dda8e6ef0c9b546e99d2f5a4fa               NaN  ...      2.0  I_N_I   \n",
      "...                                            ...  ...      ...    ...   \n",
      "a2a94e3eae95eafa1ed0664cee7ad5b7               NaN  ...      7.0  I_N_I   \n",
      "a2a94e3eae95eafa1ed0664cee7ad5b7               NaN  ...      NaN  I_N_I   \n",
      "ade05d4fe4c2e4a9fe29bb6fb17fb853               NaN  ...      1.0  I_N_I   \n",
      "ade05d4fe4c2e4a9fe29bb6fb17fb853               NaN  ...      NaN  I_N_I   \n",
      "ade05d4fe4c2e4a9fe29bb6fb17fb853               NaN  ...      NaN  I_N_I   \n",
      "\n",
      "                                  outros numero ypos player state result   \n",
      "1cd2b7dda8e6ef0c9b546e99d2f5a4fa   False  False    0      0            1  \\\n",
      "1cd2b7dda8e6ef0c9b546e99d2f5a4fa   False  False    0      0            1   \n",
      "1cd2b7dda8e6ef0c9b546e99d2f5a4fa   False  False    0      0            1   \n",
      "1cd2b7dda8e6ef0c9b546e99d2f5a4fa   False   True    0      0            1   \n",
      "1cd2b7dda8e6ef0c9b546e99d2f5a4fa   False  False    0      0            1   \n",
      "...                                  ...    ...  ...    ...   ...    ...   \n",
      "a2a94e3eae95eafa1ed0664cee7ad5b7   False  False    0      0            1   \n",
      "a2a94e3eae95eafa1ed0664cee7ad5b7     NaN    NaN    0      0            5   \n",
      "ade05d4fe4c2e4a9fe29bb6fb17fb853   False  False    0      0            1   \n",
      "ade05d4fe4c2e4a9fe29bb6fb17fb853     NaN    NaN    0      0            4   \n",
      "ade05d4fe4c2e4a9fe29bb6fb17fb853     NaN    NaN    0      0            4   \n",
      "\n",
      "                                 time_trial marker  \n",
      "1cd2b7dda8e6ef0c9b546e99d2f5a4fa        NaN  I_N_I  \n",
      "1cd2b7dda8e6ef0c9b546e99d2f5a4fa        NaN  I_N_I  \n",
      "1cd2b7dda8e6ef0c9b546e99d2f5a4fa        NaN  I_N_I  \n",
      "1cd2b7dda8e6ef0c9b546e99d2f5a4fa        NaN  I_N_I  \n",
      "1cd2b7dda8e6ef0c9b546e99d2f5a4fa        NaN  I_N_I  \n",
      "...                                     ...    ...  \n",
      "a2a94e3eae95eafa1ed0664cee7ad5b7        NaN  I_N_I  \n",
      "a2a94e3eae95eafa1ed0664cee7ad5b7        NaN  I_N_I  \n",
      "ade05d4fe4c2e4a9fe29bb6fb17fb853        NaN  I_N_I  \n",
      "ade05d4fe4c2e4a9fe29bb6fb17fb853        NaN  I_N_I  \n",
      "ade05d4fe4c2e4a9fe29bb6fb17fb853        NaN  I_N_I  \n",
      "\n",
      "[947 rows x 46 columns]\n"
     ]
    }
   ],
   "source": [
    "from WisconsinClasses import WisconsinPlayers\n",
    "\n",
    "wis = WisconsinPlayers().file_demographics(date=\"2012\", start_count=(100, 120), name=\"wisconsin.csv\")\n"
   ],
   "metadata": {
    "collapsed": false,
    "ExecuteTime": {
     "end_time": "2023-06-22T17:16:14.521962398Z",
     "start_time": "2023-06-22T17:15:58.304061876Z"
    }
   }
  },
  {
   "cell_type": "code",
   "execution_count": 2,
   "outputs": [
    {
     "data": {
      "text/plain": "<seaborn.axisgrid.FacetGrid at 0x7fea205b3070>"
     },
     "execution_count": 2,
     "metadata": {},
     "output_type": "execute_result"
    },
    {
     "data": {
      "text/plain": "<Figure size 360x360 with 1 Axes>",
      "image/png": "[encoded data removed]"
     },
     "metadata": {},
     "output_type": "display_data"
    }
   ],
   "source": [
    "import seaborn as sns\n",
    "from WisconsinClasses import WisconsinPandas\n",
    "\n",
    "sns.catplot(x='tipoescola', y='acertosConsecutivos', data=wis)"
   ],
   "metadata": {
    "collapsed": false,
    "ExecuteTime": {
     "end_time": "2023-06-22T17:16:14.740551789Z",
     "start_time": "2023-06-22T17:16:14.441206454Z"
    }
   }
  },
  {
   "cell_type": "code",
   "execution_count": 3,
   "outputs": [
    {
     "data": {
      "text/plain": "<seaborn.axisgrid.FacetGrid at 0x7fe9d402d3f0>"
     },
     "execution_count": 3,
     "metadata": {},
     "output_type": "execute_result"
    },
    {
     "data": {
      "text/plain": "<Figure size 360x360 with 1 Axes>",
      "image/png": "[encoded data removed]"
     },
     "metadata": {},
     "output_type": "display_data"
    }
   ],
   "source": [
    "sns.catplot(x='sexo1', y='tipoescola', data=wis)"
   ],
   "metadata": {
    "collapsed": false,
    "ExecuteTime": {
     "end_time": "2023-06-22T17:16:15.039571883Z",
     "start_time": "2023-06-22T17:16:14.737099829Z"
    }
   }
  },
  {
   "cell_type": "code",
   "execution_count": 4,
   "outputs": [
    {
     "data": {
      "text/plain": "<seaborn.axisgrid.FacetGrid at 0x7fe9d402d960>"
     },
     "execution_count": 4,
     "metadata": {},
     "output_type": "execute_result"
    },
    {
     "data": {
      "text/plain": "<Figure size 360x360 with 1 Axes>",
      "image/png": "[encoded data removed]"
     },
     "metadata": {},
     "output_type": "display_data"
    }
   ],
   "source": [
    "sns.catplot(x='idade1', y='tipoescola', data=wis)"
   ],
   "metadata": {
    "collapsed": false,
    "ExecuteTime": {
     "end_time": "2023-06-22T17:16:15.465301265Z",
     "start_time": "2023-06-22T17:16:15.086373509Z"
    }
   }
  },
  {
   "cell_type": "code",
   "execution_count": 5,
   "outputs": [
    {
     "data": {
      "text/plain": "     ano1  idade1 sexo1                   starttime   \n0       4       9     F  2012-06-12 10:24:22.012797  \\\n1       4       9     F  2012-06-12 10:24:22.012797   \n2       4       9     F  2012-06-12 10:24:22.012797   \n3       4       9     F  2012-06-12 10:24:22.012797   \n4       4       9     F  2012-06-12 10:24:22.012797   \n..    ...     ...   ...                         ...   \n942     2       5     M  2012-06-12 09:25:25.917915   \n943     2       5     M  2012-06-12 09:25:25.917915   \n944     4       9     F  2012-06-12 10:29:10.163174   \n945     4       9     F  2012-06-12 10:29:10.163174   \n946     4       9     F  2012-06-12 10:29:10.163174   \n\n                        endtime tipoescola       name  maxlevel   \n0    2012-06-12 10:33:59.124491    privada  wisconsin         1  \\\n1    2012-06-12 10:33:59.124491    privada  wisconsin         1   \n2    2012-06-12 10:33:59.124491    privada  wisconsin         1   \n3    2012-06-12 10:33:59.124491    privada  wisconsin         1   \n4    2012-06-12 10:33:59.124491    privada  wisconsin         1   \n..                          ...        ...        ...       ...   \n942                         NaN    publica  wisconsin         1   \n943                         NaN    publica  wisconsin         1   \n944  2012-06-12 10:32:45.502631    privada  wisconsin         1   \n945  2012-06-12 10:32:45.502631    privada  wisconsin         1   \n946  2012-06-12 10:32:45.502631    privada  wisconsin         1   \n\n                        timeOne  categoria  ...     h0     h1     h2  h3 h4   \n0    2012-06-12 10:28:12.403980        NaN  ...  I_N_I  False  False   0  0  \\\n1    2012-06-12 10:28:12.403980        NaN  ...  I_N_I  False  False   0  0   \n2    2012-06-12 10:28:12.403980        NaN  ...  I_N_I  False  False   0  0   \n3    2012-06-12 10:28:12.403980        NaN  ...  I_N_I  False   True   0  0   \n4    2012-06-12 10:28:12.403980        NaN  ...  I_N_I  False  False   0  0   \n..                          ...        ...  ...    ...    ...    ...  .. ..   \n942  2012-06-12 09:34:09.038479        NaN  ...  I_N_I  False  False   0  0   \n943  2012-06-12 09:34:09.038479        NaN  ...  I_N_I    NaN    NaN   0  0   \n944  2012-06-12 10:29:31.263183        NaN  ...  I_N_I  False  False   0  0   \n945  2012-06-12 10:29:31.263183        NaN  ...  I_N_I    NaN    NaN   0  0   \n946  2012-06-12 10:29:31.263183        NaN  ...  I_N_I    NaN    NaN   0  0   \n\n     h5 h6  h7   time level  \n0   NaN  1 NaN  I_N_I   NaN  \n1   NaN  1 NaN  I_N_I   NaN  \n2   NaN  1 NaN  I_N_I   NaN  \n3   NaN  1 NaN  I_N_I   NaN  \n4   NaN  1 NaN  I_N_I   NaN  \n..   .. ..  ..    ...   ...  \n942 NaN  1 NaN  I_N_I   NaN  \n943 NaN  5 NaN  I_N_I   NaN  \n944 NaN  1 NaN  I_N_I   NaN  \n945 NaN  4 NaN  I_N_I   NaN  \n946 NaN  4 NaN  I_N_I   NaN  \n\n[947 rows x 47 columns]",
      "text/html": "<div>\n<style scoped>\n    .dataframe tbody tr th:only-of-type {\n        vertical-align: middle;\n    }\n\n    .dataframe tbody tr th {\n        vertical-align: top;\n    }\n\n    .dataframe thead th {\n        text-align: right;\n    }\n</style>\n<table border=\"1\" class=\"dataframe\">\n  <thead>\n    <tr style=\"text-align: right;\">\n      <th></th>\n      <th>ano1</th>\n      <th>idade1</th>\n      <th>sexo1</th>\n      <th>starttime</th>\n      <th>endtime</th>\n      <th>tipoescola</th>\n      <th>name</th>\n      <th>maxlevel</th>\n      <th>timeOne</th>\n      <th>categoria</th>\n      <th>...</th>\n      <th>h0</th>\n      <th>h1</th>\n      <th>h2</th>\n      <th>h3</th>\n      <th>h4</th>\n      <th>h5</th>\n      <th>h6</th>\n      <th>h7</th>\n      <th>time</th>\n      <th>level</th>\n    </tr>\n  </thead>\n  <tbody>\n    <tr>\n      <th>0</th>\n      <td>4</td>\n      <td>9</td>\n      <td>F</td>\n      <td>2012-06-12 10:24:22.012797</td>\n      <td>2012-06-12 10:33:59.124491</td>\n      <td>privada</td>\n      <td>wisconsin</td>\n      <td>1</td>\n      <td>2012-06-12 10:28:12.403980</td>\n      <td>NaN</td>\n      <td>...</td>\n      <td>I_N_I</td>\n      <td>False</td>\n      <td>False</td>\n      <td>0</td>\n      <td>0</td>\n      <td>NaN</td>\n      <td>1</td>\n      <td>NaN</td>\n      <td>I_N_I</td>\n      <td>NaN</td>\n    </tr>\n    <tr>\n      <th>1</th>\n      <td>4</td>\n      <td>9</td>\n      <td>F</td>\n      <td>2012-06-12 10:24:22.012797</td>\n      <td>2012-06-12 10:33:59.124491</td>\n      <td>privada</td>\n      <td>wisconsin</td>\n      <td>1</td>\n      <td>2012-06-12 10:28:12.403980</td>\n      <td>NaN</td>\n      <td>...</td>\n      <td>I_N_I</td>\n      <td>False</td>\n      <td>False</td>\n      <td>0</td>\n      <td>0</td>\n      <td>NaN</td>\n      <td>1</td>\n      <td>NaN</td>\n      <td>I_N_I</td>\n      <td>NaN</td>\n    </tr>\n    <tr>\n      <th>2</th>\n      <td>4</td>\n      <td>9</td>\n      <td>F</td>\n      <td>2012-06-12 10:24:22.012797</td>\n      <td>2012-06-12 10:33:59.124491</td>\n      <td>privada</td>\n      <td>wisconsin</td>\n      <td>1</td>\n      <td>2012-06-12 10:28:12.403980</td>\n      <td>NaN</td>\n      <td>...</td>\n      <td>I_N_I</td>\n      <td>False</td>\n      <td>False</td>\n      <td>0</td>\n      <td>0</td>\n      <td>NaN</td>\n      <td>1</td>\n      <td>NaN</td>\n      <td>I_N_I</td>\n      <td>NaN</td>\n    </tr>\n    <tr>\n      <th>3</th>\n      <td>4</td>\n      <td>9</td>\n      <td>F</td>\n      <td>2012-06-12 10:24:22.012797</td>\n      <td>2012-06-12 10:33:59.124491</td>\n      <td>privada</td>\n      <td>wisconsin</td>\n      <td>1</td>\n      <td>2012-06-12 10:28:12.403980</td>\n      <td>NaN</td>\n      <td>...</td>\n      <td>I_N_I</td>\n      <td>False</td>\n      <td>True</td>\n      <td>0</td>\n      <td>0</td>\n      <td>NaN</td>\n      <td>1</td>\n      <td>NaN</td>\n      <td>I_N_I</td>\n      <td>NaN</td>\n    </tr>\n    <tr>\n      <th>4</th>\n      <td>4</td>\n      <td>9</td>\n      <td>F</td>\n      <td>2012-06-12 10:24:22.012797</td>\n      <td>2012-06-12 10:33:59.124491</td>\n      <td>privada</td>\n      <td>wisconsin</td>\n      <td>1</td>\n      <td>2012-06-12 10:28:12.403980</td>\n      <td>NaN</td>\n      <td>...</td>\n      <td>I_N_I</td>\n      <td>False</td>\n      <td>False</td>\n      <td>0</td>\n      <td>0</td>\n      <td>NaN</td>\n      <td>1</td>\n      <td>NaN</td>\n      <td>I_N_I</td>\n      <td>NaN</td>\n    </tr>\n    <tr>\n      <th>...</th>\n      <td>...</td>\n      <td>...</td>\n      <td>...</td>\n      <td>...</td>\n      <td>...</td>\n      <td>...</td>\n      <td>...</td>\n      <td>...</td>\n      <td>...</td>\n      <td>...</td>\n      <td>...</td>\n      <td>...</td>\n      <td>...</td>\n      <td>...</td>\n      <td>...</td>\n      <td>...</td>\n      <td>...</td>\n      <td>...</td>\n      <td>...</td>\n      <td>...</td>\n      <td>...</td>\n    </tr>\n    <tr>\n      <th>942</th>\n      <td>2</td>\n      <td>5</td>\n      <td>M</td>\n      <td>2012-06-12 09:25:25.917915</td>\n      <td>NaN</td>\n      <td>publica</td>\n      <td>wisconsin</td>\n      <td>1</td>\n      <td>2012-06-12 09:34:09.038479</td>\n      <td>NaN</td>\n      <td>...</td>\n      <td>I_N_I</td>\n      <td>False</td>\n      <td>False</td>\n      <td>0</td>\n      <td>0</td>\n      <td>NaN</td>\n      <td>1</td>\n      <td>NaN</td>\n      <td>I_N_I</td>\n      <td>NaN</td>\n    </tr>\n    <tr>\n      <th>943</th>\n      <td>2</td>\n      <td>5</td>\n      <td>M</td>\n      <td>2012-06-12 09:25:25.917915</td>\n      <td>NaN</td>\n      <td>publica</td>\n      <td>wisconsin</td>\n      <td>1</td>\n      <td>2012-06-12 09:34:09.038479</td>\n      <td>NaN</td>\n      <td>...</td>\n      <td>I_N_I</td>\n      <td>NaN</td>\n      <td>NaN</td>\n      <td>0</td>\n      <td>0</td>\n      <td>NaN</td>\n      <td>5</td>\n      <td>NaN</td>\n      <td>I_N_I</td>\n      <td>NaN</td>\n    </tr>\n    <tr>\n      <th>944</th>\n      <td>4</td>\n      <td>9</td>\n      <td>F</td>\n      <td>2012-06-12 10:29:10.163174</td>\n      <td>2012-06-12 10:32:45.502631</td>\n      <td>privada</td>\n      <td>wisconsin</td>\n      <td>1</td>\n      <td>2012-06-12 10:29:31.263183</td>\n      <td>NaN</td>\n      <td>...</td>\n      <td>I_N_I</td>\n      <td>False</td>\n      <td>False</td>\n      <td>0</td>\n      <td>0</td>\n      <td>NaN</td>\n      <td>1</td>\n      <td>NaN</td>\n      <td>I_N_I</td>\n      <td>NaN</td>\n    </tr>\n    <tr>\n      <th>945</th>\n      <td>4</td>\n      <td>9</td>\n      <td>F</td>\n      <td>2012-06-12 10:29:10.163174</td>\n      <td>2012-06-12 10:32:45.502631</td>\n      <td>privada</td>\n      <td>wisconsin</td>\n      <td>1</td>\n      <td>2012-06-12 10:29:31.263183</td>\n      <td>NaN</td>\n      <td>...</td>\n      <td>I_N_I</td>\n      <td>NaN</td>\n      <td>NaN</td>\n      <td>0</td>\n      <td>0</td>\n      <td>NaN</td>\n      <td>4</td>\n      <td>NaN</td>\n      <td>I_N_I</td>\n      <td>NaN</td>\n    </tr>\n    <tr>\n      <th>946</th>\n      <td>4</td>\n      <td>9</td>\n      <td>F</td>\n      <td>2012-06-12 10:29:10.163174</td>\n      <td>2012-06-12 10:32:45.502631</td>\n      <td>privada</td>\n      <td>wisconsin</td>\n      <td>1</td>\n      <td>2012-06-12 10:29:31.263183</td>\n      <td>NaN</td>\n      <td>...</td>\n      <td>I_N_I</td>\n      <td>NaN</td>\n      <td>NaN</td>\n      <td>0</td>\n      <td>0</td>\n      <td>NaN</td>\n      <td>4</td>\n      <td>NaN</td>\n      <td>I_N_I</td>\n      <td>NaN</td>\n    </tr>\n  </tbody>\n</table>\n<p>947 rows × 47 columns</p>\n</div>"
     },
     "execution_count": 5,
     "metadata": {},
     "output_type": "execute_result"
    }
   ],
   "source": [
    "from WisconsinClasses import WisconsinPandas\n",
    "\n",
    "rp_wis = WisconsinPandas()\n",
    "rp_wis.data"
   ],
   "metadata": {
    "collapsed": false,
    "ExecuteTime": {
     "end_time": "2023-06-22T17:16:15.466360924Z",
     "start_time": "2023-06-22T17:16:15.409444450Z"
    }
   }
  },
  {
   "cell_type": "code",
   "execution_count": 6,
   "outputs": [
    {
     "data": {
      "text/plain": "<seaborn.axisgrid.FacetGrid at 0x7fe9d3d135e0>"
     },
     "execution_count": 6,
     "metadata": {},
     "output_type": "execute_result"
    },
    {
     "data": {
      "text/plain": "<Figure size 360x360 with 1 Axes>",
      "image/png": "[encoded data removed]"
     },
     "metadata": {},
     "output_type": "display_data"
    }
   ],
   "source": [
    "from WisconsinClasses import WisconsinPandas\n",
    "import seaborn as sns\n",
    "\n",
    "wis = WisconsinPandas().data\n",
    "sns.catplot(x='sexo1', y='idade1', data=wis)"
   ],
   "metadata": {
    "collapsed": false,
    "ExecuteTime": {
     "end_time": "2023-06-22T17:16:15.814900641Z",
     "start_time": "2023-06-22T17:16:15.465663559Z"
    }
   }
  },
  {
   "cell_type": "code",
   "execution_count": 6,
   "outputs": [],
   "source": [],
   "metadata": {
    "collapsed": false,
    "ExecuteTime": {
     "end_time": "2023-06-22T17:16:15.879706393Z",
     "start_time": "2023-06-22T17:16:15.813727900Z"
    }
   }
  },
  {
   "cell_type": "code",
   "execution_count": 6,
   "outputs": [],
   "source": [],
   "metadata": {
    "collapsed": false,
    "ExecuteTime": {
     "end_time": "2023-06-22T17:16:15.880081727Z",
     "start_time": "2023-06-22T17:16:15.857644281Z"
    }
   }
  }
 ],
 "metadata": {
  "kernelspec": {
   "display_name": "Python 3",
   "language": "python",
   "name": "python3"
  },
  "language_info": {
   "codemirror_mode": {
    "name": "ipython",
    "version": 2
   },
   "file_extension": ".py",
   "mimetype": "text/x-python",
   "name": "python",
   "nbconvert_exporter": "python",
   "pygments_lexer": "ipython2",
   "version": "2.7.6"
  }
 },
 "nbformat": 4,
 "nbformat_minor": 0
}
