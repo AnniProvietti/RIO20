{
 "cells": [
  {
   "cell_type": "code",
   "execution_count": 3,
   "outputs": [
    {
     "name": "stdout",
     "output_type": "stream",
     "text": [
      "      ano1  idade1 sexo1                   starttime endtime tipoescola   \n",
      "0      2.0     6.0     M  2012-06-06 17:18:12.646971            publica  \\\n",
      "1      2.0     6.0     M  2012-06-06 17:18:12.646971            publica   \n",
      "2      5.0     9.0     F  2012-06-11 10:27:14.413150            publica   \n",
      "3      5.0     9.0     F  2012-06-11 10:27:14.413150            publica   \n",
      "4      1.0     5.0     M  2012-06-11 13:05:12.166671            publica   \n",
      "...    ...     ...   ...                         ...     ...        ...   \n",
      "1873   NaN     NaN   NaN                         NaN     NaN        NaN   \n",
      "1874   NaN     NaN   NaN                         NaN     NaN        NaN   \n",
      "1875   NaN     NaN   NaN                         NaN     NaN        NaN   \n",
      "1876   NaN     NaN   NaN                         NaN     NaN        NaN   \n",
      "1877   NaN     NaN   NaN                         NaN     NaN        NaN   \n",
      "\n",
      "           name  maxlevel                        time  categoria  ...   \n",
      "0     wisconsin       1.0  2012-06-06 17:18:15.946830        0.0  ...  \\\n",
      "1     wisconsin       1.0  2012-06-06 17:30:45.484710        0.0  ...   \n",
      "2     wisconsin       1.0  2012-06-11 10:29:50.585336        0.0  ...   \n",
      "3     wisconsin       1.0  2012-06-11 10:30:26.777597        0.0  ...   \n",
      "4     wisconsin       1.0  2012-06-11 13:07:55.323756        0.0  ...   \n",
      "...         ...       ...                         ...        ...  ...   \n",
      "1873        NaN       NaN                         NaN        NaN  ...   \n",
      "1874        NaN       NaN                         NaN        NaN  ...   \n",
      "1875        NaN       NaN                         NaN        NaN  ...   \n",
      "1876        NaN       NaN                         NaN        NaN  ...   \n",
      "1877        NaN       NaN                         NaN        NaN  ...   \n",
      "\n",
      "                   0          1        2    3      4       5       6   \n",
      "0     Carta resposta  Categoria  Acertos  Cor  Forma  Número  Outros  \\\n",
      "1     Carta resposta  Categoria  Acertos  Cor  Forma  Número  Outros   \n",
      "2     Carta resposta  Categoria  Acertos  Cor  Forma  Número  Outros   \n",
      "3     Carta resposta  Categoria  Acertos  Cor  Forma  Número  Outros   \n",
      "4     Carta resposta  Categoria  Acertos  Cor  Forma  Número  Outros   \n",
      "...              ...        ...      ...  ...    ...     ...     ...   \n",
      "1873             NaN        NaN      NaN  NaN    NaN     NaN     NaN   \n",
      "1874             NaN        NaN      NaN  NaN    NaN     NaN     NaN   \n",
      "1875             NaN        NaN      NaN  NaN    NaN     NaN     NaN   \n",
      "1876             NaN        NaN      NaN  NaN    NaN     NaN     NaN   \n",
      "1877             NaN        NaN      NaN  NaN    NaN     NaN     NaN   \n",
      "\n",
      "              7                           0    0  \n",
      "0     Data/Hora  2012-06-06 17:18:15.946928  1.0  \n",
      "1     Data/Hora  2012-06-06 17:30:45.484799  1.0  \n",
      "2     Data/Hora  2012-06-11 10:29:50.585433  1.0  \n",
      "3     Data/Hora  2012-06-11 10:30:26.777687  1.0  \n",
      "4     Data/Hora  2012-06-11 13:07:55.323857  1.0  \n",
      "...         ...                         ...  ...  \n",
      "1873        NaN                         NaN  NaN  \n",
      "1874        NaN                         NaN  NaN  \n",
      "1875        NaN                         NaN  NaN  \n",
      "1876        NaN                         NaN  NaN  \n",
      "1877        NaN                         NaN  NaN  \n",
      "\n",
      "[1878 rows x 46 columns]\n"
     ]
    }
   ],
   "source": [
    "from WisconsinClasses import WisconsinPlayers\n",
    "\n",
    "wis = WisconsinPlayers().file_demographics(date=\"2012\", start_count=(0, 200), name=\"wisconsin.csv\")\n"
   ],
   "metadata": {
    "collapsed": false,
    "ExecuteTime": {
     "end_time": "2023-06-13T16:38:30.403400233Z",
     "start_time": "2023-06-13T16:36:16.159742227Z"
    }
   }
  },
  {
   "cell_type": "code",
   "execution_count": 5,
   "outputs": [
    {
     "ename": "ValueError",
     "evalue": "Could not interpret value `tipoescola` for parameter `x`",
     "output_type": "error",
     "traceback": [
      "\u001B[0;31m---------------------------------------------------------------------------\u001B[0m",
      "\u001B[0;31mValueError\u001B[0m                                Traceback (most recent call last)",
      "\u001B[0;32m/tmp/ipykernel_19286/3441078211.py\u001B[0m in \u001B[0;36m<module>\u001B[0;34m\u001B[0m\n\u001B[1;32m      2\u001B[0m \u001B[0;32mfrom\u001B[0m \u001B[0mWisconsinClasses\u001B[0m \u001B[0;32mimport\u001B[0m \u001B[0mWisconsinPandas\u001B[0m\u001B[0;34m\u001B[0m\u001B[0;34m\u001B[0m\u001B[0m\n\u001B[1;32m      3\u001B[0m \u001B[0;34m\u001B[0m\u001B[0m\n\u001B[0;32m----> 4\u001B[0;31m \u001B[0msns\u001B[0m\u001B[0;34m.\u001B[0m\u001B[0mcatplot\u001B[0m\u001B[0;34m(\u001B[0m\u001B[0mx\u001B[0m\u001B[0;34m=\u001B[0m\u001B[0;34m'tipoescola'\u001B[0m\u001B[0;34m,\u001B[0m \u001B[0my\u001B[0m\u001B[0;34m=\u001B[0m\u001B[0;34m'acertos'\u001B[0m\u001B[0;34m,\u001B[0m \u001B[0mdata\u001B[0m\u001B[0;34m=\u001B[0m\u001B[0mwis\u001B[0m\u001B[0;34m)\u001B[0m\u001B[0;34m\u001B[0m\u001B[0;34m\u001B[0m\u001B[0m\n\u001B[0m",
      "\u001B[0;32m~/.local/lib/python3.10/site-packages/seaborn/categorical.py\u001B[0m in \u001B[0;36mcatplot\u001B[0;34m(data, x, y, hue, row, col, col_wrap, estimator, errorbar, n_boot, units, seed, order, hue_order, row_order, col_order, height, aspect, kind, native_scale, formatter, orient, color, palette, hue_norm, legend, legend_out, sharex, sharey, margin_titles, facet_kws, ci, **kwargs)\u001B[0m\n\u001B[1;32m   3029\u001B[0m     \u001B[0;32mif\u001B[0m \u001B[0mkind\u001B[0m \u001B[0;32min\u001B[0m \u001B[0mrefactored_kinds\u001B[0m\u001B[0;34m:\u001B[0m\u001B[0;34m\u001B[0m\u001B[0;34m\u001B[0m\u001B[0m\n\u001B[1;32m   3030\u001B[0m \u001B[0;34m\u001B[0m\u001B[0m\n\u001B[0;32m-> 3031\u001B[0;31m         p = _CategoricalFacetPlotter(\n\u001B[0m\u001B[1;32m   3032\u001B[0m             \u001B[0mdata\u001B[0m\u001B[0;34m=\u001B[0m\u001B[0mdata\u001B[0m\u001B[0;34m,\u001B[0m\u001B[0;34m\u001B[0m\u001B[0;34m\u001B[0m\u001B[0m\n\u001B[1;32m   3033\u001B[0m             \u001B[0mvariables\u001B[0m\u001B[0;34m=\u001B[0m\u001B[0m_CategoricalFacetPlotter\u001B[0m\u001B[0;34m.\u001B[0m\u001B[0mget_semantics\u001B[0m\u001B[0;34m(\u001B[0m\u001B[0mlocals\u001B[0m\u001B[0;34m(\u001B[0m\u001B[0;34m)\u001B[0m\u001B[0;34m)\u001B[0m\u001B[0;34m,\u001B[0m\u001B[0;34m\u001B[0m\u001B[0;34m\u001B[0m\u001B[0m\n",
      "\u001B[0;32m~/.local/lib/python3.10/site-packages/seaborn/categorical.py\u001B[0m in \u001B[0;36m__init__\u001B[0;34m(self, data, variables, order, orient, require_numeric, legend)\u001B[0m\n\u001B[1;32m     64\u001B[0m     ):\n\u001B[1;32m     65\u001B[0m \u001B[0;34m\u001B[0m\u001B[0m\n\u001B[0;32m---> 66\u001B[0;31m         \u001B[0msuper\u001B[0m\u001B[0;34m(\u001B[0m\u001B[0;34m)\u001B[0m\u001B[0;34m.\u001B[0m\u001B[0m__init__\u001B[0m\u001B[0;34m(\u001B[0m\u001B[0mdata\u001B[0m\u001B[0;34m=\u001B[0m\u001B[0mdata\u001B[0m\u001B[0;34m,\u001B[0m \u001B[0mvariables\u001B[0m\u001B[0;34m=\u001B[0m\u001B[0mvariables\u001B[0m\u001B[0;34m)\u001B[0m\u001B[0;34m\u001B[0m\u001B[0;34m\u001B[0m\u001B[0m\n\u001B[0m\u001B[1;32m     67\u001B[0m \u001B[0;34m\u001B[0m\u001B[0m\n\u001B[1;32m     68\u001B[0m         \u001B[0;31m# This method takes care of some bookkeeping that is necessary because the\u001B[0m\u001B[0;34m\u001B[0m\u001B[0;34m\u001B[0m\u001B[0m\n",
      "\u001B[0;32m~/.local/lib/python3.10/site-packages/seaborn/_oldcore.py\u001B[0m in \u001B[0;36m__init__\u001B[0;34m(self, data, variables)\u001B[0m\n\u001B[1;32m    638\u001B[0m         \u001B[0;31m# information for numeric axes would be information about log scales.\u001B[0m\u001B[0;34m\u001B[0m\u001B[0;34m\u001B[0m\u001B[0m\n\u001B[1;32m    639\u001B[0m         \u001B[0mself\u001B[0m\u001B[0;34m.\u001B[0m\u001B[0m_var_ordered\u001B[0m \u001B[0;34m=\u001B[0m \u001B[0;34m{\u001B[0m\u001B[0;34m\"x\"\u001B[0m\u001B[0;34m:\u001B[0m \u001B[0;32mFalse\u001B[0m\u001B[0;34m,\u001B[0m \u001B[0;34m\"y\"\u001B[0m\u001B[0;34m:\u001B[0m \u001B[0;32mFalse\u001B[0m\u001B[0;34m}\u001B[0m  \u001B[0;31m# alt., used DefaultDict\u001B[0m\u001B[0;34m\u001B[0m\u001B[0;34m\u001B[0m\u001B[0m\n\u001B[0;32m--> 640\u001B[0;31m         \u001B[0mself\u001B[0m\u001B[0;34m.\u001B[0m\u001B[0massign_variables\u001B[0m\u001B[0;34m(\u001B[0m\u001B[0mdata\u001B[0m\u001B[0;34m,\u001B[0m \u001B[0mvariables\u001B[0m\u001B[0;34m)\u001B[0m\u001B[0;34m\u001B[0m\u001B[0;34m\u001B[0m\u001B[0m\n\u001B[0m\u001B[1;32m    641\u001B[0m \u001B[0;34m\u001B[0m\u001B[0m\n\u001B[1;32m    642\u001B[0m         \u001B[0;32mfor\u001B[0m \u001B[0mvar\u001B[0m\u001B[0;34m,\u001B[0m \u001B[0mcls\u001B[0m \u001B[0;32min\u001B[0m \u001B[0mself\u001B[0m\u001B[0;34m.\u001B[0m\u001B[0m_semantic_mappings\u001B[0m\u001B[0;34m.\u001B[0m\u001B[0mitems\u001B[0m\u001B[0;34m(\u001B[0m\u001B[0;34m)\u001B[0m\u001B[0;34m:\u001B[0m\u001B[0;34m\u001B[0m\u001B[0;34m\u001B[0m\u001B[0m\n",
      "\u001B[0;32m~/.local/lib/python3.10/site-packages/seaborn/_oldcore.py\u001B[0m in \u001B[0;36massign_variables\u001B[0;34m(self, data, variables)\u001B[0m\n\u001B[1;32m    699\u001B[0m         \u001B[0;32melse\u001B[0m\u001B[0;34m:\u001B[0m\u001B[0;34m\u001B[0m\u001B[0;34m\u001B[0m\u001B[0m\n\u001B[1;32m    700\u001B[0m             \u001B[0mself\u001B[0m\u001B[0;34m.\u001B[0m\u001B[0minput_format\u001B[0m \u001B[0;34m=\u001B[0m \u001B[0;34m\"long\"\u001B[0m\u001B[0;34m\u001B[0m\u001B[0;34m\u001B[0m\u001B[0m\n\u001B[0;32m--> 701\u001B[0;31m             plot_data, variables = self._assign_variables_longform(\n\u001B[0m\u001B[1;32m    702\u001B[0m                 \u001B[0mdata\u001B[0m\u001B[0;34m,\u001B[0m \u001B[0;34m**\u001B[0m\u001B[0mvariables\u001B[0m\u001B[0;34m,\u001B[0m\u001B[0;34m\u001B[0m\u001B[0;34m\u001B[0m\u001B[0m\n\u001B[1;32m    703\u001B[0m             )\n",
      "\u001B[0;32m~/.local/lib/python3.10/site-packages/seaborn/_oldcore.py\u001B[0m in \u001B[0;36m_assign_variables_longform\u001B[0;34m(self, data, **kwargs)\u001B[0m\n\u001B[1;32m    936\u001B[0m \u001B[0;34m\u001B[0m\u001B[0m\n\u001B[1;32m    937\u001B[0m                 \u001B[0merr\u001B[0m \u001B[0;34m=\u001B[0m \u001B[0;34mf\"Could not interpret value `{val}` for parameter `{key}`\"\u001B[0m\u001B[0;34m\u001B[0m\u001B[0;34m\u001B[0m\u001B[0m\n\u001B[0;32m--> 938\u001B[0;31m                 \u001B[0;32mraise\u001B[0m \u001B[0mValueError\u001B[0m\u001B[0;34m(\u001B[0m\u001B[0merr\u001B[0m\u001B[0;34m)\u001B[0m\u001B[0;34m\u001B[0m\u001B[0;34m\u001B[0m\u001B[0m\n\u001B[0m\u001B[1;32m    939\u001B[0m \u001B[0;34m\u001B[0m\u001B[0m\n\u001B[1;32m    940\u001B[0m             \u001B[0;32melse\u001B[0m\u001B[0;34m:\u001B[0m\u001B[0;34m\u001B[0m\u001B[0;34m\u001B[0m\u001B[0m\n",
      "\u001B[0;31mValueError\u001B[0m: Could not interpret value `tipoescola` for parameter `x`"
     ]
    }
   ],
   "source": [
    "import seaborn as sns\n",
    "from WisconsinClasses import WisconsinPandas\n",
    "\n",
    "sns.catplot(x='tipoescola', y='acertos', data=wis)"
   ],
   "metadata": {
    "collapsed": false,
    "ExecuteTime": {
     "end_time": "2023-06-13T16:38:55.685046599Z",
     "start_time": "2023-06-13T16:38:55.610202427Z"
    }
   }
  },
  {
   "cell_type": "code",
   "execution_count": null,
   "outputs": [],
   "source": [],
   "metadata": {
    "collapsed": false
   }
  }
 ],
 "metadata": {
  "kernelspec": {
   "display_name": "Python 3",
   "language": "python",
   "name": "python3"
  },
  "language_info": {
   "codemirror_mode": {
    "name": "ipython",
    "version": 2
   },
   "file_extension": ".py",
   "mimetype": "text/x-python",
   "name": "python",
   "nbconvert_exporter": "python",
   "pygments_lexer": "ipython2",
   "version": "2.7.6"
  }
 },
 "nbformat": 4,
 "nbformat_minor": 0
}
