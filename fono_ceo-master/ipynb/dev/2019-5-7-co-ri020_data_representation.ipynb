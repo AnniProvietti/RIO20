{
 "cells": [
  {
   "cell_type": "markdown",
   "metadata": {
    "toc": true
   },
   "source": [
    "<h1>Table of Contents<span class=\"tocSkip\"></span></h1>\n",
    "<div class=\"toc\"><ul class=\"toc-item\"><li><span><a href=\"#Downloading-and-representing-Rio+20-data\" data-toc-modified-id=\"Downloading-and-representing-Rio+20-data-1\"><span class=\"toc-item-num\">1&nbsp;&nbsp;</span>Downloading and representing Rio+20 data</a></span></li><li><span><a href=\"#Colecting-data-from-server\" data-toc-modified-id=\"Colecting-data-from-server-2\"><span class=\"toc-item-num\">2&nbsp;&nbsp;</span>Colecting data from server</a></span></li><li><span><a href=\"#Accomodate-data-to-classes\" data-toc-modified-id=\"Accomodate-data-to-classes-3\"><span class=\"toc-item-num\">3&nbsp;&nbsp;</span>Accomodate data to classes</a></span></li><li><span><a href=\"#Select-a-dataset\" data-toc-modified-id=\"Select-a-dataset-4\"><span class=\"toc-item-num\">4&nbsp;&nbsp;</span>Select a dataset</a></span></li><li><span><a href=\"#Investigate-dataset\" data-toc-modified-id=\"Investigate-dataset-5\"><span class=\"toc-item-num\">5&nbsp;&nbsp;</span>Investigate dataset</a></span></li><li><span><a href=\"#6&nbsp;&nbsp;Explore-data-space-with-pandas\" data-toc-modified-id=\"6&nbsp;&nbsp;Explore-data-space-with-pandas-6\"><span class=\"toc-item-num\">6&nbsp;&nbsp;</span>Explore data space with pandas</a></span></li></ul></div>"
   ]
  },
  {
   "cell_type": "markdown",
   "metadata": {},
   "source": [
    "# Downloading and representing Rio+20 data\n",
    "\n",
    "Rio+20 was an experiment with six neuropedagogic games played by around two thousand students.\n",
    "As a first approach to understand these data, the focus will be on Tower of London results.\n",
    "The workflow will be like the steps below\n",
    "  1. collect the data from the server\n",
    "  2. accomodate data to an architecture of classes representing each level\n",
    "  3. sellect an appropiated dataset\n",
    "  4. investigate game results and some basic statistics"
   ]
  },
  {
   "cell_type": "markdown",
   "metadata": {},
   "source": [
    "# Colecting data from server\n",
    "\n",
    "Data must be collected from __ActivUFRJ__ server and data will come in _JSON_ format. [Collect Data](2019-5-7-co-rio20_collect_data.ipynb)"
   ]
  },
  {
   "cell_type": "markdown",
   "metadata": {},
   "source": [
    "# Accomodate data to classes\n",
    "\n",
    "Data collected from the server can be assembled to classes as seen in [Data to Classes](2019-5-7-co-data_to_classes.ipynb)"
   ]
  },
  {
   "cell_type": "markdown",
   "metadata": {},
   "source": [
    "# Select a dataset\n",
    "\n",
    "A certain data set must be selected to delimit research [Select Dataset](2019-5-12-co-select_dataset.ipynb)"
   ]
  },
  {
   "cell_type": "markdown",
   "metadata": {},
   "source": [
    "# Investigate dataset\n",
    "\n",
    "The defined dataset can be investigated to draw some statistics [Investigate Dataset](2019-5-13-co-investigate_dataset.ipynb)"
   ]
  },
  {
   "cell_type": "markdown",
   "metadata": {},
   "source": [
    "<h1 data-toc-modified-id=\"Explore-data-space-with-pandas-6\" id=\"Explore-data-space-with-pandas\"><a class=\"toc-mod-link\" id=\"Explore-data-space-with-pandas-6\"></a><span class=\"toc-item-num\">6&nbsp;&nbsp;</span>Explore data space with pandas</h1>\n",
    "\n",
    "<p>The Rio+20 dataset is a rich space with 1600 students playing neuroscientific tests <a href=\"http://localhost:8888/notebooks/dev/2019-5-30-co-run_pandas_stats_on_csv.ipynb\">Explore Dataspace</a></p>\n"
   ]
  },
  {
   "cell_type": "code",
   "execution_count": null,
   "metadata": {},
   "outputs": [],
   "source": []
  }
 ],
 "metadata": {
  "kernelspec": {
   "display_name": "Python 3",
   "language": "python",
   "name": "python3"
  },
  "language_info": {
   "codemirror_mode": {
    "name": "ipython",
    "version": 3
   },
   "file_extension": ".py",
   "mimetype": "text/x-python",
   "name": "python",
   "nbconvert_exporter": "python",
   "pygments_lexer": "ipython3",
   "version": "3.6.6"
  },
  "toc": {
   "base_numbering": 1,
   "nav_menu": {},
   "number_sections": true,
   "sideBar": true,
   "skip_h1_title": false,
   "title_cell": "Table of Contents",
   "title_sidebar": "Contents",
   "toc_cell": true,
   "toc_position": {
    "height": "calc(100% - 180px)",
    "left": "10px",
    "top": "150px",
    "width": "256px"
   },
   "toc_section_display": true,
   "toc_window_display": true
  }
 },
 "nbformat": 4,
 "nbformat_minor": 2
}
