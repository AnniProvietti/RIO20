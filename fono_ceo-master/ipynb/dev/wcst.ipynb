{
 "cells": [
  {
   "cell_type": "markdown",
   "source": [
    "Estudo do código novo: Game Alite\n",
    "github: https://github.com/labase/data_edu/blob/main/alite/alite_game_spike.ipynb\n",
    "arquivos: GameAlite.py , alite.csv"
   ],
   "metadata": {
    "collapsed": false
   }
  },
  {
   "cell_type": "code",
   "execution_count": 1,
   "metadata": {
    "collapsed": true,
    "ExecuteTime": {
     "end_time": "2023-06-29T14:01:11.385138947Z",
     "start_time": "2023-06-29T14:01:11.297207330Z"
    }
   },
   "outputs": [
    {
     "name": "stdout",
     "output_type": "stream",
     "text": [
      "                                    _id                name   ano       sexo   \n",
      "0  ObjectId('6477ce20f626d3cb95e08c8f')               admin  ano1  masculino  \\\n",
      "1  ObjectId('6477cf19f626d3cb95e08c92')               outro  ano2   feminino   \n",
      "2  ObjectId('647b8008f626d3cb95e08c98')         Pedro Lomba  ano9  masculino   \n",
      "3  ObjectId('647b85f9f626d3cb95e08c9b')              daniel  ano9  masculino   \n",
      "4  ObjectId('647b86cbf626d3cb95e08c9d')            kduzinho  ano1  masculino   \n",
      "5  ObjectId('647b8f68f626d3cb95e08c9f')  Carolina Fantinato  ano9   feminino   \n",
      "6  ObjectId('647fa41a442f27c3f236c16c')              labase  ano1  masculino   \n",
      "7  ObjectId('649d7851b9995c27c863da60')         labase anni  ano1   feminino   \n",
      "\n",
      "    idade                              time   \n",
      "0  anos10  2023-05-31 19:45:52.561244-03:00  \\\n",
      "1   anos9  2023-05-31 19:50:01.899904-03:00   \n",
      "2  anos10  2023-06-03 15:01:44.637563-03:00   \n",
      "3  anos10  2023-06-03 15:27:05.449207-03:00   \n",
      "4   anos1  2023-06-03 15:30:35.506478-03:00   \n",
      "5  anos10  2023-06-03 16:07:20.229405-03:00   \n",
      "6   anos1  2023-06-06 18:24:42.655420-03:00   \n",
      "7  anos10  2023-06-29 09:25:53.347255-03:00   \n",
      "\n",
      "                                               games  \n",
      "0  [{'game': 'wcst', 'goal': 0, 'trial': 0, 'scor...  \n",
      "1  [{'game': 'wcst', 'goal': 0, 'trial': 0, 'scor...  \n",
      "2  [{'game': 'game', 'goal': 0, 'trial': 0, 'scor...  \n",
      "3  [{'game': 'wcst', 'goal': 0, 'trial': 0, 'scor...  \n",
      "4  [{'game': 'game', 'goal': 0, 'trial': 0, 'scor...  \n",
      "5  [{'game': 'game', 'goal': 0, 'trial': 0, 'scor...  \n",
      "6  [{'game': 'game', 'goal': 0, 'trial': 0, 'scor...  \n",
      "7  [{'game': 'game', 'goal': 0, 'trial': 0, 'scor...  \n"
     ]
    }
   ],
   "source": [
    "from GameAlite import Players\n",
    "\n",
    "dados = Players().players_alite()\n",
    "print(dados)"
   ]
  },
  {
   "cell_type": "code",
   "execution_count": 2,
   "outputs": [
    {
     "data": {
      "text/plain": "0    [{'game': 'wcst', 'goal': 0, 'trial': 0, 'scor...\n1    [{'game': 'wcst', 'goal': 0, 'trial': 0, 'scor...\n2    [{'game': 'game', 'goal': 0, 'trial': 0, 'scor...\n3    [{'game': 'wcst', 'goal': 0, 'trial': 0, 'scor...\n4    [{'game': 'game', 'goal': 0, 'trial': 0, 'scor...\n5    [{'game': 'game', 'goal': 0, 'trial': 0, 'scor...\n6    [{'game': 'game', 'goal': 0, 'trial': 0, 'scor...\n7    [{'game': 'game', 'goal': 0, 'trial': 0, 'scor...\nName: games, dtype: object"
     },
     "execution_count": 2,
     "metadata": {},
     "output_type": "execute_result"
    }
   ],
   "source": [
    "dados.games"
   ],
   "metadata": {
    "collapsed": false,
    "ExecuteTime": {
     "end_time": "2023-06-29T14:01:13.341864034Z",
     "start_time": "2023-06-29T14:01:13.248572944Z"
    }
   }
  },
  {
   "cell_type": "code",
   "execution_count": 3,
   "outputs": [
    {
     "data": {
      "text/plain": "                                     id                name   ano       sexo   \n0  ObjectId('6477ce20f626d3cb95e08c8f')               admin  ano1  masculino  \\\n1  ObjectId('6477cf19f626d3cb95e08c92')               outro  ano2   feminino   \n2  ObjectId('647b8008f626d3cb95e08c98')         Pedro Lomba  ano9  masculino   \n3  ObjectId('647b85f9f626d3cb95e08c9b')              daniel  ano9  masculino   \n4  ObjectId('647b86cbf626d3cb95e08c9d')            kduzinho  ano1  masculino   \n5  ObjectId('647b8f68f626d3cb95e08c9f')  Carolina Fantinato  ano9   feminino   \n6  ObjectId('647fa41a442f27c3f236c16c')              labase  ano1  masculino   \n7  ObjectId('649d7851b9995c27c863da60')         labase anni  ano1   feminino   \n\n    idade                              time   \n0  anos10  2023-05-31 19:45:52.561244-03:00  \\\n1   anos9  2023-05-31 19:50:01.899904-03:00   \n2  anos10  2023-06-03 15:01:44.637563-03:00   \n3  anos10  2023-06-03 15:27:05.449207-03:00   \n4   anos1  2023-06-03 15:30:35.506478-03:00   \n5  anos10  2023-06-03 16:07:20.229405-03:00   \n6   anos1  2023-06-06 18:24:42.655420-03:00   \n7  anos10  2023-06-29 09:25:53.347255-03:00   \n\n                                               games  \n0  [{'game': 'wcst', 'goal': 0, 'trial': 0, 'scor...  \n1  [{'game': 'wcst', 'goal': 0, 'trial': 0, 'scor...  \n2  [{'game': 'game', 'goal': 0, 'trial': 0, 'scor...  \n3  [{'game': 'wcst', 'goal': 0, 'trial': 0, 'scor...  \n4  [{'game': 'game', 'goal': 0, 'trial': 0, 'scor...  \n5  [{'game': 'game', 'goal': 0, 'trial': 0, 'scor...  \n6  [{'game': 'game', 'goal': 0, 'trial': 0, 'scor...  \n7  [{'game': 'game', 'goal': 0, 'trial': 0, 'scor...  ",
      "text/html": "<div>\n<style scoped>\n    .dataframe tbody tr th:only-of-type {\n        vertical-align: middle;\n    }\n\n    .dataframe tbody tr th {\n        vertical-align: top;\n    }\n\n    .dataframe thead th {\n        text-align: right;\n    }\n</style>\n<table border=\"1\" class=\"dataframe\">\n  <thead>\n    <tr style=\"text-align: right;\">\n      <th></th>\n      <th>id</th>\n      <th>name</th>\n      <th>ano</th>\n      <th>sexo</th>\n      <th>idade</th>\n      <th>time</th>\n      <th>games</th>\n    </tr>\n  </thead>\n  <tbody>\n    <tr>\n      <th>0</th>\n      <td>ObjectId('6477ce20f626d3cb95e08c8f')</td>\n      <td>admin</td>\n      <td>ano1</td>\n      <td>masculino</td>\n      <td>anos10</td>\n      <td>2023-05-31 19:45:52.561244-03:00</td>\n      <td>[{'game': 'wcst', 'goal': 0, 'trial': 0, 'scor...</td>\n    </tr>\n    <tr>\n      <th>1</th>\n      <td>ObjectId('6477cf19f626d3cb95e08c92')</td>\n      <td>outro</td>\n      <td>ano2</td>\n      <td>feminino</td>\n      <td>anos9</td>\n      <td>2023-05-31 19:50:01.899904-03:00</td>\n      <td>[{'game': 'wcst', 'goal': 0, 'trial': 0, 'scor...</td>\n    </tr>\n    <tr>\n      <th>2</th>\n      <td>ObjectId('647b8008f626d3cb95e08c98')</td>\n      <td>Pedro Lomba</td>\n      <td>ano9</td>\n      <td>masculino</td>\n      <td>anos10</td>\n      <td>2023-06-03 15:01:44.637563-03:00</td>\n      <td>[{'game': 'game', 'goal': 0, 'trial': 0, 'scor...</td>\n    </tr>\n    <tr>\n      <th>3</th>\n      <td>ObjectId('647b85f9f626d3cb95e08c9b')</td>\n      <td>daniel</td>\n      <td>ano9</td>\n      <td>masculino</td>\n      <td>anos10</td>\n      <td>2023-06-03 15:27:05.449207-03:00</td>\n      <td>[{'game': 'wcst', 'goal': 0, 'trial': 0, 'scor...</td>\n    </tr>\n    <tr>\n      <th>4</th>\n      <td>ObjectId('647b86cbf626d3cb95e08c9d')</td>\n      <td>kduzinho</td>\n      <td>ano1</td>\n      <td>masculino</td>\n      <td>anos1</td>\n      <td>2023-06-03 15:30:35.506478-03:00</td>\n      <td>[{'game': 'game', 'goal': 0, 'trial': 0, 'scor...</td>\n    </tr>\n    <tr>\n      <th>5</th>\n      <td>ObjectId('647b8f68f626d3cb95e08c9f')</td>\n      <td>Carolina Fantinato</td>\n      <td>ano9</td>\n      <td>feminino</td>\n      <td>anos10</td>\n      <td>2023-06-03 16:07:20.229405-03:00</td>\n      <td>[{'game': 'game', 'goal': 0, 'trial': 0, 'scor...</td>\n    </tr>\n    <tr>\n      <th>6</th>\n      <td>ObjectId('647fa41a442f27c3f236c16c')</td>\n      <td>labase</td>\n      <td>ano1</td>\n      <td>masculino</td>\n      <td>anos1</td>\n      <td>2023-06-06 18:24:42.655420-03:00</td>\n      <td>[{'game': 'game', 'goal': 0, 'trial': 0, 'scor...</td>\n    </tr>\n    <tr>\n      <th>7</th>\n      <td>ObjectId('649d7851b9995c27c863da60')</td>\n      <td>labase anni</td>\n      <td>ano1</td>\n      <td>feminino</td>\n      <td>anos10</td>\n      <td>2023-06-29 09:25:53.347255-03:00</td>\n      <td>[{'game': 'game', 'goal': 0, 'trial': 0, 'scor...</td>\n    </tr>\n  </tbody>\n</table>\n</div>"
     },
     "execution_count": 3,
     "metadata": {},
     "output_type": "execute_result"
    }
   ],
   "source": [
    "from GameAlite import AlitePandas\n",
    "\n",
    "rp = AlitePandas()\n",
    "rp.data"
   ],
   "metadata": {
    "collapsed": false,
    "ExecuteTime": {
     "end_time": "2023-06-29T14:01:15.126680642Z",
     "start_time": "2023-06-29T14:01:15.050793003Z"
    }
   }
  },
  {
   "cell_type": "code",
   "execution_count": 4,
   "outputs": [
    {
     "name": "stdout",
     "output_type": "stream",
     "text": [
      "0    False\n",
      "1    False\n",
      "2    False\n",
      "3    False\n",
      "4    False\n",
      "5    False\n",
      "6    False\n",
      "7     True\n",
      "Name: name, dtype: bool\n"
     ]
    }
   ],
   "source": [
    "dados = rp.data\n",
    "print(dados['name'] ==\"labase anni\")"
   ],
   "metadata": {
    "collapsed": false,
    "ExecuteTime": {
     "end_time": "2023-06-29T14:01:16.346844996Z",
     "start_time": "2023-06-29T14:01:16.274211157Z"
    }
   }
  },
  {
   "cell_type": "code",
   "execution_count": 5,
   "outputs": [
    {
     "data": {
      "text/plain": "id                    ObjectId('649d7851b9995c27c863da60')\nname                                           labase anni\nano                                                   ano1\nsexo                                              feminino\nidade                                               anos10\ntime                      2023-06-29 09:25:53.347255-03:00\ngames    [{'game': 'game', 'goal': 0, 'trial': 0, 'scor...\nName: 7, dtype: object"
     },
     "execution_count": 5,
     "metadata": {},
     "output_type": "execute_result"
    }
   ],
   "source": [
    "dados.iloc[7]"
   ],
   "metadata": {
    "collapsed": false,
    "ExecuteTime": {
     "end_time": "2023-06-29T14:01:17.479158402Z",
     "start_time": "2023-06-29T14:01:17.442715851Z"
    }
   }
  },
  {
   "cell_type": "code",
   "execution_count": 6,
   "outputs": [
    {
     "data": {
      "text/plain": "'[{\\'game\\': \\'game\\', \\'goal\\': 0, \\'trial\\': 0, \\'scorer\\': \"ObjectId(\\'649d78a9b9995c27c863da61\\')\"}, {\\'game\\': \\'game\\', \\'goal\\': 0, \\'trial\\': 1, \\'scorer\\': \"ObjectId(\\'649d7987b9995c27c863da62\\')\"}, {\\'game\\': \\'wcst\\', \\'goal\\': 0, \\'trial\\': 0, \\'scorer\\': \"ObjectId(\\'649d7991b9995c27c863da63\\')\"}]'"
     },
     "execution_count": 6,
     "metadata": {},
     "output_type": "execute_result"
    }
   ],
   "source": [
    "dados_jogador = dados.iloc[7]['games']\n",
    "dados_jogador"
   ],
   "metadata": {
    "collapsed": false,
    "ExecuteTime": {
     "end_time": "2023-06-29T14:01:19.347407662Z",
     "start_time": "2023-06-29T14:01:19.305735344Z"
    }
   }
  },
  {
   "cell_type": "code",
   "execution_count": 8,
   "outputs": [
    {
     "data": {
      "text/plain": "0    {'game': 'game', 'goal': 0, 'trial': 0, 'score...\n1    {'game': 'game', 'goal': 0, 'trial': 1, 'score...\n2    {'game': 'wcst', 'goal': 0, 'trial': 0, 'score...\nName: games, dtype: object"
     },
     "execution_count": 8,
     "metadata": {},
     "output_type": "execute_result"
    }
   ],
   "source": [
    "from GameAlite import Players\n",
    "dados_jogador_anni = Players().one_player(play_url= \"649d7851b9995c27c863da60\")\n",
    "dados_jogador_anni.games"
   ],
   "metadata": {
    "collapsed": false,
    "ExecuteTime": {
     "end_time": "2023-06-29T14:01:39.345395725Z",
     "start_time": "2023-06-29T14:01:39.013364804Z"
    }
   }
  },
  {
   "cell_type": "code",
   "execution_count": 9,
   "outputs": [
    {
     "data": {
      "text/plain": "[{'game': 'game',\n  'goal': 0,\n  'trial': 0,\n  'scorer': \"ObjectId('649d78a9b9995c27c863da61')\"},\n {'game': 'game',\n  'goal': 0,\n  'trial': 1,\n  'scorer': \"ObjectId('649d7987b9995c27c863da62')\"},\n {'game': 'wcst',\n  'goal': 0,\n  'trial': 0,\n  'scorer': \"ObjectId('649d7991b9995c27c863da63')\"}]"
     },
     "execution_count": 9,
     "metadata": {},
     "output_type": "execute_result"
    }
   ],
   "source": [
    "dados_jogador_anni.games.to_list()"
   ],
   "metadata": {
    "collapsed": false,
    "ExecuteTime": {
     "end_time": "2023-06-29T14:03:27.775212024Z",
     "start_time": "2023-06-29T14:03:27.632517229Z"
    }
   }
  },
  {
   "cell_type": "code",
   "execution_count": 12,
   "outputs": [
    {
     "data": {
      "text/plain": "   game  goal  trial                                scorer\n0  game     0      0  ObjectId('649d78a9b9995c27c863da61')\n1  game     0      1  ObjectId('649d7987b9995c27c863da62')\n2  wcst     0      0  ObjectId('649d7991b9995c27c863da63')",
      "text/html": "<div>\n<style scoped>\n    .dataframe tbody tr th:only-of-type {\n        vertical-align: middle;\n    }\n\n    .dataframe tbody tr th {\n        vertical-align: top;\n    }\n\n    .dataframe thead th {\n        text-align: right;\n    }\n</style>\n<table border=\"1\" class=\"dataframe\">\n  <thead>\n    <tr style=\"text-align: right;\">\n      <th></th>\n      <th>game</th>\n      <th>goal</th>\n      <th>trial</th>\n      <th>scorer</th>\n    </tr>\n  </thead>\n  <tbody>\n    <tr>\n      <th>0</th>\n      <td>game</td>\n      <td>0</td>\n      <td>0</td>\n      <td>ObjectId('649d78a9b9995c27c863da61')</td>\n    </tr>\n    <tr>\n      <th>1</th>\n      <td>game</td>\n      <td>0</td>\n      <td>1</td>\n      <td>ObjectId('649d7987b9995c27c863da62')</td>\n    </tr>\n    <tr>\n      <th>2</th>\n      <td>wcst</td>\n      <td>0</td>\n      <td>0</td>\n      <td>ObjectId('649d7991b9995c27c863da63')</td>\n    </tr>\n  </tbody>\n</table>\n</div>"
     },
     "execution_count": 12,
     "metadata": {},
     "output_type": "execute_result"
    }
   ],
   "source": [
    "import pandas as pd\n",
    "\n",
    "dados_jogos_anni = pd.DataFrame(dados_jogador_anni.games.to_list())\n",
    "dados_jogos_anni"
   ],
   "metadata": {
    "collapsed": false,
    "ExecuteTime": {
     "end_time": "2023-06-29T14:04:49.540868073Z",
     "start_time": "2023-06-29T14:04:49.490419966Z"
    }
   }
  },
  {
   "cell_type": "code",
   "execution_count": 5,
   "outputs": [
    {
     "data": {
      "text/plain": "                                     _id         name  game  goal  trial   \n0   ObjectId('649d7851b9995c27c863da60')  labase anni  game     0      0  \\\n0   ObjectId('649d7851b9995c27c863da60')  labase anni  game     0      0   \n0   ObjectId('649d7851b9995c27c863da60')  labase anni  game     0      0   \n0   ObjectId('649d7851b9995c27c863da60')  labase anni  game     0      0   \n0   ObjectId('649d7851b9995c27c863da60')  labase anni  game     0      0   \n..                                   ...          ...   ...   ...    ...   \n2   ObjectId('649d7851b9995c27c863da60')  labase anni  wcst     0      0   \n2   ObjectId('649d7851b9995c27c863da60')  labase anni  wcst     0      0   \n2   ObjectId('649d7851b9995c27c863da60')  labase anni  wcst     0      0   \n2   ObjectId('649d7851b9995c27c863da60')  labase anni  wcst     0      0   \n2   ObjectId('649d7851b9995c27c863da60')  labase anni  wcst     0      0   \n\n                                               scorer  \n0   {'carta': '__I_N_I_T__', 'casa': '0_0', 'move'...  \n0   {'carta': '__A_T_I_V_A__', 'casa': '0_0', 'mov...  \n0   {'carta': '19_41_30', 'casa': '0_0', 'move': '...  \n0   {'carta': '19_41_30', 'casa': '0_0', 'move': '...  \n0   {'carta': '19_41_30', 'casa': '0_0', 'move': '...  \n..                                                ...  \n2   {'carta': 60, 'casa': 'Duas Estrelas Verdes', ...  \n2   {'carta': 61, 'casa': 'Quatro Círculos Azuis',...  \n2   {'carta': 62, 'casa': 'Três Cruzes Amarelas', ...  \n2   {'carta': 63, 'casa': 'Duas Estrelas Verdes', ...  \n2   {'carta': 64, 'casa': 'Um Triângulo Vermelho',...  \n\n[151 rows x 6 columns]",
      "text/html": "<div>\n<style scoped>\n    .dataframe tbody tr th:only-of-type {\n        vertical-align: middle;\n    }\n\n    .dataframe tbody tr th {\n        vertical-align: top;\n    }\n\n    .dataframe thead th {\n        text-align: right;\n    }\n</style>\n<table border=\"1\" class=\"dataframe\">\n  <thead>\n    <tr style=\"text-align: right;\">\n      <th></th>\n      <th>_id</th>\n      <th>name</th>\n      <th>game</th>\n      <th>goal</th>\n      <th>trial</th>\n      <th>scorer</th>\n    </tr>\n  </thead>\n  <tbody>\n    <tr>\n      <th>0</th>\n      <td>ObjectId('649d7851b9995c27c863da60')</td>\n      <td>labase anni</td>\n      <td>game</td>\n      <td>0</td>\n      <td>0</td>\n      <td>{'carta': '__I_N_I_T__', 'casa': '0_0', 'move'...</td>\n    </tr>\n    <tr>\n      <th>0</th>\n      <td>ObjectId('649d7851b9995c27c863da60')</td>\n      <td>labase anni</td>\n      <td>game</td>\n      <td>0</td>\n      <td>0</td>\n      <td>{'carta': '__A_T_I_V_A__', 'casa': '0_0', 'mov...</td>\n    </tr>\n    <tr>\n      <th>0</th>\n      <td>ObjectId('649d7851b9995c27c863da60')</td>\n      <td>labase anni</td>\n      <td>game</td>\n      <td>0</td>\n      <td>0</td>\n      <td>{'carta': '19_41_30', 'casa': '0_0', 'move': '...</td>\n    </tr>\n    <tr>\n      <th>0</th>\n      <td>ObjectId('649d7851b9995c27c863da60')</td>\n      <td>labase anni</td>\n      <td>game</td>\n      <td>0</td>\n      <td>0</td>\n      <td>{'carta': '19_41_30', 'casa': '0_0', 'move': '...</td>\n    </tr>\n    <tr>\n      <th>0</th>\n      <td>ObjectId('649d7851b9995c27c863da60')</td>\n      <td>labase anni</td>\n      <td>game</td>\n      <td>0</td>\n      <td>0</td>\n      <td>{'carta': '19_41_30', 'casa': '0_0', 'move': '...</td>\n    </tr>\n    <tr>\n      <th>...</th>\n      <td>...</td>\n      <td>...</td>\n      <td>...</td>\n      <td>...</td>\n      <td>...</td>\n      <td>...</td>\n    </tr>\n    <tr>\n      <th>2</th>\n      <td>ObjectId('649d7851b9995c27c863da60')</td>\n      <td>labase anni</td>\n      <td>wcst</td>\n      <td>0</td>\n      <td>0</td>\n      <td>{'carta': 60, 'casa': 'Duas Estrelas Verdes', ...</td>\n    </tr>\n    <tr>\n      <th>2</th>\n      <td>ObjectId('649d7851b9995c27c863da60')</td>\n      <td>labase anni</td>\n      <td>wcst</td>\n      <td>0</td>\n      <td>0</td>\n      <td>{'carta': 61, 'casa': 'Quatro Círculos Azuis',...</td>\n    </tr>\n    <tr>\n      <th>2</th>\n      <td>ObjectId('649d7851b9995c27c863da60')</td>\n      <td>labase anni</td>\n      <td>wcst</td>\n      <td>0</td>\n      <td>0</td>\n      <td>{'carta': 62, 'casa': 'Três Cruzes Amarelas', ...</td>\n    </tr>\n    <tr>\n      <th>2</th>\n      <td>ObjectId('649d7851b9995c27c863da60')</td>\n      <td>labase anni</td>\n      <td>wcst</td>\n      <td>0</td>\n      <td>0</td>\n      <td>{'carta': 63, 'casa': 'Duas Estrelas Verdes', ...</td>\n    </tr>\n    <tr>\n      <th>2</th>\n      <td>ObjectId('649d7851b9995c27c863da60')</td>\n      <td>labase anni</td>\n      <td>wcst</td>\n      <td>0</td>\n      <td>0</td>\n      <td>{'carta': 64, 'casa': 'Um Triângulo Vermelho',...</td>\n    </tr>\n  </tbody>\n</table>\n<p>151 rows × 6 columns</p>\n</div>"
     },
     "execution_count": 5,
     "metadata": {},
     "output_type": "execute_result"
    }
   ],
   "source": [
    "from GameAlite import Players\n",
    "dados_jogos_anni = Players().one_player_games(play_url= \"649d7851b9995c27c863da60\")\n",
    "dados_jogos_anni.explode('scorer')"
   ],
   "metadata": {
    "collapsed": false,
    "ExecuteTime": {
     "end_time": "2023-06-29T14:53:09.024775173Z",
     "start_time": "2023-06-29T14:53:08.864884901Z"
    }
   }
  },
  {
   "cell_type": "code",
   "execution_count": 6,
   "outputs": [
    {
     "data": {
      "text/plain": "                                     _id         name  game  goal  trial   \n0   ObjectId('649d7851b9995c27c863da60')  labase anni  game     0      0  \\\n0   ObjectId('649d7851b9995c27c863da60')  labase anni  game     0      0   \n0   ObjectId('649d7851b9995c27c863da60')  labase anni  game     0      0   \n0   ObjectId('649d7851b9995c27c863da60')  labase anni  game     0      0   \n0   ObjectId('649d7851b9995c27c863da60')  labase anni  game     0      0   \n..                                   ...          ...   ...   ...    ...   \n2   ObjectId('649d7851b9995c27c863da60')  labase anni  wcst     0      0   \n2   ObjectId('649d7851b9995c27c863da60')  labase anni  wcst     0      0   \n2   ObjectId('649d7851b9995c27c863da60')  labase anni  wcst     0      0   \n2   ObjectId('649d7851b9995c27c863da60')  labase anni  wcst     0      0   \n2   ObjectId('649d7851b9995c27c863da60')  labase anni  wcst     0      0   \n\n            carta                   casa                       move     ponto   \n0     __I_N_I_T__                    0_0                         ok    _INIT_  \\\n0   __A_T_I_V_A__                    0_0                         ok  _LINGUA_   \n0        19_41_30                    0_0                         ok    _FALA_   \n0        19_41_30                    0_0                         ok    _FALA_   \n0        19_41_30                    0_0                         ok    _FALA_   \n..            ...                    ...                        ...       ...   \n2              60   Duas Estrelas Verdes       Dois Círculos Verdes       600   \n2              61  Quatro Círculos Azuis        Quatro Cruzes Azuis       700   \n2              62   Três Cruzes Amarelas       Três Cruzes Amarelas       800   \n2              63   Duas Estrelas Verdes  Dois Triângulos Vermelhos       900   \n2              64  Um Triângulo Vermelho           Uma Cruz Amarela      1000   \n\n   valor                        time  \n0   True  2023-06-29 09:27:28.882999  \n0   True  2023-06-29 09:27:41.177000  \n0   True  2023-06-29 09:28:18.809000  \n0   True  2023-06-29 09:28:22.730999  \n0   True  2023-06-29 09:28:23.500999  \n..   ...                         ...  \n2   1015  2023-06-29 09:34:18.774000  \n2   1015  2023-06-29 09:34:20.644000  \n2   1115  2023-06-29 09:34:22.278000  \n2   0015  2023-06-29 09:34:24.244000  \n2   0015  2023-06-29 09:34:26.006000  \n\n[11451 rows x 11 columns]",
      "text/html": "<div>\n<style scoped>\n    .dataframe tbody tr th:only-of-type {\n        vertical-align: middle;\n    }\n\n    .dataframe tbody tr th {\n        vertical-align: top;\n    }\n\n    .dataframe thead th {\n        text-align: right;\n    }\n</style>\n<table border=\"1\" class=\"dataframe\">\n  <thead>\n    <tr style=\"text-align: right;\">\n      <th></th>\n      <th>_id</th>\n      <th>name</th>\n      <th>game</th>\n      <th>goal</th>\n      <th>trial</th>\n      <th>carta</th>\n      <th>casa</th>\n      <th>move</th>\n      <th>ponto</th>\n      <th>valor</th>\n      <th>time</th>\n    </tr>\n  </thead>\n  <tbody>\n    <tr>\n      <th>0</th>\n      <td>ObjectId('649d7851b9995c27c863da60')</td>\n      <td>labase anni</td>\n      <td>game</td>\n      <td>0</td>\n      <td>0</td>\n      <td>__I_N_I_T__</td>\n      <td>0_0</td>\n      <td>ok</td>\n      <td>_INIT_</td>\n      <td>True</td>\n      <td>2023-06-29 09:27:28.882999</td>\n    </tr>\n    <tr>\n      <th>0</th>\n      <td>ObjectId('649d7851b9995c27c863da60')</td>\n      <td>labase anni</td>\n      <td>game</td>\n      <td>0</td>\n      <td>0</td>\n      <td>__A_T_I_V_A__</td>\n      <td>0_0</td>\n      <td>ok</td>\n      <td>_LINGUA_</td>\n      <td>True</td>\n      <td>2023-06-29 09:27:41.177000</td>\n    </tr>\n    <tr>\n      <th>0</th>\n      <td>ObjectId('649d7851b9995c27c863da60')</td>\n      <td>labase anni</td>\n      <td>game</td>\n      <td>0</td>\n      <td>0</td>\n      <td>19_41_30</td>\n      <td>0_0</td>\n      <td>ok</td>\n      <td>_FALA_</td>\n      <td>True</td>\n      <td>2023-06-29 09:28:18.809000</td>\n    </tr>\n    <tr>\n      <th>0</th>\n      <td>ObjectId('649d7851b9995c27c863da60')</td>\n      <td>labase anni</td>\n      <td>game</td>\n      <td>0</td>\n      <td>0</td>\n      <td>19_41_30</td>\n      <td>0_0</td>\n      <td>ok</td>\n      <td>_FALA_</td>\n      <td>True</td>\n      <td>2023-06-29 09:28:22.730999</td>\n    </tr>\n    <tr>\n      <th>0</th>\n      <td>ObjectId('649d7851b9995c27c863da60')</td>\n      <td>labase anni</td>\n      <td>game</td>\n      <td>0</td>\n      <td>0</td>\n      <td>19_41_30</td>\n      <td>0_0</td>\n      <td>ok</td>\n      <td>_FALA_</td>\n      <td>True</td>\n      <td>2023-06-29 09:28:23.500999</td>\n    </tr>\n    <tr>\n      <th>...</th>\n      <td>...</td>\n      <td>...</td>\n      <td>...</td>\n      <td>...</td>\n      <td>...</td>\n      <td>...</td>\n      <td>...</td>\n      <td>...</td>\n      <td>...</td>\n      <td>...</td>\n      <td>...</td>\n    </tr>\n    <tr>\n      <th>2</th>\n      <td>ObjectId('649d7851b9995c27c863da60')</td>\n      <td>labase anni</td>\n      <td>wcst</td>\n      <td>0</td>\n      <td>0</td>\n      <td>60</td>\n      <td>Duas Estrelas Verdes</td>\n      <td>Dois Círculos Verdes</td>\n      <td>600</td>\n      <td>1015</td>\n      <td>2023-06-29 09:34:18.774000</td>\n    </tr>\n    <tr>\n      <th>2</th>\n      <td>ObjectId('649d7851b9995c27c863da60')</td>\n      <td>labase anni</td>\n      <td>wcst</td>\n      <td>0</td>\n      <td>0</td>\n      <td>61</td>\n      <td>Quatro Círculos Azuis</td>\n      <td>Quatro Cruzes Azuis</td>\n      <td>700</td>\n      <td>1015</td>\n      <td>2023-06-29 09:34:20.644000</td>\n    </tr>\n    <tr>\n      <th>2</th>\n      <td>ObjectId('649d7851b9995c27c863da60')</td>\n      <td>labase anni</td>\n      <td>wcst</td>\n      <td>0</td>\n      <td>0</td>\n      <td>62</td>\n      <td>Três Cruzes Amarelas</td>\n      <td>Três Cruzes Amarelas</td>\n      <td>800</td>\n      <td>1115</td>\n      <td>2023-06-29 09:34:22.278000</td>\n    </tr>\n    <tr>\n      <th>2</th>\n      <td>ObjectId('649d7851b9995c27c863da60')</td>\n      <td>labase anni</td>\n      <td>wcst</td>\n      <td>0</td>\n      <td>0</td>\n      <td>63</td>\n      <td>Duas Estrelas Verdes</td>\n      <td>Dois Triângulos Vermelhos</td>\n      <td>900</td>\n      <td>0015</td>\n      <td>2023-06-29 09:34:24.244000</td>\n    </tr>\n    <tr>\n      <th>2</th>\n      <td>ObjectId('649d7851b9995c27c863da60')</td>\n      <td>labase anni</td>\n      <td>wcst</td>\n      <td>0</td>\n      <td>0</td>\n      <td>64</td>\n      <td>Um Triângulo Vermelho</td>\n      <td>Uma Cruz Amarela</td>\n      <td>1000</td>\n      <td>0015</td>\n      <td>2023-06-29 09:34:26.006000</td>\n    </tr>\n  </tbody>\n</table>\n<p>11451 rows × 11 columns</p>\n</div>"
     },
     "execution_count": 6,
     "metadata": {},
     "output_type": "execute_result"
    }
   ],
   "source": [
    "import pandas as pd\n",
    "\n",
    "df_anni = dados_jogos_anni.explode('scorer')\n",
    "df_anni_x = df_anni.drop(columns=[\"scorer\"], inplace=False).join(\n",
    "    df_anni.apply(lambda x: pd.Series(x[\"scorer\"].values(), index=x[\"scorer\"].keys()), axis=1))\n",
    "df_anni_x"
   ],
   "metadata": {
    "collapsed": false,
    "ExecuteTime": {
     "end_time": "2023-06-29T14:53:12.800613032Z",
     "start_time": "2023-06-29T14:53:12.662646524Z"
    }
   }
  },
  {
   "cell_type": "code",
   "execution_count": 24,
   "outputs": [
    {
     "data": {
      "text/plain": "     index                                   _id         name  game  goal   \n0        0  ObjectId('649d7851b9995c27c863da60')  labase anni  game     0  \\\n1        0  ObjectId('649d7851b9995c27c863da60')  labase anni  game     0   \n2        0  ObjectId('649d7851b9995c27c863da60')  labase anni  game     0   \n3        0  ObjectId('649d7851b9995c27c863da60')  labase anni  game     0   \n4        0  ObjectId('649d7851b9995c27c863da60')  labase anni  game     0   \n..     ...                                   ...          ...   ...   ...   \n146      2  ObjectId('649d7851b9995c27c863da60')  labase anni  wcst     0   \n147      2  ObjectId('649d7851b9995c27c863da60')  labase anni  wcst     0   \n148      2  ObjectId('649d7851b9995c27c863da60')  labase anni  wcst     0   \n149      2  ObjectId('649d7851b9995c27c863da60')  labase anni  wcst     0   \n150      2  ObjectId('649d7851b9995c27c863da60')  labase anni  wcst     0   \n\n     trial          carta                   casa                       move   \n0        0    __I_N_I_T__                    0_0                         ok  \\\n1        0  __A_T_I_V_A__                    0_0                         ok   \n2        0       19_41_30                    0_0                         ok   \n3        0       19_41_30                    0_0                         ok   \n4        0       19_41_30                    0_0                         ok   \n..     ...            ...                    ...                        ...   \n146      0             60   Duas Estrelas Verdes       Dois Círculos Verdes   \n147      0             61  Quatro Círculos Azuis        Quatro Cruzes Azuis   \n148      0             62   Três Cruzes Amarelas       Três Cruzes Amarelas   \n149      0             63   Duas Estrelas Verdes  Dois Triângulos Vermelhos   \n150      0             64  Um Triângulo Vermelho           Uma Cruz Amarela   \n\n        ponto valor                        time  \n0      _INIT_  True  2023-06-29 09:27:28.882999  \n1    _LINGUA_  True  2023-06-29 09:27:41.177000  \n2      _FALA_  True  2023-06-29 09:28:18.809000  \n3      _FALA_  True  2023-06-29 09:28:22.730999  \n4      _FALA_  True  2023-06-29 09:28:23.500999  \n..        ...   ...                         ...  \n146       600  1015  2023-06-29 09:34:18.774000  \n147       700  1015  2023-06-29 09:34:20.644000  \n148       800  1115  2023-06-29 09:34:22.278000  \n149       900  0015  2023-06-29 09:34:24.244000  \n150      1000  0015  2023-06-29 09:34:26.006000  \n\n[151 rows x 12 columns]",
      "text/html": "<div>\n<style scoped>\n    .dataframe tbody tr th:only-of-type {\n        vertical-align: middle;\n    }\n\n    .dataframe tbody tr th {\n        vertical-align: top;\n    }\n\n    .dataframe thead th {\n        text-align: right;\n    }\n</style>\n<table border=\"1\" class=\"dataframe\">\n  <thead>\n    <tr style=\"text-align: right;\">\n      <th></th>\n      <th>index</th>\n      <th>_id</th>\n      <th>name</th>\n      <th>game</th>\n      <th>goal</th>\n      <th>trial</th>\n      <th>carta</th>\n      <th>casa</th>\n      <th>move</th>\n      <th>ponto</th>\n      <th>valor</th>\n      <th>time</th>\n    </tr>\n  </thead>\n  <tbody>\n    <tr>\n      <th>0</th>\n      <td>0</td>\n      <td>ObjectId('649d7851b9995c27c863da60')</td>\n      <td>labase anni</td>\n      <td>game</td>\n      <td>0</td>\n      <td>0</td>\n      <td>__I_N_I_T__</td>\n      <td>0_0</td>\n      <td>ok</td>\n      <td>_INIT_</td>\n      <td>True</td>\n      <td>2023-06-29 09:27:28.882999</td>\n    </tr>\n    <tr>\n      <th>1</th>\n      <td>0</td>\n      <td>ObjectId('649d7851b9995c27c863da60')</td>\n      <td>labase anni</td>\n      <td>game</td>\n      <td>0</td>\n      <td>0</td>\n      <td>__A_T_I_V_A__</td>\n      <td>0_0</td>\n      <td>ok</td>\n      <td>_LINGUA_</td>\n      <td>True</td>\n      <td>2023-06-29 09:27:41.177000</td>\n    </tr>\n    <tr>\n      <th>2</th>\n      <td>0</td>\n      <td>ObjectId('649d7851b9995c27c863da60')</td>\n      <td>labase anni</td>\n      <td>game</td>\n      <td>0</td>\n      <td>0</td>\n      <td>19_41_30</td>\n      <td>0_0</td>\n      <td>ok</td>\n      <td>_FALA_</td>\n      <td>True</td>\n      <td>2023-06-29 09:28:18.809000</td>\n    </tr>\n    <tr>\n      <th>3</th>\n      <td>0</td>\n      <td>ObjectId('649d7851b9995c27c863da60')</td>\n      <td>labase anni</td>\n      <td>game</td>\n      <td>0</td>\n      <td>0</td>\n      <td>19_41_30</td>\n      <td>0_0</td>\n      <td>ok</td>\n      <td>_FALA_</td>\n      <td>True</td>\n      <td>2023-06-29 09:28:22.730999</td>\n    </tr>\n    <tr>\n      <th>4</th>\n      <td>0</td>\n      <td>ObjectId('649d7851b9995c27c863da60')</td>\n      <td>labase anni</td>\n      <td>game</td>\n      <td>0</td>\n      <td>0</td>\n      <td>19_41_30</td>\n      <td>0_0</td>\n      <td>ok</td>\n      <td>_FALA_</td>\n      <td>True</td>\n      <td>2023-06-29 09:28:23.500999</td>\n    </tr>\n    <tr>\n      <th>...</th>\n      <td>...</td>\n      <td>...</td>\n      <td>...</td>\n      <td>...</td>\n      <td>...</td>\n      <td>...</td>\n      <td>...</td>\n      <td>...</td>\n      <td>...</td>\n      <td>...</td>\n      <td>...</td>\n      <td>...</td>\n    </tr>\n    <tr>\n      <th>146</th>\n      <td>2</td>\n      <td>ObjectId('649d7851b9995c27c863da60')</td>\n      <td>labase anni</td>\n      <td>wcst</td>\n      <td>0</td>\n      <td>0</td>\n      <td>60</td>\n      <td>Duas Estrelas Verdes</td>\n      <td>Dois Círculos Verdes</td>\n      <td>600</td>\n      <td>1015</td>\n      <td>2023-06-29 09:34:18.774000</td>\n    </tr>\n    <tr>\n      <th>147</th>\n      <td>2</td>\n      <td>ObjectId('649d7851b9995c27c863da60')</td>\n      <td>labase anni</td>\n      <td>wcst</td>\n      <td>0</td>\n      <td>0</td>\n      <td>61</td>\n      <td>Quatro Círculos Azuis</td>\n      <td>Quatro Cruzes Azuis</td>\n      <td>700</td>\n      <td>1015</td>\n      <td>2023-06-29 09:34:20.644000</td>\n    </tr>\n    <tr>\n      <th>148</th>\n      <td>2</td>\n      <td>ObjectId('649d7851b9995c27c863da60')</td>\n      <td>labase anni</td>\n      <td>wcst</td>\n      <td>0</td>\n      <td>0</td>\n      <td>62</td>\n      <td>Três Cruzes Amarelas</td>\n      <td>Três Cruzes Amarelas</td>\n      <td>800</td>\n      <td>1115</td>\n      <td>2023-06-29 09:34:22.278000</td>\n    </tr>\n    <tr>\n      <th>149</th>\n      <td>2</td>\n      <td>ObjectId('649d7851b9995c27c863da60')</td>\n      <td>labase anni</td>\n      <td>wcst</td>\n      <td>0</td>\n      <td>0</td>\n      <td>63</td>\n      <td>Duas Estrelas Verdes</td>\n      <td>Dois Triângulos Vermelhos</td>\n      <td>900</td>\n      <td>0015</td>\n      <td>2023-06-29 09:34:24.244000</td>\n    </tr>\n    <tr>\n      <th>150</th>\n      <td>2</td>\n      <td>ObjectId('649d7851b9995c27c863da60')</td>\n      <td>labase anni</td>\n      <td>wcst</td>\n      <td>0</td>\n      <td>0</td>\n      <td>64</td>\n      <td>Um Triângulo Vermelho</td>\n      <td>Uma Cruz Amarela</td>\n      <td>1000</td>\n      <td>0015</td>\n      <td>2023-06-29 09:34:26.006000</td>\n    </tr>\n  </tbody>\n</table>\n<p>151 rows × 12 columns</p>\n</div>"
     },
     "execution_count": 24,
     "metadata": {},
     "output_type": "execute_result"
    }
   ],
   "source": [
    "df_anni_l = pd.DataFrame(df_anni.scorer.values.tolist())\n",
    "df_anni_x = df_anni.drop(columns=[\"scorer\"], inplace=False).reset_index()\n",
    "df = df_anni_x.join(df_anni_l)\n",
    "df"
   ],
   "metadata": {
    "collapsed": false,
    "ExecuteTime": {
     "end_time": "2023-06-29T14:57:31.067420628Z",
     "start_time": "2023-06-29T14:57:31.046102399Z"
    }
   }
  },
  {
   "cell_type": "code",
   "execution_count": 25,
   "outputs": [
    {
     "data": {
      "text/plain": "     index                                   _id         name  game  goal   \n86       2  ObjectId('649d7851b9995c27c863da60')  labase anni  wcst     0  \\\n87       2  ObjectId('649d7851b9995c27c863da60')  labase anni  wcst     0   \n88       2  ObjectId('649d7851b9995c27c863da60')  labase anni  wcst     0   \n89       2  ObjectId('649d7851b9995c27c863da60')  labase anni  wcst     0   \n90       2  ObjectId('649d7851b9995c27c863da60')  labase anni  wcst     0   \n..     ...                                   ...          ...   ...   ...   \n146      2  ObjectId('649d7851b9995c27c863da60')  labase anni  wcst     0   \n147      2  ObjectId('649d7851b9995c27c863da60')  labase anni  wcst     0   \n148      2  ObjectId('649d7851b9995c27c863da60')  labase anni  wcst     0   \n149      2  ObjectId('649d7851b9995c27c863da60')  labase anni  wcst     0   \n150      2  ObjectId('649d7851b9995c27c863da60')  labase anni  wcst     0   \n\n     trial carta                   casa                       move ponto   \n86       0     0               no no no                   no no no   000  \\\n87       0     1   Duas Estrelas Verdes         Um Triângulo Verde   100   \n88       0     2   Duas Estrelas Verdes    Quatro Cruzes Vermelhas   011   \n89       0     3   Duas Estrelas Verdes      Dois Triângulos Azuis   000   \n90       0     4  Um Triângulo Vermelho        Um Círculo Vermelho   100   \n..     ...   ...                    ...                        ...   ...   \n146      0    60   Duas Estrelas Verdes       Dois Círculos Verdes   600   \n147      0    61  Quatro Círculos Azuis        Quatro Cruzes Azuis   700   \n148      0    62   Três Cruzes Amarelas       Três Cruzes Amarelas   800   \n149      0    63   Duas Estrelas Verdes  Dois Triângulos Vermelhos   900   \n150      0    64  Um Triângulo Vermelho           Uma Cruz Amarela  1000   \n\n    valor                        time  \n86   0000  2023-06-29 09:31:16.718000  \n87   1000  2023-06-29 09:31:26.392000  \n88   0000  2023-06-29 09:31:27.069000  \n89   0010  2023-06-29 09:31:38.566000  \n90   1010  2023-06-29 09:31:41.463000  \n..    ...                         ...  \n146  1015  2023-06-29 09:34:18.774000  \n147  1015  2023-06-29 09:34:20.644000  \n148  1115  2023-06-29 09:34:22.278000  \n149  0015  2023-06-29 09:34:24.244000  \n150  0015  2023-06-29 09:34:26.006000  \n\n[65 rows x 12 columns]",
      "text/html": "<div>\n<style scoped>\n    .dataframe tbody tr th:only-of-type {\n        vertical-align: middle;\n    }\n\n    .dataframe tbody tr th {\n        vertical-align: top;\n    }\n\n    .dataframe thead th {\n        text-align: right;\n    }\n</style>\n<table border=\"1\" class=\"dataframe\">\n  <thead>\n    <tr style=\"text-align: right;\">\n      <th></th>\n      <th>index</th>\n      <th>_id</th>\n      <th>name</th>\n      <th>game</th>\n      <th>goal</th>\n      <th>trial</th>\n      <th>carta</th>\n      <th>casa</th>\n      <th>move</th>\n      <th>ponto</th>\n      <th>valor</th>\n      <th>time</th>\n    </tr>\n  </thead>\n  <tbody>\n    <tr>\n      <th>86</th>\n      <td>2</td>\n      <td>ObjectId('649d7851b9995c27c863da60')</td>\n      <td>labase anni</td>\n      <td>wcst</td>\n      <td>0</td>\n      <td>0</td>\n      <td>0</td>\n      <td>no no no</td>\n      <td>no no no</td>\n      <td>000</td>\n      <td>0000</td>\n      <td>2023-06-29 09:31:16.718000</td>\n    </tr>\n    <tr>\n      <th>87</th>\n      <td>2</td>\n      <td>ObjectId('649d7851b9995c27c863da60')</td>\n      <td>labase anni</td>\n      <td>wcst</td>\n      <td>0</td>\n      <td>0</td>\n      <td>1</td>\n      <td>Duas Estrelas Verdes</td>\n      <td>Um Triângulo Verde</td>\n      <td>100</td>\n      <td>1000</td>\n      <td>2023-06-29 09:31:26.392000</td>\n    </tr>\n    <tr>\n      <th>88</th>\n      <td>2</td>\n      <td>ObjectId('649d7851b9995c27c863da60')</td>\n      <td>labase anni</td>\n      <td>wcst</td>\n      <td>0</td>\n      <td>0</td>\n      <td>2</td>\n      <td>Duas Estrelas Verdes</td>\n      <td>Quatro Cruzes Vermelhas</td>\n      <td>011</td>\n      <td>0000</td>\n      <td>2023-06-29 09:31:27.069000</td>\n    </tr>\n    <tr>\n      <th>89</th>\n      <td>2</td>\n      <td>ObjectId('649d7851b9995c27c863da60')</td>\n      <td>labase anni</td>\n      <td>wcst</td>\n      <td>0</td>\n      <td>0</td>\n      <td>3</td>\n      <td>Duas Estrelas Verdes</td>\n      <td>Dois Triângulos Azuis</td>\n      <td>000</td>\n      <td>0010</td>\n      <td>2023-06-29 09:31:38.566000</td>\n    </tr>\n    <tr>\n      <th>90</th>\n      <td>2</td>\n      <td>ObjectId('649d7851b9995c27c863da60')</td>\n      <td>labase anni</td>\n      <td>wcst</td>\n      <td>0</td>\n      <td>0</td>\n      <td>4</td>\n      <td>Um Triângulo Vermelho</td>\n      <td>Um Círculo Vermelho</td>\n      <td>100</td>\n      <td>1010</td>\n      <td>2023-06-29 09:31:41.463000</td>\n    </tr>\n    <tr>\n      <th>...</th>\n      <td>...</td>\n      <td>...</td>\n      <td>...</td>\n      <td>...</td>\n      <td>...</td>\n      <td>...</td>\n      <td>...</td>\n      <td>...</td>\n      <td>...</td>\n      <td>...</td>\n      <td>...</td>\n      <td>...</td>\n    </tr>\n    <tr>\n      <th>146</th>\n      <td>2</td>\n      <td>ObjectId('649d7851b9995c27c863da60')</td>\n      <td>labase anni</td>\n      <td>wcst</td>\n      <td>0</td>\n      <td>0</td>\n      <td>60</td>\n      <td>Duas Estrelas Verdes</td>\n      <td>Dois Círculos Verdes</td>\n      <td>600</td>\n      <td>1015</td>\n      <td>2023-06-29 09:34:18.774000</td>\n    </tr>\n    <tr>\n      <th>147</th>\n      <td>2</td>\n      <td>ObjectId('649d7851b9995c27c863da60')</td>\n      <td>labase anni</td>\n      <td>wcst</td>\n      <td>0</td>\n      <td>0</td>\n      <td>61</td>\n      <td>Quatro Círculos Azuis</td>\n      <td>Quatro Cruzes Azuis</td>\n      <td>700</td>\n      <td>1015</td>\n      <td>2023-06-29 09:34:20.644000</td>\n    </tr>\n    <tr>\n      <th>148</th>\n      <td>2</td>\n      <td>ObjectId('649d7851b9995c27c863da60')</td>\n      <td>labase anni</td>\n      <td>wcst</td>\n      <td>0</td>\n      <td>0</td>\n      <td>62</td>\n      <td>Três Cruzes Amarelas</td>\n      <td>Três Cruzes Amarelas</td>\n      <td>800</td>\n      <td>1115</td>\n      <td>2023-06-29 09:34:22.278000</td>\n    </tr>\n    <tr>\n      <th>149</th>\n      <td>2</td>\n      <td>ObjectId('649d7851b9995c27c863da60')</td>\n      <td>labase anni</td>\n      <td>wcst</td>\n      <td>0</td>\n      <td>0</td>\n      <td>63</td>\n      <td>Duas Estrelas Verdes</td>\n      <td>Dois Triângulos Vermelhos</td>\n      <td>900</td>\n      <td>0015</td>\n      <td>2023-06-29 09:34:24.244000</td>\n    </tr>\n    <tr>\n      <th>150</th>\n      <td>2</td>\n      <td>ObjectId('649d7851b9995c27c863da60')</td>\n      <td>labase anni</td>\n      <td>wcst</td>\n      <td>0</td>\n      <td>0</td>\n      <td>64</td>\n      <td>Um Triângulo Vermelho</td>\n      <td>Uma Cruz Amarela</td>\n      <td>1000</td>\n      <td>0015</td>\n      <td>2023-06-29 09:34:26.006000</td>\n    </tr>\n  </tbody>\n</table>\n<p>65 rows × 12 columns</p>\n</div>"
     },
     "execution_count": 25,
     "metadata": {},
     "output_type": "execute_result"
    }
   ],
   "source": [
    "df_wis = df.loc[df['game'] == 'wcst']\n",
    "df_wis"
   ],
   "metadata": {
    "collapsed": false,
    "ExecuteTime": {
     "end_time": "2023-06-29T15:03:29.353804686Z",
     "start_time": "2023-06-29T15:03:29.278371680Z"
    }
   }
  },
  {
   "cell_type": "code",
   "execution_count": null,
   "outputs": [],
   "source": [],
   "metadata": {
    "collapsed": false
   }
  }
 ],
 "metadata": {
  "kernelspec": {
   "display_name": "Python 3",
   "language": "python",
   "name": "python3"
  },
  "language_info": {
   "codemirror_mode": {
    "name": "ipython",
    "version": 2
   },
   "file_extension": ".py",
   "mimetype": "text/x-python",
   "name": "python",
   "nbconvert_exporter": "python",
   "pygments_lexer": "ipython2",
   "version": "2.7.6"
  }
 },
 "nbformat": 4,
 "nbformat_minor": 0
}
