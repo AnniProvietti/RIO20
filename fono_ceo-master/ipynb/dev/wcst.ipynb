{
 "cells": [
  {
   "cell_type": "markdown",
   "source": [
    "Estudo do código novo: Game Alite\n",
    "github: https://github.com/labase/data_edu/blob/main/alite/alite_game_spike.ipynb\n",
    "arquivos: GameAlite.py , alite.csv"
   ],
   "metadata": {
    "collapsed": false
   }
  },
  {
   "cell_type": "code",
   "execution_count": 1,
   "metadata": {
    "collapsed": true,
    "ExecuteTime": {
     "end_time": "2023-07-06T14:42:12.605428427Z",
     "start_time": "2023-07-06T14:42:11.513092194Z"
    }
   },
   "outputs": [
    {
     "name": "stdout",
     "output_type": "stream",
     "text": [
      "                                     _id                            name   \n",
      "0   ObjectId('6477ce20f626d3cb95e08c8f')                           admin  \\\n",
      "1   ObjectId('6477cf19f626d3cb95e08c92')                           outro   \n",
      "2   ObjectId('647b8008f626d3cb95e08c98')                     Pedro Lomba   \n",
      "3   ObjectId('647b85f9f626d3cb95e08c9b')                          daniel   \n",
      "4   ObjectId('647b86cbf626d3cb95e08c9d')                        kduzinho   \n",
      "5   ObjectId('647b8f68f626d3cb95e08c9f')              Carolina Fantinato   \n",
      "6   ObjectId('647fa41a442f27c3f236c16c')                          labase   \n",
      "7   ObjectId('649d7851b9995c27c863da60')                     labase anni   \n",
      "8   ObjectId('649f05dcb9995c27c863da64')                         leandro   \n",
      "9   ObjectId('649f06afb9995c27c863da66')                   Julia Almeida   \n",
      "10  ObjectId('649f07ddb9995c27c863da68')                           Italo   \n",
      "11  ObjectId('649f0f5bb9995c27c863da6e')                           pedro   \n",
      "12  ObjectId('649f0f9ab9995c27c863da70')                       thimberly   \n",
      "13  ObjectId('649f0ffab9995c27c863da75')                       thimberly   \n",
      "14  ObjectId('649f10ceb9995c27c863da80')                          raissa   \n",
      "15  ObjectId('649f144db9995c27c863da84')                           pedro   \n",
      "16  ObjectId('649f1732b9995c27c863da88')                     Júlya Cunha   \n",
      "17  ObjectId('649f17e0b9995c27c863da8c')                        Fernando   \n",
      "18  ObjectId('64a023adb9995c27c863da8e')           Vanessa Vianna (ufrj)   \n",
      "19  ObjectId('64a31915b23753d1d92bcb6c')                              eu   \n",
      "20  ObjectId('64a40b19b23753d1d92bcb6f')                              eu   \n",
      "21  ObjectId('64a449dcb23753d1d92bcb71')               Guilherme Gabriel   \n",
      "22  ObjectId('64a44aa9b23753d1d92bcb73')                          Kaique   \n",
      "23  ObjectId('64a44b08b23753d1d92bcb75')                         Douglas   \n",
      "24  ObjectId('64a44c79b23753d1d92bcb7b')                          Kaique   \n",
      "25  ObjectId('64a4536fb23753d1d92bcb7e')                          Kaique   \n",
      "26  ObjectId('64a4550cb23753d1d92bcb80')               Cristiano Ronaldo   \n",
      "27  ObjectId('64a4555bb23753d1d92bcb82')                         Jessica   \n",
      "28  ObjectId('64a45647b23753d1d92bcb84')                          Dayane   \n",
      "29  ObjectId('64a45899b23753d1d92bcb86')                         Jessica   \n",
      "30  ObjectId('64a4597bb23753d1d92bcb88')               Cristiano Ronaldo   \n",
      "31  ObjectId('64a45d84b23753d1d92bcb8a')                         Jessica   \n",
      "32  ObjectId('64a45e6eb23753d1d92bcb8c')                         Jessica   \n",
      "33  ObjectId('64a45eb8b23753d1d92bcb8e')                            Yuri   \n",
      "34  ObjectId('64a45f80b23753d1d92bcb91')                            Yuri   \n",
      "35  ObjectId('64a4605cb23753d1d92bcb93')                           italo   \n",
      "36  ObjectId('64a4610eb23753d1d92bcb95')                           Pedro   \n",
      "37  ObjectId('64a46291b23753d1d92bcb98')                           Italo   \n",
      "38  ObjectId('64a46576b23753d1d92bcb9c')                           Pedro   \n",
      "39  ObjectId('64a46607b23753d1d92bcb9e')                            Yuri   \n",
      "40  ObjectId('64a46826b23753d1d92bcba2')                         Jéssica   \n",
      "41  ObjectId('64a4694cb23753d1d92bcba5')                   Julia Almeida   \n",
      "42  ObjectId('64a477f7b23753d1d92bcba9')  Thimberlly keity santos rangel   \n",
      "43  ObjectId('64a478cbb23753d1d92bcbac')  thimberlly keity santos rangel   \n",
      "44  ObjectId('64a6d008b23753d1d92bcbaf')              Yuri da rocha rosa   \n",
      "45  ObjectId('64a6d0bab23753d1d92bcbb2')                   labase anni 2   \n",
      "\n",
      "      ano       sexo   idade                              time   \n",
      "0    ano1  masculino  anos10  2023-05-31 19:45:52.561244-03:00  \\\n",
      "1    ano2   feminino   anos9  2023-05-31 19:50:01.899904-03:00   \n",
      "2    ano9  masculino  anos10  2023-06-03 15:01:44.637563-03:00   \n",
      "3    ano9  masculino  anos10  2023-06-03 15:27:05.449207-03:00   \n",
      "4    ano1  masculino   anos1  2023-06-03 15:30:35.506478-03:00   \n",
      "5    ano9   feminino  anos10  2023-06-03 16:07:20.229405-03:00   \n",
      "6    ano1  masculino   anos1  2023-06-06 18:24:42.655420-03:00   \n",
      "7    ano1   feminino  anos10  2023-06-29 09:25:53.347255-03:00   \n",
      "8    ano7  masculino  anos10  2023-06-30 13:42:04.089456-03:00   \n",
      "9    ano7   feminino   anos8  2023-06-30 13:45:35.837484-03:00   \n",
      "10   ano7  masculino   anos9  2023-06-30 13:50:37.612930-03:00   \n",
      "11   ano7  masculino   anos9  2023-06-30 14:22:35.268721-03:00   \n",
      "12   ano7   feminino   anos9  2023-06-30 14:23:38.866296-03:00   \n",
      "13   ano7   feminino   anos9  2023-06-30 14:25:14.907031-03:00   \n",
      "14   ano7   feminino   anos7  2023-06-30 14:28:46.455544-03:00   \n",
      "15   ano7  masculino   anos9  2023-06-30 14:43:41.379454-03:00   \n",
      "16   ano7   feminino   anos8  2023-06-30 14:56:02.145768-03:00   \n",
      "17   ano7  masculino  anos10  2023-06-30 14:58:56.063871-03:00   \n",
      "18   ano0   feminino   anos0  2023-07-01 10:01:33.702116-03:00   \n",
      "19  ano15  masculino  anos17  2023-07-03 15:53:09.370727-03:00   \n",
      "20  ano15  masculino  anos17  2023-07-04 09:05:45.819397-03:00   \n",
      "21   ano6  masculino   anos9  2023-07-04 13:33:32.894640-03:00   \n",
      "22   ano6  masculino  anos11  2023-07-04 13:36:57.398649-03:00   \n",
      "23   ano6  masculino   anos9  2023-07-04 13:38:32.519997-03:00   \n",
      "24   ano6  masculino  anos11  2023-07-04 13:44:41.297646-03:00   \n",
      "25   ano6  masculino  anos11  2023-07-04 14:14:23.055240-03:00   \n",
      "26   ano6  masculino   anos8  2023-07-04 14:21:16.825047-03:00   \n",
      "27   ano6   feminino   anos7  2023-07-04 14:22:35.354715-03:00   \n",
      "28   ano6   feminino   anos8  2023-07-04 14:26:31.257760-03:00   \n",
      "29   ano6   feminino   anos7  2023-07-04 14:36:25.205475-03:00   \n",
      "30   ano6  masculino   anos8  2023-07-04 14:40:11.834194-03:00   \n",
      "31   ano6   feminino   anos7  2023-07-04 14:57:24.977135-03:00   \n",
      "32   ano6   feminino   anos7  2023-07-04 15:01:18.444424-03:00   \n",
      "33   ano6  masculino   anos8  2023-07-04 15:02:32.442124-03:00   \n",
      "34   ano6  masculino   anos8  2023-07-04 15:05:52.511020-03:00   \n",
      "35   ano6  masculino   anos9  2023-07-04 15:09:32.572233-03:00   \n",
      "36   ano6  masculino   anos9  2023-07-04 15:12:30.468574-03:00   \n",
      "37   ano6  masculino   anos7  2023-07-04 15:18:57.806205-03:00   \n",
      "38   ano6  masculino   anos9  2023-07-04 15:31:18.537722-03:00   \n",
      "39   ano6  masculino   anos8  2023-07-04 15:33:43.357656-03:00   \n",
      "40   ano6   feminino   anos7  2023-07-04 15:42:46.995942-03:00   \n",
      "41   ano6   feminino   anos8  2023-07-04 15:47:40.142620-03:00   \n",
      "42   ano6   feminino   anos9  2023-07-04 16:50:15.351784-03:00   \n",
      "43   ano6   feminino   anos9  2023-07-04 16:53:47.341360-03:00   \n",
      "44   ano6  masculino   anos8  2023-07-06 11:30:32.212457-03:00   \n",
      "45  ano11   feminino  anos17  2023-07-06 11:33:30.650541-03:00   \n",
      "\n",
      "                                                games  \n",
      "0   [{'game': 'wcst', 'goal': 0, 'trial': 0, 'scor...  \n",
      "1   [{'game': 'wcst', 'goal': 0, 'trial': 0, 'scor...  \n",
      "2   [{'game': 'game', 'goal': 0, 'trial': 0, 'scor...  \n",
      "3   [{'game': 'wcst', 'goal': 0, 'trial': 0, 'scor...  \n",
      "4   [{'game': 'game', 'goal': 0, 'trial': 0, 'scor...  \n",
      "5   [{'game': 'game', 'goal': 0, 'trial': 0, 'scor...  \n",
      "6   [{'game': 'game', 'goal': 0, 'trial': 0, 'scor...  \n",
      "7   [{'game': 'game', 'goal': 0, 'trial': 0, 'scor...  \n",
      "8   [{'game': 'game', 'goal': 0, 'trial': 0, 'scor...  \n",
      "9   [{'game': 'game', 'goal': 0, 'trial': 0, 'scor...  \n",
      "10  [{'game': 'game', 'goal': 0, 'trial': 0, 'scor...  \n",
      "11  [{'game': 'game', 'goal': 0, 'trial': 0, 'scor...  \n",
      "12  [{'game': 'game', 'goal': 0, 'trial': 0, 'scor...  \n",
      "13  [{'game': 'game', 'goal': 0, 'trial': 0, 'scor...  \n",
      "14  [{'game': 'game', 'goal': 0, 'trial': 0, 'scor...  \n",
      "15  [{'game': 'game', 'goal': 0, 'trial': 0, 'scor...  \n",
      "16  [{'game': 'game', 'goal': 0, 'trial': 0, 'scor...  \n",
      "17  [{'game': 'game', 'goal': 0, 'trial': 0, 'scor...  \n",
      "18  [{'game': 'game', 'goal': 0, 'trial': 0, 'scor...  \n",
      "19  [{'game': 'wcst', 'goal': 0, 'trial': 0, 'scor...  \n",
      "20  [{'game': 'wcst', 'goal': 0, 'trial': 0, 'scor...  \n",
      "21  [{'game': 'game', 'goal': 0, 'trial': 0, 'scor...  \n",
      "22  [{'game': 'game', 'goal': 0, 'trial': 0, 'scor...  \n",
      "23  [{'game': 'game', 'goal': 0, 'trial': 0, 'scor...  \n",
      "24  [{'game': 'game', 'goal': 0, 'trial': 0, 'scor...  \n",
      "25  [{'game': 'game', 'goal': 0, 'trial': 0, 'scor...  \n",
      "26  [{'game': 'game', 'goal': 0, 'trial': 0, 'scor...  \n",
      "27  [{'game': 'game', 'goal': 0, 'trial': 0, 'scor...  \n",
      "28  [{'game': 'game', 'goal': 0, 'trial': 0, 'scor...  \n",
      "29  [{'game': 'game', 'goal': 0, 'trial': 0, 'scor...  \n",
      "30  [{'game': 'game', 'goal': 0, 'trial': 0, 'scor...  \n",
      "31  [{'game': 'game', 'goal': 0, 'trial': 0, 'scor...  \n",
      "32  [{'game': 'game', 'goal': 0, 'trial': 0, 'scor...  \n",
      "33  [{'game': 'game', 'goal': 0, 'trial': 0, 'scor...  \n",
      "34  [{'game': 'game', 'goal': 0, 'trial': 0, 'scor...  \n",
      "35  [{'game': 'wcst', 'goal': 0, 'trial': 0, 'scor...  \n",
      "36  [{'game': 'wcst', 'goal': 0, 'trial': 0, 'scor...  \n",
      "37  [{'game': 'wcst', 'goal': 0, 'trial': 0, 'scor...  \n",
      "38  [{'game': 'wcst', 'goal': 0, 'trial': 0, 'scor...  \n",
      "39  [{'game': 'game', 'goal': 0, 'trial': 0, 'scor...  \n",
      "40  [{'game': 'wcst', 'goal': 0, 'trial': 0, 'scor...  \n",
      "41  [{'game': 'wcst', 'goal': 0, 'trial': 0, 'scor...  \n",
      "42  [{'game': 'game', 'goal': 0, 'trial': 0, 'scor...  \n",
      "43  [{'game': 'game', 'goal': 0, 'trial': 0, 'scor...  \n",
      "44  [{'game': 'game', 'goal': 0, 'trial': 0, 'scor...  \n",
      "45  [{'game': 'wcst', 'goal': 0, 'trial': 0, 'scor...  \n"
     ]
    }
   ],
   "source": [
    "from GameAlite import Players\n",
    "\n",
    "dados = Players().players_alite()\n",
    "print(dados)"
   ]
  },
  {
   "cell_type": "code",
   "execution_count": 2,
   "outputs": [
    {
     "data": {
      "text/plain": "0     [{'game': 'wcst', 'goal': 0, 'trial': 0, 'scor...\n1     [{'game': 'wcst', 'goal': 0, 'trial': 0, 'scor...\n2     [{'game': 'game', 'goal': 0, 'trial': 0, 'scor...\n3     [{'game': 'wcst', 'goal': 0, 'trial': 0, 'scor...\n4     [{'game': 'game', 'goal': 0, 'trial': 0, 'scor...\n5     [{'game': 'game', 'goal': 0, 'trial': 0, 'scor...\n6     [{'game': 'game', 'goal': 0, 'trial': 0, 'scor...\n7     [{'game': 'game', 'goal': 0, 'trial': 0, 'scor...\n8     [{'game': 'game', 'goal': 0, 'trial': 0, 'scor...\n9     [{'game': 'game', 'goal': 0, 'trial': 0, 'scor...\n10    [{'game': 'game', 'goal': 0, 'trial': 0, 'scor...\n11    [{'game': 'game', 'goal': 0, 'trial': 0, 'scor...\n12    [{'game': 'game', 'goal': 0, 'trial': 0, 'scor...\n13    [{'game': 'game', 'goal': 0, 'trial': 0, 'scor...\n14    [{'game': 'game', 'goal': 0, 'trial': 0, 'scor...\n15    [{'game': 'game', 'goal': 0, 'trial': 0, 'scor...\n16    [{'game': 'game', 'goal': 0, 'trial': 0, 'scor...\n17    [{'game': 'game', 'goal': 0, 'trial': 0, 'scor...\n18    [{'game': 'game', 'goal': 0, 'trial': 0, 'scor...\n19    [{'game': 'wcst', 'goal': 0, 'trial': 0, 'scor...\n20    [{'game': 'wcst', 'goal': 0, 'trial': 0, 'scor...\n21    [{'game': 'game', 'goal': 0, 'trial': 0, 'scor...\n22    [{'game': 'game', 'goal': 0, 'trial': 0, 'scor...\n23    [{'game': 'game', 'goal': 0, 'trial': 0, 'scor...\n24    [{'game': 'game', 'goal': 0, 'trial': 0, 'scor...\n25    [{'game': 'game', 'goal': 0, 'trial': 0, 'scor...\n26    [{'game': 'game', 'goal': 0, 'trial': 0, 'scor...\n27    [{'game': 'game', 'goal': 0, 'trial': 0, 'scor...\n28    [{'game': 'game', 'goal': 0, 'trial': 0, 'scor...\n29    [{'game': 'game', 'goal': 0, 'trial': 0, 'scor...\n30    [{'game': 'game', 'goal': 0, 'trial': 0, 'scor...\n31    [{'game': 'game', 'goal': 0, 'trial': 0, 'scor...\n32    [{'game': 'game', 'goal': 0, 'trial': 0, 'scor...\n33    [{'game': 'game', 'goal': 0, 'trial': 0, 'scor...\n34    [{'game': 'game', 'goal': 0, 'trial': 0, 'scor...\n35    [{'game': 'wcst', 'goal': 0, 'trial': 0, 'scor...\n36    [{'game': 'wcst', 'goal': 0, 'trial': 0, 'scor...\n37    [{'game': 'wcst', 'goal': 0, 'trial': 0, 'scor...\n38    [{'game': 'wcst', 'goal': 0, 'trial': 0, 'scor...\n39    [{'game': 'game', 'goal': 0, 'trial': 0, 'scor...\n40    [{'game': 'wcst', 'goal': 0, 'trial': 0, 'scor...\n41    [{'game': 'wcst', 'goal': 0, 'trial': 0, 'scor...\n42    [{'game': 'game', 'goal': 0, 'trial': 0, 'scor...\n43    [{'game': 'game', 'goal': 0, 'trial': 0, 'scor...\n44    [{'game': 'game', 'goal': 0, 'trial': 0, 'scor...\n45    [{'game': 'wcst', 'goal': 0, 'trial': 0, 'scor...\nName: games, dtype: object"
     },
     "execution_count": 2,
     "metadata": {},
     "output_type": "execute_result"
    }
   ],
   "source": [
    "dados.games"
   ],
   "metadata": {
    "collapsed": false,
    "ExecuteTime": {
     "end_time": "2023-07-06T14:42:17.505353034Z",
     "start_time": "2023-07-06T14:42:17.391951863Z"
    }
   }
  },
  {
   "cell_type": "code",
   "execution_count": 3,
   "outputs": [
    {
     "data": {
      "text/plain": "                                      id                            name   \n0   ObjectId('6477ce20f626d3cb95e08c8f')                           admin  \\\n1   ObjectId('6477cf19f626d3cb95e08c92')                           outro   \n2   ObjectId('647b8008f626d3cb95e08c98')                     Pedro Lomba   \n3   ObjectId('647b85f9f626d3cb95e08c9b')                          daniel   \n4   ObjectId('647b86cbf626d3cb95e08c9d')                        kduzinho   \n5   ObjectId('647b8f68f626d3cb95e08c9f')              Carolina Fantinato   \n6   ObjectId('647fa41a442f27c3f236c16c')                          labase   \n7   ObjectId('649d7851b9995c27c863da60')                     labase anni   \n8   ObjectId('649f05dcb9995c27c863da64')                         leandro   \n9   ObjectId('649f06afb9995c27c863da66')                   Julia Almeida   \n10  ObjectId('649f07ddb9995c27c863da68')                           Italo   \n11  ObjectId('649f0f5bb9995c27c863da6e')                           pedro   \n12  ObjectId('649f0f9ab9995c27c863da70')                       thimberly   \n13  ObjectId('649f0ffab9995c27c863da75')                       thimberly   \n14  ObjectId('649f10ceb9995c27c863da80')                          raissa   \n15  ObjectId('649f144db9995c27c863da84')                           pedro   \n16  ObjectId('649f1732b9995c27c863da88')                    JÃºlya Cunha   \n17  ObjectId('649f17e0b9995c27c863da8c')                        Fernando   \n18  ObjectId('64a023adb9995c27c863da8e')           Vanessa Vianna (ufrj)   \n19  ObjectId('64a31915b23753d1d92bcb6c')                              eu   \n20  ObjectId('64a40b19b23753d1d92bcb6f')                              eu   \n21  ObjectId('64a449dcb23753d1d92bcb71')               Guilherme Gabriel   \n22  ObjectId('64a44aa9b23753d1d92bcb73')                          Kaique   \n23  ObjectId('64a44b08b23753d1d92bcb75')                         Douglas   \n24  ObjectId('64a44c79b23753d1d92bcb7b')                          Kaique   \n25  ObjectId('64a4536fb23753d1d92bcb7e')                          Kaique   \n26  ObjectId('64a4550cb23753d1d92bcb80')               Cristiano Ronaldo   \n27  ObjectId('64a4555bb23753d1d92bcb82')                         Jessica   \n28  ObjectId('64a45647b23753d1d92bcb84')                          Dayane   \n29  ObjectId('64a45899b23753d1d92bcb86')                         Jessica   \n30  ObjectId('64a4597bb23753d1d92bcb88')               Cristiano Ronaldo   \n31  ObjectId('64a45d84b23753d1d92bcb8a')                         Jessica   \n32  ObjectId('64a45e6eb23753d1d92bcb8c')                         Jessica   \n33  ObjectId('64a45eb8b23753d1d92bcb8e')                            Yuri   \n34  ObjectId('64a45f80b23753d1d92bcb91')                            Yuri   \n35  ObjectId('64a4605cb23753d1d92bcb93')                           italo   \n36  ObjectId('64a4610eb23753d1d92bcb95')                           Pedro   \n37  ObjectId('64a46291b23753d1d92bcb98')                           Italo   \n38  ObjectId('64a46576b23753d1d92bcb9c')                           Pedro   \n39  ObjectId('64a46607b23753d1d92bcb9e')                            Yuri   \n40  ObjectId('64a46826b23753d1d92bcba2')                        JÃ©ssica   \n41  ObjectId('64a4694cb23753d1d92bcba5')                   Julia Almeida   \n42  ObjectId('64a477f7b23753d1d92bcba9')  Thimberlly keity santos rangel   \n43  ObjectId('64a478cbb23753d1d92bcbac')  thimberlly keity santos rangel   \n44  ObjectId('64a6d008b23753d1d92bcbaf')              Yuri da rocha rosa   \n45  ObjectId('64a6d0bab23753d1d92bcbb2')                   labase anni 2   \n\n      ano       sexo   idade                              time   \n0    ano1  masculino  anos10  2023-05-31 19:45:52.561244-03:00  \\\n1    ano2   feminino   anos9  2023-05-31 19:50:01.899904-03:00   \n2    ano9  masculino  anos10  2023-06-03 15:01:44.637563-03:00   \n3    ano9  masculino  anos10  2023-06-03 15:27:05.449207-03:00   \n4    ano1  masculino   anos1  2023-06-03 15:30:35.506478-03:00   \n5    ano9   feminino  anos10  2023-06-03 16:07:20.229405-03:00   \n6    ano1  masculino   anos1  2023-06-06 18:24:42.655420-03:00   \n7    ano1   feminino  anos10  2023-06-29 09:25:53.347255-03:00   \n8    ano7  masculino  anos10  2023-06-30 13:42:04.089456-03:00   \n9    ano7   feminino   anos8  2023-06-30 13:45:35.837484-03:00   \n10   ano7  masculino   anos9  2023-06-30 13:50:37.612930-03:00   \n11   ano7  masculino   anos9  2023-06-30 14:22:35.268721-03:00   \n12   ano7   feminino   anos9  2023-06-30 14:23:38.866296-03:00   \n13   ano7   feminino   anos9  2023-06-30 14:25:14.907031-03:00   \n14   ano7   feminino   anos7  2023-06-30 14:28:46.455544-03:00   \n15   ano7  masculino   anos9  2023-06-30 14:43:41.379454-03:00   \n16   ano7   feminino   anos8  2023-06-30 14:56:02.145768-03:00   \n17   ano7  masculino  anos10  2023-06-30 14:58:56.063871-03:00   \n18   ano0   feminino   anos0  2023-07-01 10:01:33.702116-03:00   \n19  ano15  masculino  anos17  2023-07-03 15:53:09.370727-03:00   \n20  ano15  masculino  anos17  2023-07-04 09:05:45.819397-03:00   \n21   ano6  masculino   anos9  2023-07-04 13:33:32.894640-03:00   \n22   ano6  masculino  anos11  2023-07-04 13:36:57.398649-03:00   \n23   ano6  masculino   anos9  2023-07-04 13:38:32.519997-03:00   \n24   ano6  masculino  anos11  2023-07-04 13:44:41.297646-03:00   \n25   ano6  masculino  anos11  2023-07-04 14:14:23.055240-03:00   \n26   ano6  masculino   anos8  2023-07-04 14:21:16.825047-03:00   \n27   ano6   feminino   anos7  2023-07-04 14:22:35.354715-03:00   \n28   ano6   feminino   anos8  2023-07-04 14:26:31.257760-03:00   \n29   ano6   feminino   anos7  2023-07-04 14:36:25.205475-03:00   \n30   ano6  masculino   anos8  2023-07-04 14:40:11.834194-03:00   \n31   ano6   feminino   anos7  2023-07-04 14:57:24.977135-03:00   \n32   ano6   feminino   anos7  2023-07-04 15:01:18.444424-03:00   \n33   ano6  masculino   anos8  2023-07-04 15:02:32.442124-03:00   \n34   ano6  masculino   anos8  2023-07-04 15:05:52.511020-03:00   \n35   ano6  masculino   anos9  2023-07-04 15:09:32.572233-03:00   \n36   ano6  masculino   anos9  2023-07-04 15:12:30.468574-03:00   \n37   ano6  masculino   anos7  2023-07-04 15:18:57.806205-03:00   \n38   ano6  masculino   anos9  2023-07-04 15:31:18.537722-03:00   \n39   ano6  masculino   anos8  2023-07-04 15:33:43.357656-03:00   \n40   ano6   feminino   anos7  2023-07-04 15:42:46.995942-03:00   \n41   ano6   feminino   anos8  2023-07-04 15:47:40.142620-03:00   \n42   ano6   feminino   anos9  2023-07-04 16:50:15.351784-03:00   \n43   ano6   feminino   anos9  2023-07-04 16:53:47.341360-03:00   \n44   ano6  masculino   anos8  2023-07-06 11:30:32.212457-03:00   \n45  ano11   feminino  anos17  2023-07-06 11:33:30.650541-03:00   \n\n                                                games  \n0   [{'game': 'wcst', 'goal': 0, 'trial': 0, 'scor...  \n1   [{'game': 'wcst', 'goal': 0, 'trial': 0, 'scor...  \n2   [{'game': 'game', 'goal': 0, 'trial': 0, 'scor...  \n3   [{'game': 'wcst', 'goal': 0, 'trial': 0, 'scor...  \n4   [{'game': 'game', 'goal': 0, 'trial': 0, 'scor...  \n5   [{'game': 'game', 'goal': 0, 'trial': 0, 'scor...  \n6   [{'game': 'game', 'goal': 0, 'trial': 0, 'scor...  \n7   [{'game': 'game', 'goal': 0, 'trial': 0, 'scor...  \n8   [{'game': 'game', 'goal': 0, 'trial': 0, 'scor...  \n9   [{'game': 'game', 'goal': 0, 'trial': 0, 'scor...  \n10  [{'game': 'game', 'goal': 0, 'trial': 0, 'scor...  \n11  [{'game': 'game', 'goal': 0, 'trial': 0, 'scor...  \n12  [{'game': 'game', 'goal': 0, 'trial': 0, 'scor...  \n13  [{'game': 'game', 'goal': 0, 'trial': 0, 'scor...  \n14  [{'game': 'game', 'goal': 0, 'trial': 0, 'scor...  \n15  [{'game': 'game', 'goal': 0, 'trial': 0, 'scor...  \n16  [{'game': 'game', 'goal': 0, 'trial': 0, 'scor...  \n17  [{'game': 'game', 'goal': 0, 'trial': 0, 'scor...  \n18  [{'game': 'game', 'goal': 0, 'trial': 0, 'scor...  \n19  [{'game': 'wcst', 'goal': 0, 'trial': 0, 'scor...  \n20  [{'game': 'wcst', 'goal': 0, 'trial': 0, 'scor...  \n21  [{'game': 'game', 'goal': 0, 'trial': 0, 'scor...  \n22  [{'game': 'game', 'goal': 0, 'trial': 0, 'scor...  \n23  [{'game': 'game', 'goal': 0, 'trial': 0, 'scor...  \n24  [{'game': 'game', 'goal': 0, 'trial': 0, 'scor...  \n25  [{'game': 'game', 'goal': 0, 'trial': 0, 'scor...  \n26  [{'game': 'game', 'goal': 0, 'trial': 0, 'scor...  \n27  [{'game': 'game', 'goal': 0, 'trial': 0, 'scor...  \n28  [{'game': 'game', 'goal': 0, 'trial': 0, 'scor...  \n29  [{'game': 'game', 'goal': 0, 'trial': 0, 'scor...  \n30  [{'game': 'game', 'goal': 0, 'trial': 0, 'scor...  \n31  [{'game': 'game', 'goal': 0, 'trial': 0, 'scor...  \n32  [{'game': 'game', 'goal': 0, 'trial': 0, 'scor...  \n33  [{'game': 'game', 'goal': 0, 'trial': 0, 'scor...  \n34  [{'game': 'game', 'goal': 0, 'trial': 0, 'scor...  \n35  [{'game': 'wcst', 'goal': 0, 'trial': 0, 'scor...  \n36  [{'game': 'wcst', 'goal': 0, 'trial': 0, 'scor...  \n37  [{'game': 'wcst', 'goal': 0, 'trial': 0, 'scor...  \n38  [{'game': 'wcst', 'goal': 0, 'trial': 0, 'scor...  \n39  [{'game': 'game', 'goal': 0, 'trial': 0, 'scor...  \n40  [{'game': 'wcst', 'goal': 0, 'trial': 0, 'scor...  \n41  [{'game': 'wcst', 'goal': 0, 'trial': 0, 'scor...  \n42  [{'game': 'game', 'goal': 0, 'trial': 0, 'scor...  \n43  [{'game': 'game', 'goal': 0, 'trial': 0, 'scor...  \n44  [{'game': 'game', 'goal': 0, 'trial': 0, 'scor...  \n45  [{'game': 'wcst', 'goal': 0, 'trial': 0, 'scor...  ",
      "text/html": "<div>\n<style scoped>\n    .dataframe tbody tr th:only-of-type {\n        vertical-align: middle;\n    }\n\n    .dataframe tbody tr th {\n        vertical-align: top;\n    }\n\n    .dataframe thead th {\n        text-align: right;\n    }\n</style>\n<table border=\"1\" class=\"dataframe\">\n  <thead>\n    <tr style=\"text-align: right;\">\n      <th></th>\n      <th>id</th>\n      <th>name</th>\n      <th>ano</th>\n      <th>sexo</th>\n      <th>idade</th>\n      <th>time</th>\n      <th>games</th>\n    </tr>\n  </thead>\n  <tbody>\n    <tr>\n      <th>0</th>\n      <td>ObjectId('6477ce20f626d3cb95e08c8f')</td>\n      <td>admin</td>\n      <td>ano1</td>\n      <td>masculino</td>\n      <td>anos10</td>\n      <td>2023-05-31 19:45:52.561244-03:00</td>\n      <td>[{'game': 'wcst', 'goal': 0, 'trial': 0, 'scor...</td>\n    </tr>\n    <tr>\n      <th>1</th>\n      <td>ObjectId('6477cf19f626d3cb95e08c92')</td>\n      <td>outro</td>\n      <td>ano2</td>\n      <td>feminino</td>\n      <td>anos9</td>\n      <td>2023-05-31 19:50:01.899904-03:00</td>\n      <td>[{'game': 'wcst', 'goal': 0, 'trial': 0, 'scor...</td>\n    </tr>\n    <tr>\n      <th>2</th>\n      <td>ObjectId('647b8008f626d3cb95e08c98')</td>\n      <td>Pedro Lomba</td>\n      <td>ano9</td>\n      <td>masculino</td>\n      <td>anos10</td>\n      <td>2023-06-03 15:01:44.637563-03:00</td>\n      <td>[{'game': 'game', 'goal': 0, 'trial': 0, 'scor...</td>\n    </tr>\n    <tr>\n      <th>3</th>\n      <td>ObjectId('647b85f9f626d3cb95e08c9b')</td>\n      <td>daniel</td>\n      <td>ano9</td>\n      <td>masculino</td>\n      <td>anos10</td>\n      <td>2023-06-03 15:27:05.449207-03:00</td>\n      <td>[{'game': 'wcst', 'goal': 0, 'trial': 0, 'scor...</td>\n    </tr>\n    <tr>\n      <th>4</th>\n      <td>ObjectId('647b86cbf626d3cb95e08c9d')</td>\n      <td>kduzinho</td>\n      <td>ano1</td>\n      <td>masculino</td>\n      <td>anos1</td>\n      <td>2023-06-03 15:30:35.506478-03:00</td>\n      <td>[{'game': 'game', 'goal': 0, 'trial': 0, 'scor...</td>\n    </tr>\n    <tr>\n      <th>5</th>\n      <td>ObjectId('647b8f68f626d3cb95e08c9f')</td>\n      <td>Carolina Fantinato</td>\n      <td>ano9</td>\n      <td>feminino</td>\n      <td>anos10</td>\n      <td>2023-06-03 16:07:20.229405-03:00</td>\n      <td>[{'game': 'game', 'goal': 0, 'trial': 0, 'scor...</td>\n    </tr>\n    <tr>\n      <th>6</th>\n      <td>ObjectId('647fa41a442f27c3f236c16c')</td>\n      <td>labase</td>\n      <td>ano1</td>\n      <td>masculino</td>\n      <td>anos1</td>\n      <td>2023-06-06 18:24:42.655420-03:00</td>\n      <td>[{'game': 'game', 'goal': 0, 'trial': 0, 'scor...</td>\n    </tr>\n    <tr>\n      <th>7</th>\n      <td>ObjectId('649d7851b9995c27c863da60')</td>\n      <td>labase anni</td>\n      <td>ano1</td>\n      <td>feminino</td>\n      <td>anos10</td>\n      <td>2023-06-29 09:25:53.347255-03:00</td>\n      <td>[{'game': 'game', 'goal': 0, 'trial': 0, 'scor...</td>\n    </tr>\n    <tr>\n      <th>8</th>\n      <td>ObjectId('649f05dcb9995c27c863da64')</td>\n      <td>leandro</td>\n      <td>ano7</td>\n      <td>masculino</td>\n      <td>anos10</td>\n      <td>2023-06-30 13:42:04.089456-03:00</td>\n      <td>[{'game': 'game', 'goal': 0, 'trial': 0, 'scor...</td>\n    </tr>\n    <tr>\n      <th>9</th>\n      <td>ObjectId('649f06afb9995c27c863da66')</td>\n      <td>Julia Almeida</td>\n      <td>ano7</td>\n      <td>feminino</td>\n      <td>anos8</td>\n      <td>2023-06-30 13:45:35.837484-03:00</td>\n      <td>[{'game': 'game', 'goal': 0, 'trial': 0, 'scor...</td>\n    </tr>\n    <tr>\n      <th>10</th>\n      <td>ObjectId('649f07ddb9995c27c863da68')</td>\n      <td>Italo</td>\n      <td>ano7</td>\n      <td>masculino</td>\n      <td>anos9</td>\n      <td>2023-06-30 13:50:37.612930-03:00</td>\n      <td>[{'game': 'game', 'goal': 0, 'trial': 0, 'scor...</td>\n    </tr>\n    <tr>\n      <th>11</th>\n      <td>ObjectId('649f0f5bb9995c27c863da6e')</td>\n      <td>pedro</td>\n      <td>ano7</td>\n      <td>masculino</td>\n      <td>anos9</td>\n      <td>2023-06-30 14:22:35.268721-03:00</td>\n      <td>[{'game': 'game', 'goal': 0, 'trial': 0, 'scor...</td>\n    </tr>\n    <tr>\n      <th>12</th>\n      <td>ObjectId('649f0f9ab9995c27c863da70')</td>\n      <td>thimberly</td>\n      <td>ano7</td>\n      <td>feminino</td>\n      <td>anos9</td>\n      <td>2023-06-30 14:23:38.866296-03:00</td>\n      <td>[{'game': 'game', 'goal': 0, 'trial': 0, 'scor...</td>\n    </tr>\n    <tr>\n      <th>13</th>\n      <td>ObjectId('649f0ffab9995c27c863da75')</td>\n      <td>thimberly</td>\n      <td>ano7</td>\n      <td>feminino</td>\n      <td>anos9</td>\n      <td>2023-06-30 14:25:14.907031-03:00</td>\n      <td>[{'game': 'game', 'goal': 0, 'trial': 0, 'scor...</td>\n    </tr>\n    <tr>\n      <th>14</th>\n      <td>ObjectId('649f10ceb9995c27c863da80')</td>\n      <td>raissa</td>\n      <td>ano7</td>\n      <td>feminino</td>\n      <td>anos7</td>\n      <td>2023-06-30 14:28:46.455544-03:00</td>\n      <td>[{'game': 'game', 'goal': 0, 'trial': 0, 'scor...</td>\n    </tr>\n    <tr>\n      <th>15</th>\n      <td>ObjectId('649f144db9995c27c863da84')</td>\n      <td>pedro</td>\n      <td>ano7</td>\n      <td>masculino</td>\n      <td>anos9</td>\n      <td>2023-06-30 14:43:41.379454-03:00</td>\n      <td>[{'game': 'game', 'goal': 0, 'trial': 0, 'scor...</td>\n    </tr>\n    <tr>\n      <th>16</th>\n      <td>ObjectId('649f1732b9995c27c863da88')</td>\n      <td>JÃºlya Cunha</td>\n      <td>ano7</td>\n      <td>feminino</td>\n      <td>anos8</td>\n      <td>2023-06-30 14:56:02.145768-03:00</td>\n      <td>[{'game': 'game', 'goal': 0, 'trial': 0, 'scor...</td>\n    </tr>\n    <tr>\n      <th>17</th>\n      <td>ObjectId('649f17e0b9995c27c863da8c')</td>\n      <td>Fernando</td>\n      <td>ano7</td>\n      <td>masculino</td>\n      <td>anos10</td>\n      <td>2023-06-30 14:58:56.063871-03:00</td>\n      <td>[{'game': 'game', 'goal': 0, 'trial': 0, 'scor...</td>\n    </tr>\n    <tr>\n      <th>18</th>\n      <td>ObjectId('64a023adb9995c27c863da8e')</td>\n      <td>Vanessa Vianna (ufrj)</td>\n      <td>ano0</td>\n      <td>feminino</td>\n      <td>anos0</td>\n      <td>2023-07-01 10:01:33.702116-03:00</td>\n      <td>[{'game': 'game', 'goal': 0, 'trial': 0, 'scor...</td>\n    </tr>\n    <tr>\n      <th>19</th>\n      <td>ObjectId('64a31915b23753d1d92bcb6c')</td>\n      <td>eu</td>\n      <td>ano15</td>\n      <td>masculino</td>\n      <td>anos17</td>\n      <td>2023-07-03 15:53:09.370727-03:00</td>\n      <td>[{'game': 'wcst', 'goal': 0, 'trial': 0, 'scor...</td>\n    </tr>\n    <tr>\n      <th>20</th>\n      <td>ObjectId('64a40b19b23753d1d92bcb6f')</td>\n      <td>eu</td>\n      <td>ano15</td>\n      <td>masculino</td>\n      <td>anos17</td>\n      <td>2023-07-04 09:05:45.819397-03:00</td>\n      <td>[{'game': 'wcst', 'goal': 0, 'trial': 0, 'scor...</td>\n    </tr>\n    <tr>\n      <th>21</th>\n      <td>ObjectId('64a449dcb23753d1d92bcb71')</td>\n      <td>Guilherme Gabriel</td>\n      <td>ano6</td>\n      <td>masculino</td>\n      <td>anos9</td>\n      <td>2023-07-04 13:33:32.894640-03:00</td>\n      <td>[{'game': 'game', 'goal': 0, 'trial': 0, 'scor...</td>\n    </tr>\n    <tr>\n      <th>22</th>\n      <td>ObjectId('64a44aa9b23753d1d92bcb73')</td>\n      <td>Kaique</td>\n      <td>ano6</td>\n      <td>masculino</td>\n      <td>anos11</td>\n      <td>2023-07-04 13:36:57.398649-03:00</td>\n      <td>[{'game': 'game', 'goal': 0, 'trial': 0, 'scor...</td>\n    </tr>\n    <tr>\n      <th>23</th>\n      <td>ObjectId('64a44b08b23753d1d92bcb75')</td>\n      <td>Douglas</td>\n      <td>ano6</td>\n      <td>masculino</td>\n      <td>anos9</td>\n      <td>2023-07-04 13:38:32.519997-03:00</td>\n      <td>[{'game': 'game', 'goal': 0, 'trial': 0, 'scor...</td>\n    </tr>\n    <tr>\n      <th>24</th>\n      <td>ObjectId('64a44c79b23753d1d92bcb7b')</td>\n      <td>Kaique</td>\n      <td>ano6</td>\n      <td>masculino</td>\n      <td>anos11</td>\n      <td>2023-07-04 13:44:41.297646-03:00</td>\n      <td>[{'game': 'game', 'goal': 0, 'trial': 0, 'scor...</td>\n    </tr>\n    <tr>\n      <th>25</th>\n      <td>ObjectId('64a4536fb23753d1d92bcb7e')</td>\n      <td>Kaique</td>\n      <td>ano6</td>\n      <td>masculino</td>\n      <td>anos11</td>\n      <td>2023-07-04 14:14:23.055240-03:00</td>\n      <td>[{'game': 'game', 'goal': 0, 'trial': 0, 'scor...</td>\n    </tr>\n    <tr>\n      <th>26</th>\n      <td>ObjectId('64a4550cb23753d1d92bcb80')</td>\n      <td>Cristiano Ronaldo</td>\n      <td>ano6</td>\n      <td>masculino</td>\n      <td>anos8</td>\n      <td>2023-07-04 14:21:16.825047-03:00</td>\n      <td>[{'game': 'game', 'goal': 0, 'trial': 0, 'scor...</td>\n    </tr>\n    <tr>\n      <th>27</th>\n      <td>ObjectId('64a4555bb23753d1d92bcb82')</td>\n      <td>Jessica</td>\n      <td>ano6</td>\n      <td>feminino</td>\n      <td>anos7</td>\n      <td>2023-07-04 14:22:35.354715-03:00</td>\n      <td>[{'game': 'game', 'goal': 0, 'trial': 0, 'scor...</td>\n    </tr>\n    <tr>\n      <th>28</th>\n      <td>ObjectId('64a45647b23753d1d92bcb84')</td>\n      <td>Dayane</td>\n      <td>ano6</td>\n      <td>feminino</td>\n      <td>anos8</td>\n      <td>2023-07-04 14:26:31.257760-03:00</td>\n      <td>[{'game': 'game', 'goal': 0, 'trial': 0, 'scor...</td>\n    </tr>\n    <tr>\n      <th>29</th>\n      <td>ObjectId('64a45899b23753d1d92bcb86')</td>\n      <td>Jessica</td>\n      <td>ano6</td>\n      <td>feminino</td>\n      <td>anos7</td>\n      <td>2023-07-04 14:36:25.205475-03:00</td>\n      <td>[{'game': 'game', 'goal': 0, 'trial': 0, 'scor...</td>\n    </tr>\n    <tr>\n      <th>30</th>\n      <td>ObjectId('64a4597bb23753d1d92bcb88')</td>\n      <td>Cristiano Ronaldo</td>\n      <td>ano6</td>\n      <td>masculino</td>\n      <td>anos8</td>\n      <td>2023-07-04 14:40:11.834194-03:00</td>\n      <td>[{'game': 'game', 'goal': 0, 'trial': 0, 'scor...</td>\n    </tr>\n    <tr>\n      <th>31</th>\n      <td>ObjectId('64a45d84b23753d1d92bcb8a')</td>\n      <td>Jessica</td>\n      <td>ano6</td>\n      <td>feminino</td>\n      <td>anos7</td>\n      <td>2023-07-04 14:57:24.977135-03:00</td>\n      <td>[{'game': 'game', 'goal': 0, 'trial': 0, 'scor...</td>\n    </tr>\n    <tr>\n      <th>32</th>\n      <td>ObjectId('64a45e6eb23753d1d92bcb8c')</td>\n      <td>Jessica</td>\n      <td>ano6</td>\n      <td>feminino</td>\n      <td>anos7</td>\n      <td>2023-07-04 15:01:18.444424-03:00</td>\n      <td>[{'game': 'game', 'goal': 0, 'trial': 0, 'scor...</td>\n    </tr>\n    <tr>\n      <th>33</th>\n      <td>ObjectId('64a45eb8b23753d1d92bcb8e')</td>\n      <td>Yuri</td>\n      <td>ano6</td>\n      <td>masculino</td>\n      <td>anos8</td>\n      <td>2023-07-04 15:02:32.442124-03:00</td>\n      <td>[{'game': 'game', 'goal': 0, 'trial': 0, 'scor...</td>\n    </tr>\n    <tr>\n      <th>34</th>\n      <td>ObjectId('64a45f80b23753d1d92bcb91')</td>\n      <td>Yuri</td>\n      <td>ano6</td>\n      <td>masculino</td>\n      <td>anos8</td>\n      <td>2023-07-04 15:05:52.511020-03:00</td>\n      <td>[{'game': 'game', 'goal': 0, 'trial': 0, 'scor...</td>\n    </tr>\n    <tr>\n      <th>35</th>\n      <td>ObjectId('64a4605cb23753d1d92bcb93')</td>\n      <td>italo</td>\n      <td>ano6</td>\n      <td>masculino</td>\n      <td>anos9</td>\n      <td>2023-07-04 15:09:32.572233-03:00</td>\n      <td>[{'game': 'wcst', 'goal': 0, 'trial': 0, 'scor...</td>\n    </tr>\n    <tr>\n      <th>36</th>\n      <td>ObjectId('64a4610eb23753d1d92bcb95')</td>\n      <td>Pedro</td>\n      <td>ano6</td>\n      <td>masculino</td>\n      <td>anos9</td>\n      <td>2023-07-04 15:12:30.468574-03:00</td>\n      <td>[{'game': 'wcst', 'goal': 0, 'trial': 0, 'scor...</td>\n    </tr>\n    <tr>\n      <th>37</th>\n      <td>ObjectId('64a46291b23753d1d92bcb98')</td>\n      <td>Italo</td>\n      <td>ano6</td>\n      <td>masculino</td>\n      <td>anos7</td>\n      <td>2023-07-04 15:18:57.806205-03:00</td>\n      <td>[{'game': 'wcst', 'goal': 0, 'trial': 0, 'scor...</td>\n    </tr>\n    <tr>\n      <th>38</th>\n      <td>ObjectId('64a46576b23753d1d92bcb9c')</td>\n      <td>Pedro</td>\n      <td>ano6</td>\n      <td>masculino</td>\n      <td>anos9</td>\n      <td>2023-07-04 15:31:18.537722-03:00</td>\n      <td>[{'game': 'wcst', 'goal': 0, 'trial': 0, 'scor...</td>\n    </tr>\n    <tr>\n      <th>39</th>\n      <td>ObjectId('64a46607b23753d1d92bcb9e')</td>\n      <td>Yuri</td>\n      <td>ano6</td>\n      <td>masculino</td>\n      <td>anos8</td>\n      <td>2023-07-04 15:33:43.357656-03:00</td>\n      <td>[{'game': 'game', 'goal': 0, 'trial': 0, 'scor...</td>\n    </tr>\n    <tr>\n      <th>40</th>\n      <td>ObjectId('64a46826b23753d1d92bcba2')</td>\n      <td>JÃ©ssica</td>\n      <td>ano6</td>\n      <td>feminino</td>\n      <td>anos7</td>\n      <td>2023-07-04 15:42:46.995942-03:00</td>\n      <td>[{'game': 'wcst', 'goal': 0, 'trial': 0, 'scor...</td>\n    </tr>\n    <tr>\n      <th>41</th>\n      <td>ObjectId('64a4694cb23753d1d92bcba5')</td>\n      <td>Julia Almeida</td>\n      <td>ano6</td>\n      <td>feminino</td>\n      <td>anos8</td>\n      <td>2023-07-04 15:47:40.142620-03:00</td>\n      <td>[{'game': 'wcst', 'goal': 0, 'trial': 0, 'scor...</td>\n    </tr>\n    <tr>\n      <th>42</th>\n      <td>ObjectId('64a477f7b23753d1d92bcba9')</td>\n      <td>Thimberlly keity santos rangel</td>\n      <td>ano6</td>\n      <td>feminino</td>\n      <td>anos9</td>\n      <td>2023-07-04 16:50:15.351784-03:00</td>\n      <td>[{'game': 'game', 'goal': 0, 'trial': 0, 'scor...</td>\n    </tr>\n    <tr>\n      <th>43</th>\n      <td>ObjectId('64a478cbb23753d1d92bcbac')</td>\n      <td>thimberlly keity santos rangel</td>\n      <td>ano6</td>\n      <td>feminino</td>\n      <td>anos9</td>\n      <td>2023-07-04 16:53:47.341360-03:00</td>\n      <td>[{'game': 'game', 'goal': 0, 'trial': 0, 'scor...</td>\n    </tr>\n    <tr>\n      <th>44</th>\n      <td>ObjectId('64a6d008b23753d1d92bcbaf')</td>\n      <td>Yuri da rocha rosa</td>\n      <td>ano6</td>\n      <td>masculino</td>\n      <td>anos8</td>\n      <td>2023-07-06 11:30:32.212457-03:00</td>\n      <td>[{'game': 'game', 'goal': 0, 'trial': 0, 'scor...</td>\n    </tr>\n    <tr>\n      <th>45</th>\n      <td>ObjectId('64a6d0bab23753d1d92bcbb2')</td>\n      <td>labase anni 2</td>\n      <td>ano11</td>\n      <td>feminino</td>\n      <td>anos17</td>\n      <td>2023-07-06 11:33:30.650541-03:00</td>\n      <td>[{'game': 'wcst', 'goal': 0, 'trial': 0, 'scor...</td>\n    </tr>\n  </tbody>\n</table>\n</div>"
     },
     "execution_count": 3,
     "metadata": {},
     "output_type": "execute_result"
    }
   ],
   "source": [
    "from GameAlite import AlitePandas\n",
    "\n",
    "rp = AlitePandas()\n",
    "rp.data"
   ],
   "metadata": {
    "collapsed": false,
    "ExecuteTime": {
     "end_time": "2023-07-06T14:42:18.771101119Z",
     "start_time": "2023-07-06T14:42:18.631001858Z"
    }
   }
  },
  {
   "cell_type": "code",
   "execution_count": 43,
   "outputs": [
    {
     "name": "stdout",
     "output_type": "stream",
     "text": [
      "0     False\n",
      "1     False\n",
      "2     False\n",
      "3     False\n",
      "4     False\n",
      "5     False\n",
      "6     False\n",
      "7      True\n",
      "8     False\n",
      "9     False\n",
      "10    False\n",
      "11    False\n",
      "12    False\n",
      "13    False\n",
      "14    False\n",
      "15    False\n",
      "16    False\n",
      "17    False\n",
      "18    False\n",
      "19    False\n",
      "20    False\n",
      "21    False\n",
      "22    False\n",
      "23    False\n",
      "24    False\n",
      "25    False\n",
      "26    False\n",
      "27    False\n",
      "28    False\n",
      "29    False\n",
      "30    False\n",
      "31    False\n",
      "32    False\n",
      "33    False\n",
      "34    False\n",
      "35    False\n",
      "36    False\n",
      "37    False\n",
      "38    False\n",
      "39    False\n",
      "40    False\n",
      "41    False\n",
      "42    False\n",
      "43    False\n",
      "44    False\n",
      "45    False\n",
      "Name: name, dtype: bool\n"
     ]
    }
   ],
   "source": [
    "dados = rp.data\n",
    "print(dados['name'] ==\"labase anni\")"
   ],
   "metadata": {
    "collapsed": false,
    "ExecuteTime": {
     "end_time": "2023-07-06T15:13:49.487470595Z",
     "start_time": "2023-07-06T15:13:49.422359577Z"
    }
   }
  },
  {
   "cell_type": "code",
   "execution_count": 44,
   "outputs": [
    {
     "data": {
      "text/plain": "id                    ObjectId('649d7851b9995c27c863da60')\nname                                           labase anni\nano                                                   ano1\nsexo                                              feminino\nidade                                               anos10\ntime                      2023-06-29 09:25:53.347255-03:00\ngames    [{'game': 'game', 'goal': 0, 'trial': 0, 'scor...\nName: 7, dtype: object"
     },
     "execution_count": 44,
     "metadata": {},
     "output_type": "execute_result"
    }
   ],
   "source": [
    "dados.iloc[7]"
   ],
   "metadata": {
    "collapsed": false,
    "ExecuteTime": {
     "end_time": "2023-07-06T15:13:58.131720840Z",
     "start_time": "2023-07-06T15:13:58.039955092Z"
    }
   }
  },
  {
   "cell_type": "code",
   "execution_count": 46,
   "outputs": [
    {
     "name": "stdout",
     "output_type": "stream",
     "text": [
      "[{'game': 'game', 'goal': 0, 'trial': 0, 'scorer': \"ObjectId('649d78a9b9995c27c863da61')\"}, {'game': 'game', 'goal': 0, 'trial': 1, 'scorer': \"ObjectId('649d7987b9995c27c863da62')\"}, {'game': 'wcst', 'goal': 0, 'trial': 0, 'scorer': \"ObjectId('649d7991b9995c27c863da63')\"}]\n",
      "[{'game': 'wcst', 'goal': 0, 'trial': 0, 'scorer': \"ObjectId('64a6d0c9b23753d1d92bcbb3')\"}]\n"
     ]
    }
   ],
   "source": [
    "dados_jogador_quaseperfeito = dados.iloc[7]['games']\n",
    "print(dados_jogador_quaseperfeito)\n",
    "\n",
    "dados_jogador_perfeito = dados.iloc[45]['games']\n",
    "\n",
    "print(dados_jogador_perfeito)"
   ],
   "metadata": {
    "collapsed": false,
    "ExecuteTime": {
     "end_time": "2023-07-06T15:14:29.135191900Z",
     "start_time": "2023-07-06T15:14:29.049235233Z"
    }
   }
  },
  {
   "cell_type": "code",
   "execution_count": 50,
   "outputs": [
    {
     "name": "stdout",
     "output_type": "stream",
     "text": [
      "0    {'game': 'game', 'goal': 0, 'trial': 0, 'score...\n",
      "1    {'game': 'game', 'goal': 0, 'trial': 1, 'score...\n",
      "2    {'game': 'wcst', 'goal': 0, 'trial': 0, 'score...\n",
      "Name: games, dtype: object\n",
      "0    {'game': 'wcst', 'goal': 0, 'trial': 0, 'score...\n",
      "Name: games, dtype: object\n"
     ]
    }
   ],
   "source": [
    "from GameAlite import Players\n",
    "dados_jogador_anni = Players().one_player(play_url= \"649d7851b9995c27c863da60\")\n",
    "dados_jogador_anni2 = Players().one_player(play_url= \"64a6d0bab23753d1d92bcbb2\")\n",
    "print(dados_jogador_anni.games)\n",
    "print(dados_jogador_anni2.games)"
   ],
   "metadata": {
    "collapsed": false,
    "ExecuteTime": {
     "end_time": "2023-07-06T15:16:34.193852155Z",
     "start_time": "2023-07-06T15:16:34.081444503Z"
    }
   }
  },
  {
   "cell_type": "code",
   "execution_count": 51,
   "outputs": [
    {
     "data": {
      "text/plain": "[{'game': 'game',\n  'goal': 0,\n  'trial': 0,\n  'scorer': \"ObjectId('649d78a9b9995c27c863da61')\"},\n {'game': 'game',\n  'goal': 0,\n  'trial': 1,\n  'scorer': \"ObjectId('649d7987b9995c27c863da62')\"},\n {'game': 'wcst',\n  'goal': 0,\n  'trial': 0,\n  'scorer': \"ObjectId('649d7991b9995c27c863da63')\"}]"
     },
     "execution_count": 51,
     "metadata": {},
     "output_type": "execute_result"
    }
   ],
   "source": [
    "dados_jogador_anni.games.to_list()"
   ],
   "metadata": {
    "collapsed": false,
    "ExecuteTime": {
     "end_time": "2023-07-06T15:16:48.701512384Z",
     "start_time": "2023-07-06T15:16:48.620395922Z"
    }
   }
  },
  {
   "cell_type": "code",
   "execution_count": 52,
   "outputs": [
    {
     "data": {
      "text/plain": "[{'game': 'wcst',\n  'goal': 0,\n  'trial': 0,\n  'scorer': \"ObjectId('64a6d0c9b23753d1d92bcbb3')\"}]"
     },
     "execution_count": 52,
     "metadata": {},
     "output_type": "execute_result"
    }
   ],
   "source": [
    "dados_jogador_anni2.games.to_list()"
   ],
   "metadata": {
    "collapsed": false,
    "ExecuteTime": {
     "end_time": "2023-07-06T15:17:43.534622629Z",
     "start_time": "2023-07-06T15:17:43.463980069Z"
    }
   }
  },
  {
   "cell_type": "code",
   "execution_count": 55,
   "outputs": [
    {
     "name": "stdout",
     "output_type": "stream",
     "text": [
      "   game  goal  trial                                scorer\n",
      "0  game     0      0  ObjectId('649d78a9b9995c27c863da61')\n",
      "1  game     0      1  ObjectId('649d7987b9995c27c863da62')\n",
      "2  wcst     0      0  ObjectId('649d7991b9995c27c863da63')\n",
      "   game  goal  trial                                scorer\n",
      "0  wcst     0      0  ObjectId('64a6d0c9b23753d1d92bcbb3')\n"
     ]
    }
   ],
   "source": [
    "import pandas as pd\n",
    "\n",
    "dados_jogos_anni = pd.DataFrame(dados_jogador_anni.games.to_list())\n",
    "print(dados_jogos_anni)\n",
    "dados_jogos_anni2 = pd.DataFrame(dados_jogador_anni2.games.to_list())\n",
    "print(dados_jogos_anni2)"
   ],
   "metadata": {
    "collapsed": false,
    "ExecuteTime": {
     "end_time": "2023-07-06T15:19:04.588654442Z",
     "start_time": "2023-07-06T15:19:04.423616971Z"
    }
   }
  },
  {
   "cell_type": "code",
   "execution_count": 57,
   "outputs": [
    {
     "name": "stdout",
     "output_type": "stream",
     "text": [
      "                                     _id         name  game  goal  trial   \n",
      "0   ObjectId('649d7851b9995c27c863da60')  labase anni  game     0      0  \\\n",
      "0   ObjectId('649d7851b9995c27c863da60')  labase anni  game     0      0   \n",
      "0   ObjectId('649d7851b9995c27c863da60')  labase anni  game     0      0   \n",
      "0   ObjectId('649d7851b9995c27c863da60')  labase anni  game     0      0   \n",
      "0   ObjectId('649d7851b9995c27c863da60')  labase anni  game     0      0   \n",
      "..                                   ...          ...   ...   ...    ...   \n",
      "2   ObjectId('649d7851b9995c27c863da60')  labase anni  wcst     0      0   \n",
      "2   ObjectId('649d7851b9995c27c863da60')  labase anni  wcst     0      0   \n",
      "2   ObjectId('649d7851b9995c27c863da60')  labase anni  wcst     0      0   \n",
      "2   ObjectId('649d7851b9995c27c863da60')  labase anni  wcst     0      0   \n",
      "2   ObjectId('649d7851b9995c27c863da60')  labase anni  wcst     0      0   \n",
      "\n",
      "                                               scorer  \n",
      "0   {'carta': '__I_N_I_T__', 'casa': '0_0', 'move'...  \n",
      "0   {'carta': '__A_T_I_V_A__', 'casa': '0_0', 'mov...  \n",
      "0   {'carta': '19_41_30', 'casa': '0_0', 'move': '...  \n",
      "0   {'carta': '19_41_30', 'casa': '0_0', 'move': '...  \n",
      "0   {'carta': '19_41_30', 'casa': '0_0', 'move': '...  \n",
      "..                                                ...  \n",
      "2   {'carta': 60, 'casa': 'Duas Estrelas Verdes', ...  \n",
      "2   {'carta': 61, 'casa': 'Quatro Círculos Azuis',...  \n",
      "2   {'carta': 62, 'casa': 'Três Cruzes Amarelas', ...  \n",
      "2   {'carta': 63, 'casa': 'Duas Estrelas Verdes', ...  \n",
      "2   {'carta': 64, 'casa': 'Um Triângulo Vermelho',...  \n",
      "\n",
      "[151 rows x 6 columns]\n",
      "                                     _id           name  game  goal  trial   \n",
      "0   ObjectId('64a6d0bab23753d1d92bcbb2')  labase anni 2  wcst     0      0  \\\n",
      "0   ObjectId('64a6d0bab23753d1d92bcbb2')  labase anni 2  wcst     0      0   \n",
      "0   ObjectId('64a6d0bab23753d1d92bcbb2')  labase anni 2  wcst     0      0   \n",
      "0   ObjectId('64a6d0bab23753d1d92bcbb2')  labase anni 2  wcst     0      0   \n",
      "0   ObjectId('64a6d0bab23753d1d92bcbb2')  labase anni 2  wcst     0      0   \n",
      "..                                   ...            ...   ...   ...    ...   \n",
      "0   ObjectId('64a6d0bab23753d1d92bcbb2')  labase anni 2  wcst     0      0   \n",
      "0   ObjectId('64a6d0bab23753d1d92bcbb2')  labase anni 2  wcst     0      0   \n",
      "0   ObjectId('64a6d0bab23753d1d92bcbb2')  labase anni 2  wcst     0      0   \n",
      "0   ObjectId('64a6d0bab23753d1d92bcbb2')  labase anni 2  wcst     0      0   \n",
      "0   ObjectId('64a6d0bab23753d1d92bcbb2')  labase anni 2  wcst     0      0   \n",
      "\n",
      "                                               scorer  \n",
      "0   {'carta': 0, 'casa': 'no no no', 'move': 'no n...  \n",
      "0   {'carta': 1, 'casa': 'Duas Estrelas Verdes', '...  \n",
      "0   {'carta': 2, 'casa': 'Um Triângulo Vermelho', ...  \n",
      "0   {'carta': 3, 'casa': 'Quatro Círculos Azuis', ...  \n",
      "0   {'carta': 4, 'casa': 'Um Triângulo Vermelho', ...  \n",
      "..                                                ...  \n",
      "0   {'carta': 56, 'casa': 'Três Cruzes Amarelas', ...  \n",
      "0   {'carta': 57, 'casa': 'Duas Estrelas Verdes', ...  \n",
      "0   {'carta': 58, 'casa': 'Um Triângulo Vermelho',...  \n",
      "0   {'carta': 59, 'casa': 'Três Cruzes Amarelas', ...  \n",
      "0   {'carta': 60, 'casa': 'Duas Estrelas Verdes', ...  \n",
      "\n",
      "[61 rows x 6 columns]\n"
     ]
    }
   ],
   "source": [
    "from GameAlite import Players\n",
    "dados_jogos_anni2 = Players().one_player_games(play_url= \"64a6d0bab23753d1d92bcbb2\")\n",
    "dados_jogos_anni = Players().one_player_games(play_url= \"649d7851b9995c27c863da60\")\n",
    "\n",
    "print(dados_jogos_anni.explode('scorer'))\n",
    "print(dados_jogos_anni2.explode('scorer'))"
   ],
   "metadata": {
    "collapsed": false,
    "ExecuteTime": {
     "end_time": "2023-07-06T15:21:16.498736854Z",
     "start_time": "2023-07-06T15:21:16.337344323Z"
    }
   }
  },
  {
   "cell_type": "code",
   "execution_count": 59,
   "outputs": [
    {
     "name": "stdout",
     "output_type": "stream",
     "text": [
      "                                     _id         name  game  goal  trial   \n",
      "0   ObjectId('649d7851b9995c27c863da60')  labase anni  game     0      0  \\\n",
      "0   ObjectId('649d7851b9995c27c863da60')  labase anni  game     0      0   \n",
      "0   ObjectId('649d7851b9995c27c863da60')  labase anni  game     0      0   \n",
      "0   ObjectId('649d7851b9995c27c863da60')  labase anni  game     0      0   \n",
      "0   ObjectId('649d7851b9995c27c863da60')  labase anni  game     0      0   \n",
      "..                                   ...          ...   ...   ...    ...   \n",
      "2   ObjectId('649d7851b9995c27c863da60')  labase anni  wcst     0      0   \n",
      "2   ObjectId('649d7851b9995c27c863da60')  labase anni  wcst     0      0   \n",
      "2   ObjectId('649d7851b9995c27c863da60')  labase anni  wcst     0      0   \n",
      "2   ObjectId('649d7851b9995c27c863da60')  labase anni  wcst     0      0   \n",
      "2   ObjectId('649d7851b9995c27c863da60')  labase anni  wcst     0      0   \n",
      "\n",
      "            carta                   casa                       move     ponto   \n",
      "0     __I_N_I_T__                    0_0                         ok    _INIT_  \\\n",
      "0   __A_T_I_V_A__                    0_0                         ok  _LINGUA_   \n",
      "0        19_41_30                    0_0                         ok    _FALA_   \n",
      "0        19_41_30                    0_0                         ok    _FALA_   \n",
      "0        19_41_30                    0_0                         ok    _FALA_   \n",
      "..            ...                    ...                        ...       ...   \n",
      "2              60   Duas Estrelas Verdes       Dois Círculos Verdes       600   \n",
      "2              61  Quatro Círculos Azuis        Quatro Cruzes Azuis       700   \n",
      "2              62   Três Cruzes Amarelas       Três Cruzes Amarelas       800   \n",
      "2              63   Duas Estrelas Verdes  Dois Triângulos Vermelhos       900   \n",
      "2              64  Um Triângulo Vermelho           Uma Cruz Amarela      1000   \n",
      "\n",
      "   valor                        time  \n",
      "0   True  2023-06-29 09:27:28.882999  \n",
      "0   True  2023-06-29 09:27:41.177000  \n",
      "0   True  2023-06-29 09:28:18.809000  \n",
      "0   True  2023-06-29 09:28:22.730999  \n",
      "0   True  2023-06-29 09:28:23.500999  \n",
      "..   ...                         ...  \n",
      "2   1015  2023-06-29 09:34:18.774000  \n",
      "2   1015  2023-06-29 09:34:20.644000  \n",
      "2   1115  2023-06-29 09:34:22.278000  \n",
      "2   0015  2023-06-29 09:34:24.244000  \n",
      "2   0015  2023-06-29 09:34:26.006000  \n",
      "\n",
      "[11451 rows x 11 columns]\n",
      "                                     _id           name  game  goal  trial   \n",
      "0   ObjectId('64a6d0bab23753d1d92bcbb2')  labase anni 2  wcst     0      0  \\\n",
      "0   ObjectId('64a6d0bab23753d1d92bcbb2')  labase anni 2  wcst     0      0   \n",
      "0   ObjectId('64a6d0bab23753d1d92bcbb2')  labase anni 2  wcst     0      0   \n",
      "0   ObjectId('64a6d0bab23753d1d92bcbb2')  labase anni 2  wcst     0      0   \n",
      "0   ObjectId('64a6d0bab23753d1d92bcbb2')  labase anni 2  wcst     0      0   \n",
      "..                                   ...            ...   ...   ...    ...   \n",
      "0   ObjectId('64a6d0bab23753d1d92bcbb2')  labase anni 2  wcst     0      0   \n",
      "0   ObjectId('64a6d0bab23753d1d92bcbb2')  labase anni 2  wcst     0      0   \n",
      "0   ObjectId('64a6d0bab23753d1d92bcbb2')  labase anni 2  wcst     0      0   \n",
      "0   ObjectId('64a6d0bab23753d1d92bcbb2')  labase anni 2  wcst     0      0   \n",
      "0   ObjectId('64a6d0bab23753d1d92bcbb2')  labase anni 2  wcst     0      0   \n",
      "\n",
      "    carta                   casa                     move ponto valor   \n",
      "0       0               no no no                 no no no   000  0000  \\\n",
      "0       1   Duas Estrelas Verdes       Um Triângulo Verde   100  1000   \n",
      "0       2  Um Triângulo Vermelho  Quatro Cruzes Vermelhas   200  1000   \n",
      "0       3  Quatro Círculos Azuis    Dois Triângulos Azuis   300  1000   \n",
      "0       4  Um Triângulo Vermelho      Um Círculo Vermelho   400  1010   \n",
      "..    ...                    ...                      ...   ...   ...   \n",
      "0      56   Três Cruzes Amarelas     Três Círculos Verdes   600  0015   \n",
      "0      57   Duas Estrelas Verdes    Duas Cruzes Vermelhas   700  0015   \n",
      "0      58  Um Triângulo Vermelho     Um Triângulo Amarelo   800  0115   \n",
      "0      59   Três Cruzes Amarelas    Três Cruzes Vermelhas   900  0115   \n",
      "0      60   Duas Estrelas Verdes     Dois Círculos Verdes  1000  1015   \n",
      "\n",
      "                          time  \n",
      "0   2023-07-06 11:33:46.996000  \n",
      "0   2023-07-06 11:33:49.887000  \n",
      "0   2023-07-06 11:33:51.488000  \n",
      "0   2023-07-06 11:33:53.168000  \n",
      "0   2023-07-06 11:33:54.853000  \n",
      "..                         ...  \n",
      "0   2023-07-06 11:35:39.555000  \n",
      "0   2023-07-06 11:35:41.004000  \n",
      "0   2023-07-06 11:35:42.687000  \n",
      "0   2023-07-06 11:35:44.406000  \n",
      "0   2023-07-06 11:35:46.212000  \n",
      "\n",
      "[3721 rows x 11 columns]\n"
     ]
    }
   ],
   "source": [
    "import pandas as pd\n",
    "\n",
    "df_anni = dados_jogos_anni.explode('scorer')\n",
    "df_anni_x = df_anni.drop(columns=[\"scorer\"], inplace=False).join(\n",
    "    df_anni.apply(lambda x: pd.Series(x[\"scorer\"].values(), index=x[\"scorer\"].keys()), axis=1))\n",
    "print(df_anni_x)\n",
    "df_anni2 = dados_jogos_anni2.explode('scorer')\n",
    "df_anni2_x = df_anni2.drop(columns=[\"scorer\"], inplace=False).join(\n",
    "    df_anni2.apply(lambda x: pd.Series(x[\"scorer\"].values(), index=x[\"scorer\"].keys()), axis=1))\n",
    "print(df_anni2_x)"
   ],
   "metadata": {
    "collapsed": false,
    "ExecuteTime": {
     "end_time": "2023-07-06T15:22:35.208538350Z",
     "start_time": "2023-07-06T15:22:35.050936016Z"
    }
   }
  },
  {
   "cell_type": "code",
   "execution_count": 60,
   "outputs": [
    {
     "name": "stdout",
     "output_type": "stream",
     "text": [
      "     index                                   _id         name  game  goal   \n",
      "0        0  ObjectId('649d7851b9995c27c863da60')  labase anni  game     0  \\\n",
      "1        0  ObjectId('649d7851b9995c27c863da60')  labase anni  game     0   \n",
      "2        0  ObjectId('649d7851b9995c27c863da60')  labase anni  game     0   \n",
      "3        0  ObjectId('649d7851b9995c27c863da60')  labase anni  game     0   \n",
      "4        0  ObjectId('649d7851b9995c27c863da60')  labase anni  game     0   \n",
      "..     ...                                   ...          ...   ...   ...   \n",
      "146      2  ObjectId('649d7851b9995c27c863da60')  labase anni  wcst     0   \n",
      "147      2  ObjectId('649d7851b9995c27c863da60')  labase anni  wcst     0   \n",
      "148      2  ObjectId('649d7851b9995c27c863da60')  labase anni  wcst     0   \n",
      "149      2  ObjectId('649d7851b9995c27c863da60')  labase anni  wcst     0   \n",
      "150      2  ObjectId('649d7851b9995c27c863da60')  labase anni  wcst     0   \n",
      "\n",
      "     trial          carta                   casa                       move   \n",
      "0        0    __I_N_I_T__                    0_0                         ok  \\\n",
      "1        0  __A_T_I_V_A__                    0_0                         ok   \n",
      "2        0       19_41_30                    0_0                         ok   \n",
      "3        0       19_41_30                    0_0                         ok   \n",
      "4        0       19_41_30                    0_0                         ok   \n",
      "..     ...            ...                    ...                        ...   \n",
      "146      0             60   Duas Estrelas Verdes       Dois Círculos Verdes   \n",
      "147      0             61  Quatro Círculos Azuis        Quatro Cruzes Azuis   \n",
      "148      0             62   Três Cruzes Amarelas       Três Cruzes Amarelas   \n",
      "149      0             63   Duas Estrelas Verdes  Dois Triângulos Vermelhos   \n",
      "150      0             64  Um Triângulo Vermelho           Uma Cruz Amarela   \n",
      "\n",
      "        ponto valor                        time  \n",
      "0      _INIT_  True  2023-06-29 09:27:28.882999  \n",
      "1    _LINGUA_  True  2023-06-29 09:27:41.177000  \n",
      "2      _FALA_  True  2023-06-29 09:28:18.809000  \n",
      "3      _FALA_  True  2023-06-29 09:28:22.730999  \n",
      "4      _FALA_  True  2023-06-29 09:28:23.500999  \n",
      "..        ...   ...                         ...  \n",
      "146       600  1015  2023-06-29 09:34:18.774000  \n",
      "147       700  1015  2023-06-29 09:34:20.644000  \n",
      "148       800  1115  2023-06-29 09:34:22.278000  \n",
      "149       900  0015  2023-06-29 09:34:24.244000  \n",
      "150      1000  0015  2023-06-29 09:34:26.006000  \n",
      "\n",
      "[151 rows x 12 columns]\n",
      "    index                                   _id           name  game  goal   \n",
      "0       0  ObjectId('64a6d0bab23753d1d92bcbb2')  labase anni 2  wcst     0  \\\n",
      "1       0  ObjectId('64a6d0bab23753d1d92bcbb2')  labase anni 2  wcst     0   \n",
      "2       0  ObjectId('64a6d0bab23753d1d92bcbb2')  labase anni 2  wcst     0   \n",
      "3       0  ObjectId('64a6d0bab23753d1d92bcbb2')  labase anni 2  wcst     0   \n",
      "4       0  ObjectId('64a6d0bab23753d1d92bcbb2')  labase anni 2  wcst     0   \n",
      "..    ...                                   ...            ...   ...   ...   \n",
      "56      0  ObjectId('64a6d0bab23753d1d92bcbb2')  labase anni 2  wcst     0   \n",
      "57      0  ObjectId('64a6d0bab23753d1d92bcbb2')  labase anni 2  wcst     0   \n",
      "58      0  ObjectId('64a6d0bab23753d1d92bcbb2')  labase anni 2  wcst     0   \n",
      "59      0  ObjectId('64a6d0bab23753d1d92bcbb2')  labase anni 2  wcst     0   \n",
      "60      0  ObjectId('64a6d0bab23753d1d92bcbb2')  labase anni 2  wcst     0   \n",
      "\n",
      "    trial  carta                   casa                     move ponto valor   \n",
      "0       0      0               no no no                 no no no   000  0000  \\\n",
      "1       0      1   Duas Estrelas Verdes       Um Triângulo Verde   100  1000   \n",
      "2       0      2  Um Triângulo Vermelho  Quatro Cruzes Vermelhas   200  1000   \n",
      "3       0      3  Quatro Círculos Azuis    Dois Triângulos Azuis   300  1000   \n",
      "4       0      4  Um Triângulo Vermelho      Um Círculo Vermelho   400  1010   \n",
      "..    ...    ...                    ...                      ...   ...   ...   \n",
      "56      0     56   Três Cruzes Amarelas     Três Círculos Verdes   600  0015   \n",
      "57      0     57   Duas Estrelas Verdes    Duas Cruzes Vermelhas   700  0015   \n",
      "58      0     58  Um Triângulo Vermelho     Um Triângulo Amarelo   800  0115   \n",
      "59      0     59   Três Cruzes Amarelas    Três Cruzes Vermelhas   900  0115   \n",
      "60      0     60   Duas Estrelas Verdes     Dois Círculos Verdes  1000  1015   \n",
      "\n",
      "                          time  \n",
      "0   2023-07-06 11:33:46.996000  \n",
      "1   2023-07-06 11:33:49.887000  \n",
      "2   2023-07-06 11:33:51.488000  \n",
      "3   2023-07-06 11:33:53.168000  \n",
      "4   2023-07-06 11:33:54.853000  \n",
      "..                         ...  \n",
      "56  2023-07-06 11:35:39.555000  \n",
      "57  2023-07-06 11:35:41.004000  \n",
      "58  2023-07-06 11:35:42.687000  \n",
      "59  2023-07-06 11:35:44.406000  \n",
      "60  2023-07-06 11:35:46.212000  \n",
      "\n",
      "[61 rows x 12 columns]\n"
     ]
    }
   ],
   "source": [
    "df_anni_l = pd.DataFrame(df_anni.scorer.values.tolist())\n",
    "df_anni_x = df_anni.drop(columns=[\"scorer\"], inplace=False).reset_index()\n",
    "df = df_anni_x.join(df_anni_l)\n",
    "print(df)\n",
    "\n",
    "df_anni2_l = pd.DataFrame(df_anni2.scorer.values.tolist())\n",
    "df_anni2_x = df_anni2.drop(columns=[\"scorer\"], inplace=False).reset_index()\n",
    "df2 = df_anni2_x.join(df_anni2_l)\n",
    "print(df2)\n"
   ],
   "metadata": {
    "collapsed": false,
    "ExecuteTime": {
     "end_time": "2023-07-06T15:23:45.757267181Z",
     "start_time": "2023-07-06T15:23:45.646612177Z"
    }
   }
  },
  {
   "cell_type": "code",
   "execution_count": 61,
   "outputs": [
    {
     "name": "stdout",
     "output_type": "stream",
     "text": [
      "     index                                   _id         name  game  goal   \n",
      "86       2  ObjectId('649d7851b9995c27c863da60')  labase anni  wcst     0  \\\n",
      "87       2  ObjectId('649d7851b9995c27c863da60')  labase anni  wcst     0   \n",
      "88       2  ObjectId('649d7851b9995c27c863da60')  labase anni  wcst     0   \n",
      "89       2  ObjectId('649d7851b9995c27c863da60')  labase anni  wcst     0   \n",
      "90       2  ObjectId('649d7851b9995c27c863da60')  labase anni  wcst     0   \n",
      "..     ...                                   ...          ...   ...   ...   \n",
      "146      2  ObjectId('649d7851b9995c27c863da60')  labase anni  wcst     0   \n",
      "147      2  ObjectId('649d7851b9995c27c863da60')  labase anni  wcst     0   \n",
      "148      2  ObjectId('649d7851b9995c27c863da60')  labase anni  wcst     0   \n",
      "149      2  ObjectId('649d7851b9995c27c863da60')  labase anni  wcst     0   \n",
      "150      2  ObjectId('649d7851b9995c27c863da60')  labase anni  wcst     0   \n",
      "\n",
      "     trial carta                   casa                       move ponto   \n",
      "86       0     0               no no no                   no no no   000  \\\n",
      "87       0     1   Duas Estrelas Verdes         Um Triângulo Verde   100   \n",
      "88       0     2   Duas Estrelas Verdes    Quatro Cruzes Vermelhas   011   \n",
      "89       0     3   Duas Estrelas Verdes      Dois Triângulos Azuis   000   \n",
      "90       0     4  Um Triângulo Vermelho        Um Círculo Vermelho   100   \n",
      "..     ...   ...                    ...                        ...   ...   \n",
      "146      0    60   Duas Estrelas Verdes       Dois Círculos Verdes   600   \n",
      "147      0    61  Quatro Círculos Azuis        Quatro Cruzes Azuis   700   \n",
      "148      0    62   Três Cruzes Amarelas       Três Cruzes Amarelas   800   \n",
      "149      0    63   Duas Estrelas Verdes  Dois Triângulos Vermelhos   900   \n",
      "150      0    64  Um Triângulo Vermelho           Uma Cruz Amarela  1000   \n",
      "\n",
      "    valor                        time  \n",
      "86   0000  2023-06-29 09:31:16.718000  \n",
      "87   1000  2023-06-29 09:31:26.392000  \n",
      "88   0000  2023-06-29 09:31:27.069000  \n",
      "89   0010  2023-06-29 09:31:38.566000  \n",
      "90   1010  2023-06-29 09:31:41.463000  \n",
      "..    ...                         ...  \n",
      "146  1015  2023-06-29 09:34:18.774000  \n",
      "147  1015  2023-06-29 09:34:20.644000  \n",
      "148  1115  2023-06-29 09:34:22.278000  \n",
      "149  0015  2023-06-29 09:34:24.244000  \n",
      "150  0015  2023-06-29 09:34:26.006000  \n",
      "\n",
      "[65 rows x 12 columns]\n",
      "Empty DataFrame\n",
      "Columns: [index, _id, name, game, goal, trial, carta, casa, move, ponto, valor, time]\n",
      "Index: []\n"
     ]
    }
   ],
   "source": [
    "df_wis = df.loc[df['game'] == 'wcst']\n",
    "df_wis2 = df2.loc[df['game'] == 'wcst']\n",
    "print(df_wis)\n",
    "print(df_wis2)"
   ],
   "metadata": {
    "collapsed": false,
    "ExecuteTime": {
     "end_time": "2023-07-06T15:24:38.173549794Z",
     "start_time": "2023-07-06T15:24:38.069465817Z"
    }
   }
  },
  {
   "cell_type": "code",
   "execution_count": 62,
   "outputs": [
    {
     "name": "stdout",
     "output_type": "stream",
     "text": [
      "None\n",
      "None\n"
     ]
    },
    {
     "data": {
      "text/plain": "<Figure size 1080x576 with 1 Axes>",
      "image/png": "[encoded data removed]"
     },
     "metadata": {},
     "output_type": "display_data"
    },
    {
     "data": {
      "text/plain": "<Figure size 1080x576 with 1 Axes>",
      "image/png": "[encoded data removed]"
     },
     "metadata": {},
     "output_type": "display_data"
    }
   ],
   "source": [
    "from GameAlite import WiscPlot\n",
    "\n",
    "\n",
    "conf = WiscPlot.Cfplot(\n",
    "    col='valor', title='Contagem dos Valores Wisc', ylabel='Contagem de Valores', xlabel=\"Participantes\")\n",
    "dados = WiscPlot().rerieve_oid_from_person_df(dados_jogador_anni).plot(conf)\n",
    "dados2 = WiscPlot().rerieve_oid_from_person_df(dados_jogador_anni2).plot(conf)\n",
    "print(dados)\n",
    "print(dados2)"
   ],
   "metadata": {
    "collapsed": false,
    "ExecuteTime": {
     "end_time": "2023-07-06T15:25:07.889528507Z",
     "start_time": "2023-07-06T15:25:06.668011118Z"
    }
   }
  },
  {
   "cell_type": "code",
   "execution_count": 63,
   "outputs": [
    {
     "name": "stdout",
     "output_type": "stream",
     "text": [
      "None\n",
      "None\n"
     ]
    },
    {
     "data": {
      "text/plain": "<Figure size 1080x576 with 0 Axes>"
     },
     "metadata": {},
     "output_type": "display_data"
    },
    {
     "data": {
      "text/plain": "<Figure size 465.25x360 with 1 Axes>",
      "image/png": "[encoded data removed]"
     },
     "metadata": {},
     "output_type": "display_data"
    },
    {
     "data": {
      "text/plain": "<Figure size 1080x576 with 0 Axes>"
     },
     "metadata": {},
     "output_type": "display_data"
    },
    {
     "data": {
      "text/plain": "<Figure size 465.25x360 with 1 Axes>",
      "image/png": "[encoded data removed]"
     },
     "metadata": {},
     "output_type": "display_data"
    }
   ],
   "source": [
    "conf = WiscPlot.Cfplot(\n",
    "    col='ponto', title='Contagem dos Pontos Wisc', ylabel='Contagem de Pontos', xlabel=\"Participantes\")\n",
    "dados = WiscPlot().rerieve_oid_from_person_df(dados_jogador_anni).factorplot(conf)\n",
    "dados = WiscPlot().rerieve_oid_from_person_df(dados_jogador_anni2).factorplot(conf)\n",
    "print(dados)\n",
    "print(dados2)"
   ],
   "metadata": {
    "collapsed": false,
    "ExecuteTime": {
     "end_time": "2023-07-06T15:25:36.213527673Z",
     "start_time": "2023-07-06T15:25:34.646072407Z"
    }
   }
  },
  {
   "cell_type": "code",
   "execution_count": null,
   "outputs": [],
   "source": [],
   "metadata": {
    "collapsed": false
   }
  }
 ],
 "metadata": {
  "kernelspec": {
   "display_name": "Python 3",
   "language": "python",
   "name": "python3"
  },
  "language_info": {
   "codemirror_mode": {
    "name": "ipython",
    "version": 2
   },
   "file_extension": ".py",
   "mimetype": "text/x-python",
   "name": "python",
   "nbconvert_exporter": "python",
   "pygments_lexer": "ipython2",
   "version": "2.7.6"
  }
 },
 "nbformat": 4,
 "nbformat_minor": 0
}
