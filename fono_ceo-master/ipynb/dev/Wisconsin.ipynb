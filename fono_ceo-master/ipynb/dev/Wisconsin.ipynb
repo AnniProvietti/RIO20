{
 "cells": [
  {
   "cell_type": "markdown",
   "metadata": {},
   "source": [
    "<!-- # df[\"starttime\"] = pd.to_datetime(df[\"starttime\"])\n",
    "\n",
    "rio20 = (df[\"starttime\"] >= '2012-06-20') & (df['starttime'] <= '2012-06-22')\n",
    "\n",
    "df = df[rio20] -->\n",
    "\n",
    "A seleção por intervalo de data a partir do csv está dando erro, portanto 3 DataFrames foram gerados para posteriormente serem concatenados. "
   ]
  },
  {
   "cell_type": "code",
   "execution_count": 1,
   "metadata": {
    "ExecuteTime": {
     "end_time": "2023-07-20T12:52:11.130617746Z",
     "start_time": "2023-07-20T12:51:26.071664131Z"
    }
   },
   "outputs": [
    {
     "name": "stdout",
     "output_type": "stream",
     "text": [
      "                                  ano1  idade1 sexo1   \n",
      "03b1f969773df2e8bb4557c7507aef4a     0      11     M  \\\n",
      "03b1f969773df2e8bb4557c7507aef4a     0      11     M   \n",
      "03b1f969773df2e8bb4557c7507aef4a     0      11     M   \n",
      "2d21e05ee14e0e2b83aa6bbe54c1bec0     0       2     M   \n",
      "3475b33271752fecf3d189f873acf5ce     6      12     M   \n",
      "...                                ...     ...   ...   \n",
      "dd8e6af6bebc9d7f10398e6373567361     4      12     M   \n",
      "dd8e6af6bebc9d7f10398e6373567361     4      12     M   \n",
      "dd8e6af6bebc9d7f10398e6373567361     4      12     M   \n",
      "dd8e6af6bebc9d7f10398e6373567361     4      12     M   \n",
      "dd8e6af6bebc9d7f10398e6373567361     4      12     M   \n",
      "\n",
      "                                                   starttime   \n",
      "03b1f969773df2e8bb4557c7507aef4a  2012-06-20 11:24:31.751984  \\\n",
      "03b1f969773df2e8bb4557c7507aef4a  2012-06-20 11:24:31.751984   \n",
      "03b1f969773df2e8bb4557c7507aef4a  2012-06-20 11:24:31.751984   \n",
      "2d21e05ee14e0e2b83aa6bbe54c1bec0  2012-06-20 15:47:59.301703   \n",
      "3475b33271752fecf3d189f873acf5ce  2012-06-20 17:13:43.356784   \n",
      "...                                                      ...   \n",
      "dd8e6af6bebc9d7f10398e6373567361  2012-06-20 14:48:40.940569   \n",
      "dd8e6af6bebc9d7f10398e6373567361  2012-06-20 14:48:40.940569   \n",
      "dd8e6af6bebc9d7f10398e6373567361  2012-06-20 14:48:40.940569   \n",
      "dd8e6af6bebc9d7f10398e6373567361  2012-06-20 14:48:40.940569   \n",
      "dd8e6af6bebc9d7f10398e6373567361  2012-06-20 14:48:40.940569   \n",
      "\n",
      "                                                     endtime tipoescola   \n",
      "03b1f969773df2e8bb4557c7507aef4a                                privada  \\\n",
      "03b1f969773df2e8bb4557c7507aef4a                                privada   \n",
      "03b1f969773df2e8bb4557c7507aef4a                                privada   \n",
      "2d21e05ee14e0e2b83aa6bbe54c1bec0  2012-06-20 15:55:10.743902    privada   \n",
      "3475b33271752fecf3d189f873acf5ce  2012-06-20 17:27:06.437940    privada   \n",
      "...                                                      ...        ...   \n",
      "dd8e6af6bebc9d7f10398e6373567361                                publica   \n",
      "dd8e6af6bebc9d7f10398e6373567361                                publica   \n",
      "dd8e6af6bebc9d7f10398e6373567361                                publica   \n",
      "dd8e6af6bebc9d7f10398e6373567361                                publica   \n",
      "dd8e6af6bebc9d7f10398e6373567361                                publica   \n",
      "\n",
      "                                       name  maxlevel   \n",
      "03b1f969773df2e8bb4557c7507aef4a  wisconsin         1  \\\n",
      "03b1f969773df2e8bb4557c7507aef4a  wisconsin         1   \n",
      "03b1f969773df2e8bb4557c7507aef4a  wisconsin         1   \n",
      "2d21e05ee14e0e2b83aa6bbe54c1bec0  wisconsin         1   \n",
      "3475b33271752fecf3d189f873acf5ce  wisconsin         1   \n",
      "...                                     ...       ...   \n",
      "dd8e6af6bebc9d7f10398e6373567361  wisconsin         1   \n",
      "dd8e6af6bebc9d7f10398e6373567361  wisconsin         1   \n",
      "dd8e6af6bebc9d7f10398e6373567361  wisconsin         1   \n",
      "dd8e6af6bebc9d7f10398e6373567361  wisconsin         1   \n",
      "dd8e6af6bebc9d7f10398e6373567361  wisconsin         1   \n",
      "\n",
      "                                                      time_x  categoria_x   \n",
      "03b1f969773df2e8bb4557c7507aef4a  2012-06-20 11:26:58.135836            0  \\\n",
      "03b1f969773df2e8bb4557c7507aef4a  2012-06-20 11:26:58.135836            0   \n",
      "03b1f969773df2e8bb4557c7507aef4a  2012-06-20 11:26:58.135836            0   \n",
      "2d21e05ee14e0e2b83aa6bbe54c1bec0  2012-06-20 15:54:10.423259            0   \n",
      "3475b33271752fecf3d189f873acf5ce  2012-06-20 17:23:33.331822            0   \n",
      "...                                                      ...          ...   \n",
      "dd8e6af6bebc9d7f10398e6373567361  2012-06-20 14:57:32.992965            2   \n",
      "dd8e6af6bebc9d7f10398e6373567361  2012-06-20 14:57:32.992965            2   \n",
      "dd8e6af6bebc9d7f10398e6373567361  2012-06-20 14:57:32.992965            2   \n",
      "dd8e6af6bebc9d7f10398e6373567361  2012-06-20 14:57:32.992965            2   \n",
      "dd8e6af6bebc9d7f10398e6373567361  2012-06-20 14:57:32.992965            2   \n",
      "\n",
      "                                  ...  outros  numero  ypos player state   \n",
      "03b1f969773df2e8bb4557c7507aef4a  ...   False    True     0      0        \\\n",
      "03b1f969773df2e8bb4557c7507aef4a  ...    True   False     0      0         \n",
      "03b1f969773df2e8bb4557c7507aef4a  ...     NaN     NaN     0      0         \n",
      "2d21e05ee14e0e2b83aa6bbe54c1bec0  ...     NaN     NaN     0      0         \n",
      "3475b33271752fecf3d189f873acf5ce  ...   False    True     0      0         \n",
      "...                               ...     ...     ...   ...    ...   ...   \n",
      "dd8e6af6bebc9d7f10398e6373567361  ...   False    True     0      0         \n",
      "dd8e6af6bebc9d7f10398e6373567361  ...   False    True     0      0         \n",
      "dd8e6af6bebc9d7f10398e6373567361  ...   False    True     0      0         \n",
      "dd8e6af6bebc9d7f10398e6373567361  ...   False   False     0      0         \n",
      "dd8e6af6bebc9d7f10398e6373567361  ...   False    True     0      0         \n",
      "\n",
      "                                 score result                      time_y   \n",
      "03b1f969773df2e8bb4557c7507aef4a     1      1  2012-06-20 11:27:01.507567  \\\n",
      "03b1f969773df2e8bb4557c7507aef4a     1      1  2012-06-20 11:27:07.596852   \n",
      "03b1f969773df2e8bb4557c7507aef4a     1     -5  2012-06-20 11:27:11.423754   \n",
      "2d21e05ee14e0e2b83aa6bbe54c1bec0     1     -2  2012-06-20 15:55:07.989144   \n",
      "3475b33271752fecf3d189f873acf5ce     1      1  2012-06-20 17:23:57.413517   \n",
      "...                                ...    ...                         ...   \n",
      "dd8e6af6bebc9d7f10398e6373567361     1      1  2012-06-20 14:58:19.931179   \n",
      "dd8e6af6bebc9d7f10398e6373567361     1      1  2012-06-20 14:58:21.430992   \n",
      "dd8e6af6bebc9d7f10398e6373567361     1      1  2012-06-20 14:58:22.979201   \n",
      "dd8e6af6bebc9d7f10398e6373567361     1      1  2012-06-20 14:58:24.465679   \n",
      "dd8e6af6bebc9d7f10398e6373567361     1      1  2012-06-20 14:58:25.868859   \n",
      "\n",
      "                                 marker carta_resposta  \n",
      "03b1f969773df2e8bb4557c7507aef4a  I_N_I            1.0  \n",
      "03b1f969773df2e8bb4557c7507aef4a  I_N_I            2.0  \n",
      "03b1f969773df2e8bb4557c7507aef4a  I_N_I            NaN  \n",
      "2d21e05ee14e0e2b83aa6bbe54c1bec0  I_N_I            NaN  \n",
      "3475b33271752fecf3d189f873acf5ce  I_N_I            1.0  \n",
      "...                                 ...            ...  \n",
      "dd8e6af6bebc9d7f10398e6373567361  I_N_I           27.0  \n",
      "dd8e6af6bebc9d7f10398e6373567361  I_N_I           28.0  \n",
      "dd8e6af6bebc9d7f10398e6373567361  I_N_I           29.0  \n",
      "dd8e6af6bebc9d7f10398e6373567361  I_N_I           30.0  \n",
      "dd8e6af6bebc9d7f10398e6373567361  I_N_I           31.0  \n",
      "\n",
      "[913 rows x 48 columns]\n"
     ]
    }
   ],
   "source": [
    "from WisconsinClasses import WisconsinPlayers\n",
    "import pandas as pd \n",
    "import seaborn as sns\n",
    "\n",
    "\n",
    "r1 = WisconsinPlayers().file_demographics(date=\"2012-06-20\", start_count=(0, 2000))\n",
    "\n",
    "df_r1 = pd.DataFrame(r1)\n"
   ]
  },
  {
   "cell_type": "code",
   "execution_count": 2,
   "metadata": {
    "ExecuteTime": {
     "end_time": "2023-07-20T12:53:35.600651045Z",
     "start_time": "2023-07-20T12:52:11.075814421Z"
    }
   },
   "outputs": [
    {
     "name": "stdout",
     "output_type": "stream",
     "text": [
      "                                  ano1  idade1 sexo1   \n",
      "020d483ad5e9fb7f1a1718fbeb0818d7     5      10     F  \\\n",
      "031eaa4d11acc13aa9ca1cb894e9774f     6      11     M   \n",
      "031eaa4d11acc13aa9ca1cb894e9774f     6      11     M   \n",
      "031eaa4d11acc13aa9ca1cb894e9774f     6      11     M   \n",
      "031eaa4d11acc13aa9ca1cb894e9774f     6      11     M   \n",
      "...                                ...     ...   ...   \n",
      "fbbedf7c5b2a54fb904ef817e4fbe8e1     4       9     M   \n",
      "fbbedf7c5b2a54fb904ef817e4fbe8e1     4       9     M   \n",
      "fbbedf7c5b2a54fb904ef817e4fbe8e1     4       9     M   \n",
      "fbbedf7c5b2a54fb904ef817e4fbe8e1     4       9     M   \n",
      "fbedb4452dcba46b632b900517fcaed3    11      18     F   \n",
      "\n",
      "                                                   starttime   \n",
      "020d483ad5e9fb7f1a1718fbeb0818d7  2012-06-21 15:18:10.169729  \\\n",
      "031eaa4d11acc13aa9ca1cb894e9774f  2012-06-21 16:01:15.077883   \n",
      "031eaa4d11acc13aa9ca1cb894e9774f  2012-06-21 16:01:15.077883   \n",
      "031eaa4d11acc13aa9ca1cb894e9774f  2012-06-21 16:01:15.077883   \n",
      "031eaa4d11acc13aa9ca1cb894e9774f  2012-06-21 16:01:15.077883   \n",
      "...                                                      ...   \n",
      "fbbedf7c5b2a54fb904ef817e4fbe8e1  2012-06-21 16:26:47.325203   \n",
      "fbbedf7c5b2a54fb904ef817e4fbe8e1  2012-06-21 16:26:47.325203   \n",
      "fbbedf7c5b2a54fb904ef817e4fbe8e1  2012-06-21 16:26:47.325203   \n",
      "fbbedf7c5b2a54fb904ef817e4fbe8e1  2012-06-21 16:26:47.325203   \n",
      "fbedb4452dcba46b632b900517fcaed3  2012-06-21 11:04:08.467499   \n",
      "\n",
      "                                                     endtime tipoescola   \n",
      "020d483ad5e9fb7f1a1718fbeb0818d7  2012-06-21 15:24:40.361319    privada  \\\n",
      "031eaa4d11acc13aa9ca1cb894e9774f  2012-06-21 16:05:48.327024    privada   \n",
      "031eaa4d11acc13aa9ca1cb894e9774f  2012-06-21 16:05:48.327024    privada   \n",
      "031eaa4d11acc13aa9ca1cb894e9774f  2012-06-21 16:05:48.327024    privada   \n",
      "031eaa4d11acc13aa9ca1cb894e9774f  2012-06-21 16:05:48.327024    privada   \n",
      "...                                                      ...        ...   \n",
      "fbbedf7c5b2a54fb904ef817e4fbe8e1  2012-06-21 16:34:47.408918    privada   \n",
      "fbbedf7c5b2a54fb904ef817e4fbe8e1  2012-06-21 16:34:47.408918    privada   \n",
      "fbbedf7c5b2a54fb904ef817e4fbe8e1  2012-06-21 16:34:47.408918    privada   \n",
      "fbbedf7c5b2a54fb904ef817e4fbe8e1  2012-06-21 16:34:47.408918    privada   \n",
      "fbedb4452dcba46b632b900517fcaed3  2012-06-21 11:13:04.274945    nenhuma   \n",
      "\n",
      "                                       name  maxlevel   \n",
      "020d483ad5e9fb7f1a1718fbeb0818d7  wisconsin         1  \\\n",
      "031eaa4d11acc13aa9ca1cb894e9774f  wisconsin         1   \n",
      "031eaa4d11acc13aa9ca1cb894e9774f  wisconsin         1   \n",
      "031eaa4d11acc13aa9ca1cb894e9774f  wisconsin         1   \n",
      "031eaa4d11acc13aa9ca1cb894e9774f  wisconsin         1   \n",
      "...                                     ...       ...   \n",
      "fbbedf7c5b2a54fb904ef817e4fbe8e1  wisconsin         1   \n",
      "fbbedf7c5b2a54fb904ef817e4fbe8e1  wisconsin         1   \n",
      "fbbedf7c5b2a54fb904ef817e4fbe8e1  wisconsin         1   \n",
      "fbbedf7c5b2a54fb904ef817e4fbe8e1  wisconsin         1   \n",
      "fbedb4452dcba46b632b900517fcaed3  wisconsin         1   \n",
      "\n",
      "                                                      time_x  categoria_x   \n",
      "020d483ad5e9fb7f1a1718fbeb0818d7  2012-06-21 15:23:49.014601            0  \\\n",
      "031eaa4d11acc13aa9ca1cb894e9774f  2012-06-21 16:03:41.108903            1   \n",
      "031eaa4d11acc13aa9ca1cb894e9774f  2012-06-21 16:03:41.108903            1   \n",
      "031eaa4d11acc13aa9ca1cb894e9774f  2012-06-21 16:03:41.108903            1   \n",
      "031eaa4d11acc13aa9ca1cb894e9774f  2012-06-21 16:03:41.108903            1   \n",
      "...                                                      ...          ...   \n",
      "fbbedf7c5b2a54fb904ef817e4fbe8e1  2012-06-21 16:30:58.101553            2   \n",
      "fbbedf7c5b2a54fb904ef817e4fbe8e1  2012-06-21 16:30:58.101553            2   \n",
      "fbbedf7c5b2a54fb904ef817e4fbe8e1  2012-06-21 16:30:58.101553            2   \n",
      "fbbedf7c5b2a54fb904ef817e4fbe8e1  2012-06-21 16:30:58.101553            2   \n",
      "fbedb4452dcba46b632b900517fcaed3  2012-06-21 11:11:56.175017            0   \n",
      "\n",
      "                                  ...  outros  numero  ypos player state   \n",
      "020d483ad5e9fb7f1a1718fbeb0818d7  ...     NaN     NaN     0      0        \\\n",
      "031eaa4d11acc13aa9ca1cb894e9774f  ...   False    True     0      0         \n",
      "031eaa4d11acc13aa9ca1cb894e9774f  ...   False   False     0      0         \n",
      "031eaa4d11acc13aa9ca1cb894e9774f  ...   False   False     0      0         \n",
      "031eaa4d11acc13aa9ca1cb894e9774f  ...   False    True     0      0         \n",
      "...                               ...     ...     ...   ...    ...   ...   \n",
      "fbbedf7c5b2a54fb904ef817e4fbe8e1  ...   False   False     0      0         \n",
      "fbbedf7c5b2a54fb904ef817e4fbe8e1  ...   False   False     0      0         \n",
      "fbbedf7c5b2a54fb904ef817e4fbe8e1  ...   False   False     0      0         \n",
      "fbbedf7c5b2a54fb904ef817e4fbe8e1  ...     NaN     NaN     0      0         \n",
      "fbedb4452dcba46b632b900517fcaed3  ...     NaN     NaN     0      0         \n",
      "\n",
      "                                 score result                      time_y   \n",
      "020d483ad5e9fb7f1a1718fbeb0818d7     1     -2  2012-06-21 15:24:15.958406  \\\n",
      "031eaa4d11acc13aa9ca1cb894e9774f     1      1  2012-06-21 16:03:51.885289   \n",
      "031eaa4d11acc13aa9ca1cb894e9774f     1      1  2012-06-21 16:04:07.037814   \n",
      "031eaa4d11acc13aa9ca1cb894e9774f     1      1  2012-06-21 16:04:13.462570   \n",
      "031eaa4d11acc13aa9ca1cb894e9774f     1      1  2012-06-21 16:04:18.871122   \n",
      "...                                ...    ...                         ...   \n",
      "fbbedf7c5b2a54fb904ef817e4fbe8e1     1      1  2012-06-21 16:33:45.114438   \n",
      "fbbedf7c5b2a54fb904ef817e4fbe8e1     1      1  2012-06-21 16:33:47.818223   \n",
      "fbbedf7c5b2a54fb904ef817e4fbe8e1     1      1  2012-06-21 16:33:53.091493   \n",
      "fbbedf7c5b2a54fb904ef817e4fbe8e1     1     -5  2012-06-21 16:33:58.076569   \n",
      "fbedb4452dcba46b632b900517fcaed3     1      5  2012-06-21 11:12:17.739811   \n",
      "\n",
      "                                 marker carta_resposta  \n",
      "020d483ad5e9fb7f1a1718fbeb0818d7  I_N_I            NaN  \n",
      "031eaa4d11acc13aa9ca1cb894e9774f  I_N_I            1.0  \n",
      "031eaa4d11acc13aa9ca1cb894e9774f  I_N_I            2.0  \n",
      "031eaa4d11acc13aa9ca1cb894e9774f  I_N_I            3.0  \n",
      "031eaa4d11acc13aa9ca1cb894e9774f  I_N_I            4.0  \n",
      "...                                 ...            ...  \n",
      "fbbedf7c5b2a54fb904ef817e4fbe8e1  I_N_I           45.0  \n",
      "fbbedf7c5b2a54fb904ef817e4fbe8e1  I_N_I           46.0  \n",
      "fbbedf7c5b2a54fb904ef817e4fbe8e1  I_N_I           47.0  \n",
      "fbbedf7c5b2a54fb904ef817e4fbe8e1  I_N_I            NaN  \n",
      "fbedb4452dcba46b632b900517fcaed3  I_N_I            NaN  \n",
      "\n",
      "[1882 rows x 48 columns]\n"
     ]
    }
   ],
   "source": [
    "from WisconsinClasses import WisconsinPlayers\n",
    "import seaborn as sns\n",
    "\n",
    "\n",
    "r2 = WisconsinPlayers().file_demographics(date=\"2012-06-21\", start_count=(0, 2000))\n",
    "df_r2 = pd.DataFrame(r2)"
   ]
  },
  {
   "cell_type": "code",
   "execution_count": 3,
   "metadata": {
    "ExecuteTime": {
     "end_time": "2023-07-20T12:54:42.629095831Z",
     "start_time": "2023-07-20T12:53:35.594204703Z"
    }
   },
   "outputs": [
    {
     "name": "stdout",
     "output_type": "stream",
     "text": [
      "                                  ano1  idade1 sexo1   \n",
      "057e4d94ce13d7c0bee38c7c4b5163bc     2      11     M  \\\n",
      "057e4d94ce13d7c0bee38c7c4b5163bc     2      11     M   \n",
      "057e4d94ce13d7c0bee38c7c4b5163bc     2      11     M   \n",
      "057e4d94ce13d7c0bee38c7c4b5163bc     2      11     M   \n",
      "057e4d94ce13d7c0bee38c7c4b5163bc     2      11     M   \n",
      "...                                ...     ...   ...   \n",
      "fed637650ec1ec98798d8e0b5b390b61    11      18     M   \n",
      "fed637650ec1ec98798d8e0b5b390b61    11      18     M   \n",
      "fed637650ec1ec98798d8e0b5b390b61    11      18     M   \n",
      "fed637650ec1ec98798d8e0b5b390b61    11      18     M   \n",
      "fed637650ec1ec98798d8e0b5b390b61    11      18     M   \n",
      "\n",
      "                                                   starttime   \n",
      "057e4d94ce13d7c0bee38c7c4b5163bc  2012-06-22 11:41:35.795536  \\\n",
      "057e4d94ce13d7c0bee38c7c4b5163bc  2012-06-22 11:41:35.795536   \n",
      "057e4d94ce13d7c0bee38c7c4b5163bc  2012-06-22 11:41:35.795536   \n",
      "057e4d94ce13d7c0bee38c7c4b5163bc  2012-06-22 11:41:35.795536   \n",
      "057e4d94ce13d7c0bee38c7c4b5163bc  2012-06-22 11:41:35.795536   \n",
      "...                                                      ...   \n",
      "fed637650ec1ec98798d8e0b5b390b61  2012-06-22 16:19:38.843095   \n",
      "fed637650ec1ec98798d8e0b5b390b61  2012-06-22 16:19:38.843095   \n",
      "fed637650ec1ec98798d8e0b5b390b61  2012-06-22 16:19:38.843095   \n",
      "fed637650ec1ec98798d8e0b5b390b61  2012-06-22 16:19:38.843095   \n",
      "fed637650ec1ec98798d8e0b5b390b61  2012-06-22 16:19:38.843095   \n",
      "\n",
      "                                                     endtime tipoescola   \n",
      "057e4d94ce13d7c0bee38c7c4b5163bc  2012-06-22 11:46:44.396379    privada  \\\n",
      "057e4d94ce13d7c0bee38c7c4b5163bc  2012-06-22 11:46:44.396379    privada   \n",
      "057e4d94ce13d7c0bee38c7c4b5163bc  2012-06-22 11:46:44.396379    privada   \n",
      "057e4d94ce13d7c0bee38c7c4b5163bc  2012-06-22 11:46:44.396379    privada   \n",
      "057e4d94ce13d7c0bee38c7c4b5163bc  2012-06-22 11:46:44.396379    privada   \n",
      "...                                                      ...        ...   \n",
      "fed637650ec1ec98798d8e0b5b390b61  2012-06-22 16:25:05.801483    nenhuma   \n",
      "fed637650ec1ec98798d8e0b5b390b61  2012-06-22 16:25:05.801483    nenhuma   \n",
      "fed637650ec1ec98798d8e0b5b390b61  2012-06-22 16:25:05.801483    nenhuma   \n",
      "fed637650ec1ec98798d8e0b5b390b61  2012-06-22 16:25:05.801483    nenhuma   \n",
      "fed637650ec1ec98798d8e0b5b390b61  2012-06-22 16:25:05.801483    nenhuma   \n",
      "\n",
      "                                       name  maxlevel   \n",
      "057e4d94ce13d7c0bee38c7c4b5163bc  wisconsin         1  \\\n",
      "057e4d94ce13d7c0bee38c7c4b5163bc  wisconsin         1   \n",
      "057e4d94ce13d7c0bee38c7c4b5163bc  wisconsin         1   \n",
      "057e4d94ce13d7c0bee38c7c4b5163bc  wisconsin         1   \n",
      "057e4d94ce13d7c0bee38c7c4b5163bc  wisconsin         1   \n",
      "...                                     ...       ...   \n",
      "fed637650ec1ec98798d8e0b5b390b61  wisconsin         1   \n",
      "fed637650ec1ec98798d8e0b5b390b61  wisconsin         1   \n",
      "fed637650ec1ec98798d8e0b5b390b61  wisconsin         1   \n",
      "fed637650ec1ec98798d8e0b5b390b61  wisconsin         1   \n",
      "fed637650ec1ec98798d8e0b5b390b61  wisconsin         1   \n",
      "\n",
      "                                                      time_x  categoria_x   \n",
      "057e4d94ce13d7c0bee38c7c4b5163bc  2012-06-22 11:45:37.599739            0  \\\n",
      "057e4d94ce13d7c0bee38c7c4b5163bc  2012-06-22 11:45:37.599739            0   \n",
      "057e4d94ce13d7c0bee38c7c4b5163bc  2012-06-22 11:45:37.599739            0   \n",
      "057e4d94ce13d7c0bee38c7c4b5163bc  2012-06-22 11:45:37.599739            0   \n",
      "057e4d94ce13d7c0bee38c7c4b5163bc  2012-06-22 11:45:37.599739            0   \n",
      "...                                                      ...          ...   \n",
      "fed637650ec1ec98798d8e0b5b390b61  2012-06-22 16:19:44.464005            1   \n",
      "fed637650ec1ec98798d8e0b5b390b61  2012-06-22 16:19:44.464005            1   \n",
      "fed637650ec1ec98798d8e0b5b390b61  2012-06-22 16:19:44.464005            1   \n",
      "fed637650ec1ec98798d8e0b5b390b61  2012-06-22 16:19:44.464005            1   \n",
      "fed637650ec1ec98798d8e0b5b390b61  2012-06-22 16:19:44.464005            1   \n",
      "\n",
      "                                  ...  outros  numero  ypos player state   \n",
      "057e4d94ce13d7c0bee38c7c4b5163bc  ...   False    True     0      0        \\\n",
      "057e4d94ce13d7c0bee38c7c4b5163bc  ...    True   False     0      0         \n",
      "057e4d94ce13d7c0bee38c7c4b5163bc  ...   False   False     0      0         \n",
      "057e4d94ce13d7c0bee38c7c4b5163bc  ...   False    True     0      0         \n",
      "057e4d94ce13d7c0bee38c7c4b5163bc  ...   False   False     0      0         \n",
      "...                               ...     ...     ...   ...    ...   ...   \n",
      "fed637650ec1ec98798d8e0b5b390b61  ...   False    True     0      0         \n",
      "fed637650ec1ec98798d8e0b5b390b61  ...   False   False     0      0         \n",
      "fed637650ec1ec98798d8e0b5b390b61  ...   False    True     0      0         \n",
      "fed637650ec1ec98798d8e0b5b390b61  ...   False   False     0      0         \n",
      "fed637650ec1ec98798d8e0b5b390b61  ...     NaN     NaN     0      0         \n",
      "\n",
      "                                 score result                      time_y   \n",
      "057e4d94ce13d7c0bee38c7c4b5163bc     1      1  2012-06-22 11:45:55.020393  \\\n",
      "057e4d94ce13d7c0bee38c7c4b5163bc     1      1  2012-06-22 11:45:58.883289   \n",
      "057e4d94ce13d7c0bee38c7c4b5163bc     1      1  2012-06-22 11:46:01.230753   \n",
      "057e4d94ce13d7c0bee38c7c4b5163bc     1      1  2012-06-22 11:46:03.447548   \n",
      "057e4d94ce13d7c0bee38c7c4b5163bc     1      1  2012-06-22 11:46:05.721888   \n",
      "...                                ...    ...                         ...   \n",
      "fed637650ec1ec98798d8e0b5b390b61     1      1  2012-06-22 16:24:48.138262   \n",
      "fed637650ec1ec98798d8e0b5b390b61     1      1  2012-06-22 16:24:53.573706   \n",
      "fed637650ec1ec98798d8e0b5b390b61     1      1  2012-06-22 16:24:54.800486   \n",
      "fed637650ec1ec98798d8e0b5b390b61     1      1  2012-06-22 16:24:57.348530   \n",
      "fed637650ec1ec98798d8e0b5b390b61     1      5  2012-06-22 16:24:58.746653   \n",
      "\n",
      "                                 marker carta_resposta  \n",
      "057e4d94ce13d7c0bee38c7c4b5163bc  I_N_I            1.0  \n",
      "057e4d94ce13d7c0bee38c7c4b5163bc  I_N_I            2.0  \n",
      "057e4d94ce13d7c0bee38c7c4b5163bc  I_N_I            3.0  \n",
      "057e4d94ce13d7c0bee38c7c4b5163bc  I_N_I            4.0  \n",
      "057e4d94ce13d7c0bee38c7c4b5163bc  I_N_I            5.0  \n",
      "...                                 ...            ...  \n",
      "fed637650ec1ec98798d8e0b5b390b61  I_N_I           17.0  \n",
      "fed637650ec1ec98798d8e0b5b390b61  I_N_I           18.0  \n",
      "fed637650ec1ec98798d8e0b5b390b61  I_N_I           19.0  \n",
      "fed637650ec1ec98798d8e0b5b390b61  I_N_I           20.0  \n",
      "fed637650ec1ec98798d8e0b5b390b61  I_N_I            NaN  \n",
      "\n",
      "[1337 rows x 48 columns]\n"
     ]
    }
   ],
   "source": [
    "from WisconsinClasses import WisconsinPlayers\n",
    "import seaborn as sns\n",
    "\n",
    "\n",
    "r3 = WisconsinPlayers().file_demographics(date=\"2012-06-22\", start_count=(0, 2000))\n",
    "df_r3 = pd.DataFrame(r3)\n"
   ]
  },
  {
   "cell_type": "markdown",
   "source": [
    "Concatenação dos DataFrames dos 3 dias da Rio+20 e escrita no arquivo rio.csv\n",
    "\n",
    "\n",
    "\n",
    "Relação segmento escolar e idade:\n",
    "\n",
    "ano escolar (0 a 11), idade (limitada a 18+), sexo, starttime, endtime, tipoescola, escola\n",
    "\n",
    "ano 0 -> educação infantil -> alguns dados incorretos (educação infantil e idade 18)\n",
    "\n",
    "ano 1 ao 5 -> idade regular de 7 a 11 anos\n",
    "\n",
    "ano 6 ao 9 -> idade regular de 12 a 15 anos\n",
    "\n",
    "ano 10 -> ensino médio\n",
    "\n",
    "ano 11 -> ensino superior\n",
    "\n",
    "result é o item que indica, quando igual a 1 que a pessoa segue jogando, enquanto a escolha da saída do jogador está dentre as seguintes possibilidades:\n",
    "\n",
    "Tenta novamente a fase: 3\n",
    "\n",
    "Não quero jogar: -5\n",
    "\n",
    "Desisto: -2\n",
    "\n",
    "Terminei, mas acho que está errado: 4\n",
    "\n",
    "Terminei e acho que está certo: 5"
   ],
   "metadata": {
    "collapsed": false
   }
  },
  {
   "cell_type": "code",
   "execution_count": 0,
   "metadata": {},
   "outputs": [],
   "source": [
    "import sys\n",
    "\n",
    "df = pd.concat([df_r1,df_r2,df_r3])"
   ]
  },
  {
   "cell_type": "code",
   "execution_count": 12,
   "outputs": [],
   "source": [
    "import pandas as pd\n",
    "df.to_csv(\"rio.csv\")\n",
    "df = pd.read_csv(\"rio.csv\")"
   ],
   "metadata": {
    "collapsed": false,
    "ExecuteTime": {
     "end_time": "2023-07-20T16:55:31.830788189Z",
     "start_time": "2023-07-20T16:55:31.532318253Z"
    }
   }
  },
  {
   "cell_type": "code",
   "execution_count": 13,
   "outputs": [
    {
     "data": {
      "text/plain": "Index(['Unnamed: 0', 'ano1', 'idade1', 'sexo1', 'starttime', 'endtime',\n       'tipoescola', 'name', 'maxlevel', 'time_x', 'categoria_x',\n       'acertosConsecutivos', 'indiceCartaAtual', 'outrosConsecutivos',\n       'wteste', '0', '1', '2', '3', '4', '5', '6', '7', 'h0', 'h1', 'h2',\n       'h3', 'h4', 'h5', 'h6', 'h7', 'time_x.1', 'level', 'categoria_y',\n       'xpos', 'cor', 'acertos', 'house', 'forma', 'outros', 'numero', 'ypos',\n       'player', 'state', 'score', 'result', 'time_y', 'marker',\n       'carta_resposta', 'Faixa Etaria', 'Segmento', 'Motivo Saída'],\n      dtype='object')"
     },
     "execution_count": 13,
     "metadata": {},
     "output_type": "execute_result"
    }
   ],
   "source": [
    "df.columns"
   ],
   "metadata": {
    "collapsed": false,
    "ExecuteTime": {
     "end_time": "2023-07-20T16:55:44.145106958Z",
     "start_time": "2023-07-20T16:55:43.935395861Z"
    }
   }
  },
  {
   "cell_type": "code",
   "execution_count": 16,
   "outputs": [
    {
     "data": {
      "text/plain": "                            Unnamed: 0  ano1  idade1 sexo1   \n0     03b1f969773df2e8bb4557c7507aef4a     0      11     M  \\\n1     03b1f969773df2e8bb4557c7507aef4a     0      11     M   \n2     03b1f969773df2e8bb4557c7507aef4a     0      11     M   \n3     2d21e05ee14e0e2b83aa6bbe54c1bec0     0       2     M   \n4     3475b33271752fecf3d189f873acf5ce     6      12     M   \n...                                ...   ...     ...   ...   \n4127  fed637650ec1ec98798d8e0b5b390b61    11      18     M   \n4128  fed637650ec1ec98798d8e0b5b390b61    11      18     M   \n4129  fed637650ec1ec98798d8e0b5b390b61    11      18     M   \n4130  fed637650ec1ec98798d8e0b5b390b61    11      18     M   \n4131  fed637650ec1ec98798d8e0b5b390b61    11      18     M   \n\n                       starttime                     endtime tipoescola   \n0     2012-06-20 11:24:31.751984                         NaN    privada  \\\n1     2012-06-20 11:24:31.751984                         NaN    privada   \n2     2012-06-20 11:24:31.751984                         NaN    privada   \n3     2012-06-20 15:47:59.301703  2012-06-20 15:55:10.743902    privada   \n4     2012-06-20 17:13:43.356784  2012-06-20 17:27:06.437940    privada   \n...                          ...                         ...        ...   \n4127  2012-06-22 16:19:38.843095  2012-06-22 16:25:05.801483    nenhuma   \n4128  2012-06-22 16:19:38.843095  2012-06-22 16:25:05.801483    nenhuma   \n4129  2012-06-22 16:19:38.843095  2012-06-22 16:25:05.801483    nenhuma   \n4130  2012-06-22 16:19:38.843095  2012-06-22 16:25:05.801483    nenhuma   \n4131  2012-06-22 16:19:38.843095  2012-06-22 16:25:05.801483    nenhuma   \n\n           name  maxlevel                      time_x  ...  player  state   \n0     wisconsin         1  2012-06-20 11:26:58.135836  ...       0    NaN  \\\n1     wisconsin         1  2012-06-20 11:26:58.135836  ...       0    NaN   \n2     wisconsin         1  2012-06-20 11:26:58.135836  ...       0    NaN   \n3     wisconsin         1  2012-06-20 15:54:10.423259  ...       0    NaN   \n4     wisconsin         1  2012-06-20 17:23:33.331822  ...       0    NaN   \n...         ...       ...                         ...  ...     ...    ...   \n4127  wisconsin         1  2012-06-22 16:19:44.464005  ...       0    NaN   \n4128  wisconsin         1  2012-06-22 16:19:44.464005  ...       0    NaN   \n4129  wisconsin         1  2012-06-22 16:19:44.464005  ...       0    NaN   \n4130  wisconsin         1  2012-06-22 16:19:44.464005  ...       0    NaN   \n4131  wisconsin         1  2012-06-22 16:19:44.464005  ...       0    NaN   \n\n      score  result                      time_y marker carta_resposta   \n0         1       1  2012-06-20 11:27:01.507567  I_N_I            1.0  \\\n1         1       1  2012-06-20 11:27:07.596852  I_N_I            2.0   \n2         1      -5  2012-06-20 11:27:11.423754  I_N_I            NaN   \n3         1      -2  2012-06-20 15:55:07.989144  I_N_I            NaN   \n4         1       1  2012-06-20 17:23:57.413517  I_N_I            1.0   \n...     ...     ...                         ...    ...            ...   \n4127      1       1  2012-06-22 16:24:48.138262  I_N_I           17.0   \n4128      1       1  2012-06-22 16:24:53.573706  I_N_I           18.0   \n4129      1       1  2012-06-22 16:24:54.800486  I_N_I           19.0   \n4130      1       1  2012-06-22 16:24:57.348530  I_N_I           20.0   \n4131      1       5  2012-06-22 16:24:58.746653  I_N_I            NaN   \n\n          Faixa Etaria               Segmento                    Motivo Saída  \n0             Crianças           Ed. Infantil                         Jogando  \n1             Crianças           Ed. Infantil                         Jogando  \n2             Crianças           Ed. Infantil                 Não quero jogar  \n3             Crianças           Ed. Infantil                         Desisto  \n4     Pre-Adolescentes  Ensino Fundamental II                         Jogando  \n...                ...                    ...                             ...  \n4127      Adolescentes               Superior                         Jogando  \n4128      Adolescentes               Superior                         Jogando  \n4129      Adolescentes               Superior                         Jogando  \n4130      Adolescentes               Superior                         Jogando  \n4131      Adolescentes               Superior  Terminei e acho que está certo  \n\n[4132 rows x 52 columns]",
      "text/html": "<div>\n<style scoped>\n    .dataframe tbody tr th:only-of-type {\n        vertical-align: middle;\n    }\n\n    .dataframe tbody tr th {\n        vertical-align: top;\n    }\n\n    .dataframe thead th {\n        text-align: right;\n    }\n</style>\n<table border=\"1\" class=\"dataframe\">\n  <thead>\n    <tr style=\"text-align: right;\">\n      <th></th>\n      <th>Unnamed: 0</th>\n      <th>ano1</th>\n      <th>idade1</th>\n      <th>sexo1</th>\n      <th>starttime</th>\n      <th>endtime</th>\n      <th>tipoescola</th>\n      <th>name</th>\n      <th>maxlevel</th>\n      <th>time_x</th>\n      <th>...</th>\n      <th>player</th>\n      <th>state</th>\n      <th>score</th>\n      <th>result</th>\n      <th>time_y</th>\n      <th>marker</th>\n      <th>carta_resposta</th>\n      <th>Faixa Etaria</th>\n      <th>Segmento</th>\n      <th>Motivo Saída</th>\n    </tr>\n  </thead>\n  <tbody>\n    <tr>\n      <th>0</th>\n      <td>03b1f969773df2e8bb4557c7507aef4a</td>\n      <td>0</td>\n      <td>11</td>\n      <td>M</td>\n      <td>2012-06-20 11:24:31.751984</td>\n      <td>NaN</td>\n      <td>privada</td>\n      <td>wisconsin</td>\n      <td>1</td>\n      <td>2012-06-20 11:26:58.135836</td>\n      <td>...</td>\n      <td>0</td>\n      <td>NaN</td>\n      <td>1</td>\n      <td>1</td>\n      <td>2012-06-20 11:27:01.507567</td>\n      <td>I_N_I</td>\n      <td>1.0</td>\n      <td>Crianças</td>\n      <td>Ed. Infantil</td>\n      <td>Jogando</td>\n    </tr>\n    <tr>\n      <th>1</th>\n      <td>03b1f969773df2e8bb4557c7507aef4a</td>\n      <td>0</td>\n      <td>11</td>\n      <td>M</td>\n      <td>2012-06-20 11:24:31.751984</td>\n      <td>NaN</td>\n      <td>privada</td>\n      <td>wisconsin</td>\n      <td>1</td>\n      <td>2012-06-20 11:26:58.135836</td>\n      <td>...</td>\n      <td>0</td>\n      <td>NaN</td>\n      <td>1</td>\n      <td>1</td>\n      <td>2012-06-20 11:27:07.596852</td>\n      <td>I_N_I</td>\n      <td>2.0</td>\n      <td>Crianças</td>\n      <td>Ed. Infantil</td>\n      <td>Jogando</td>\n    </tr>\n    <tr>\n      <th>2</th>\n      <td>03b1f969773df2e8bb4557c7507aef4a</td>\n      <td>0</td>\n      <td>11</td>\n      <td>M</td>\n      <td>2012-06-20 11:24:31.751984</td>\n      <td>NaN</td>\n      <td>privada</td>\n      <td>wisconsin</td>\n      <td>1</td>\n      <td>2012-06-20 11:26:58.135836</td>\n      <td>...</td>\n      <td>0</td>\n      <td>NaN</td>\n      <td>1</td>\n      <td>-5</td>\n      <td>2012-06-20 11:27:11.423754</td>\n      <td>I_N_I</td>\n      <td>NaN</td>\n      <td>Crianças</td>\n      <td>Ed. Infantil</td>\n      <td>Não quero jogar</td>\n    </tr>\n    <tr>\n      <th>3</th>\n      <td>2d21e05ee14e0e2b83aa6bbe54c1bec0</td>\n      <td>0</td>\n      <td>2</td>\n      <td>M</td>\n      <td>2012-06-20 15:47:59.301703</td>\n      <td>2012-06-20 15:55:10.743902</td>\n      <td>privada</td>\n      <td>wisconsin</td>\n      <td>1</td>\n      <td>2012-06-20 15:54:10.423259</td>\n      <td>...</td>\n      <td>0</td>\n      <td>NaN</td>\n      <td>1</td>\n      <td>-2</td>\n      <td>2012-06-20 15:55:07.989144</td>\n      <td>I_N_I</td>\n      <td>NaN</td>\n      <td>Crianças</td>\n      <td>Ed. Infantil</td>\n      <td>Desisto</td>\n    </tr>\n    <tr>\n      <th>4</th>\n      <td>3475b33271752fecf3d189f873acf5ce</td>\n      <td>6</td>\n      <td>12</td>\n      <td>M</td>\n      <td>2012-06-20 17:13:43.356784</td>\n      <td>2012-06-20 17:27:06.437940</td>\n      <td>privada</td>\n      <td>wisconsin</td>\n      <td>1</td>\n      <td>2012-06-20 17:23:33.331822</td>\n      <td>...</td>\n      <td>0</td>\n      <td>NaN</td>\n      <td>1</td>\n      <td>1</td>\n      <td>2012-06-20 17:23:57.413517</td>\n      <td>I_N_I</td>\n      <td>1.0</td>\n      <td>Pre-Adolescentes</td>\n      <td>Ensino Fundamental II</td>\n      <td>Jogando</td>\n    </tr>\n    <tr>\n      <th>...</th>\n      <td>...</td>\n      <td>...</td>\n      <td>...</td>\n      <td>...</td>\n      <td>...</td>\n      <td>...</td>\n      <td>...</td>\n      <td>...</td>\n      <td>...</td>\n      <td>...</td>\n      <td>...</td>\n      <td>...</td>\n      <td>...</td>\n      <td>...</td>\n      <td>...</td>\n      <td>...</td>\n      <td>...</td>\n      <td>...</td>\n      <td>...</td>\n      <td>...</td>\n      <td>...</td>\n    </tr>\n    <tr>\n      <th>4127</th>\n      <td>fed637650ec1ec98798d8e0b5b390b61</td>\n      <td>11</td>\n      <td>18</td>\n      <td>M</td>\n      <td>2012-06-22 16:19:38.843095</td>\n      <td>2012-06-22 16:25:05.801483</td>\n      <td>nenhuma</td>\n      <td>wisconsin</td>\n      <td>1</td>\n      <td>2012-06-22 16:19:44.464005</td>\n      <td>...</td>\n      <td>0</td>\n      <td>NaN</td>\n      <td>1</td>\n      <td>1</td>\n      <td>2012-06-22 16:24:48.138262</td>\n      <td>I_N_I</td>\n      <td>17.0</td>\n      <td>Adolescentes</td>\n      <td>Superior</td>\n      <td>Jogando</td>\n    </tr>\n    <tr>\n      <th>4128</th>\n      <td>fed637650ec1ec98798d8e0b5b390b61</td>\n      <td>11</td>\n      <td>18</td>\n      <td>M</td>\n      <td>2012-06-22 16:19:38.843095</td>\n      <td>2012-06-22 16:25:05.801483</td>\n      <td>nenhuma</td>\n      <td>wisconsin</td>\n      <td>1</td>\n      <td>2012-06-22 16:19:44.464005</td>\n      <td>...</td>\n      <td>0</td>\n      <td>NaN</td>\n      <td>1</td>\n      <td>1</td>\n      <td>2012-06-22 16:24:53.573706</td>\n      <td>I_N_I</td>\n      <td>18.0</td>\n      <td>Adolescentes</td>\n      <td>Superior</td>\n      <td>Jogando</td>\n    </tr>\n    <tr>\n      <th>4129</th>\n      <td>fed637650ec1ec98798d8e0b5b390b61</td>\n      <td>11</td>\n      <td>18</td>\n      <td>M</td>\n      <td>2012-06-22 16:19:38.843095</td>\n      <td>2012-06-22 16:25:05.801483</td>\n      <td>nenhuma</td>\n      <td>wisconsin</td>\n      <td>1</td>\n      <td>2012-06-22 16:19:44.464005</td>\n      <td>...</td>\n      <td>0</td>\n      <td>NaN</td>\n      <td>1</td>\n      <td>1</td>\n      <td>2012-06-22 16:24:54.800486</td>\n      <td>I_N_I</td>\n      <td>19.0</td>\n      <td>Adolescentes</td>\n      <td>Superior</td>\n      <td>Jogando</td>\n    </tr>\n    <tr>\n      <th>4130</th>\n      <td>fed637650ec1ec98798d8e0b5b390b61</td>\n      <td>11</td>\n      <td>18</td>\n      <td>M</td>\n      <td>2012-06-22 16:19:38.843095</td>\n      <td>2012-06-22 16:25:05.801483</td>\n      <td>nenhuma</td>\n      <td>wisconsin</td>\n      <td>1</td>\n      <td>2012-06-22 16:19:44.464005</td>\n      <td>...</td>\n      <td>0</td>\n      <td>NaN</td>\n      <td>1</td>\n      <td>1</td>\n      <td>2012-06-22 16:24:57.348530</td>\n      <td>I_N_I</td>\n      <td>20.0</td>\n      <td>Adolescentes</td>\n      <td>Superior</td>\n      <td>Jogando</td>\n    </tr>\n    <tr>\n      <th>4131</th>\n      <td>fed637650ec1ec98798d8e0b5b390b61</td>\n      <td>11</td>\n      <td>18</td>\n      <td>M</td>\n      <td>2012-06-22 16:19:38.843095</td>\n      <td>2012-06-22 16:25:05.801483</td>\n      <td>nenhuma</td>\n      <td>wisconsin</td>\n      <td>1</td>\n      <td>2012-06-22 16:19:44.464005</td>\n      <td>...</td>\n      <td>0</td>\n      <td>NaN</td>\n      <td>1</td>\n      <td>5</td>\n      <td>2012-06-22 16:24:58.746653</td>\n      <td>I_N_I</td>\n      <td>NaN</td>\n      <td>Adolescentes</td>\n      <td>Superior</td>\n      <td>Terminei e acho que está certo</td>\n    </tr>\n  </tbody>\n</table>\n<p>4132 rows × 52 columns</p>\n</div>"
     },
     "execution_count": 16,
     "metadata": {},
     "output_type": "execute_result"
    }
   ],
   "source": [
    "df"
   ],
   "metadata": {
    "collapsed": false,
    "ExecuteTime": {
     "end_time": "2023-07-20T16:56:17.420145969Z",
     "start_time": "2023-07-20T16:56:17.262068501Z"
    }
   }
  },
  {
   "cell_type": "code",
   "execution_count": 19,
   "outputs": [],
   "source": [
    "df.rename( columns={'Unnamed: 0':'id'}, inplace=True )"
   ],
   "metadata": {
    "collapsed": false,
    "ExecuteTime": {
     "end_time": "2023-07-20T16:56:49.129960205Z",
     "start_time": "2023-07-20T16:56:49.017463498Z"
    }
   }
  },
  {
   "cell_type": "code",
   "execution_count": 20,
   "outputs": [
    {
     "data": {
      "text/plain": "                                    id  ano1  idade1 sexo1   \n0     03b1f969773df2e8bb4557c7507aef4a     0      11     M  \\\n1     03b1f969773df2e8bb4557c7507aef4a     0      11     M   \n2     03b1f969773df2e8bb4557c7507aef4a     0      11     M   \n3     2d21e05ee14e0e2b83aa6bbe54c1bec0     0       2     M   \n4     3475b33271752fecf3d189f873acf5ce     6      12     M   \n...                                ...   ...     ...   ...   \n4127  fed637650ec1ec98798d8e0b5b390b61    11      18     M   \n4128  fed637650ec1ec98798d8e0b5b390b61    11      18     M   \n4129  fed637650ec1ec98798d8e0b5b390b61    11      18     M   \n4130  fed637650ec1ec98798d8e0b5b390b61    11      18     M   \n4131  fed637650ec1ec98798d8e0b5b390b61    11      18     M   \n\n                       starttime                     endtime tipoescola   \n0     2012-06-20 11:24:31.751984                         NaN    privada  \\\n1     2012-06-20 11:24:31.751984                         NaN    privada   \n2     2012-06-20 11:24:31.751984                         NaN    privada   \n3     2012-06-20 15:47:59.301703  2012-06-20 15:55:10.743902    privada   \n4     2012-06-20 17:13:43.356784  2012-06-20 17:27:06.437940    privada   \n...                          ...                         ...        ...   \n4127  2012-06-22 16:19:38.843095  2012-06-22 16:25:05.801483    nenhuma   \n4128  2012-06-22 16:19:38.843095  2012-06-22 16:25:05.801483    nenhuma   \n4129  2012-06-22 16:19:38.843095  2012-06-22 16:25:05.801483    nenhuma   \n4130  2012-06-22 16:19:38.843095  2012-06-22 16:25:05.801483    nenhuma   \n4131  2012-06-22 16:19:38.843095  2012-06-22 16:25:05.801483    nenhuma   \n\n           name  maxlevel                      time_x  ...  player  state   \n0     wisconsin         1  2012-06-20 11:26:58.135836  ...       0    NaN  \\\n1     wisconsin         1  2012-06-20 11:26:58.135836  ...       0    NaN   \n2     wisconsin         1  2012-06-20 11:26:58.135836  ...       0    NaN   \n3     wisconsin         1  2012-06-20 15:54:10.423259  ...       0    NaN   \n4     wisconsin         1  2012-06-20 17:23:33.331822  ...       0    NaN   \n...         ...       ...                         ...  ...     ...    ...   \n4127  wisconsin         1  2012-06-22 16:19:44.464005  ...       0    NaN   \n4128  wisconsin         1  2012-06-22 16:19:44.464005  ...       0    NaN   \n4129  wisconsin         1  2012-06-22 16:19:44.464005  ...       0    NaN   \n4130  wisconsin         1  2012-06-22 16:19:44.464005  ...       0    NaN   \n4131  wisconsin         1  2012-06-22 16:19:44.464005  ...       0    NaN   \n\n      score  result                      time_y marker carta_resposta   \n0         1       1  2012-06-20 11:27:01.507567  I_N_I            1.0  \\\n1         1       1  2012-06-20 11:27:07.596852  I_N_I            2.0   \n2         1      -5  2012-06-20 11:27:11.423754  I_N_I            NaN   \n3         1      -2  2012-06-20 15:55:07.989144  I_N_I            NaN   \n4         1       1  2012-06-20 17:23:57.413517  I_N_I            1.0   \n...     ...     ...                         ...    ...            ...   \n4127      1       1  2012-06-22 16:24:48.138262  I_N_I           17.0   \n4128      1       1  2012-06-22 16:24:53.573706  I_N_I           18.0   \n4129      1       1  2012-06-22 16:24:54.800486  I_N_I           19.0   \n4130      1       1  2012-06-22 16:24:57.348530  I_N_I           20.0   \n4131      1       5  2012-06-22 16:24:58.746653  I_N_I            NaN   \n\n          Faixa Etaria               Segmento                    Motivo Saída  \n0             Crianças           Ed. Infantil                         Jogando  \n1             Crianças           Ed. Infantil                         Jogando  \n2             Crianças           Ed. Infantil                 Não quero jogar  \n3             Crianças           Ed. Infantil                         Desisto  \n4     Pre-Adolescentes  Ensino Fundamental II                         Jogando  \n...                ...                    ...                             ...  \n4127      Adolescentes               Superior                         Jogando  \n4128      Adolescentes               Superior                         Jogando  \n4129      Adolescentes               Superior                         Jogando  \n4130      Adolescentes               Superior                         Jogando  \n4131      Adolescentes               Superior  Terminei e acho que está certo  \n\n[4132 rows x 52 columns]",
      "text/html": "<div>\n<style scoped>\n    .dataframe tbody tr th:only-of-type {\n        vertical-align: middle;\n    }\n\n    .dataframe tbody tr th {\n        vertical-align: top;\n    }\n\n    .dataframe thead th {\n        text-align: right;\n    }\n</style>\n<table border=\"1\" class=\"dataframe\">\n  <thead>\n    <tr style=\"text-align: right;\">\n      <th></th>\n      <th>id</th>\n      <th>ano1</th>\n      <th>idade1</th>\n      <th>sexo1</th>\n      <th>starttime</th>\n      <th>endtime</th>\n      <th>tipoescola</th>\n      <th>name</th>\n      <th>maxlevel</th>\n      <th>time_x</th>\n      <th>...</th>\n      <th>player</th>\n      <th>state</th>\n      <th>score</th>\n      <th>result</th>\n      <th>time_y</th>\n      <th>marker</th>\n      <th>carta_resposta</th>\n      <th>Faixa Etaria</th>\n      <th>Segmento</th>\n      <th>Motivo Saída</th>\n    </tr>\n  </thead>\n  <tbody>\n    <tr>\n      <th>0</th>\n      <td>03b1f969773df2e8bb4557c7507aef4a</td>\n      <td>0</td>\n      <td>11</td>\n      <td>M</td>\n      <td>2012-06-20 11:24:31.751984</td>\n      <td>NaN</td>\n      <td>privada</td>\n      <td>wisconsin</td>\n      <td>1</td>\n      <td>2012-06-20 11:26:58.135836</td>\n      <td>...</td>\n      <td>0</td>\n      <td>NaN</td>\n      <td>1</td>\n      <td>1</td>\n      <td>2012-06-20 11:27:01.507567</td>\n      <td>I_N_I</td>\n      <td>1.0</td>\n      <td>Crianças</td>\n      <td>Ed. Infantil</td>\n      <td>Jogando</td>\n    </tr>\n    <tr>\n      <th>1</th>\n      <td>03b1f969773df2e8bb4557c7507aef4a</td>\n      <td>0</td>\n      <td>11</td>\n      <td>M</td>\n      <td>2012-06-20 11:24:31.751984</td>\n      <td>NaN</td>\n      <td>privada</td>\n      <td>wisconsin</td>\n      <td>1</td>\n      <td>2012-06-20 11:26:58.135836</td>\n      <td>...</td>\n      <td>0</td>\n      <td>NaN</td>\n      <td>1</td>\n      <td>1</td>\n      <td>2012-06-20 11:27:07.596852</td>\n      <td>I_N_I</td>\n      <td>2.0</td>\n      <td>Crianças</td>\n      <td>Ed. Infantil</td>\n      <td>Jogando</td>\n    </tr>\n    <tr>\n      <th>2</th>\n      <td>03b1f969773df2e8bb4557c7507aef4a</td>\n      <td>0</td>\n      <td>11</td>\n      <td>M</td>\n      <td>2012-06-20 11:24:31.751984</td>\n      <td>NaN</td>\n      <td>privada</td>\n      <td>wisconsin</td>\n      <td>1</td>\n      <td>2012-06-20 11:26:58.135836</td>\n      <td>...</td>\n      <td>0</td>\n      <td>NaN</td>\n      <td>1</td>\n      <td>-5</td>\n      <td>2012-06-20 11:27:11.423754</td>\n      <td>I_N_I</td>\n      <td>NaN</td>\n      <td>Crianças</td>\n      <td>Ed. Infantil</td>\n      <td>Não quero jogar</td>\n    </tr>\n    <tr>\n      <th>3</th>\n      <td>2d21e05ee14e0e2b83aa6bbe54c1bec0</td>\n      <td>0</td>\n      <td>2</td>\n      <td>M</td>\n      <td>2012-06-20 15:47:59.301703</td>\n      <td>2012-06-20 15:55:10.743902</td>\n      <td>privada</td>\n      <td>wisconsin</td>\n      <td>1</td>\n      <td>2012-06-20 15:54:10.423259</td>\n      <td>...</td>\n      <td>0</td>\n      <td>NaN</td>\n      <td>1</td>\n      <td>-2</td>\n      <td>2012-06-20 15:55:07.989144</td>\n      <td>I_N_I</td>\n      <td>NaN</td>\n      <td>Crianças</td>\n      <td>Ed. Infantil</td>\n      <td>Desisto</td>\n    </tr>\n    <tr>\n      <th>4</th>\n      <td>3475b33271752fecf3d189f873acf5ce</td>\n      <td>6</td>\n      <td>12</td>\n      <td>M</td>\n      <td>2012-06-20 17:13:43.356784</td>\n      <td>2012-06-20 17:27:06.437940</td>\n      <td>privada</td>\n      <td>wisconsin</td>\n      <td>1</td>\n      <td>2012-06-20 17:23:33.331822</td>\n      <td>...</td>\n      <td>0</td>\n      <td>NaN</td>\n      <td>1</td>\n      <td>1</td>\n      <td>2012-06-20 17:23:57.413517</td>\n      <td>I_N_I</td>\n      <td>1.0</td>\n      <td>Pre-Adolescentes</td>\n      <td>Ensino Fundamental II</td>\n      <td>Jogando</td>\n    </tr>\n    <tr>\n      <th>...</th>\n      <td>...</td>\n      <td>...</td>\n      <td>...</td>\n      <td>...</td>\n      <td>...</td>\n      <td>...</td>\n      <td>...</td>\n      <td>...</td>\n      <td>...</td>\n      <td>...</td>\n      <td>...</td>\n      <td>...</td>\n      <td>...</td>\n      <td>...</td>\n      <td>...</td>\n      <td>...</td>\n      <td>...</td>\n      <td>...</td>\n      <td>...</td>\n      <td>...</td>\n      <td>...</td>\n    </tr>\n    <tr>\n      <th>4127</th>\n      <td>fed637650ec1ec98798d8e0b5b390b61</td>\n      <td>11</td>\n      <td>18</td>\n      <td>M</td>\n      <td>2012-06-22 16:19:38.843095</td>\n      <td>2012-06-22 16:25:05.801483</td>\n      <td>nenhuma</td>\n      <td>wisconsin</td>\n      <td>1</td>\n      <td>2012-06-22 16:19:44.464005</td>\n      <td>...</td>\n      <td>0</td>\n      <td>NaN</td>\n      <td>1</td>\n      <td>1</td>\n      <td>2012-06-22 16:24:48.138262</td>\n      <td>I_N_I</td>\n      <td>17.0</td>\n      <td>Adolescentes</td>\n      <td>Superior</td>\n      <td>Jogando</td>\n    </tr>\n    <tr>\n      <th>4128</th>\n      <td>fed637650ec1ec98798d8e0b5b390b61</td>\n      <td>11</td>\n      <td>18</td>\n      <td>M</td>\n      <td>2012-06-22 16:19:38.843095</td>\n      <td>2012-06-22 16:25:05.801483</td>\n      <td>nenhuma</td>\n      <td>wisconsin</td>\n      <td>1</td>\n      <td>2012-06-22 16:19:44.464005</td>\n      <td>...</td>\n      <td>0</td>\n      <td>NaN</td>\n      <td>1</td>\n      <td>1</td>\n      <td>2012-06-22 16:24:53.573706</td>\n      <td>I_N_I</td>\n      <td>18.0</td>\n      <td>Adolescentes</td>\n      <td>Superior</td>\n      <td>Jogando</td>\n    </tr>\n    <tr>\n      <th>4129</th>\n      <td>fed637650ec1ec98798d8e0b5b390b61</td>\n      <td>11</td>\n      <td>18</td>\n      <td>M</td>\n      <td>2012-06-22 16:19:38.843095</td>\n      <td>2012-06-22 16:25:05.801483</td>\n      <td>nenhuma</td>\n      <td>wisconsin</td>\n      <td>1</td>\n      <td>2012-06-22 16:19:44.464005</td>\n      <td>...</td>\n      <td>0</td>\n      <td>NaN</td>\n      <td>1</td>\n      <td>1</td>\n      <td>2012-06-22 16:24:54.800486</td>\n      <td>I_N_I</td>\n      <td>19.0</td>\n      <td>Adolescentes</td>\n      <td>Superior</td>\n      <td>Jogando</td>\n    </tr>\n    <tr>\n      <th>4130</th>\n      <td>fed637650ec1ec98798d8e0b5b390b61</td>\n      <td>11</td>\n      <td>18</td>\n      <td>M</td>\n      <td>2012-06-22 16:19:38.843095</td>\n      <td>2012-06-22 16:25:05.801483</td>\n      <td>nenhuma</td>\n      <td>wisconsin</td>\n      <td>1</td>\n      <td>2012-06-22 16:19:44.464005</td>\n      <td>...</td>\n      <td>0</td>\n      <td>NaN</td>\n      <td>1</td>\n      <td>1</td>\n      <td>2012-06-22 16:24:57.348530</td>\n      <td>I_N_I</td>\n      <td>20.0</td>\n      <td>Adolescentes</td>\n      <td>Superior</td>\n      <td>Jogando</td>\n    </tr>\n    <tr>\n      <th>4131</th>\n      <td>fed637650ec1ec98798d8e0b5b390b61</td>\n      <td>11</td>\n      <td>18</td>\n      <td>M</td>\n      <td>2012-06-22 16:19:38.843095</td>\n      <td>2012-06-22 16:25:05.801483</td>\n      <td>nenhuma</td>\n      <td>wisconsin</td>\n      <td>1</td>\n      <td>2012-06-22 16:19:44.464005</td>\n      <td>...</td>\n      <td>0</td>\n      <td>NaN</td>\n      <td>1</td>\n      <td>5</td>\n      <td>2012-06-22 16:24:58.746653</td>\n      <td>I_N_I</td>\n      <td>NaN</td>\n      <td>Adolescentes</td>\n      <td>Superior</td>\n      <td>Terminei e acho que está certo</td>\n    </tr>\n  </tbody>\n</table>\n<p>4132 rows × 52 columns</p>\n</div>"
     },
     "execution_count": 20,
     "metadata": {},
     "output_type": "execute_result"
    }
   ],
   "source": [
    "df"
   ],
   "metadata": {
    "collapsed": false,
    "ExecuteTime": {
     "end_time": "2023-07-20T16:56:52.843191790Z",
     "start_time": "2023-07-20T16:56:52.675407782Z"
    }
   }
  },
  {
   "cell_type": "code",
   "execution_count": 21,
   "outputs": [],
   "source": [
    "\n",
    "\n",
    "df['Faixa Etaria']=pd.cut(\n",
    "    df['idade1'],\n",
    "    bins=[0,11, 15, 18, sys.maxsize],\n",
    "    labels=['Crianças','Pre-Adolescentes', 'Adolescentes', 'Adultos']\n",
    ")\n",
    "\n",
    "df['Segmento']=pd.cut(\n",
    "    df['ano1'],\n",
    "    bins=[-1,0, 1, 6, 10, 11],\n",
    "    labels=['Ed. Infantil','Ensino Fundamental I','Ensino Fundamental II','Médio','Superior']\n",
    ")\n",
    "\n",
    "# bins = pd.IntervalIndex.from_tuples([(-6, -5), (-3, -2), (0, 1), (2,3),(3,4),(4,5)])\n",
    "df['Motivo Saída'] = pd.cut(df['result'],\n",
    "                            bins=[-6,-5,-2,1,3,4,5],\n",
    "                            labels=['Não quero jogar','Desisto','Jogando','Tenta novamente a fase',\n",
    "                                    'Terminei, mas acho que está errado', 'Terminei e acho que está certo'])\n",
    "\n",
    "\n",
    "\n",
    "df = df.set_index([\"id\",\"sexo1\",\"tipoescola\",\"Segmento\",\"ano1\",\"Faixa Etaria\",\"idade1\"])\n",
    "\n",
    "\n",
    "import pandas as pd\n",
    "df.to_csv(\"rio.csv\")\n",
    "df = pd.read_csv(\"rio.csv\")"
   ],
   "metadata": {
    "collapsed": false,
    "ExecuteTime": {
     "end_time": "2023-07-20T16:56:55.244276047Z",
     "start_time": "2023-07-20T16:56:54.937144951Z"
    }
   }
  },
  {
   "cell_type": "code",
   "execution_count": 22,
   "metadata": {
    "ExecuteTime": {
     "end_time": "2023-07-20T16:56:56.857517874Z",
     "start_time": "2023-07-20T16:56:56.633512115Z"
    }
   },
   "outputs": [
    {
     "data": {
      "text/plain": "              ano1       idade1  maxlevel  categoria_x  acertosConsecutivos   \ncount  4132.000000  4132.000000    4132.0  4132.000000          4132.000000  \\\nmean      6.542352    12.860600       1.0     1.533156             1.877299   \nstd       3.672228     4.494589       0.0     1.611390             2.671781   \nmin       0.000000     2.000000       1.0     0.000000             0.000000   \n25%       4.000000     9.000000       1.0     0.000000             0.000000   \n50%       6.000000    12.000000       1.0     1.000000             0.000000   \n75%      10.000000    18.000000       1.0     2.000000             3.000000   \nmax      11.000000    18.000000       1.0     6.000000             9.000000   \n\n       indiceCartaAtual  outrosConsecutivos  wteste   level    xpos   \ncount       4132.000000         4132.000000     0.0  4132.0  4132.0  \\\nmean          51.783882            0.035576     NaN     1.0     0.0   \nstd           35.122499            0.202723     NaN     0.0     0.0   \nmin           -1.000000            0.000000     NaN     1.0     0.0   \n25%           24.000000            0.000000     NaN     1.0     0.0   \n50%           50.000000            0.000000     NaN     1.0     0.0   \n75%           79.000000            0.000000     NaN     1.0     0.0   \nmax          127.000000            2.000000     NaN     1.0     0.0   \n\n           acertos    ypos  player  state   score       result  carta_resposta  \ncount  3998.000000  4132.0  4132.0    0.0  4132.0  4132.000000     3998.000000  \nmean      2.153577     0.0     0.0    NaN     1.0     0.984753       21.944222  \nstd       2.836187     0.0     0.0    NaN     0.0     0.795479       16.805787  \nmin       0.000000     0.0     0.0    NaN     1.0    -5.000000        1.000000  \n25%       0.000000     0.0     0.0    NaN     1.0     1.000000        8.000000  \n50%       1.000000     0.0     0.0    NaN     1.0     1.000000       18.000000  \n75%       3.000000     0.0     0.0    NaN     1.0     1.000000       33.000000  \nmax      10.000000     0.0     0.0    NaN     1.0     5.000000       64.000000  ",
      "text/html": "<div>\n<style scoped>\n    .dataframe tbody tr th:only-of-type {\n        vertical-align: middle;\n    }\n\n    .dataframe tbody tr th {\n        vertical-align: top;\n    }\n\n    .dataframe thead th {\n        text-align: right;\n    }\n</style>\n<table border=\"1\" class=\"dataframe\">\n  <thead>\n    <tr style=\"text-align: right;\">\n      <th></th>\n      <th>ano1</th>\n      <th>idade1</th>\n      <th>maxlevel</th>\n      <th>categoria_x</th>\n      <th>acertosConsecutivos</th>\n      <th>indiceCartaAtual</th>\n      <th>outrosConsecutivos</th>\n      <th>wteste</th>\n      <th>level</th>\n      <th>xpos</th>\n      <th>acertos</th>\n      <th>ypos</th>\n      <th>player</th>\n      <th>state</th>\n      <th>score</th>\n      <th>result</th>\n      <th>carta_resposta</th>\n    </tr>\n  </thead>\n  <tbody>\n    <tr>\n      <th>count</th>\n      <td>4132.000000</td>\n      <td>4132.000000</td>\n      <td>4132.0</td>\n      <td>4132.000000</td>\n      <td>4132.000000</td>\n      <td>4132.000000</td>\n      <td>4132.000000</td>\n      <td>0.0</td>\n      <td>4132.0</td>\n      <td>4132.0</td>\n      <td>3998.000000</td>\n      <td>4132.0</td>\n      <td>4132.0</td>\n      <td>0.0</td>\n      <td>4132.0</td>\n      <td>4132.000000</td>\n      <td>3998.000000</td>\n    </tr>\n    <tr>\n      <th>mean</th>\n      <td>6.542352</td>\n      <td>12.860600</td>\n      <td>1.0</td>\n      <td>1.533156</td>\n      <td>1.877299</td>\n      <td>51.783882</td>\n      <td>0.035576</td>\n      <td>NaN</td>\n      <td>1.0</td>\n      <td>0.0</td>\n      <td>2.153577</td>\n      <td>0.0</td>\n      <td>0.0</td>\n      <td>NaN</td>\n      <td>1.0</td>\n      <td>0.984753</td>\n      <td>21.944222</td>\n    </tr>\n    <tr>\n      <th>std</th>\n      <td>3.672228</td>\n      <td>4.494589</td>\n      <td>0.0</td>\n      <td>1.611390</td>\n      <td>2.671781</td>\n      <td>35.122499</td>\n      <td>0.202723</td>\n      <td>NaN</td>\n      <td>0.0</td>\n      <td>0.0</td>\n      <td>2.836187</td>\n      <td>0.0</td>\n      <td>0.0</td>\n      <td>NaN</td>\n      <td>0.0</td>\n      <td>0.795479</td>\n      <td>16.805787</td>\n    </tr>\n    <tr>\n      <th>min</th>\n      <td>0.000000</td>\n      <td>2.000000</td>\n      <td>1.0</td>\n      <td>0.000000</td>\n      <td>0.000000</td>\n      <td>-1.000000</td>\n      <td>0.000000</td>\n      <td>NaN</td>\n      <td>1.0</td>\n      <td>0.0</td>\n      <td>0.000000</td>\n      <td>0.0</td>\n      <td>0.0</td>\n      <td>NaN</td>\n      <td>1.0</td>\n      <td>-5.000000</td>\n      <td>1.000000</td>\n    </tr>\n    <tr>\n      <th>25%</th>\n      <td>4.000000</td>\n      <td>9.000000</td>\n      <td>1.0</td>\n      <td>0.000000</td>\n      <td>0.000000</td>\n      <td>24.000000</td>\n      <td>0.000000</td>\n      <td>NaN</td>\n      <td>1.0</td>\n      <td>0.0</td>\n      <td>0.000000</td>\n      <td>0.0</td>\n      <td>0.0</td>\n      <td>NaN</td>\n      <td>1.0</td>\n      <td>1.000000</td>\n      <td>8.000000</td>\n    </tr>\n    <tr>\n      <th>50%</th>\n      <td>6.000000</td>\n      <td>12.000000</td>\n      <td>1.0</td>\n      <td>1.000000</td>\n      <td>0.000000</td>\n      <td>50.000000</td>\n      <td>0.000000</td>\n      <td>NaN</td>\n      <td>1.0</td>\n      <td>0.0</td>\n      <td>1.000000</td>\n      <td>0.0</td>\n      <td>0.0</td>\n      <td>NaN</td>\n      <td>1.0</td>\n      <td>1.000000</td>\n      <td>18.000000</td>\n    </tr>\n    <tr>\n      <th>75%</th>\n      <td>10.000000</td>\n      <td>18.000000</td>\n      <td>1.0</td>\n      <td>2.000000</td>\n      <td>3.000000</td>\n      <td>79.000000</td>\n      <td>0.000000</td>\n      <td>NaN</td>\n      <td>1.0</td>\n      <td>0.0</td>\n      <td>3.000000</td>\n      <td>0.0</td>\n      <td>0.0</td>\n      <td>NaN</td>\n      <td>1.0</td>\n      <td>1.000000</td>\n      <td>33.000000</td>\n    </tr>\n    <tr>\n      <th>max</th>\n      <td>11.000000</td>\n      <td>18.000000</td>\n      <td>1.0</td>\n      <td>6.000000</td>\n      <td>9.000000</td>\n      <td>127.000000</td>\n      <td>2.000000</td>\n      <td>NaN</td>\n      <td>1.0</td>\n      <td>0.0</td>\n      <td>10.000000</td>\n      <td>0.0</td>\n      <td>0.0</td>\n      <td>NaN</td>\n      <td>1.0</td>\n      <td>5.000000</td>\n      <td>64.000000</td>\n    </tr>\n  </tbody>\n</table>\n</div>"
     },
     "execution_count": 22,
     "metadata": {},
     "output_type": "execute_result"
    }
   ],
   "source": [
    "df.describe()"
   ]
  },
  {
   "cell_type": "code",
   "execution_count": 23,
   "metadata": {
    "ExecuteTime": {
     "end_time": "2023-07-20T16:56:59.360623895Z",
     "start_time": "2023-07-20T16:56:58.824221566Z"
    }
   },
   "outputs": [
    {
     "ename": "KeyError",
     "evalue": "\"['Unnamed: 0'] not found in axis\"",
     "output_type": "error",
     "traceback": [
      "\u001B[0;31m---------------------------------------------------------------------------\u001B[0m",
      "\u001B[0;31mKeyError\u001B[0m                                  Traceback (most recent call last)",
      "\u001B[0;32m/tmp/ipykernel_24901/3821070968.py\u001B[0m in \u001B[0;36m<module>\u001B[0;34m\u001B[0m\n\u001B[0;32m----> 1\u001B[0;31m \u001B[0mdf\u001B[0m \u001B[0;34m=\u001B[0m \u001B[0mdf\u001B[0m\u001B[0;34m.\u001B[0m\u001B[0mdrop\u001B[0m\u001B[0;34m(\u001B[0m\u001B[0;34m\"Unnamed: 0\"\u001B[0m\u001B[0;34m,\u001B[0m\u001B[0maxis\u001B[0m\u001B[0;34m=\u001B[0m\u001B[0;34m\"columns\"\u001B[0m\u001B[0;34m)\u001B[0m\u001B[0;34m\u001B[0m\u001B[0;34m\u001B[0m\u001B[0m\n\u001B[0m",
      "\u001B[0;32m~/.local/lib/python3.10/site-packages/pandas/core/frame.py\u001B[0m in \u001B[0;36mdrop\u001B[0;34m(self, labels, axis, index, columns, level, inplace, errors)\u001B[0m\n\u001B[1;32m   5264\u001B[0m                 \u001B[0mweight\u001B[0m  \u001B[0;36m1.0\u001B[0m     \u001B[0;36m0.8\u001B[0m\u001B[0;34m\u001B[0m\u001B[0;34m\u001B[0m\u001B[0m\n\u001B[1;32m   5265\u001B[0m         \"\"\"\n\u001B[0;32m-> 5266\u001B[0;31m         return super().drop(\n\u001B[0m\u001B[1;32m   5267\u001B[0m             \u001B[0mlabels\u001B[0m\u001B[0;34m=\u001B[0m\u001B[0mlabels\u001B[0m\u001B[0;34m,\u001B[0m\u001B[0;34m\u001B[0m\u001B[0;34m\u001B[0m\u001B[0m\n\u001B[1;32m   5268\u001B[0m             \u001B[0maxis\u001B[0m\u001B[0;34m=\u001B[0m\u001B[0maxis\u001B[0m\u001B[0;34m,\u001B[0m\u001B[0;34m\u001B[0m\u001B[0;34m\u001B[0m\u001B[0m\n",
      "\u001B[0;32m~/.local/lib/python3.10/site-packages/pandas/core/generic.py\u001B[0m in \u001B[0;36mdrop\u001B[0;34m(self, labels, axis, index, columns, level, inplace, errors)\u001B[0m\n\u001B[1;32m   4547\u001B[0m         \u001B[0;32mfor\u001B[0m \u001B[0maxis\u001B[0m\u001B[0;34m,\u001B[0m \u001B[0mlabels\u001B[0m \u001B[0;32min\u001B[0m \u001B[0maxes\u001B[0m\u001B[0;34m.\u001B[0m\u001B[0mitems\u001B[0m\u001B[0;34m(\u001B[0m\u001B[0;34m)\u001B[0m\u001B[0;34m:\u001B[0m\u001B[0;34m\u001B[0m\u001B[0;34m\u001B[0m\u001B[0m\n\u001B[1;32m   4548\u001B[0m             \u001B[0;32mif\u001B[0m \u001B[0mlabels\u001B[0m \u001B[0;32mis\u001B[0m \u001B[0;32mnot\u001B[0m \u001B[0;32mNone\u001B[0m\u001B[0;34m:\u001B[0m\u001B[0;34m\u001B[0m\u001B[0;34m\u001B[0m\u001B[0m\n\u001B[0;32m-> 4549\u001B[0;31m                 \u001B[0mobj\u001B[0m \u001B[0;34m=\u001B[0m \u001B[0mobj\u001B[0m\u001B[0;34m.\u001B[0m\u001B[0m_drop_axis\u001B[0m\u001B[0;34m(\u001B[0m\u001B[0mlabels\u001B[0m\u001B[0;34m,\u001B[0m \u001B[0maxis\u001B[0m\u001B[0;34m,\u001B[0m \u001B[0mlevel\u001B[0m\u001B[0;34m=\u001B[0m\u001B[0mlevel\u001B[0m\u001B[0;34m,\u001B[0m \u001B[0merrors\u001B[0m\u001B[0;34m=\u001B[0m\u001B[0merrors\u001B[0m\u001B[0;34m)\u001B[0m\u001B[0;34m\u001B[0m\u001B[0;34m\u001B[0m\u001B[0m\n\u001B[0m\u001B[1;32m   4550\u001B[0m \u001B[0;34m\u001B[0m\u001B[0m\n\u001B[1;32m   4551\u001B[0m         \u001B[0;32mif\u001B[0m \u001B[0minplace\u001B[0m\u001B[0;34m:\u001B[0m\u001B[0;34m\u001B[0m\u001B[0;34m\u001B[0m\u001B[0m\n",
      "\u001B[0;32m~/.local/lib/python3.10/site-packages/pandas/core/generic.py\u001B[0m in \u001B[0;36m_drop_axis\u001B[0;34m(self, labels, axis, level, errors, only_slice)\u001B[0m\n\u001B[1;32m   4589\u001B[0m                 \u001B[0mnew_axis\u001B[0m \u001B[0;34m=\u001B[0m \u001B[0maxis\u001B[0m\u001B[0;34m.\u001B[0m\u001B[0mdrop\u001B[0m\u001B[0;34m(\u001B[0m\u001B[0mlabels\u001B[0m\u001B[0;34m,\u001B[0m \u001B[0mlevel\u001B[0m\u001B[0;34m=\u001B[0m\u001B[0mlevel\u001B[0m\u001B[0;34m,\u001B[0m \u001B[0merrors\u001B[0m\u001B[0;34m=\u001B[0m\u001B[0merrors\u001B[0m\u001B[0;34m)\u001B[0m\u001B[0;34m\u001B[0m\u001B[0;34m\u001B[0m\u001B[0m\n\u001B[1;32m   4590\u001B[0m             \u001B[0;32melse\u001B[0m\u001B[0;34m:\u001B[0m\u001B[0;34m\u001B[0m\u001B[0;34m\u001B[0m\u001B[0m\n\u001B[0;32m-> 4591\u001B[0;31m                 \u001B[0mnew_axis\u001B[0m \u001B[0;34m=\u001B[0m \u001B[0maxis\u001B[0m\u001B[0;34m.\u001B[0m\u001B[0mdrop\u001B[0m\u001B[0;34m(\u001B[0m\u001B[0mlabels\u001B[0m\u001B[0;34m,\u001B[0m \u001B[0merrors\u001B[0m\u001B[0;34m=\u001B[0m\u001B[0merrors\u001B[0m\u001B[0;34m)\u001B[0m\u001B[0;34m\u001B[0m\u001B[0;34m\u001B[0m\u001B[0m\n\u001B[0m\u001B[1;32m   4592\u001B[0m             \u001B[0mindexer\u001B[0m \u001B[0;34m=\u001B[0m \u001B[0maxis\u001B[0m\u001B[0;34m.\u001B[0m\u001B[0mget_indexer\u001B[0m\u001B[0;34m(\u001B[0m\u001B[0mnew_axis\u001B[0m\u001B[0;34m)\u001B[0m\u001B[0;34m\u001B[0m\u001B[0;34m\u001B[0m\u001B[0m\n\u001B[1;32m   4593\u001B[0m \u001B[0;34m\u001B[0m\u001B[0m\n",
      "\u001B[0;32m~/.local/lib/python3.10/site-packages/pandas/core/indexes/base.py\u001B[0m in \u001B[0;36mdrop\u001B[0;34m(self, labels, errors)\u001B[0m\n\u001B[1;32m   6694\u001B[0m         \u001B[0;32mif\u001B[0m \u001B[0mmask\u001B[0m\u001B[0;34m.\u001B[0m\u001B[0many\u001B[0m\u001B[0;34m(\u001B[0m\u001B[0;34m)\u001B[0m\u001B[0;34m:\u001B[0m\u001B[0;34m\u001B[0m\u001B[0;34m\u001B[0m\u001B[0m\n\u001B[1;32m   6695\u001B[0m             \u001B[0;32mif\u001B[0m \u001B[0merrors\u001B[0m \u001B[0;34m!=\u001B[0m \u001B[0;34m\"ignore\"\u001B[0m\u001B[0;34m:\u001B[0m\u001B[0;34m\u001B[0m\u001B[0;34m\u001B[0m\u001B[0m\n\u001B[0;32m-> 6696\u001B[0;31m                 \u001B[0;32mraise\u001B[0m \u001B[0mKeyError\u001B[0m\u001B[0;34m(\u001B[0m\u001B[0;34mf\"{list(labels[mask])} not found in axis\"\u001B[0m\u001B[0;34m)\u001B[0m\u001B[0;34m\u001B[0m\u001B[0;34m\u001B[0m\u001B[0m\n\u001B[0m\u001B[1;32m   6697\u001B[0m             \u001B[0mindexer\u001B[0m \u001B[0;34m=\u001B[0m \u001B[0mindexer\u001B[0m\u001B[0;34m[\u001B[0m\u001B[0;34m~\u001B[0m\u001B[0mmask\u001B[0m\u001B[0;34m]\u001B[0m\u001B[0;34m\u001B[0m\u001B[0;34m\u001B[0m\u001B[0m\n\u001B[1;32m   6698\u001B[0m         \u001B[0;32mreturn\u001B[0m \u001B[0mself\u001B[0m\u001B[0;34m.\u001B[0m\u001B[0mdelete\u001B[0m\u001B[0;34m(\u001B[0m\u001B[0mindexer\u001B[0m\u001B[0;34m)\u001B[0m\u001B[0;34m\u001B[0m\u001B[0;34m\u001B[0m\u001B[0m\n",
      "\u001B[0;31mKeyError\u001B[0m: \"['Unnamed: 0'] not found in axis\""
     ]
    }
   ],
   "source": [
    "df = df.drop(\"Unnamed: 0\",axis=\"columns\")"
   ]
  },
  {
   "cell_type": "code",
   "execution_count": 24,
   "metadata": {
    "ExecuteTime": {
     "end_time": "2023-07-20T16:57:02.807103250Z",
     "start_time": "2023-07-20T16:57:02.572197922Z"
    }
   },
   "outputs": [],
   "source": [
    "df = df.drop(\"name\",axis=\"columns\")"
   ]
  },
  {
   "cell_type": "code",
   "execution_count": 25,
   "metadata": {
    "ExecuteTime": {
     "end_time": "2023-07-20T16:57:04.332111608Z",
     "start_time": "2023-07-20T16:57:04.179424695Z"
    }
   },
   "outputs": [],
   "source": [
    "df.to_csv(\"rio.csv\")"
   ]
  },
  {
   "cell_type": "code",
   "execution_count": 26,
   "metadata": {
    "ExecuteTime": {
     "end_time": "2023-07-20T16:57:16.962123756Z",
     "start_time": "2023-07-20T16:57:16.687156477Z"
    }
   },
   "outputs": [],
   "source": [
    "df_id = df"
   ]
  },
  {
   "cell_type": "code",
   "execution_count": 51,
   "metadata": {
    "ExecuteTime": {
     "end_time": "2023-07-20T17:05:00.260053048Z",
     "start_time": "2023-07-20T17:05:00.084835757Z"
    }
   },
   "outputs": [
    {
     "name": "stdout",
     "output_type": "stream",
     "text": [
      "<class 'pandas.core.frame.DataFrame'>\n",
      "RangeIndex: 4132 entries, 0 to 4131\n",
      "Data columns (total 53 columns):\n",
      " #   Column               Non-Null Count  Dtype         \n",
      "---  ------               --------------  -----         \n",
      " 0   id                   4132 non-null   object        \n",
      " 1   sexo1                4132 non-null   object        \n",
      " 2   tipoescola           4132 non-null   object        \n",
      " 3   Segmento             4132 non-null   object        \n",
      " 4   ano1                 4132 non-null   int64         \n",
      " 5   Faixa Etaria         4132 non-null   object        \n",
      " 6   idade1               4132 non-null   int64         \n",
      " 7   starttime            4132 non-null   datetime64[ns]\n",
      " 8   endtime              3308 non-null   datetime64[ns]\n",
      " 9   maxlevel             4132 non-null   int64         \n",
      " 10  time_x               4132 non-null   datetime64[ns]\n",
      " 11  categoria_x          4132 non-null   int64         \n",
      " 12  acertosConsecutivos  4132 non-null   int64         \n",
      " 13  indiceCartaAtual     4132 non-null   int64         \n",
      " 14  outrosConsecutivos   4132 non-null   int64         \n",
      " 15  wteste               0 non-null      float64       \n",
      " 16  0                    4132 non-null   object        \n",
      " 17  1                    4132 non-null   object        \n",
      " 18  2                    4132 non-null   object        \n",
      " 19  3                    4132 non-null   object        \n",
      " 20  4                    4132 non-null   object        \n",
      " 21  5                    4132 non-null   object        \n",
      " 22  6                    4132 non-null   object        \n",
      " 23  7                    4132 non-null   object        \n",
      " 24  h0                   4132 non-null   object        \n",
      " 25  h1                   4132 non-null   object        \n",
      " 26  h2                   4132 non-null   object        \n",
      " 27  h3                   4132 non-null   object        \n",
      " 28  h4                   4132 non-null   object        \n",
      " 29  h5                   4132 non-null   object        \n",
      " 30  h6                   4132 non-null   object        \n",
      " 31  h7                   4132 non-null   object        \n",
      " 32  time_x.1             4132 non-null   datetime64[ns]\n",
      " 33  level                4132 non-null   int64         \n",
      " 34  categoria_y          3998 non-null   object        \n",
      " 35  xpos                 4132 non-null   int64         \n",
      " 36  cor                  3998 non-null   object        \n",
      " 37  acertos              3998 non-null   float64       \n",
      " 38  house                4132 non-null   object        \n",
      " 39  forma                3998 non-null   object        \n",
      " 40  outros               3998 non-null   object        \n",
      " 41  numero               3998 non-null   object        \n",
      " 42  ypos                 4132 non-null   int64         \n",
      " 43  player               4132 non-null   int64         \n",
      " 44  state                0 non-null      float64       \n",
      " 45  score                4132 non-null   int64         \n",
      " 46  result               4132 non-null   int64         \n",
      " 47  time_y               4132 non-null   datetime64[ns]\n",
      " 48  marker               4132 non-null   object        \n",
      " 49  carta_resposta       3998 non-null   float64       \n",
      " 50  Motivo Saída         4132 non-null   object        \n",
      " 51  Execução Completa    4132 non-null   object        \n",
      " 52  tempo_de_jogo        3308 non-null   float64       \n",
      "dtypes: datetime64[ns](5), float64(5), int64(13), object(30)\n",
      "memory usage: 1.7+ MB\n"
     ]
    }
   ],
   "source": [
    "df_id.info()"
   ]
  },
  {
   "cell_type": "code",
   "execution_count": 29,
   "metadata": {
    "ExecuteTime": {
     "end_time": "2023-07-20T16:57:25.658567117Z",
     "start_time": "2023-07-20T16:57:25.433120484Z"
    }
   },
   "outputs": [],
   "source": [
    "df_id.to_csv(\"rio.csv\")"
   ]
  },
  {
   "cell_type": "code",
   "execution_count": 30,
   "metadata": {
    "ExecuteTime": {
     "end_time": "2023-07-20T16:57:27.815633820Z",
     "start_time": "2023-07-20T16:57:27.520382714Z"
    }
   },
   "outputs": [
    {
     "data": {
      "text/plain": "              ano1       idade1                      starttime   \ncount  4132.000000  4132.000000                           4132  \\\nmean      6.542352    12.860600  2012-06-21 18:05:36.604586240   \nmin       0.000000     2.000000     2012-06-20 10:42:53.622029   \n25%       4.000000     9.000000  2012-06-21 14:32:16.311075072   \n50%       6.000000    12.000000  2012-06-21 17:11:10.587778048   \n75%      10.000000    18.000000  2012-06-22 14:24:31.731461120   \nmax      11.000000    18.000000     2012-06-22 16:44:53.614615   \nstd       3.672228     4.494589                            NaN   \n\n                             endtime  maxlevel                         time_x   \ncount                           3308    4132.0                           4132  \\\nmean   2012-06-21 18:03:45.079726336       1.0  2012-06-21 18:13:12.996678656   \nmin       2012-06-20 10:56:36.573163       1.0     2012-06-20 10:52:24.986640   \n25%    2012-06-21 14:42:29.851538944       1.0  2012-06-21 14:32:24.176103936   \n50%    2012-06-21 16:25:49.878991872       1.0  2012-06-21 17:20:11.034425088   \n75%    2012-06-22 14:52:16.069882112       1.0  2012-06-22 14:40:14.123693056   \nmax       2012-06-22 17:08:41.990045       1.0     2012-06-22 16:51:59.899138   \nstd                              NaN       0.0                            NaN   \n\n       categoria_x  acertosConsecutivos  indiceCartaAtual  outrosConsecutivos   \ncount  4132.000000          4132.000000       4132.000000         4132.000000  \\\nmean      1.533156             1.877299         51.783882            0.035576   \nmin       0.000000             0.000000         -1.000000            0.000000   \n25%       0.000000             0.000000         24.000000            0.000000   \n50%       1.000000             0.000000         50.000000            0.000000   \n75%       2.000000             3.000000         79.000000            0.000000   \nmax       6.000000             9.000000        127.000000            2.000000   \nstd       1.611390             2.671781         35.122499            0.202723   \n\n       ...   level    xpos      acertos    ypos  player  state   score   \ncount  ...  4132.0  4132.0  3998.000000  4132.0  4132.0    0.0  4132.0  \\\nmean   ...     1.0     0.0     2.153577     0.0     0.0    NaN     1.0   \nmin    ...     1.0     0.0     0.000000     0.0     0.0    NaN     1.0   \n25%    ...     1.0     0.0     0.000000     0.0     0.0    NaN     1.0   \n50%    ...     1.0     0.0     1.000000     0.0     0.0    NaN     1.0   \n75%    ...     1.0     0.0     3.000000     0.0     0.0    NaN     1.0   \nmax    ...     1.0     0.0    10.000000     0.0     0.0    NaN     1.0   \nstd    ...     0.0     0.0     2.836187     0.0     0.0    NaN     0.0   \n\n            result                         time_y  carta_resposta  \ncount  4132.000000                           4132     3998.000000  \nmean      0.984753  2012-06-21 18:15:17.361809664       21.944222  \nmin      -5.000000     2012-06-20 10:52:28.738373        1.000000  \n25%       1.000000  2012-06-21 14:34:33.919331328        8.000000  \n50%       1.000000  2012-06-21 17:20:56.446422528       18.000000  \n75%       1.000000  2012-06-22 14:43:17.868600832       33.000000  \nmax       5.000000     2012-06-22 16:52:14.210260       64.000000  \nstd       0.795479                            NaN       16.805787  \n\n[8 rows x 22 columns]",
      "text/html": "<div>\n<style scoped>\n    .dataframe tbody tr th:only-of-type {\n        vertical-align: middle;\n    }\n\n    .dataframe tbody tr th {\n        vertical-align: top;\n    }\n\n    .dataframe thead th {\n        text-align: right;\n    }\n</style>\n<table border=\"1\" class=\"dataframe\">\n  <thead>\n    <tr style=\"text-align: right;\">\n      <th></th>\n      <th>ano1</th>\n      <th>idade1</th>\n      <th>starttime</th>\n      <th>endtime</th>\n      <th>maxlevel</th>\n      <th>time_x</th>\n      <th>categoria_x</th>\n      <th>acertosConsecutivos</th>\n      <th>indiceCartaAtual</th>\n      <th>outrosConsecutivos</th>\n      <th>...</th>\n      <th>level</th>\n      <th>xpos</th>\n      <th>acertos</th>\n      <th>ypos</th>\n      <th>player</th>\n      <th>state</th>\n      <th>score</th>\n      <th>result</th>\n      <th>time_y</th>\n      <th>carta_resposta</th>\n    </tr>\n  </thead>\n  <tbody>\n    <tr>\n      <th>count</th>\n      <td>4132.000000</td>\n      <td>4132.000000</td>\n      <td>4132</td>\n      <td>3308</td>\n      <td>4132.0</td>\n      <td>4132</td>\n      <td>4132.000000</td>\n      <td>4132.000000</td>\n      <td>4132.000000</td>\n      <td>4132.000000</td>\n      <td>...</td>\n      <td>4132.0</td>\n      <td>4132.0</td>\n      <td>3998.000000</td>\n      <td>4132.0</td>\n      <td>4132.0</td>\n      <td>0.0</td>\n      <td>4132.0</td>\n      <td>4132.000000</td>\n      <td>4132</td>\n      <td>3998.000000</td>\n    </tr>\n    <tr>\n      <th>mean</th>\n      <td>6.542352</td>\n      <td>12.860600</td>\n      <td>2012-06-21 18:05:36.604586240</td>\n      <td>2012-06-21 18:03:45.079726336</td>\n      <td>1.0</td>\n      <td>2012-06-21 18:13:12.996678656</td>\n      <td>1.533156</td>\n      <td>1.877299</td>\n      <td>51.783882</td>\n      <td>0.035576</td>\n      <td>...</td>\n      <td>1.0</td>\n      <td>0.0</td>\n      <td>2.153577</td>\n      <td>0.0</td>\n      <td>0.0</td>\n      <td>NaN</td>\n      <td>1.0</td>\n      <td>0.984753</td>\n      <td>2012-06-21 18:15:17.361809664</td>\n      <td>21.944222</td>\n    </tr>\n    <tr>\n      <th>min</th>\n      <td>0.000000</td>\n      <td>2.000000</td>\n      <td>2012-06-20 10:42:53.622029</td>\n      <td>2012-06-20 10:56:36.573163</td>\n      <td>1.0</td>\n      <td>2012-06-20 10:52:24.986640</td>\n      <td>0.000000</td>\n      <td>0.000000</td>\n      <td>-1.000000</td>\n      <td>0.000000</td>\n      <td>...</td>\n      <td>1.0</td>\n      <td>0.0</td>\n      <td>0.000000</td>\n      <td>0.0</td>\n      <td>0.0</td>\n      <td>NaN</td>\n      <td>1.0</td>\n      <td>-5.000000</td>\n      <td>2012-06-20 10:52:28.738373</td>\n      <td>1.000000</td>\n    </tr>\n    <tr>\n      <th>25%</th>\n      <td>4.000000</td>\n      <td>9.000000</td>\n      <td>2012-06-21 14:32:16.311075072</td>\n      <td>2012-06-21 14:42:29.851538944</td>\n      <td>1.0</td>\n      <td>2012-06-21 14:32:24.176103936</td>\n      <td>0.000000</td>\n      <td>0.000000</td>\n      <td>24.000000</td>\n      <td>0.000000</td>\n      <td>...</td>\n      <td>1.0</td>\n      <td>0.0</td>\n      <td>0.000000</td>\n      <td>0.0</td>\n      <td>0.0</td>\n      <td>NaN</td>\n      <td>1.0</td>\n      <td>1.000000</td>\n      <td>2012-06-21 14:34:33.919331328</td>\n      <td>8.000000</td>\n    </tr>\n    <tr>\n      <th>50%</th>\n      <td>6.000000</td>\n      <td>12.000000</td>\n      <td>2012-06-21 17:11:10.587778048</td>\n      <td>2012-06-21 16:25:49.878991872</td>\n      <td>1.0</td>\n      <td>2012-06-21 17:20:11.034425088</td>\n      <td>1.000000</td>\n      <td>0.000000</td>\n      <td>50.000000</td>\n      <td>0.000000</td>\n      <td>...</td>\n      <td>1.0</td>\n      <td>0.0</td>\n      <td>1.000000</td>\n      <td>0.0</td>\n      <td>0.0</td>\n      <td>NaN</td>\n      <td>1.0</td>\n      <td>1.000000</td>\n      <td>2012-06-21 17:20:56.446422528</td>\n      <td>18.000000</td>\n    </tr>\n    <tr>\n      <th>75%</th>\n      <td>10.000000</td>\n      <td>18.000000</td>\n      <td>2012-06-22 14:24:31.731461120</td>\n      <td>2012-06-22 14:52:16.069882112</td>\n      <td>1.0</td>\n      <td>2012-06-22 14:40:14.123693056</td>\n      <td>2.000000</td>\n      <td>3.000000</td>\n      <td>79.000000</td>\n      <td>0.000000</td>\n      <td>...</td>\n      <td>1.0</td>\n      <td>0.0</td>\n      <td>3.000000</td>\n      <td>0.0</td>\n      <td>0.0</td>\n      <td>NaN</td>\n      <td>1.0</td>\n      <td>1.000000</td>\n      <td>2012-06-22 14:43:17.868600832</td>\n      <td>33.000000</td>\n    </tr>\n    <tr>\n      <th>max</th>\n      <td>11.000000</td>\n      <td>18.000000</td>\n      <td>2012-06-22 16:44:53.614615</td>\n      <td>2012-06-22 17:08:41.990045</td>\n      <td>1.0</td>\n      <td>2012-06-22 16:51:59.899138</td>\n      <td>6.000000</td>\n      <td>9.000000</td>\n      <td>127.000000</td>\n      <td>2.000000</td>\n      <td>...</td>\n      <td>1.0</td>\n      <td>0.0</td>\n      <td>10.000000</td>\n      <td>0.0</td>\n      <td>0.0</td>\n      <td>NaN</td>\n      <td>1.0</td>\n      <td>5.000000</td>\n      <td>2012-06-22 16:52:14.210260</td>\n      <td>64.000000</td>\n    </tr>\n    <tr>\n      <th>std</th>\n      <td>3.672228</td>\n      <td>4.494589</td>\n      <td>NaN</td>\n      <td>NaN</td>\n      <td>0.0</td>\n      <td>NaN</td>\n      <td>1.611390</td>\n      <td>2.671781</td>\n      <td>35.122499</td>\n      <td>0.202723</td>\n      <td>...</td>\n      <td>0.0</td>\n      <td>0.0</td>\n      <td>2.836187</td>\n      <td>0.0</td>\n      <td>0.0</td>\n      <td>NaN</td>\n      <td>0.0</td>\n      <td>0.795479</td>\n      <td>NaN</td>\n      <td>16.805787</td>\n    </tr>\n  </tbody>\n</table>\n<p>8 rows × 22 columns</p>\n</div>"
     },
     "execution_count": 30,
     "metadata": {},
     "output_type": "execute_result"
    }
   ],
   "source": [
    "df_id.describe()\n",
    "\n"
   ]
  },
  {
   "cell_type": "code",
   "execution_count": 37,
   "outputs": [],
   "source": [
    "\n",
    "df_id = pd.read_csv(\"rio.csv\")\n",
    "df_id = df_id.drop(\"Unnamed: 0\",axis=\"columns\")"
   ],
   "metadata": {
    "collapsed": false,
    "ExecuteTime": {
     "end_time": "2023-07-20T17:00:44.622601985Z",
     "start_time": "2023-07-20T17:00:44.430001236Z"
    }
   }
  },
  {
   "cell_type": "code",
   "execution_count": 38,
   "outputs": [
    {
     "data": {
      "text/plain": "                                    id sexo1 tipoescola   \n0     03b1f969773df2e8bb4557c7507aef4a     M    privada  \\\n1     03b1f969773df2e8bb4557c7507aef4a     M    privada   \n2     03b1f969773df2e8bb4557c7507aef4a     M    privada   \n3     2d21e05ee14e0e2b83aa6bbe54c1bec0     M    privada   \n4     3475b33271752fecf3d189f873acf5ce     M    privada   \n...                                ...   ...        ...   \n4127  fed637650ec1ec98798d8e0b5b390b61     M    nenhuma   \n4128  fed637650ec1ec98798d8e0b5b390b61     M    nenhuma   \n4129  fed637650ec1ec98798d8e0b5b390b61     M    nenhuma   \n4130  fed637650ec1ec98798d8e0b5b390b61     M    nenhuma   \n4131  fed637650ec1ec98798d8e0b5b390b61     M    nenhuma   \n\n                   Segmento  ano1      Faixa Etaria  idade1   \n0              Ed. Infantil     0          Crianças      11  \\\n1              Ed. Infantil     0          Crianças      11   \n2              Ed. Infantil     0          Crianças      11   \n3              Ed. Infantil     0          Crianças       2   \n4     Ensino Fundamental II     6  Pre-Adolescentes      12   \n...                     ...   ...               ...     ...   \n4127               Superior    11      Adolescentes      18   \n4128               Superior    11      Adolescentes      18   \n4129               Superior    11      Adolescentes      18   \n4130               Superior    11      Adolescentes      18   \n4131               Superior    11      Adolescentes      18   \n\n                       starttime                     endtime  maxlevel  ...   \n0     2012-06-20 11:24:31.751984                         NaN         1  ...  \\\n1     2012-06-20 11:24:31.751984                         NaN         1  ...   \n2     2012-06-20 11:24:31.751984                         NaN         1  ...   \n3     2012-06-20 15:47:59.301703  2012-06-20 15:55:10.743902         1  ...   \n4     2012-06-20 17:13:43.356784  2012-06-20 17:27:06.437940         1  ...   \n...                          ...                         ...       ...  ...   \n4127  2012-06-22 16:19:38.843095  2012-06-22 16:25:05.801483         1  ...   \n4128  2012-06-22 16:19:38.843095  2012-06-22 16:25:05.801483         1  ...   \n4129  2012-06-22 16:19:38.843095  2012-06-22 16:25:05.801483         1  ...   \n4130  2012-06-22 16:19:38.843095  2012-06-22 16:25:05.801483         1  ...   \n4131  2012-06-22 16:19:38.843095  2012-06-22 16:25:05.801483         1  ...   \n\n     numero  ypos  player  state  score  result                      time_y   \n0      True     0       0    NaN      1       1  2012-06-20 11:27:01.507567  \\\n1     False     0       0    NaN      1       1  2012-06-20 11:27:07.596852   \n2       NaN     0       0    NaN      1      -5  2012-06-20 11:27:11.423754   \n3       NaN     0       0    NaN      1      -2  2012-06-20 15:55:07.989144   \n4      True     0       0    NaN      1       1  2012-06-20 17:23:57.413517   \n...     ...   ...     ...    ...    ...     ...                         ...   \n4127   True     0       0    NaN      1       1  2012-06-22 16:24:48.138262   \n4128  False     0       0    NaN      1       1  2012-06-22 16:24:53.573706   \n4129   True     0       0    NaN      1       1  2012-06-22 16:24:54.800486   \n4130  False     0       0    NaN      1       1  2012-06-22 16:24:57.348530   \n4131    NaN     0       0    NaN      1       5  2012-06-22 16:24:58.746653   \n\n     marker carta_resposta                    Motivo Saída  \n0     I_N_I            1.0                         Jogando  \n1     I_N_I            2.0                         Jogando  \n2     I_N_I            NaN                 Não quero jogar  \n3     I_N_I            NaN                         Desisto  \n4     I_N_I            1.0                         Jogando  \n...     ...            ...                             ...  \n4127  I_N_I           17.0                         Jogando  \n4128  I_N_I           18.0                         Jogando  \n4129  I_N_I           19.0                         Jogando  \n4130  I_N_I           20.0                         Jogando  \n4131  I_N_I            NaN  Terminei e acho que está certo  \n\n[4132 rows x 51 columns]",
      "text/html": "<div>\n<style scoped>\n    .dataframe tbody tr th:only-of-type {\n        vertical-align: middle;\n    }\n\n    .dataframe tbody tr th {\n        vertical-align: top;\n    }\n\n    .dataframe thead th {\n        text-align: right;\n    }\n</style>\n<table border=\"1\" class=\"dataframe\">\n  <thead>\n    <tr style=\"text-align: right;\">\n      <th></th>\n      <th>id</th>\n      <th>sexo1</th>\n      <th>tipoescola</th>\n      <th>Segmento</th>\n      <th>ano1</th>\n      <th>Faixa Etaria</th>\n      <th>idade1</th>\n      <th>starttime</th>\n      <th>endtime</th>\n      <th>maxlevel</th>\n      <th>...</th>\n      <th>numero</th>\n      <th>ypos</th>\n      <th>player</th>\n      <th>state</th>\n      <th>score</th>\n      <th>result</th>\n      <th>time_y</th>\n      <th>marker</th>\n      <th>carta_resposta</th>\n      <th>Motivo Saída</th>\n    </tr>\n  </thead>\n  <tbody>\n    <tr>\n      <th>0</th>\n      <td>03b1f969773df2e8bb4557c7507aef4a</td>\n      <td>M</td>\n      <td>privada</td>\n      <td>Ed. Infantil</td>\n      <td>0</td>\n      <td>Crianças</td>\n      <td>11</td>\n      <td>2012-06-20 11:24:31.751984</td>\n      <td>NaN</td>\n      <td>1</td>\n      <td>...</td>\n      <td>True</td>\n      <td>0</td>\n      <td>0</td>\n      <td>NaN</td>\n      <td>1</td>\n      <td>1</td>\n      <td>2012-06-20 11:27:01.507567</td>\n      <td>I_N_I</td>\n      <td>1.0</td>\n      <td>Jogando</td>\n    </tr>\n    <tr>\n      <th>1</th>\n      <td>03b1f969773df2e8bb4557c7507aef4a</td>\n      <td>M</td>\n      <td>privada</td>\n      <td>Ed. Infantil</td>\n      <td>0</td>\n      <td>Crianças</td>\n      <td>11</td>\n      <td>2012-06-20 11:24:31.751984</td>\n      <td>NaN</td>\n      <td>1</td>\n      <td>...</td>\n      <td>False</td>\n      <td>0</td>\n      <td>0</td>\n      <td>NaN</td>\n      <td>1</td>\n      <td>1</td>\n      <td>2012-06-20 11:27:07.596852</td>\n      <td>I_N_I</td>\n      <td>2.0</td>\n      <td>Jogando</td>\n    </tr>\n    <tr>\n      <th>2</th>\n      <td>03b1f969773df2e8bb4557c7507aef4a</td>\n      <td>M</td>\n      <td>privada</td>\n      <td>Ed. Infantil</td>\n      <td>0</td>\n      <td>Crianças</td>\n      <td>11</td>\n      <td>2012-06-20 11:24:31.751984</td>\n      <td>NaN</td>\n      <td>1</td>\n      <td>...</td>\n      <td>NaN</td>\n      <td>0</td>\n      <td>0</td>\n      <td>NaN</td>\n      <td>1</td>\n      <td>-5</td>\n      <td>2012-06-20 11:27:11.423754</td>\n      <td>I_N_I</td>\n      <td>NaN</td>\n      <td>Não quero jogar</td>\n    </tr>\n    <tr>\n      <th>3</th>\n      <td>2d21e05ee14e0e2b83aa6bbe54c1bec0</td>\n      <td>M</td>\n      <td>privada</td>\n      <td>Ed. Infantil</td>\n      <td>0</td>\n      <td>Crianças</td>\n      <td>2</td>\n      <td>2012-06-20 15:47:59.301703</td>\n      <td>2012-06-20 15:55:10.743902</td>\n      <td>1</td>\n      <td>...</td>\n      <td>NaN</td>\n      <td>0</td>\n      <td>0</td>\n      <td>NaN</td>\n      <td>1</td>\n      <td>-2</td>\n      <td>2012-06-20 15:55:07.989144</td>\n      <td>I_N_I</td>\n      <td>NaN</td>\n      <td>Desisto</td>\n    </tr>\n    <tr>\n      <th>4</th>\n      <td>3475b33271752fecf3d189f873acf5ce</td>\n      <td>M</td>\n      <td>privada</td>\n      <td>Ensino Fundamental II</td>\n      <td>6</td>\n      <td>Pre-Adolescentes</td>\n      <td>12</td>\n      <td>2012-06-20 17:13:43.356784</td>\n      <td>2012-06-20 17:27:06.437940</td>\n      <td>1</td>\n      <td>...</td>\n      <td>True</td>\n      <td>0</td>\n      <td>0</td>\n      <td>NaN</td>\n      <td>1</td>\n      <td>1</td>\n      <td>2012-06-20 17:23:57.413517</td>\n      <td>I_N_I</td>\n      <td>1.0</td>\n      <td>Jogando</td>\n    </tr>\n    <tr>\n      <th>...</th>\n      <td>...</td>\n      <td>...</td>\n      <td>...</td>\n      <td>...</td>\n      <td>...</td>\n      <td>...</td>\n      <td>...</td>\n      <td>...</td>\n      <td>...</td>\n      <td>...</td>\n      <td>...</td>\n      <td>...</td>\n      <td>...</td>\n      <td>...</td>\n      <td>...</td>\n      <td>...</td>\n      <td>...</td>\n      <td>...</td>\n      <td>...</td>\n      <td>...</td>\n      <td>...</td>\n    </tr>\n    <tr>\n      <th>4127</th>\n      <td>fed637650ec1ec98798d8e0b5b390b61</td>\n      <td>M</td>\n      <td>nenhuma</td>\n      <td>Superior</td>\n      <td>11</td>\n      <td>Adolescentes</td>\n      <td>18</td>\n      <td>2012-06-22 16:19:38.843095</td>\n      <td>2012-06-22 16:25:05.801483</td>\n      <td>1</td>\n      <td>...</td>\n      <td>True</td>\n      <td>0</td>\n      <td>0</td>\n      <td>NaN</td>\n      <td>1</td>\n      <td>1</td>\n      <td>2012-06-22 16:24:48.138262</td>\n      <td>I_N_I</td>\n      <td>17.0</td>\n      <td>Jogando</td>\n    </tr>\n    <tr>\n      <th>4128</th>\n      <td>fed637650ec1ec98798d8e0b5b390b61</td>\n      <td>M</td>\n      <td>nenhuma</td>\n      <td>Superior</td>\n      <td>11</td>\n      <td>Adolescentes</td>\n      <td>18</td>\n      <td>2012-06-22 16:19:38.843095</td>\n      <td>2012-06-22 16:25:05.801483</td>\n      <td>1</td>\n      <td>...</td>\n      <td>False</td>\n      <td>0</td>\n      <td>0</td>\n      <td>NaN</td>\n      <td>1</td>\n      <td>1</td>\n      <td>2012-06-22 16:24:53.573706</td>\n      <td>I_N_I</td>\n      <td>18.0</td>\n      <td>Jogando</td>\n    </tr>\n    <tr>\n      <th>4129</th>\n      <td>fed637650ec1ec98798d8e0b5b390b61</td>\n      <td>M</td>\n      <td>nenhuma</td>\n      <td>Superior</td>\n      <td>11</td>\n      <td>Adolescentes</td>\n      <td>18</td>\n      <td>2012-06-22 16:19:38.843095</td>\n      <td>2012-06-22 16:25:05.801483</td>\n      <td>1</td>\n      <td>...</td>\n      <td>True</td>\n      <td>0</td>\n      <td>0</td>\n      <td>NaN</td>\n      <td>1</td>\n      <td>1</td>\n      <td>2012-06-22 16:24:54.800486</td>\n      <td>I_N_I</td>\n      <td>19.0</td>\n      <td>Jogando</td>\n    </tr>\n    <tr>\n      <th>4130</th>\n      <td>fed637650ec1ec98798d8e0b5b390b61</td>\n      <td>M</td>\n      <td>nenhuma</td>\n      <td>Superior</td>\n      <td>11</td>\n      <td>Adolescentes</td>\n      <td>18</td>\n      <td>2012-06-22 16:19:38.843095</td>\n      <td>2012-06-22 16:25:05.801483</td>\n      <td>1</td>\n      <td>...</td>\n      <td>False</td>\n      <td>0</td>\n      <td>0</td>\n      <td>NaN</td>\n      <td>1</td>\n      <td>1</td>\n      <td>2012-06-22 16:24:57.348530</td>\n      <td>I_N_I</td>\n      <td>20.0</td>\n      <td>Jogando</td>\n    </tr>\n    <tr>\n      <th>4131</th>\n      <td>fed637650ec1ec98798d8e0b5b390b61</td>\n      <td>M</td>\n      <td>nenhuma</td>\n      <td>Superior</td>\n      <td>11</td>\n      <td>Adolescentes</td>\n      <td>18</td>\n      <td>2012-06-22 16:19:38.843095</td>\n      <td>2012-06-22 16:25:05.801483</td>\n      <td>1</td>\n      <td>...</td>\n      <td>NaN</td>\n      <td>0</td>\n      <td>0</td>\n      <td>NaN</td>\n      <td>1</td>\n      <td>5</td>\n      <td>2012-06-22 16:24:58.746653</td>\n      <td>I_N_I</td>\n      <td>NaN</td>\n      <td>Terminei e acho que está certo</td>\n    </tr>\n  </tbody>\n</table>\n<p>4132 rows × 51 columns</p>\n</div>"
     },
     "execution_count": 38,
     "metadata": {},
     "output_type": "execute_result"
    }
   ],
   "source": [
    "df_id"
   ],
   "metadata": {
    "collapsed": false,
    "ExecuteTime": {
     "end_time": "2023-07-20T17:00:47.127749074Z",
     "start_time": "2023-07-20T17:00:46.771995824Z"
    }
   }
  },
  {
   "cell_type": "markdown",
   "metadata": {},
   "source": [
    "Regras do teste na ordem: cor, forma, numero, cor, forma, numero\n",
    "\n",
    "6: segunda vez que a regra do numero foi aplicada"
   ]
  },
  {
   "cell_type": "code",
   "execution_count": 0,
   "metadata": {},
   "outputs": [],
   "source": [
    "avanço = df_id['categoria_x'].value_counts()\n",
    "avanço"
   ]
  },
  {
   "cell_type": "code",
   "execution_count": 39,
   "outputs": [
    {
     "data": {
      "text/plain": "categoria_x\n0    1335\n1    1158\n2     774\n3     290\n4     238\n5     215\n6     122\nName: count, dtype: int64"
     },
     "execution_count": 39,
     "metadata": {},
     "output_type": "execute_result"
    }
   ],
   "source": [],
   "metadata": {
    "collapsed": false,
    "ExecuteTime": {
     "end_time": "2023-07-20T17:01:07.707062735Z",
     "start_time": "2023-07-20T17:01:07.513205446Z"
    }
   }
  },
  {
   "cell_type": "code",
   "execution_count": 42,
   "metadata": {
    "ExecuteTime": {
     "end_time": "2023-07-20T17:01:20.549803650Z",
     "start_time": "2023-07-20T17:01:20.320611962Z"
    }
   },
   "outputs": [],
   "source": [
    "\n",
    "df_id.loc[(df_id['categoria_x'] == 0), 'Execução Completa'] = 'início'\n",
    "df_id.loc[(df_id['categoria_x'] == 1), 'Execução Completa'] = 'cor I'\n",
    "df_id.loc[(df_id['categoria_x'] == 2), 'Execução Completa'] = 'forma I'\n",
    "df_id.loc[(df_id['categoria_x'] == 3), 'Execução Completa'] = 'numero I'\n",
    "df_id.loc[(df_id['categoria_x'] == 4), 'Execução Completa'] = 'cor II'\n",
    "df_id.loc[(df_id['categoria_x'] == 5), 'Execução Completa'] = 'forma II'\n",
    "df_id.loc[(df_id['categoria_x'] == 6), 'Execução Completa'] = 'numero II'"
   ]
  },
  {
   "cell_type": "code",
   "execution_count": 44,
   "metadata": {
    "ExecuteTime": {
     "end_time": "2023-07-20T17:02:24.571805909Z",
     "start_time": "2023-07-20T17:02:24.367700614Z"
    }
   },
   "outputs": [],
   "source": [
    "avanço = df_id['Execução Completa'].value_counts()"
   ]
  },
  {
   "cell_type": "code",
   "execution_count": 45,
   "outputs": [
    {
     "data": {
      "text/plain": "<Figure size 360x360 with 1 Axes>",
      "image/png": "[encoded data removed]"
     },
     "metadata": {},
     "output_type": "display_data"
    }
   ],
   "source": [
    "plot = avanço.plot.pie(y='Execução Completa',title=\"Porcentagem de Jogadores que Avançaram nas Regras\", legend=False,\n",
    "                   autopct='%1.1f%%', explode=(0,0,0, 0, 0, 0, 0.1),\n",
    "                   shadow=True, startangle=0, figsize=(5, 5))"
   ],
   "metadata": {
    "collapsed": false,
    "ExecuteTime": {
     "end_time": "2023-07-20T17:02:26.887781313Z",
     "start_time": "2023-07-20T17:02:25.952241700Z"
    }
   }
  },
  {
   "cell_type": "markdown",
   "metadata": {},
   "source": [
    "categoria_y: indica a regra atual do teste sem indicar se a regra já foi aplicada ou não"
   ]
  },
  {
   "cell_type": "code",
   "execution_count": 46,
   "metadata": {
    "ExecuteTime": {
     "end_time": "2023-07-20T17:02:39.977328081Z",
     "start_time": "2023-07-20T17:02:39.693861533Z"
    }
   },
   "outputs": [
    {
     "data": {
      "text/plain": "categoria_y\ncor       2137\nforma     1476\nnumero     385\nName: count, dtype: int64"
     },
     "execution_count": 46,
     "metadata": {},
     "output_type": "execute_result"
    }
   ],
   "source": [
    "regras = df_id['categoria_y'].value_counts()\n",
    "regras"
   ]
  },
  {
   "cell_type": "code",
   "execution_count": 47,
   "metadata": {
    "ExecuteTime": {
     "end_time": "2023-07-20T17:02:44.474894217Z",
     "start_time": "2023-07-20T17:02:44.304759403Z"
    }
   },
   "outputs": [
    {
     "data": {
      "text/plain": "<Figure size 360x360 with 1 Axes>",
      "image/png": "[encoded data removed]"
     },
     "metadata": {},
     "output_type": "display_data"
    }
   ],
   "source": [
    "plot = regras.plot.pie(y='categoria',title=\"Porcentagem de Permanência em Determinada Regra\", legend=False,\n",
    "                   autopct='%1.1f%%', explode=(0, 0, 0.1),\n",
    "                   shadow=True, startangle=0, figsize=(5, 5))"
   ]
  },
  {
   "cell_type": "code",
   "execution_count": 49,
   "outputs": [
    {
     "name": "stdout",
     "output_type": "stream",
     "text": [
      "<class 'pandas.core.frame.DataFrame'>\n",
      "RangeIndex: 4132 entries, 0 to 4131\n",
      "Data columns (total 52 columns):\n",
      " #   Column               Non-Null Count  Dtype  \n",
      "---  ------               --------------  -----  \n",
      " 0   id                   4132 non-null   object \n",
      " 1   sexo1                4132 non-null   object \n",
      " 2   tipoescola           4132 non-null   object \n",
      " 3   Segmento             4132 non-null   object \n",
      " 4   ano1                 4132 non-null   int64  \n",
      " 5   Faixa Etaria         4132 non-null   object \n",
      " 6   idade1               4132 non-null   int64  \n",
      " 7   starttime            4132 non-null   object \n",
      " 8   endtime              3308 non-null   object \n",
      " 9   maxlevel             4132 non-null   int64  \n",
      " 10  time_x               4132 non-null   object \n",
      " 11  categoria_x          4132 non-null   int64  \n",
      " 12  acertosConsecutivos  4132 non-null   int64  \n",
      " 13  indiceCartaAtual     4132 non-null   int64  \n",
      " 14  outrosConsecutivos   4132 non-null   int64  \n",
      " 15  wteste               0 non-null      float64\n",
      " 16  0                    4132 non-null   object \n",
      " 17  1                    4132 non-null   object \n",
      " 18  2                    4132 non-null   object \n",
      " 19  3                    4132 non-null   object \n",
      " 20  4                    4132 non-null   object \n",
      " 21  5                    4132 non-null   object \n",
      " 22  6                    4132 non-null   object \n",
      " 23  7                    4132 non-null   object \n",
      " 24  h0                   4132 non-null   object \n",
      " 25  h1                   4132 non-null   object \n",
      " 26  h2                   4132 non-null   object \n",
      " 27  h3                   4132 non-null   object \n",
      " 28  h4                   4132 non-null   object \n",
      " 29  h5                   4132 non-null   object \n",
      " 30  h6                   4132 non-null   object \n",
      " 31  h7                   4132 non-null   object \n",
      " 32  time_x.1             4132 non-null   object \n",
      " 33  level                4132 non-null   int64  \n",
      " 34  categoria_y          3998 non-null   object \n",
      " 35  xpos                 4132 non-null   int64  \n",
      " 36  cor                  3998 non-null   object \n",
      " 37  acertos              3998 non-null   float64\n",
      " 38  house                4132 non-null   object \n",
      " 39  forma                3998 non-null   object \n",
      " 40  outros               3998 non-null   object \n",
      " 41  numero               3998 non-null   object \n",
      " 42  ypos                 4132 non-null   int64  \n",
      " 43  player               4132 non-null   int64  \n",
      " 44  state                0 non-null      float64\n",
      " 45  score                4132 non-null   int64  \n",
      " 46  result               4132 non-null   int64  \n",
      " 47  time_y               4132 non-null   object \n",
      " 48  marker               4132 non-null   object \n",
      " 49  carta_resposta       3998 non-null   float64\n",
      " 50  Motivo Saída         4132 non-null   object \n",
      " 51  Execução Completa    4132 non-null   object \n",
      "dtypes: float64(4), int64(13), object(35)\n",
      "memory usage: 1.6+ MB\n"
     ]
    }
   ],
   "source": [
    "df_id.info()"
   ],
   "metadata": {
    "collapsed": false,
    "ExecuteTime": {
     "end_time": "2023-07-20T17:03:49.258876383Z",
     "start_time": "2023-07-20T17:03:49.026025730Z"
    }
   }
  },
  {
   "cell_type": "code",
   "execution_count": 50,
   "metadata": {
    "ExecuteTime": {
     "end_time": "2023-07-20T17:04:37.874655755Z",
     "start_time": "2023-07-20T17:04:37.642081893Z"
    }
   },
   "outputs": [
    {
     "data": {
      "text/plain": "0         NaN\n1         NaN\n2         NaN\n3       431.0\n4       803.0\n        ...  \n4127    326.0\n4128    326.0\n4129    326.0\n4130    326.0\n4131    326.0\nName: tempo_de_jogo, Length: 4132, dtype: float64"
     },
     "execution_count": 50,
     "metadata": {},
     "output_type": "execute_result"
    }
   ],
   "source": [
    "df_id[\"starttime\"] = pd.to_datetime(df_id[\"starttime\"])\n",
    "df_id[\"endtime\"] = pd.to_datetime(df_id[\"endtime\"])\n",
    "df_id[\"time_x\"] = pd.to_datetime(df_id[\"time_x\"])\n",
    "df_id[\"time_x.1\"] = pd.to_datetime(df_id[\"time_x.1\"])\n",
    "df_id[\"time_y\"] = pd.to_datetime(df_id[\"time_y\"])\n",
    "\n",
    "\n",
    "df_id[\"tempo_de_jogo\"] = df_id[\"endtime\"] - df_id[\"starttime\"]\n",
    "df_id[\"tempo_de_jogo\"] = df_id[\"tempo_de_jogo\"].dt.seconds\n",
    "\n",
    "df_id[\"tempo_de_jogo\"]"
   ]
  },
  {
   "cell_type": "code",
   "execution_count": 52,
   "metadata": {
    "ExecuteTime": {
     "end_time": "2023-07-20T17:05:18.469308391Z",
     "start_time": "2023-07-20T17:05:18.152434298Z"
    }
   },
   "outputs": [],
   "source": [
    "df_id.to_csv(\"rio.csv\")"
   ]
  },
  {
   "cell_type": "code",
   "execution_count": 53,
   "metadata": {
    "ExecuteTime": {
     "end_time": "2023-07-20T17:05:19.955121339Z",
     "start_time": "2023-07-20T17:05:19.671678347Z"
    }
   },
   "outputs": [],
   "source": [
    "import pandas as pd\n",
    "\n",
    "df_id = pd.read_csv(\"rio.csv\")"
   ]
  },
  {
   "cell_type": "code",
   "execution_count": 54,
   "metadata": {
    "ExecuteTime": {
     "end_time": "2023-07-20T17:05:30.175377769Z",
     "start_time": "2023-07-20T17:05:30.042692864Z"
    }
   },
   "outputs": [
    {
     "name": "stdout",
     "output_type": "stream",
     "text": [
      "<class 'pandas.core.frame.DataFrame'>\n",
      "RangeIndex: 4132 entries, 0 to 4131\n",
      "Data columns (total 54 columns):\n",
      " #   Column               Non-Null Count  Dtype  \n",
      "---  ------               --------------  -----  \n",
      " 0   Unnamed: 0           4132 non-null   int64  \n",
      " 1   id                   4132 non-null   object \n",
      " 2   sexo1                4132 non-null   object \n",
      " 3   tipoescola           4132 non-null   object \n",
      " 4   Segmento             4132 non-null   object \n",
      " 5   ano1                 4132 non-null   int64  \n",
      " 6   Faixa Etaria         4132 non-null   object \n",
      " 7   idade1               4132 non-null   int64  \n",
      " 8   starttime            4132 non-null   object \n",
      " 9   endtime              3308 non-null   object \n",
      " 10  maxlevel             4132 non-null   int64  \n",
      " 11  time_x               4132 non-null   object \n",
      " 12  categoria_x          4132 non-null   int64  \n",
      " 13  acertosConsecutivos  4132 non-null   int64  \n",
      " 14  indiceCartaAtual     4132 non-null   int64  \n",
      " 15  outrosConsecutivos   4132 non-null   int64  \n",
      " 16  wteste               0 non-null      float64\n",
      " 17  0                    4132 non-null   object \n",
      " 18  1                    4132 non-null   object \n",
      " 19  2                    4132 non-null   object \n",
      " 20  3                    4132 non-null   object \n",
      " 21  4                    4132 non-null   object \n",
      " 22  5                    4132 non-null   object \n",
      " 23  6                    4132 non-null   object \n",
      " 24  7                    4132 non-null   object \n",
      " 25  h0                   4132 non-null   object \n",
      " 26  h1                   4132 non-null   object \n",
      " 27  h2                   4132 non-null   object \n",
      " 28  h3                   4132 non-null   object \n",
      " 29  h4                   4132 non-null   object \n",
      " 30  h5                   4132 non-null   object \n",
      " 31  h6                   4132 non-null   object \n",
      " 32  h7                   4132 non-null   object \n",
      " 33  time_x.1             4132 non-null   object \n",
      " 34  level                4132 non-null   int64  \n",
      " 35  categoria_y          3998 non-null   object \n",
      " 36  xpos                 4132 non-null   int64  \n",
      " 37  cor                  3998 non-null   object \n",
      " 38  acertos              3998 non-null   float64\n",
      " 39  house                4132 non-null   object \n",
      " 40  forma                3998 non-null   object \n",
      " 41  outros               3998 non-null   object \n",
      " 42  numero               3998 non-null   object \n",
      " 43  ypos                 4132 non-null   int64  \n",
      " 44  player               4132 non-null   int64  \n",
      " 45  state                0 non-null      float64\n",
      " 46  score                4132 non-null   int64  \n",
      " 47  result               4132 non-null   int64  \n",
      " 48  time_y               4132 non-null   object \n",
      " 49  marker               4132 non-null   object \n",
      " 50  carta_resposta       3998 non-null   float64\n",
      " 51  Motivo Saída         4132 non-null   object \n",
      " 52  Execução Completa    4132 non-null   object \n",
      " 53  tempo_de_jogo        3308 non-null   float64\n",
      "dtypes: float64(5), int64(14), object(35)\n",
      "memory usage: 1.7+ MB\n"
     ]
    }
   ],
   "source": [
    "df_id.info()"
   ]
  },
  {
   "cell_type": "code",
   "execution_count": 55,
   "metadata": {
    "ExecuteTime": {
     "end_time": "2023-07-20T17:06:50.384676865Z",
     "start_time": "2023-07-20T17:06:50.117978474Z"
    }
   },
   "outputs": [
    {
     "data": {
      "text/plain": "0       ambígua\n1           NaN\n2           NaN\n3           NaN\n4       ambígua\n         ...   \n4127    ambígua\n4128        Não\n4129        Não\n4130        Não\n4131        NaN\nName: carta ambigua, Length: 4132, dtype: object"
     },
     "execution_count": 55,
     "metadata": {},
     "output_type": "execute_result"
    }
   ],
   "source": [
    "df_id.loc[((df_id['cor'] == True) & (df_id['forma'] == True) & (df_id['numero'] == True)), 'carta ambigua'] = 'ambígua'\n",
    "df_id.loc[((df_id['cor'] == True) & (df_id['forma'] == True)), 'carta ambigua'] = 'ambígua'\n",
    "df_id.loc[((df_id['cor'] == True) & (df_id['numero'] == True)), 'carta ambigua'] = 'ambígua'\n",
    "df_id.loc[((df_id['forma'] == True) & (df_id['numero'] == True)), 'carta ambigua'] = 'ambígua'\n",
    "\n",
    "df_id.loc[((df_id['cor'] == False) & (df_id['forma'] == False) & (df_id['numero'] == True)), 'carta ambigua'] = 'Não' \n",
    "df_id.loc[((df_id['cor'] == False) & (df_id['forma'] == True) & (df_id['numero'] == False)), 'carta ambigua'] = 'Não' \n",
    "df_id.loc[((df_id['cor'] == True) & (df_id['forma'] == False) & (df_id['numero'] == False)), 'carta ambigua'] = 'Não' \n",
    "\n",
    "\n",
    "df_id[\"carta ambigua\"]"
   ]
  },
  {
   "cell_type": "code",
   "execution_count": 56,
   "metadata": {
    "ExecuteTime": {
     "end_time": "2023-07-20T17:07:12.671815869Z",
     "start_time": "2023-07-20T17:07:12.401490079Z"
    }
   },
   "outputs": [
    {
     "data": {
      "text/plain": "1579"
     },
     "execution_count": 56,
     "metadata": {},
     "output_type": "execute_result"
    }
   ],
   "source": [
    "df_id[df_id[\"carta ambigua\"] == 'ambígua'].count()[\"carta ambigua\"]"
   ]
  },
  {
   "cell_type": "code",
   "execution_count": 57,
   "metadata": {
    "ExecuteTime": {
     "end_time": "2023-07-20T17:07:19.361501401Z",
     "start_time": "2023-07-20T17:07:19.075700874Z"
    }
   },
   "outputs": [
    {
     "data": {
      "text/plain": "carta ambigua\nNão        2145\nambígua    1579\nName: count, dtype: int64"
     },
     "execution_count": 57,
     "metadata": {},
     "output_type": "execute_result"
    }
   ],
   "source": [
    "ambiguidade = df_id['carta ambigua'].value_counts()\n",
    "ambiguidade"
   ]
  },
  {
   "cell_type": "code",
   "execution_count": 58,
   "metadata": {
    "ExecuteTime": {
     "end_time": "2023-07-20T17:07:25.262906294Z",
     "start_time": "2023-07-20T17:07:25.040632146Z"
    }
   },
   "outputs": [
    {
     "data": {
      "text/plain": "<Figure size 360x360 with 1 Axes>",
      "image/png": "[encoded data removed]"
     },
     "metadata": {},
     "output_type": "display_data"
    }
   ],
   "source": [
    "# df_id = df_id.drop(\"ambiguo\",axis=\"columns\")\n",
    "plot = ambiguidade.plot.pie(y='ambiguidade',title=\"Porcentagem de cartas ambiguas\", legend=False,\n",
    "                   autopct='%1.1f%%', explode=(0, 0.1),\n",
    "                   shadow=True, startangle=0, figsize=(5, 5))"
   ]
  },
  {
   "cell_type": "code",
   "execution_count": 59,
   "metadata": {
    "ExecuteTime": {
     "end_time": "2023-07-20T17:07:27.854659519Z",
     "start_time": "2023-07-20T17:07:27.567522367Z"
    }
   },
   "outputs": [],
   "source": [
    "df_id.to_csv(\"rio.csv\")"
   ]
  },
  {
   "cell_type": "code",
   "execution_count": 60,
   "metadata": {
    "ExecuteTime": {
     "end_time": "2023-07-20T17:07:31.228292531Z",
     "start_time": "2023-07-20T17:07:31.027654421Z"
    }
   },
   "outputs": [],
   "source": [
    "import pandas as pd\n",
    "\n",
    "df_id = pd.read_csv(\"rio.csv\")"
   ]
  },
  {
   "cell_type": "code",
   "execution_count": 61,
   "metadata": {
    "ExecuteTime": {
     "end_time": "2023-07-20T17:07:42.145909844Z",
     "start_time": "2023-07-20T17:07:41.905217213Z"
    }
   },
   "outputs": [
    {
     "data": {
      "text/plain": "0         cor\n1         cor\n2         NaN\n3         NaN\n4         cor\n        ...  \n4127    forma\n4128    forma\n4129    forma\n4130    forma\n4131      NaN\nName: categoria_y, Length: 4132, dtype: object"
     },
     "execution_count": 61,
     "metadata": {},
     "output_type": "execute_result"
    }
   ],
   "source": [
    "df_id[\"categoria_y\"]"
   ]
  },
  {
   "cell_type": "code",
   "execution_count": 62,
   "outputs": [],
   "source": [
    "for id in df_id[\"id\"]:\n",
    "    df_id.loc[((df_id['id'] == id) & (df_id['acertos'] == 0)), 'erros'] = 1\n",
    "    df_id.loc[((df_id['id'] == id) & (df_id['acertos'] != 0)), 'erros'] = 0\n",
    "    df_id.loc[((df_id['id'] == id) & (df_id['acertos'] != 0)), 'pontos'] = 1\n",
    "    df_id.loc[((df_id['id'] == id) & (df_id['acertos'] == 0)), 'pontos'] = 0\n"
   ],
   "metadata": {
    "collapsed": false,
    "ExecuteTime": {
     "end_time": "2023-07-20T17:11:46.924863386Z",
     "start_time": "2023-07-20T17:11:27.014503390Z"
    }
   }
  },
  {
   "cell_type": "code",
   "execution_count": 65,
   "outputs": [
    {
     "data": {
      "text/plain": "id                                pontos\n020d483ad5e9fb7f1a1718fbeb0818d7  1.0        1\n031eaa4d11acc13aa9ca1cb894e9774f  1.0       10\n                                  0.0        2\n03b1f969773df2e8bb4557c7507aef4a  0.0        2\n                                  1.0        1\n                                            ..\nfc75b5eee1ef7b1d9e1305b3a9de3326  0.0        3\nfe8870dc33a81df13bd352a8b2653146  1.0        4\n                                  0.0        3\nfed637650ec1ec98798d8e0b5b390b61  0.0       44\n                                  1.0       41\nName: count, Length: 199, dtype: int64"
     },
     "execution_count": 65,
     "metadata": {},
     "output_type": "execute_result"
    }
   ],
   "source": [
    "df_id.groupby([\"id\"])[\"pontos\"].value_counts()"
   ],
   "metadata": {
    "collapsed": false,
    "ExecuteTime": {
     "end_time": "2023-07-20T17:16:27.282147287Z",
     "start_time": "2023-07-20T17:16:27.011975554Z"
    }
   }
  },
  {
   "cell_type": "code",
   "execution_count": 75,
   "outputs": [],
   "source": [
    "for id in df_id[\"id\"]:\n",
    "    df_id.loc[(df_id['id'] == id) & (df_id['pontos'] == 1), 'pontuação total'] = df_id.groupby([\"id\"])[\"pontos\"].cumsum()\n",
    "    df_id.loc[(df_id['id'] == id) & (df_id['pontos'] == 1), 'total de erros'] = df_id.groupby([\"id\"])[\"erros\"].cumsum()"
   ],
   "metadata": {
    "collapsed": false,
    "ExecuteTime": {
     "end_time": "2023-07-20T17:32:15.611699797Z",
     "start_time": "2023-07-20T17:31:53.111066773Z"
    }
   }
  },
  {
   "cell_type": "code",
   "execution_count": 81,
   "outputs": [
    {
     "data": {
      "text/plain": "                                    id sexo1 tipoescola   \n0     03b1f969773df2e8bb4557c7507aef4a     M    privada  \\\n1     03b1f969773df2e8bb4557c7507aef4a     M    privada   \n2     03b1f969773df2e8bb4557c7507aef4a     M    privada   \n3     2d21e05ee14e0e2b83aa6bbe54c1bec0     M    privada   \n4     3475b33271752fecf3d189f873acf5ce     M    privada   \n...                                ...   ...        ...   \n4127  fed637650ec1ec98798d8e0b5b390b61     M    nenhuma   \n4128  fed637650ec1ec98798d8e0b5b390b61     M    nenhuma   \n4129  fed637650ec1ec98798d8e0b5b390b61     M    nenhuma   \n4130  fed637650ec1ec98798d8e0b5b390b61     M    nenhuma   \n4131  fed637650ec1ec98798d8e0b5b390b61     M    nenhuma   \n\n                   Segmento  ano1      Faixa Etaria  idade1   \n0              Ed. Infantil     0          Crianças      11  \\\n1              Ed. Infantil     0          Crianças      11   \n2              Ed. Infantil     0          Crianças      11   \n3              Ed. Infantil     0          Crianças       2   \n4     Ensino Fundamental II     6  Pre-Adolescentes      12   \n...                     ...   ...               ...     ...   \n4127               Superior    11      Adolescentes      18   \n4128               Superior    11      Adolescentes      18   \n4129               Superior    11      Adolescentes      18   \n4130               Superior    11      Adolescentes      18   \n4131               Superior    11      Adolescentes      18   \n\n                       starttime                     endtime  maxlevel  ...   \n0     2012-06-20 11:24:31.751984                         NaN         1  ...  \\\n1     2012-06-20 11:24:31.751984                         NaN         1  ...   \n2     2012-06-20 11:24:31.751984                         NaN         1  ...   \n3     2012-06-20 15:47:59.301703  2012-06-20 15:55:10.743902         1  ...   \n4     2012-06-20 17:13:43.356784  2012-06-20 17:27:06.437940         1  ...   \n...                          ...                         ...       ...  ...   \n4127  2012-06-22 16:19:38.843095  2012-06-22 16:25:05.801483         1  ...   \n4128  2012-06-22 16:19:38.843095  2012-06-22 16:25:05.801483         1  ...   \n4129  2012-06-22 16:19:38.843095  2012-06-22 16:25:05.801483         1  ...   \n4130  2012-06-22 16:19:38.843095  2012-06-22 16:25:05.801483         1  ...   \n4131  2012-06-22 16:19:38.843095  2012-06-22 16:25:05.801483         1  ...   \n\n     marker  carta_resposta                    Motivo Saída   \n0     I_N_I             1.0                         Jogando  \\\n1     I_N_I             2.0                         Jogando   \n2     I_N_I             NaN                 Não quero jogar   \n3     I_N_I             NaN                         Desisto   \n4     I_N_I             1.0                         Jogando   \n...     ...             ...                             ...   \n4127  I_N_I            17.0                         Jogando   \n4128  I_N_I            18.0                         Jogando   \n4129  I_N_I            19.0                         Jogando   \n4130  I_N_I            20.0                         Jogando   \n4131  I_N_I             NaN  Terminei e acho que está certo   \n\n      Execução Completa  tempo_de_jogo  carta ambigua erros pontos   \n0                início            NaN        ambígua   1.0    0.0  \\\n1                início            NaN            NaN   1.0    0.0   \n2                início            NaN            NaN   0.0    1.0   \n3                início          431.0            NaN   0.0    1.0   \n4                início          803.0        ambígua   1.0    0.0   \n...                 ...            ...            ...   ...    ...   \n4127              cor I          326.0        ambígua   0.0    1.0   \n4128              cor I          326.0            Não   0.0    1.0   \n4129              cor I          326.0            Não   1.0    0.0   \n4130              cor I          326.0            Não   1.0    0.0   \n4131              cor I          326.0            NaN   0.0    1.0   \n\n     pontuação total total de erros  \n0                NaN            NaN  \n1                NaN            NaN  \n2                1.0            2.0  \n3                1.0            0.0  \n4                NaN            NaN  \n...              ...            ...  \n4127            39.0           42.0  \n4128            40.0           42.0  \n4129             NaN            NaN  \n4130             NaN            NaN  \n4131            41.0           44.0  \n\n[4132 rows x 58 columns]",
      "text/html": "<div>\n<style scoped>\n    .dataframe tbody tr th:only-of-type {\n        vertical-align: middle;\n    }\n\n    .dataframe tbody tr th {\n        vertical-align: top;\n    }\n\n    .dataframe thead th {\n        text-align: right;\n    }\n</style>\n<table border=\"1\" class=\"dataframe\">\n  <thead>\n    <tr style=\"text-align: right;\">\n      <th></th>\n      <th>id</th>\n      <th>sexo1</th>\n      <th>tipoescola</th>\n      <th>Segmento</th>\n      <th>ano1</th>\n      <th>Faixa Etaria</th>\n      <th>idade1</th>\n      <th>starttime</th>\n      <th>endtime</th>\n      <th>maxlevel</th>\n      <th>...</th>\n      <th>marker</th>\n      <th>carta_resposta</th>\n      <th>Motivo Saída</th>\n      <th>Execução Completa</th>\n      <th>tempo_de_jogo</th>\n      <th>carta ambigua</th>\n      <th>erros</th>\n      <th>pontos</th>\n      <th>pontuação total</th>\n      <th>total de erros</th>\n    </tr>\n  </thead>\n  <tbody>\n    <tr>\n      <th>0</th>\n      <td>03b1f969773df2e8bb4557c7507aef4a</td>\n      <td>M</td>\n      <td>privada</td>\n      <td>Ed. Infantil</td>\n      <td>0</td>\n      <td>Crianças</td>\n      <td>11</td>\n      <td>2012-06-20 11:24:31.751984</td>\n      <td>NaN</td>\n      <td>1</td>\n      <td>...</td>\n      <td>I_N_I</td>\n      <td>1.0</td>\n      <td>Jogando</td>\n      <td>início</td>\n      <td>NaN</td>\n      <td>ambígua</td>\n      <td>1.0</td>\n      <td>0.0</td>\n      <td>NaN</td>\n      <td>NaN</td>\n    </tr>\n    <tr>\n      <th>1</th>\n      <td>03b1f969773df2e8bb4557c7507aef4a</td>\n      <td>M</td>\n      <td>privada</td>\n      <td>Ed. Infantil</td>\n      <td>0</td>\n      <td>Crianças</td>\n      <td>11</td>\n      <td>2012-06-20 11:24:31.751984</td>\n      <td>NaN</td>\n      <td>1</td>\n      <td>...</td>\n      <td>I_N_I</td>\n      <td>2.0</td>\n      <td>Jogando</td>\n      <td>início</td>\n      <td>NaN</td>\n      <td>NaN</td>\n      <td>1.0</td>\n      <td>0.0</td>\n      <td>NaN</td>\n      <td>NaN</td>\n    </tr>\n    <tr>\n      <th>2</th>\n      <td>03b1f969773df2e8bb4557c7507aef4a</td>\n      <td>M</td>\n      <td>privada</td>\n      <td>Ed. Infantil</td>\n      <td>0</td>\n      <td>Crianças</td>\n      <td>11</td>\n      <td>2012-06-20 11:24:31.751984</td>\n      <td>NaN</td>\n      <td>1</td>\n      <td>...</td>\n      <td>I_N_I</td>\n      <td>NaN</td>\n      <td>Não quero jogar</td>\n      <td>início</td>\n      <td>NaN</td>\n      <td>NaN</td>\n      <td>0.0</td>\n      <td>1.0</td>\n      <td>1.0</td>\n      <td>2.0</td>\n    </tr>\n    <tr>\n      <th>3</th>\n      <td>2d21e05ee14e0e2b83aa6bbe54c1bec0</td>\n      <td>M</td>\n      <td>privada</td>\n      <td>Ed. Infantil</td>\n      <td>0</td>\n      <td>Crianças</td>\n      <td>2</td>\n      <td>2012-06-20 15:47:59.301703</td>\n      <td>2012-06-20 15:55:10.743902</td>\n      <td>1</td>\n      <td>...</td>\n      <td>I_N_I</td>\n      <td>NaN</td>\n      <td>Desisto</td>\n      <td>início</td>\n      <td>431.0</td>\n      <td>NaN</td>\n      <td>0.0</td>\n      <td>1.0</td>\n      <td>1.0</td>\n      <td>0.0</td>\n    </tr>\n    <tr>\n      <th>4</th>\n      <td>3475b33271752fecf3d189f873acf5ce</td>\n      <td>M</td>\n      <td>privada</td>\n      <td>Ensino Fundamental II</td>\n      <td>6</td>\n      <td>Pre-Adolescentes</td>\n      <td>12</td>\n      <td>2012-06-20 17:13:43.356784</td>\n      <td>2012-06-20 17:27:06.437940</td>\n      <td>1</td>\n      <td>...</td>\n      <td>I_N_I</td>\n      <td>1.0</td>\n      <td>Jogando</td>\n      <td>início</td>\n      <td>803.0</td>\n      <td>ambígua</td>\n      <td>1.0</td>\n      <td>0.0</td>\n      <td>NaN</td>\n      <td>NaN</td>\n    </tr>\n    <tr>\n      <th>...</th>\n      <td>...</td>\n      <td>...</td>\n      <td>...</td>\n      <td>...</td>\n      <td>...</td>\n      <td>...</td>\n      <td>...</td>\n      <td>...</td>\n      <td>...</td>\n      <td>...</td>\n      <td>...</td>\n      <td>...</td>\n      <td>...</td>\n      <td>...</td>\n      <td>...</td>\n      <td>...</td>\n      <td>...</td>\n      <td>...</td>\n      <td>...</td>\n      <td>...</td>\n      <td>...</td>\n    </tr>\n    <tr>\n      <th>4127</th>\n      <td>fed637650ec1ec98798d8e0b5b390b61</td>\n      <td>M</td>\n      <td>nenhuma</td>\n      <td>Superior</td>\n      <td>11</td>\n      <td>Adolescentes</td>\n      <td>18</td>\n      <td>2012-06-22 16:19:38.843095</td>\n      <td>2012-06-22 16:25:05.801483</td>\n      <td>1</td>\n      <td>...</td>\n      <td>I_N_I</td>\n      <td>17.0</td>\n      <td>Jogando</td>\n      <td>cor I</td>\n      <td>326.0</td>\n      <td>ambígua</td>\n      <td>0.0</td>\n      <td>1.0</td>\n      <td>39.0</td>\n      <td>42.0</td>\n    </tr>\n    <tr>\n      <th>4128</th>\n      <td>fed637650ec1ec98798d8e0b5b390b61</td>\n      <td>M</td>\n      <td>nenhuma</td>\n      <td>Superior</td>\n      <td>11</td>\n      <td>Adolescentes</td>\n      <td>18</td>\n      <td>2012-06-22 16:19:38.843095</td>\n      <td>2012-06-22 16:25:05.801483</td>\n      <td>1</td>\n      <td>...</td>\n      <td>I_N_I</td>\n      <td>18.0</td>\n      <td>Jogando</td>\n      <td>cor I</td>\n      <td>326.0</td>\n      <td>Não</td>\n      <td>0.0</td>\n      <td>1.0</td>\n      <td>40.0</td>\n      <td>42.0</td>\n    </tr>\n    <tr>\n      <th>4129</th>\n      <td>fed637650ec1ec98798d8e0b5b390b61</td>\n      <td>M</td>\n      <td>nenhuma</td>\n      <td>Superior</td>\n      <td>11</td>\n      <td>Adolescentes</td>\n      <td>18</td>\n      <td>2012-06-22 16:19:38.843095</td>\n      <td>2012-06-22 16:25:05.801483</td>\n      <td>1</td>\n      <td>...</td>\n      <td>I_N_I</td>\n      <td>19.0</td>\n      <td>Jogando</td>\n      <td>cor I</td>\n      <td>326.0</td>\n      <td>Não</td>\n      <td>1.0</td>\n      <td>0.0</td>\n      <td>NaN</td>\n      <td>NaN</td>\n    </tr>\n    <tr>\n      <th>4130</th>\n      <td>fed637650ec1ec98798d8e0b5b390b61</td>\n      <td>M</td>\n      <td>nenhuma</td>\n      <td>Superior</td>\n      <td>11</td>\n      <td>Adolescentes</td>\n      <td>18</td>\n      <td>2012-06-22 16:19:38.843095</td>\n      <td>2012-06-22 16:25:05.801483</td>\n      <td>1</td>\n      <td>...</td>\n      <td>I_N_I</td>\n      <td>20.0</td>\n      <td>Jogando</td>\n      <td>cor I</td>\n      <td>326.0</td>\n      <td>Não</td>\n      <td>1.0</td>\n      <td>0.0</td>\n      <td>NaN</td>\n      <td>NaN</td>\n    </tr>\n    <tr>\n      <th>4131</th>\n      <td>fed637650ec1ec98798d8e0b5b390b61</td>\n      <td>M</td>\n      <td>nenhuma</td>\n      <td>Superior</td>\n      <td>11</td>\n      <td>Adolescentes</td>\n      <td>18</td>\n      <td>2012-06-22 16:19:38.843095</td>\n      <td>2012-06-22 16:25:05.801483</td>\n      <td>1</td>\n      <td>...</td>\n      <td>I_N_I</td>\n      <td>NaN</td>\n      <td>Terminei e acho que está certo</td>\n      <td>cor I</td>\n      <td>326.0</td>\n      <td>NaN</td>\n      <td>0.0</td>\n      <td>1.0</td>\n      <td>41.0</td>\n      <td>44.0</td>\n    </tr>\n  </tbody>\n</table>\n<p>4132 rows × 58 columns</p>\n</div>"
     },
     "execution_count": 81,
     "metadata": {},
     "output_type": "execute_result"
    }
   ],
   "source": [
    "df_id"
   ],
   "metadata": {
    "collapsed": false,
    "ExecuteTime": {
     "end_time": "2023-07-20T17:34:01.550585351Z",
     "start_time": "2023-07-20T17:34:01.448879920Z"
    }
   }
  },
  {
   "cell_type": "code",
   "execution_count": 84,
   "outputs": [],
   "source": [
    "df_id = df_id.drop(\"Unnamed: 0\",axis=\"columns\")"
   ],
   "metadata": {
    "collapsed": false,
    "ExecuteTime": {
     "end_time": "2023-07-20T17:34:28.186045163Z",
     "start_time": "2023-07-20T17:34:28.007182792Z"
    }
   }
  },
  {
   "cell_type": "code",
   "execution_count": 82,
   "outputs": [],
   "source": [
    "df_id.to_csv(\"rio.csv\")\n",
    "\n",
    "df_id = pd.read_csv(\"rio.csv\")"
   ],
   "metadata": {
    "collapsed": false,
    "ExecuteTime": {
     "end_time": "2023-07-20T17:34:07.118543208Z",
     "start_time": "2023-07-20T17:34:06.821554055Z"
    }
   }
  },
  {
   "cell_type": "code",
   "execution_count": 85,
   "outputs": [
    {
     "data": {
      "text/plain": "                                    id sexo1 tipoescola   \n0     03b1f969773df2e8bb4557c7507aef4a     M    privada  \\\n1     03b1f969773df2e8bb4557c7507aef4a     M    privada   \n2     03b1f969773df2e8bb4557c7507aef4a     M    privada   \n3     2d21e05ee14e0e2b83aa6bbe54c1bec0     M    privada   \n4     3475b33271752fecf3d189f873acf5ce     M    privada   \n...                                ...   ...        ...   \n4127  fed637650ec1ec98798d8e0b5b390b61     M    nenhuma   \n4128  fed637650ec1ec98798d8e0b5b390b61     M    nenhuma   \n4129  fed637650ec1ec98798d8e0b5b390b61     M    nenhuma   \n4130  fed637650ec1ec98798d8e0b5b390b61     M    nenhuma   \n4131  fed637650ec1ec98798d8e0b5b390b61     M    nenhuma   \n\n                   Segmento  ano1      Faixa Etaria  idade1   \n0              Ed. Infantil     0          Crianças      11  \\\n1              Ed. Infantil     0          Crianças      11   \n2              Ed. Infantil     0          Crianças      11   \n3              Ed. Infantil     0          Crianças       2   \n4     Ensino Fundamental II     6  Pre-Adolescentes      12   \n...                     ...   ...               ...     ...   \n4127               Superior    11      Adolescentes      18   \n4128               Superior    11      Adolescentes      18   \n4129               Superior    11      Adolescentes      18   \n4130               Superior    11      Adolescentes      18   \n4131               Superior    11      Adolescentes      18   \n\n                       starttime                     endtime  maxlevel  ...   \n0     2012-06-20 11:24:31.751984                         NaN         1  ...  \\\n1     2012-06-20 11:24:31.751984                         NaN         1  ...   \n2     2012-06-20 11:24:31.751984                         NaN         1  ...   \n3     2012-06-20 15:47:59.301703  2012-06-20 15:55:10.743902         1  ...   \n4     2012-06-20 17:13:43.356784  2012-06-20 17:27:06.437940         1  ...   \n...                          ...                         ...       ...  ...   \n4127  2012-06-22 16:19:38.843095  2012-06-22 16:25:05.801483         1  ...   \n4128  2012-06-22 16:19:38.843095  2012-06-22 16:25:05.801483         1  ...   \n4129  2012-06-22 16:19:38.843095  2012-06-22 16:25:05.801483         1  ...   \n4130  2012-06-22 16:19:38.843095  2012-06-22 16:25:05.801483         1  ...   \n4131  2012-06-22 16:19:38.843095  2012-06-22 16:25:05.801483         1  ...   \n\n     marker  carta_resposta                    Motivo Saída   \n0     I_N_I             1.0                         Jogando  \\\n1     I_N_I             2.0                         Jogando   \n2     I_N_I             NaN                 Não quero jogar   \n3     I_N_I             NaN                         Desisto   \n4     I_N_I             1.0                         Jogando   \n...     ...             ...                             ...   \n4127  I_N_I            17.0                         Jogando   \n4128  I_N_I            18.0                         Jogando   \n4129  I_N_I            19.0                         Jogando   \n4130  I_N_I            20.0                         Jogando   \n4131  I_N_I             NaN  Terminei e acho que está certo   \n\n      Execução Completa  tempo_de_jogo  carta ambigua erros pontos   \n0                início            NaN        ambígua   1.0    0.0  \\\n1                início            NaN            NaN   1.0    0.0   \n2                início            NaN            NaN   0.0    1.0   \n3                início          431.0            NaN   0.0    1.0   \n4                início          803.0        ambígua   1.0    0.0   \n...                 ...            ...            ...   ...    ...   \n4127              cor I          326.0        ambígua   0.0    1.0   \n4128              cor I          326.0            Não   0.0    1.0   \n4129              cor I          326.0            Não   1.0    0.0   \n4130              cor I          326.0            Não   1.0    0.0   \n4131              cor I          326.0            NaN   0.0    1.0   \n\n     pontuação total total de erros  \n0                NaN            NaN  \n1                NaN            NaN  \n2                1.0            2.0  \n3                1.0            0.0  \n4                NaN            NaN  \n...              ...            ...  \n4127            39.0           42.0  \n4128            40.0           42.0  \n4129             NaN            NaN  \n4130             NaN            NaN  \n4131            41.0           44.0  \n\n[4132 rows x 58 columns]",
      "text/html": "<div>\n<style scoped>\n    .dataframe tbody tr th:only-of-type {\n        vertical-align: middle;\n    }\n\n    .dataframe tbody tr th {\n        vertical-align: top;\n    }\n\n    .dataframe thead th {\n        text-align: right;\n    }\n</style>\n<table border=\"1\" class=\"dataframe\">\n  <thead>\n    <tr style=\"text-align: right;\">\n      <th></th>\n      <th>id</th>\n      <th>sexo1</th>\n      <th>tipoescola</th>\n      <th>Segmento</th>\n      <th>ano1</th>\n      <th>Faixa Etaria</th>\n      <th>idade1</th>\n      <th>starttime</th>\n      <th>endtime</th>\n      <th>maxlevel</th>\n      <th>...</th>\n      <th>marker</th>\n      <th>carta_resposta</th>\n      <th>Motivo Saída</th>\n      <th>Execução Completa</th>\n      <th>tempo_de_jogo</th>\n      <th>carta ambigua</th>\n      <th>erros</th>\n      <th>pontos</th>\n      <th>pontuação total</th>\n      <th>total de erros</th>\n    </tr>\n  </thead>\n  <tbody>\n    <tr>\n      <th>0</th>\n      <td>03b1f969773df2e8bb4557c7507aef4a</td>\n      <td>M</td>\n      <td>privada</td>\n      <td>Ed. Infantil</td>\n      <td>0</td>\n      <td>Crianças</td>\n      <td>11</td>\n      <td>2012-06-20 11:24:31.751984</td>\n      <td>NaN</td>\n      <td>1</td>\n      <td>...</td>\n      <td>I_N_I</td>\n      <td>1.0</td>\n      <td>Jogando</td>\n      <td>início</td>\n      <td>NaN</td>\n      <td>ambígua</td>\n      <td>1.0</td>\n      <td>0.0</td>\n      <td>NaN</td>\n      <td>NaN</td>\n    </tr>\n    <tr>\n      <th>1</th>\n      <td>03b1f969773df2e8bb4557c7507aef4a</td>\n      <td>M</td>\n      <td>privada</td>\n      <td>Ed. Infantil</td>\n      <td>0</td>\n      <td>Crianças</td>\n      <td>11</td>\n      <td>2012-06-20 11:24:31.751984</td>\n      <td>NaN</td>\n      <td>1</td>\n      <td>...</td>\n      <td>I_N_I</td>\n      <td>2.0</td>\n      <td>Jogando</td>\n      <td>início</td>\n      <td>NaN</td>\n      <td>NaN</td>\n      <td>1.0</td>\n      <td>0.0</td>\n      <td>NaN</td>\n      <td>NaN</td>\n    </tr>\n    <tr>\n      <th>2</th>\n      <td>03b1f969773df2e8bb4557c7507aef4a</td>\n      <td>M</td>\n      <td>privada</td>\n      <td>Ed. Infantil</td>\n      <td>0</td>\n      <td>Crianças</td>\n      <td>11</td>\n      <td>2012-06-20 11:24:31.751984</td>\n      <td>NaN</td>\n      <td>1</td>\n      <td>...</td>\n      <td>I_N_I</td>\n      <td>NaN</td>\n      <td>Não quero jogar</td>\n      <td>início</td>\n      <td>NaN</td>\n      <td>NaN</td>\n      <td>0.0</td>\n      <td>1.0</td>\n      <td>1.0</td>\n      <td>2.0</td>\n    </tr>\n    <tr>\n      <th>3</th>\n      <td>2d21e05ee14e0e2b83aa6bbe54c1bec0</td>\n      <td>M</td>\n      <td>privada</td>\n      <td>Ed. Infantil</td>\n      <td>0</td>\n      <td>Crianças</td>\n      <td>2</td>\n      <td>2012-06-20 15:47:59.301703</td>\n      <td>2012-06-20 15:55:10.743902</td>\n      <td>1</td>\n      <td>...</td>\n      <td>I_N_I</td>\n      <td>NaN</td>\n      <td>Desisto</td>\n      <td>início</td>\n      <td>431.0</td>\n      <td>NaN</td>\n      <td>0.0</td>\n      <td>1.0</td>\n      <td>1.0</td>\n      <td>0.0</td>\n    </tr>\n    <tr>\n      <th>4</th>\n      <td>3475b33271752fecf3d189f873acf5ce</td>\n      <td>M</td>\n      <td>privada</td>\n      <td>Ensino Fundamental II</td>\n      <td>6</td>\n      <td>Pre-Adolescentes</td>\n      <td>12</td>\n      <td>2012-06-20 17:13:43.356784</td>\n      <td>2012-06-20 17:27:06.437940</td>\n      <td>1</td>\n      <td>...</td>\n      <td>I_N_I</td>\n      <td>1.0</td>\n      <td>Jogando</td>\n      <td>início</td>\n      <td>803.0</td>\n      <td>ambígua</td>\n      <td>1.0</td>\n      <td>0.0</td>\n      <td>NaN</td>\n      <td>NaN</td>\n    </tr>\n    <tr>\n      <th>...</th>\n      <td>...</td>\n      <td>...</td>\n      <td>...</td>\n      <td>...</td>\n      <td>...</td>\n      <td>...</td>\n      <td>...</td>\n      <td>...</td>\n      <td>...</td>\n      <td>...</td>\n      <td>...</td>\n      <td>...</td>\n      <td>...</td>\n      <td>...</td>\n      <td>...</td>\n      <td>...</td>\n      <td>...</td>\n      <td>...</td>\n      <td>...</td>\n      <td>...</td>\n      <td>...</td>\n    </tr>\n    <tr>\n      <th>4127</th>\n      <td>fed637650ec1ec98798d8e0b5b390b61</td>\n      <td>M</td>\n      <td>nenhuma</td>\n      <td>Superior</td>\n      <td>11</td>\n      <td>Adolescentes</td>\n      <td>18</td>\n      <td>2012-06-22 16:19:38.843095</td>\n      <td>2012-06-22 16:25:05.801483</td>\n      <td>1</td>\n      <td>...</td>\n      <td>I_N_I</td>\n      <td>17.0</td>\n      <td>Jogando</td>\n      <td>cor I</td>\n      <td>326.0</td>\n      <td>ambígua</td>\n      <td>0.0</td>\n      <td>1.0</td>\n      <td>39.0</td>\n      <td>42.0</td>\n    </tr>\n    <tr>\n      <th>4128</th>\n      <td>fed637650ec1ec98798d8e0b5b390b61</td>\n      <td>M</td>\n      <td>nenhuma</td>\n      <td>Superior</td>\n      <td>11</td>\n      <td>Adolescentes</td>\n      <td>18</td>\n      <td>2012-06-22 16:19:38.843095</td>\n      <td>2012-06-22 16:25:05.801483</td>\n      <td>1</td>\n      <td>...</td>\n      <td>I_N_I</td>\n      <td>18.0</td>\n      <td>Jogando</td>\n      <td>cor I</td>\n      <td>326.0</td>\n      <td>Não</td>\n      <td>0.0</td>\n      <td>1.0</td>\n      <td>40.0</td>\n      <td>42.0</td>\n    </tr>\n    <tr>\n      <th>4129</th>\n      <td>fed637650ec1ec98798d8e0b5b390b61</td>\n      <td>M</td>\n      <td>nenhuma</td>\n      <td>Superior</td>\n      <td>11</td>\n      <td>Adolescentes</td>\n      <td>18</td>\n      <td>2012-06-22 16:19:38.843095</td>\n      <td>2012-06-22 16:25:05.801483</td>\n      <td>1</td>\n      <td>...</td>\n      <td>I_N_I</td>\n      <td>19.0</td>\n      <td>Jogando</td>\n      <td>cor I</td>\n      <td>326.0</td>\n      <td>Não</td>\n      <td>1.0</td>\n      <td>0.0</td>\n      <td>NaN</td>\n      <td>NaN</td>\n    </tr>\n    <tr>\n      <th>4130</th>\n      <td>fed637650ec1ec98798d8e0b5b390b61</td>\n      <td>M</td>\n      <td>nenhuma</td>\n      <td>Superior</td>\n      <td>11</td>\n      <td>Adolescentes</td>\n      <td>18</td>\n      <td>2012-06-22 16:19:38.843095</td>\n      <td>2012-06-22 16:25:05.801483</td>\n      <td>1</td>\n      <td>...</td>\n      <td>I_N_I</td>\n      <td>20.0</td>\n      <td>Jogando</td>\n      <td>cor I</td>\n      <td>326.0</td>\n      <td>Não</td>\n      <td>1.0</td>\n      <td>0.0</td>\n      <td>NaN</td>\n      <td>NaN</td>\n    </tr>\n    <tr>\n      <th>4131</th>\n      <td>fed637650ec1ec98798d8e0b5b390b61</td>\n      <td>M</td>\n      <td>nenhuma</td>\n      <td>Superior</td>\n      <td>11</td>\n      <td>Adolescentes</td>\n      <td>18</td>\n      <td>2012-06-22 16:19:38.843095</td>\n      <td>2012-06-22 16:25:05.801483</td>\n      <td>1</td>\n      <td>...</td>\n      <td>I_N_I</td>\n      <td>NaN</td>\n      <td>Terminei e acho que está certo</td>\n      <td>cor I</td>\n      <td>326.0</td>\n      <td>NaN</td>\n      <td>0.0</td>\n      <td>1.0</td>\n      <td>41.0</td>\n      <td>44.0</td>\n    </tr>\n  </tbody>\n</table>\n<p>4132 rows × 58 columns</p>\n</div>"
     },
     "execution_count": 85,
     "metadata": {},
     "output_type": "execute_result"
    }
   ],
   "source": [
    "df_id"
   ],
   "metadata": {
    "collapsed": false,
    "ExecuteTime": {
     "end_time": "2023-07-20T17:34:31.260394380Z",
     "start_time": "2023-07-20T17:34:31.137587681Z"
    }
   }
  },
  {
   "cell_type": "markdown",
   "source": [
    "Gráficos:"
   ],
   "metadata": {
    "collapsed": false
   }
  },
  {
   "cell_type": "code",
   "execution_count": 91,
   "metadata": {
    "ExecuteTime": {
     "end_time": "2023-07-20T17:37:32.018978148Z",
     "start_time": "2023-07-20T17:37:25.730542628Z"
    }
   },
   "outputs": [
    {
     "data": {
      "text/plain": "<seaborn.axisgrid.FacetGrid at 0x7f2f166d3310>"
     },
     "execution_count": 91,
     "metadata": {},
     "output_type": "execute_result"
    },
    {
     "data": {
      "text/plain": "<Figure size 575x360 with 1 Axes>",
      "image/png": "[encoded data removed]"
     },
     "metadata": {},
     "output_type": "display_data"
    }
   ],
   "source": [
    "import seaborn as sns\n",
    "\n",
    "sns.catplot(y='indiceCartaAtual', x='tempo_de_jogo', data=df_id, legend=True, hue='Motivo Saída')"
   ]
  },
  {
   "cell_type": "code",
   "execution_count": 92,
   "metadata": {
    "ExecuteTime": {
     "end_time": "2023-07-20T17:38:02.828222377Z",
     "start_time": "2023-07-20T17:38:02.219315191Z"
    }
   },
   "outputs": [
    {
     "data": {
      "text/plain": "<AxesSubplot:xlabel='indiceCartaAtual', ylabel='Execução Completa'>"
     },
     "execution_count": 92,
     "metadata": {},
     "output_type": "execute_result"
    },
    {
     "data": {
      "text/plain": "<Figure size 432x288 with 1 Axes>",
      "image/png": "[encoded data removed]"
     },
     "metadata": {},
     "output_type": "display_data"
    }
   ],
   "source": [
    "import seaborn as sns\n",
    "\n",
    "sns.histplot(x='indiceCartaAtual', y='Execução Completa', data=df_id, legend=True, hue='Segmento')"
   ]
  },
  {
   "cell_type": "code",
   "execution_count": 94,
   "metadata": {
    "ExecuteTime": {
     "end_time": "2023-07-20T17:39:34.378070326Z",
     "start_time": "2023-07-20T17:39:33.559301474Z"
    }
   },
   "outputs": [
    {
     "data": {
      "text/plain": "<AxesSubplot:xlabel='pontuação total', ylabel='Execução Completa'>"
     },
     "execution_count": 94,
     "metadata": {},
     "output_type": "execute_result"
    },
    {
     "data": {
      "text/plain": "<Figure size 432x288 with 1 Axes>",
      "image/png": "[encoded data removed]"
     },
     "metadata": {},
     "output_type": "display_data"
    }
   ],
   "source": [
    "import seaborn as sns\n",
    "\n",
    "sns.histplot(x='pontuação total', y='Execução Completa', data=df_id, legend=True, hue='Segmento')"
   ]
  },
  {
   "cell_type": "code",
   "execution_count": 96,
   "metadata": {
    "ExecuteTime": {
     "end_time": "2023-07-20T17:41:09.533622242Z",
     "start_time": "2023-07-20T17:41:08.828894454Z"
    }
   },
   "outputs": [
    {
     "data": {
      "text/plain": "<AxesSubplot:xlabel='tempo_de_jogo', ylabel='Execução Completa'>"
     },
     "execution_count": 96,
     "metadata": {},
     "output_type": "execute_result"
    },
    {
     "data": {
      "text/plain": "<Figure size 432x288 with 1 Axes>",
      "image/png": "[encoded data removed]"
     },
     "metadata": {},
     "output_type": "display_data"
    }
   ],
   "source": [
    "\n",
    "import seaborn as sns\n",
    "\n",
    "sns.scatterplot(y='Execução Completa', x='tempo_de_jogo', data=df_id, legend=True, hue=\"sexo1\")"
   ]
  },
  {
   "cell_type": "code",
   "execution_count": 97,
   "outputs": [
    {
     "data": {
      "text/plain": "<AxesSubplot:xlabel='pontuação total', ylabel='Execução Completa'>"
     },
     "execution_count": 97,
     "metadata": {},
     "output_type": "execute_result"
    },
    {
     "data": {
      "text/plain": "<Figure size 432x288 with 1 Axes>",
      "image/png": "[encoded data removed]"
     },
     "metadata": {},
     "output_type": "display_data"
    }
   ],
   "source": [
    "import seaborn as sns\n",
    "\n",
    "sns.scatterplot(y='Execução Completa', x='pontuação total', data=df_id, legend=True, hue=\"tipoescola\")"
   ],
   "metadata": {
    "collapsed": false,
    "ExecuteTime": {
     "end_time": "2023-07-20T17:41:58.611704260Z",
     "start_time": "2023-07-20T17:41:57.990099036Z"
    }
   }
  },
  {
   "cell_type": "code",
   "execution_count": 100,
   "metadata": {
    "ExecuteTime": {
     "end_time": "2023-07-20T17:45:51.780853836Z",
     "start_time": "2023-07-20T17:45:51.111628136Z"
    }
   },
   "outputs": [
    {
     "data": {
      "text/plain": "<AxesSubplot:xlabel='tempo_de_jogo', ylabel='total de erros'>"
     },
     "execution_count": 100,
     "metadata": {},
     "output_type": "execute_result"
    },
    {
     "data": {
      "text/plain": "<Figure size 432x288 with 1 Axes>",
      "image/png": "[encoded data removed]"
     },
     "metadata": {},
     "output_type": "display_data"
    }
   ],
   "source": [
    "import seaborn as sns\n",
    "\n",
    "sns.histplot(y='total de erros', x='tempo_de_jogo', data=df_id, legend=True,hue='Motivo Saída')"
   ]
  },
  {
   "cell_type": "code",
   "execution_count": null,
   "metadata": {},
   "outputs": [],
   "source": [
    "import seaborn as sns\n",
    "\n",
    "sns.catplot(y='carta ambigua', x='acertosConsecutivos', data=df_id)"
   ]
  },
  {
   "cell_type": "code",
   "execution_count": null,
   "metadata": {},
   "outputs": [],
   "source": [
    "import seaborn as sns\n",
    "\n",
    "sns.catplot(y='Motivo Saída', x='outrosConsecutivos', data=df)"
   ]
  },
  {
   "cell_type": "code",
   "execution_count": null,
   "metadata": {},
   "outputs": [],
   "source": [
    "import seaborn as sns\n",
    "\n",
    "sns.catplot(y='Segmento', x='acertosConsecutivos', data=df)"
   ]
  },
  {
   "cell_type": "code",
   "execution_count": null,
   "metadata": {},
   "outputs": [],
   "source": [
    "import seaborn as sns\n",
    "\n",
    "sns.catplot(x='tipoescola', y='acertosConsecutivos', data=df)"
   ]
  },
  {
   "cell_type": "code",
   "execution_count": null,
   "metadata": {},
   "outputs": [],
   "source": [
    "import seaborn as sns\n",
    "\n",
    "sns.catplot(y='Motivo Saída', x='Faixa Etaria', data=df, hue='Faixa Etaria', legend=True)"
   ]
  },
  {
   "cell_type": "code",
   "execution_count": null,
   "metadata": {},
   "outputs": [],
   "source": [
    "import seaborn as sns\n",
    "\n",
    "sns.catplot(y='Motivo Saída', x='indiceCartaAtual', data=df,hue='acertosConsecutivos',legend=True)"
   ]
  },
  {
   "cell_type": "code",
   "execution_count": null,
   "metadata": {},
   "outputs": [],
   "source": [
    "import seaborn as sns\n",
    "\n",
    "sns.catplot(y='Motivo Saída', x='categoria_x', data=df,hue='acertosConsecutivos',legend=True)"
   ]
  },
  {
   "cell_type": "markdown",
   "metadata": {},
   "source": [
    "Percepção Falsa: pf ---> pessoas que indicaram result = 5 (acho que está certo) e o indice da carta é baixo\n",
    "\n",
    "Fora de um padrão: fp ---> indice de carta atual é alto, número de acertos consecutivos 9, mas indicou result = 4 (acho que está errado)\n",
    "\n",
    "Unicórnio: uni ---> combinação adequada do indice de carta atual alto, acertos consecutivos e percepção de acerto"
   ]
  },
  {
   "cell_type": "code",
   "execution_count": null,
   "metadata": {},
   "outputs": [],
   "source": [
    "uni_v = df_id.loc[(df_id['result'] == 5) & (df_id['indiceCartaAtual'] >= 100) & (df_id['categoria_x'] >= 5) & (df_id['acertosConsecutivos'] == 8)]\n",
    "uni_v"
   ]
  },
  {
   "cell_type": "code",
   "execution_count": null,
   "metadata": {},
   "outputs": [],
   "source": [
    "uni = df_id.loc[(df_id['result'] == 5) & (df_id['categoria_x'] >= 5)]\n",
    "uni"
   ]
  },
  {
   "cell_type": "code",
   "execution_count": null,
   "metadata": {},
   "outputs": [],
   "source": [
    "((df_id['result'] == 4) & (df_id[\"categoria_x\"] >= 3)).value_counts()"
   ]
  },
  {
   "cell_type": "code",
   "execution_count": null,
   "metadata": {},
   "outputs": [],
   "source": [
    "# fp = df_id.loc[(df_id['result'] == 4) & (df_id['categoria_x'] >= 3)]\n",
    "fp"
   ]
  },
  {
   "cell_type": "code",
   "execution_count": null,
   "metadata": {},
   "outputs": [],
   "source": [
    "import seaborn as sns\n",
    "import pandas as pd\n",
    "\n",
    "pf = df_id.loc[(df_id['result'] == 5) & (df_id['categoria_x'] <= 3)]\n",
    "\n",
    "type(pf)\n",
    "\n",
    "pf"
   ]
  },
  {
   "cell_type": "code",
   "execution_count": null,
   "metadata": {},
   "outputs": [],
   "source": [
    "import seaborn as sns\n",
    "\n",
    "sns.catplot(y='Motivo Saída', x='indiceCartaAtual', data=pf,hue='tempo_de_jogo',legend=True)"
   ]
  },
  {
   "cell_type": "code",
   "execution_count": null,
   "metadata": {},
   "outputs": [],
   "source": [
    "import seaborn as sns\n",
    "\n",
    "sns.catplot(y='Motivo Saída', x='indiceCartaAtual', data=pf,hue='acertosConsecutivos',legend=True)"
   ]
  },
  {
   "cell_type": "code",
   "execution_count": null,
   "metadata": {},
   "outputs": [],
   "source": [
    "import seaborn as sns\n",
    "\n",
    "sns.catplot(y='Motivo Saída', x='indiceCartaAtual', data=fp,hue='tempo_de_jogo',legend=True)"
   ]
  },
  {
   "cell_type": "code",
   "execution_count": null,
   "metadata": {},
   "outputs": [],
   "source": [
    "import seaborn as sns\n",
    "\n",
    "sns.catplot(y='Motivo Saída', x='indiceCartaAtual', data=fp,hue='acertosConsecutivos',legend=True)"
   ]
  },
  {
   "cell_type": "code",
   "execution_count": null,
   "metadata": {},
   "outputs": [],
   "source": [
    "import seaborn as sns\n",
    "\n",
    "sns.catplot(y='Motivo Saída', x='indiceCartaAtual', data=uni,hue='acertosConsecutivos',legend=True)"
   ]
  },
  {
   "cell_type": "code",
   "execution_count": null,
   "metadata": {},
   "outputs": [],
   "source": [
    "import seaborn as sns\n",
    "\n",
    "sns.barplot(x=df_id[\"id\"], y='pontos', data=df_id, hue=\"sexo1\")"
   ]
  },
  {
   "cell_type": "code",
   "execution_count": null,
   "metadata": {},
   "outputs": [],
   "source": [
    "import seaborn as sns\n",
    "\n",
    "sns.barplot(x=df_id[\"id\"], y='erros', data=df_id, hue=\"sexo1\")"
   ]
  },
  {
   "cell_type": "code",
   "execution_count": null,
   "metadata": {},
   "outputs": [],
   "source": [
    "import seaborn as sns\n",
    "import pandas as pd\n",
    "\n",
    "\n",
    "sns.displot(x= \"pontos\", y= \"erros\" , data=df_id, kind='hist', hue= 'carta ambigua')"
   ]
  },
  {
   "cell_type": "code",
   "execution_count": null,
   "metadata": {},
   "outputs": [],
   "source": [
    "import seaborn as sns\n",
    "import pandas as pd\n",
    "\n",
    "\n",
    "\n",
    "sns.displot(x='indiceCartaAtual', y='acertosConsecutivos', data=df_id, kind='kde', hue='acertos')\n"
   ]
  },
  {
   "cell_type": "code",
   "execution_count": null,
   "metadata": {},
   "outputs": [],
   "source": [
    "import seaborn as sns\n",
    "\n",
    "sns.lineplot(x='tipoescola', y='sexo1', data=pf)"
   ]
  },
  {
   "cell_type": "code",
   "execution_count": null,
   "metadata": {},
   "outputs": [],
   "source": [
    "import seaborn as sns\n",
    "\n",
    "sns.lineplot(x='tipoescola', y='sexo1', data=df)"
   ]
  },
  {
   "cell_type": "code",
   "execution_count": null,
   "metadata": {},
   "outputs": [],
   "source": [
    "import seaborn as sns\n",
    "\n",
    "sns.lineplot(x='tipoescola', y='idade1', data=pf)"
   ]
  },
  {
   "cell_type": "code",
   "execution_count": null,
   "metadata": {},
   "outputs": [],
   "source": [
    "import seaborn as sns\n",
    "\n",
    "sns.lineplot(x='tipoescola', y='idade1', data=df)"
   ]
  },
  {
   "cell_type": "code",
   "execution_count": null,
   "metadata": {},
   "outputs": [],
   "source": [
    "df.columns"
   ]
  },
  {
   "cell_type": "code",
   "execution_count": null,
   "metadata": {},
   "outputs": [],
   "source": [
    "\n",
    "df.explode\n"
   ]
  },
  {
   "cell_type": "code",
   "execution_count": null,
   "metadata": {},
   "outputs": [],
   "source": [
    "\n",
    "df.select_dtypes(include='number')\n"
   ]
  },
  {
   "cell_type": "code",
   "execution_count": null,
   "metadata": {},
   "outputs": [],
   "source": [
    "import seaborn as sns\n",
    "\n",
    "sns.histplot(y='result', x='acertosConsecutivos', data=df)"
   ]
  },
  {
   "cell_type": "code",
   "execution_count": null,
   "metadata": {},
   "outputs": [],
   "source": [
    "import seaborn as sns\n",
    "\n",
    "sns.lineplot(x='Faixa Etaria', y='acertos', data=df, legend=True,hue='acertos')\n",
    "\n"
   ]
  },
  {
   "cell_type": "code",
   "execution_count": null,
   "metadata": {},
   "outputs": [],
   "source": [
    "import seaborn as sns\n",
    "\n",
    "sns.lineplot(x='Faixa Etaria', y='acertosConsecutivos', data=df, legend=True,hue='acertosConsecutivos')\n",
    "\n"
   ]
  },
  {
   "cell_type": "code",
   "execution_count": null,
   "metadata": {},
   "outputs": [],
   "source": [
    "sns.lineplot(x='Faixa Etaria', y='outrosConsecutivos', data=df, legend=True,hue='outrosConsecutivos')\n",
    "\n"
   ]
  },
  {
   "cell_type": "code",
   "execution_count": null,
   "metadata": {},
   "outputs": [],
   "source": [
    "sns.lineplot(x='Faixa Etaria', y='indiceCartaAtual', data=df, legend=True,hue='indiceCartaAtual')"
   ]
  },
  {
   "cell_type": "code",
   "execution_count": null,
   "metadata": {},
   "outputs": [],
   "source": [
    "import seaborn as sns\n",
    "\n",
    "sns.lineplot(x='acertosConsecutivos', y='result', data=df)"
   ]
  },
  {
   "cell_type": "code",
   "execution_count": null,
   "metadata": {},
   "outputs": [],
   "source": [
    "import seaborn as sns\n",
    "\n",
    "sns.pointplot(x='acertosConsecutivos', y='result', data=df)"
   ]
  },
  {
   "cell_type": "code",
   "execution_count": null,
   "metadata": {},
   "outputs": [],
   "source": [
    "import seaborn as sns\n",
    "\n",
    "sns.pointplot(x='acertosConsecutivos', y='result', data=df)"
   ]
  },
  {
   "cell_type": "code",
   "execution_count": null,
   "metadata": {},
   "outputs": [],
   "source": [
    "import seaborn as sns\n",
    "\n",
    "sns.lmplot(x='acertosConsecutivos', y='result', data=df)"
   ]
  },
  {
   "cell_type": "code",
   "execution_count": null,
   "metadata": {},
   "outputs": [],
   "source": [
    "import seaborn as sns\n",
    "\n",
    "sns.displot(x='idade1', y='result', data=df)"
   ]
  },
  {
   "cell_type": "code",
   "execution_count": null,
   "metadata": {},
   "outputs": [],
   "source": [
    "import seaborn as sns\n",
    "\n",
    "sns.displot(x='idade1', y='result', data=df, kind='kde')"
   ]
  },
  {
   "cell_type": "code",
   "execution_count": null,
   "metadata": {},
   "outputs": [],
   "source": [
    "import seaborn as sns\n",
    "\n",
    "sns.displot(x='idade1', y='maxlevel', data=df, kind='kde')"
   ]
  },
  {
   "cell_type": "code",
   "execution_count": null,
   "metadata": {},
   "outputs": [],
   "source": [
    "import seaborn as sns\n",
    "\n",
    "sns.displot(x='Segmento', y='result', data=df, kind='kde')"
   ]
  },
  {
   "cell_type": "code",
   "execution_count": null,
   "metadata": {},
   "outputs": [],
   "source": [
    "import seaborn as sns\n",
    "\n",
    "sns.catplot(x='ano1', y='score', data=df)"
   ]
  },
  {
   "cell_type": "code",
   "execution_count": null,
   "metadata": {},
   "outputs": [],
   "source": [
    "import seaborn as sns\n",
    "\n",
    "sns.displot(x='ano1', y='score', data=df,legend=True)"
   ]
  },
  {
   "cell_type": "code",
   "execution_count": null,
   "metadata": {},
   "outputs": [],
   "source": [
    "import seaborn as sns\n",
    "import numpy as np\n",
    "import matplotlib.pyplot as plt\n",
    "\n",
    "\n",
    "df = (df\n",
    "      .groupby(\"sexo1\")[\"acertosConsecutivos\"]\n",
    "      .value_counts(normalize=True)\n",
    "      .mul(100)\n",
    "      .rename('percent')\n",
    "      .reset_index() \n",
    "      .round(2)\n",
    "      )\n",
    "print(df)\n",
    "# fig, ax = plt.subplots(figsize = (8, 4))\n",
    "# df.plot(kind = \"bar\",\n",
    "#         ax = ax,\n",
    "#         edgecolor = \"black\")\n",
    "\n",
    "sns.catplot(x = \"sexo1\",\n",
    "            y = 'percent',\n",
    "            hue = \"acertosConsecutivos\",\n",
    "            data = df,\n",
    "            legend = True)\n",
    "ax = plt.gca()\n",
    "fig = plt.gcf()"
   ]
  },
  {
   "cell_type": "code",
   "execution_count": null,
   "metadata": {},
   "outputs": [],
   "source": [
    "import seaborn as sns\n",
    "import numpy as np\n",
    "import matplotlib.pyplot as plt\n",
    "\n",
    "\n",
    "df = (df\n",
    "      .groupby(\"Faixa Etaria\")[\"acertosConsecutivos\"]\n",
    "      .value_counts(normalize=True)\n",
    "      .mul(100)\n",
    "      .rename('percent')\n",
    "      .reset_index() \n",
    "      .round(2)\n",
    "      )\n",
    "\n",
    "sns.catplot(x = \"Faixa Etaria\",\n",
    "            y = 'percent',\n",
    "            hue = \"acertosConsecutivos\",\n",
    "            \n",
    "            data = df,\n",
    "            legend = True)\n",
    "ax = plt.gca()\n",
    "fig = plt.gcf()"
   ]
  },
  {
   "cell_type": "code",
   "execution_count": null,
   "metadata": {},
   "outputs": [],
   "source": [
    "import seaborn as sns\n",
    "import numpy as np\n",
    "import matplotlib.pyplot as plt\n",
    "\n",
    "\n",
    "df = (df\n",
    "      .groupby(\"ano1\")[\"result\"]\n",
    "      .value_counts(normalize=True)\n",
    "      .mul(100)\n",
    "      .round(2)\n",
    "      .unstack())\n",
    "df\n",
    "fig, ax = plt.subplots(figsize = (10, 6))\n",
    "df.plot(kind = \"bar\",\n",
    "        ax = ax,\n",
    "        edgecolor = \"black\")"
   ]
  },
  {
   "cell_type": "code",
   "execution_count": null,
   "metadata": {},
   "outputs": [],
   "source": [
    "import seaborn as sns\n",
    "import numpy as np\n",
    "import matplotlib.pyplot as plt\n",
    "\n",
    "\n",
    "df = (df\n",
    "      .groupby([\"idade1\",\"sexo1\"])[\"result\"]\n",
    "      .value_counts(normalize=True)\n",
    "      .mul(100)\n",
    "      .round(2)\n",
    "      .unstack())\n",
    "df\n",
    "fig, ax = plt.subplots(figsize = (10, 6))\n",
    "df.plot(kind = \"bar\",\n",
    "        ax = ax,\n",
    "        edgecolor = \"black\")"
   ]
  },
  {
   "cell_type": "code",
   "execution_count": null,
   "metadata": {},
   "outputs": [],
   "source": [
    "import seaborn as sns\n",
    "import numpy as np\n",
    "import matplotlib.pyplot as plt\n",
    "\n",
    "\n",
    "df = (df\n",
    "      .groupby([\"idade1\", \"ano1\"])[\"acertos\"]\n",
    "      .value_counts(normalize=True)\n",
    "      .mul(100)\n",
    "      .round(2)\n",
    "      .unstack())\n",
    "df\n",
    "fig, ax = plt.subplots(figsize = (10, 6))\n",
    "df.plot(kind = \"bar\",\n",
    "        ax = ax,\n",
    "        edgecolor = \"black\")"
   ]
  },
  {
   "cell_type": "code",
   "execution_count": null,
   "metadata": {},
   "outputs": [],
   "source": [
    "import seaborn as sns\n",
    "import numpy as np\n",
    "import matplotlib.pyplot as plt\n",
    "\n",
    "\n",
    "df_id = (df_id\n",
    "      .groupby([\"tempo_de_jogo\"])[\"Motivo Saída\"]\n",
    "      .value_counts(normalize=True)\n",
    "      .round(2)\n",
    "      .unstack())\n",
    "df_id\n",
    "fig, ax = plt.subplots(figsize = (10, 6))\n",
    "df_id.plot(kind = \"hist\",\n",
    "        ax = ax,\n",
    "        edgecolor = \"black\")"
   ]
  },
  {
   "cell_type": "code",
   "execution_count": null,
   "metadata": {},
   "outputs": [],
   "source": [
    "import seaborn as sns\n",
    "import numpy as np\n",
    "import matplotlib.pyplot as plt\n",
    "\n",
    "\n",
    "df = (df\n",
    "      .groupby([\"idade1\", \"ano1\"])[\"acertos\"]\n",
    "      .value_counts(normalize=True)\n",
    "      .round(2)\n",
    "      .unstack())\n",
    "df\n",
    "fig, ax = plt.subplots(figsize = (10, 6))\n",
    "df.plot(kind = \"hist\",\n",
    "        ax = ax,\n",
    "        edgecolor = \"black\")"
   ]
  }
 ],
 "metadata": {
  "kernelspec": {
   "display_name": "Python 3",
   "language": "python",
   "name": "python3"
  },
  "language_info": {
   "codemirror_mode": {
    "name": "ipython",
    "version": 3
   },
   "file_extension": ".py",
   "mimetype": "text/x-python",
   "name": "python",
   "nbconvert_exporter": "python",
   "pygments_lexer": "ipython3",
   "version": "3.10.5"
  },
  "orig_nbformat": 4
 },
 "nbformat": 4,
 "nbformat_minor": 2
}
